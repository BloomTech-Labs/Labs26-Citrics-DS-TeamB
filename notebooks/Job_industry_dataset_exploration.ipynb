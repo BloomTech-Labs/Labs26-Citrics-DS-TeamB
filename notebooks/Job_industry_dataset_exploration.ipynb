{
  "nbformat": 4,
  "nbformat_minor": 0,
  "metadata": {
    "colab": {
      "name": "Job industry dataset exploration.ipynb",
      "provenance": []
    },
    "kernelspec": {
      "name": "python3",
      "display_name": "Python 3"
    }
  },
  "cells": [
    {
      "cell_type": "markdown",
      "metadata": {
        "id": "8CdpxZ4lWRp9"
      },
      "source": [
        "# Working on weather data for a project\n",
        "\n",
        "[Citrics](https://b.citrics.dev/) is a project that helps people decide before moving to a new city by providing them valuable informations on different cities. One of the core features of the project is being able to get information about top job industries of different cities and compare them. This notebook shows how the data was cleaned, wrangled and new features were created so that they can be used for getting job industry insights.\n",
        "\n",
        "The data were collected from [Bureau of Labor Statistics (BLS)](https://www.bls.gov/oes/)"
      ]
    },
    {
      "cell_type": "code",
      "metadata": {
        "id": "iRhoZ61_08XO"
      },
      "source": [
        "import pandas as pd\n",
        "import numpy as np"
      ],
      "execution_count": null,
      "outputs": []
    },
    {
      "cell_type": "code",
      "metadata": {
        "id": "2MpFK7d922dx",
        "outputId": "e4f3ded8-b046-43bc-bc6c-eb3b3dac586f",
        "colab": {
          "base_uri": "https://localhost:8080/",
          "height": 70
        }
      },
      "source": [
        "# The first dataset is from BLS\n",
        "# The second dataset contains unique identifiers\n",
        "# for the 100 cities we worked on\n",
        "\n",
        "df = pd.read_csv(\"/content/us_job_industry_data_2019.csv\")\n",
        "df_cities = pd.read_csv(\"/content/100city_state_data.csv\")"
      ],
      "execution_count": null,
      "outputs": [
        {
          "output_type": "stream",
          "text": [
            "/usr/local/lib/python3.6/dist-packages/IPython/core/interactiveshell.py:2718: DtypeWarning: Columns (3,12,14) have mixed types.Specify dtype option on import or set low_memory=False.\n",
            "  interactivity=interactivity, compiler=compiler, result=result)\n"
          ],
          "name": "stderr"
        }
      ]
    },
    {
      "cell_type": "code",
      "metadata": {
        "id": "PE8B1-uI3mCU",
        "outputId": "d955e415-04f0-4f5a-f58d-3029fa0e5de9",
        "colab": {
          "base_uri": "https://localhost:8080/",
          "height": 450
        }
      },
      "source": [
        "df.head()"
      ],
      "execution_count": null,
      "outputs": [
        {
          "output_type": "execute_result",
          "data": {
            "text/html": [
              "<div>\n",
              "<style scoped>\n",
              "    .dataframe tbody tr th:only-of-type {\n",
              "        vertical-align: middle;\n",
              "    }\n",
              "\n",
              "    .dataframe tbody tr th {\n",
              "        vertical-align: top;\n",
              "    }\n",
              "\n",
              "    .dataframe thead th {\n",
              "        text-align: right;\n",
              "    }\n",
              "</style>\n",
              "<table border=\"1\" class=\"dataframe\">\n",
              "  <thead>\n",
              "    <tr style=\"text-align: right;\">\n",
              "      <th></th>\n",
              "      <th>area</th>\n",
              "      <th>area_title</th>\n",
              "      <th>area_type</th>\n",
              "      <th>naics</th>\n",
              "      <th>naics_title</th>\n",
              "      <th>i_group</th>\n",
              "      <th>own_code</th>\n",
              "      <th>occ_code</th>\n",
              "      <th>occ_title</th>\n",
              "      <th>o_group</th>\n",
              "      <th>tot_emp</th>\n",
              "      <th>emp_prse</th>\n",
              "      <th>jobs_1000_orig</th>\n",
              "      <th>loc_quotient</th>\n",
              "      <th>pct_total</th>\n",
              "      <th>h_mean</th>\n",
              "      <th>a_mean</th>\n",
              "      <th>mean_prse</th>\n",
              "      <th>h_pct10</th>\n",
              "      <th>h_pct25</th>\n",
              "      <th>h_median</th>\n",
              "      <th>h_pct75</th>\n",
              "      <th>h_pct90</th>\n",
              "      <th>a_pct10</th>\n",
              "      <th>a_pct25</th>\n",
              "      <th>a_median</th>\n",
              "      <th>a_pct75</th>\n",
              "      <th>a_pct90</th>\n",
              "      <th>annual</th>\n",
              "      <th>hourly</th>\n",
              "    </tr>\n",
              "  </thead>\n",
              "  <tbody>\n",
              "    <tr>\n",
              "      <th>0</th>\n",
              "      <td>99</td>\n",
              "      <td>U.S.</td>\n",
              "      <td>1</td>\n",
              "      <td>0</td>\n",
              "      <td>Cross-industry</td>\n",
              "      <td>cross-industry</td>\n",
              "      <td>1235</td>\n",
              "      <td>11-0000</td>\n",
              "      <td>Management Occupations</td>\n",
              "      <td>major</td>\n",
              "      <td>8,054,120</td>\n",
              "      <td>0.2</td>\n",
              "      <td>NaN</td>\n",
              "      <td>NaN</td>\n",
              "      <td>NaN</td>\n",
              "      <td>58.88</td>\n",
              "      <td>122,480</td>\n",
              "      <td>0.1</td>\n",
              "      <td>24.03</td>\n",
              "      <td>34.35</td>\n",
              "      <td>50.80</td>\n",
              "      <td>74.16</td>\n",
              "      <td>#</td>\n",
              "      <td>49,990</td>\n",
              "      <td>71,460</td>\n",
              "      <td>105,660</td>\n",
              "      <td>154,260</td>\n",
              "      <td>#</td>\n",
              "      <td>NaN</td>\n",
              "      <td>NaN</td>\n",
              "    </tr>\n",
              "    <tr>\n",
              "      <th>1</th>\n",
              "      <td>99</td>\n",
              "      <td>U.S.</td>\n",
              "      <td>1</td>\n",
              "      <td>0</td>\n",
              "      <td>Cross-industry</td>\n",
              "      <td>cross-industry</td>\n",
              "      <td>1235</td>\n",
              "      <td>13-0000</td>\n",
              "      <td>Business and Financial Operations Occupations</td>\n",
              "      <td>major</td>\n",
              "      <td>8,183,750</td>\n",
              "      <td>0.2</td>\n",
              "      <td>NaN</td>\n",
              "      <td>NaN</td>\n",
              "      <td>NaN</td>\n",
              "      <td>37.56</td>\n",
              "      <td>78,130</td>\n",
              "      <td>0.2</td>\n",
              "      <td>18.76</td>\n",
              "      <td>25.06</td>\n",
              "      <td>33.57</td>\n",
              "      <td>45.61</td>\n",
              "      <td>60.60</td>\n",
              "      <td>39,020</td>\n",
              "      <td>52,130</td>\n",
              "      <td>69,820</td>\n",
              "      <td>94,870</td>\n",
              "      <td>126,040</td>\n",
              "      <td>NaN</td>\n",
              "      <td>NaN</td>\n",
              "    </tr>\n",
              "    <tr>\n",
              "      <th>2</th>\n",
              "      <td>99</td>\n",
              "      <td>U.S.</td>\n",
              "      <td>1</td>\n",
              "      <td>0</td>\n",
              "      <td>Cross-industry</td>\n",
              "      <td>cross-industry</td>\n",
              "      <td>1235</td>\n",
              "      <td>15-0000</td>\n",
              "      <td>Computer and Mathematical Occupations</td>\n",
              "      <td>major</td>\n",
              "      <td>4,552,880</td>\n",
              "      <td>0.4</td>\n",
              "      <td>NaN</td>\n",
              "      <td>NaN</td>\n",
              "      <td>NaN</td>\n",
              "      <td>45.08</td>\n",
              "      <td>93,760</td>\n",
              "      <td>0.5</td>\n",
              "      <td>21.79</td>\n",
              "      <td>30.22</td>\n",
              "      <td>42.47</td>\n",
              "      <td>57.47</td>\n",
              "      <td>73.08</td>\n",
              "      <td>45,320</td>\n",
              "      <td>62,850</td>\n",
              "      <td>88,340</td>\n",
              "      <td>119,550</td>\n",
              "      <td>152,010</td>\n",
              "      <td>NaN</td>\n",
              "      <td>NaN</td>\n",
              "    </tr>\n",
              "    <tr>\n",
              "      <th>3</th>\n",
              "      <td>99</td>\n",
              "      <td>U.S.</td>\n",
              "      <td>1</td>\n",
              "      <td>0</td>\n",
              "      <td>Cross-industry</td>\n",
              "      <td>cross-industry</td>\n",
              "      <td>1235</td>\n",
              "      <td>17-0000</td>\n",
              "      <td>Architecture and Engineering Occupations</td>\n",
              "      <td>major</td>\n",
              "      <td>2,592,680</td>\n",
              "      <td>0.5</td>\n",
              "      <td>NaN</td>\n",
              "      <td>NaN</td>\n",
              "      <td>NaN</td>\n",
              "      <td>42.69</td>\n",
              "      <td>88,800</td>\n",
              "      <td>0.3</td>\n",
              "      <td>21.77</td>\n",
              "      <td>29.28</td>\n",
              "      <td>39.15</td>\n",
              "      <td>52.87</td>\n",
              "      <td>68.56</td>\n",
              "      <td>45,280</td>\n",
              "      <td>60,910</td>\n",
              "      <td>81,440</td>\n",
              "      <td>109,970</td>\n",
              "      <td>142,610</td>\n",
              "      <td>NaN</td>\n",
              "      <td>NaN</td>\n",
              "    </tr>\n",
              "    <tr>\n",
              "      <th>4</th>\n",
              "      <td>99</td>\n",
              "      <td>U.S.</td>\n",
              "      <td>1</td>\n",
              "      <td>0</td>\n",
              "      <td>Cross-industry</td>\n",
              "      <td>cross-industry</td>\n",
              "      <td>1235</td>\n",
              "      <td>19-0000</td>\n",
              "      <td>Life, Physical, and Social Science Occupations</td>\n",
              "      <td>major</td>\n",
              "      <td>1,288,920</td>\n",
              "      <td>0.7</td>\n",
              "      <td>NaN</td>\n",
              "      <td>NaN</td>\n",
              "      <td>NaN</td>\n",
              "      <td>37.28</td>\n",
              "      <td>77,540</td>\n",
              "      <td>0.4</td>\n",
              "      <td>17.62</td>\n",
              "      <td>23.73</td>\n",
              "      <td>32.77</td>\n",
              "      <td>46.24</td>\n",
              "      <td>61.59</td>\n",
              "      <td>36,640</td>\n",
              "      <td>49,360</td>\n",
              "      <td>68,160</td>\n",
              "      <td>96,180</td>\n",
              "      <td>128,100</td>\n",
              "      <td>NaN</td>\n",
              "      <td>NaN</td>\n",
              "    </tr>\n",
              "  </tbody>\n",
              "</table>\n",
              "</div>"
            ],
            "text/plain": [
              "   area area_title  area_type naics  ...  a_pct75  a_pct90  annual hourly\n",
              "0    99       U.S.          1     0  ...  154,260        #     NaN    NaN\n",
              "1    99       U.S.          1     0  ...   94,870  126,040     NaN    NaN\n",
              "2    99       U.S.          1     0  ...  119,550  152,010     NaN    NaN\n",
              "3    99       U.S.          1     0  ...  109,970  142,610     NaN    NaN\n",
              "4    99       U.S.          1     0  ...   96,180  128,100     NaN    NaN\n",
              "\n",
              "[5 rows x 30 columns]"
            ]
          },
          "metadata": {
            "tags": []
          },
          "execution_count": 3
        }
      ]
    },
    {
      "cell_type": "code",
      "metadata": {
        "id": "71yuvpXIZ_WV"
      },
      "source": [
        "# Cleaning up some area titles\n",
        "\n",
        "df = df.replace(['Phoenix-Mesa-Scottsdale, AZ', 'Los Angeles-Long Beach-Anaheim, CA', 'Killeen-Temple, TX', 'Virginia Beach-Norfolk-Newport News, VA-NC'], ['Phoenix-Mesa-Scottsdale-Chandler-Gilbert, AZ', 'Los Angeles-Long Beach-Anaheim-Glendale-Santa Ana, CA', 'Killeen-Temple-Irving-Plano, TX', 'Virginia Beach-Norfolk-Newport News-Chesapeake, VA-NC'])"
      ],
      "execution_count": null,
      "outputs": []
    },
    {
      "cell_type": "code",
      "metadata": {
        "id": "G8PsOUlrJFKJ",
        "outputId": "c43fb03b-60f9-4556-a6e7-86ae9270626e",
        "colab": {
          "base_uri": "https://localhost:8080/",
          "height": 34
        }
      },
      "source": [
        "df.shape, df_cities.shape"
      ],
      "execution_count": null,
      "outputs": [
        {
          "output_type": "execute_result",
          "data": {
            "text/plain": [
              "((395647, 30), (100, 4))"
            ]
          },
          "metadata": {
            "tags": []
          },
          "execution_count": 6
        }
      ]
    },
    {
      "cell_type": "code",
      "metadata": {
        "id": "RUoAEbav22-S"
      },
      "source": [
        "# Restricting area type to city\n",
        "\n",
        "df = df[ df[\"area_type\"] == 4]"
      ],
      "execution_count": null,
      "outputs": []
    },
    {
      "cell_type": "code",
      "metadata": {
        "id": "HjKy-LBM3prF",
        "outputId": "aaa8803c-a147-41ea-f189-3da6b68ff358",
        "colab": {
          "base_uri": "https://localhost:8080/",
          "height": 34
        }
      },
      "source": [
        "df.shape, df_cities.shape"
      ],
      "execution_count": null,
      "outputs": [
        {
          "output_type": "execute_result",
          "data": {
            "text/plain": [
              "((142410, 30), (100, 4))"
            ]
          },
          "metadata": {
            "tags": []
          },
          "execution_count": 8
        }
      ]
    },
    {
      "cell_type": "code",
      "metadata": {
        "id": "bnn3TVRVJnGl"
      },
      "source": [
        "# A function to create city names from area title\n",
        "\n",
        "def create_cities(areaname):\n",
        "    #print(areaname)\n",
        "    areaname = areaname.replace(\"--\",\"-\")\n",
        "    cities, garbage1 = areaname.split(\",\")\n",
        "    areaname = cities.split(\"-\")\n",
        "    #print(f\"{cities} ---- {list_cities}\")\n",
        "    return areaname"
      ],
      "execution_count": null,
      "outputs": []
    },
    {
      "cell_type": "code",
      "metadata": {
        "id": "VSAw74HEKCHV",
        "outputId": "61a3d45e-3b8d-4f1f-d743-241ca8602654",
        "colab": {
          "base_uri": "https://localhost:8080/",
          "height": 450
        }
      },
      "source": [
        "# Applying the function\n",
        "\n",
        "df['city'] = df.area_title.apply(create_cities)\n",
        "df.head()"
      ],
      "execution_count": null,
      "outputs": [
        {
          "output_type": "execute_result",
          "data": {
            "text/html": [
              "<div>\n",
              "<style scoped>\n",
              "    .dataframe tbody tr th:only-of-type {\n",
              "        vertical-align: middle;\n",
              "    }\n",
              "\n",
              "    .dataframe tbody tr th {\n",
              "        vertical-align: top;\n",
              "    }\n",
              "\n",
              "    .dataframe thead th {\n",
              "        text-align: right;\n",
              "    }\n",
              "</style>\n",
              "<table border=\"1\" class=\"dataframe\">\n",
              "  <thead>\n",
              "    <tr style=\"text-align: right;\">\n",
              "      <th></th>\n",
              "      <th>area</th>\n",
              "      <th>area_title</th>\n",
              "      <th>area_type</th>\n",
              "      <th>naics</th>\n",
              "      <th>naics_title</th>\n",
              "      <th>i_group</th>\n",
              "      <th>own_code</th>\n",
              "      <th>occ_code</th>\n",
              "      <th>occ_title</th>\n",
              "      <th>o_group</th>\n",
              "      <th>tot_emp</th>\n",
              "      <th>emp_prse</th>\n",
              "      <th>jobs_1000_orig</th>\n",
              "      <th>loc_quotient</th>\n",
              "      <th>pct_total</th>\n",
              "      <th>h_mean</th>\n",
              "      <th>a_mean</th>\n",
              "      <th>mean_prse</th>\n",
              "      <th>h_pct10</th>\n",
              "      <th>h_pct25</th>\n",
              "      <th>h_median</th>\n",
              "      <th>h_pct75</th>\n",
              "      <th>h_pct90</th>\n",
              "      <th>a_pct10</th>\n",
              "      <th>a_pct25</th>\n",
              "      <th>a_median</th>\n",
              "      <th>a_pct75</th>\n",
              "      <th>a_pct90</th>\n",
              "      <th>annual</th>\n",
              "      <th>hourly</th>\n",
              "      <th>city</th>\n",
              "    </tr>\n",
              "  </thead>\n",
              "  <tbody>\n",
              "    <tr>\n",
              "      <th>37227</th>\n",
              "      <td>10180</td>\n",
              "      <td>Abilene, TX</td>\n",
              "      <td>4</td>\n",
              "      <td>0</td>\n",
              "      <td>Cross-industry</td>\n",
              "      <td>cross-industry</td>\n",
              "      <td>1235</td>\n",
              "      <td>11-0000</td>\n",
              "      <td>Management Occupations</td>\n",
              "      <td>major</td>\n",
              "      <td>2,670</td>\n",
              "      <td>5.8</td>\n",
              "      <td>40.137</td>\n",
              "      <td>0.73</td>\n",
              "      <td>NaN</td>\n",
              "      <td>43.51</td>\n",
              "      <td>90,500</td>\n",
              "      <td>2.2</td>\n",
              "      <td>17.86</td>\n",
              "      <td>27.22</td>\n",
              "      <td>37.51</td>\n",
              "      <td>51.88</td>\n",
              "      <td>75.57</td>\n",
              "      <td>37,140</td>\n",
              "      <td>56,610</td>\n",
              "      <td>78,030</td>\n",
              "      <td>107,910</td>\n",
              "      <td>157,190</td>\n",
              "      <td>NaN</td>\n",
              "      <td>NaN</td>\n",
              "      <td>[Abilene]</td>\n",
              "    </tr>\n",
              "    <tr>\n",
              "      <th>37228</th>\n",
              "      <td>10180</td>\n",
              "      <td>Abilene, TX</td>\n",
              "      <td>4</td>\n",
              "      <td>0</td>\n",
              "      <td>Cross-industry</td>\n",
              "      <td>cross-industry</td>\n",
              "      <td>1235</td>\n",
              "      <td>13-0000</td>\n",
              "      <td>Business and Financial Operations Occupations</td>\n",
              "      <td>major</td>\n",
              "      <td>2,280</td>\n",
              "      <td>6.3</td>\n",
              "      <td>34.214</td>\n",
              "      <td>0.61</td>\n",
              "      <td>NaN</td>\n",
              "      <td>32.46</td>\n",
              "      <td>67,520</td>\n",
              "      <td>2.9</td>\n",
              "      <td>16.39</td>\n",
              "      <td>22.11</td>\n",
              "      <td>29.47</td>\n",
              "      <td>38.38</td>\n",
              "      <td>48.95</td>\n",
              "      <td>34,090</td>\n",
              "      <td>46,000</td>\n",
              "      <td>61,300</td>\n",
              "      <td>79,840</td>\n",
              "      <td>101,820</td>\n",
              "      <td>NaN</td>\n",
              "      <td>NaN</td>\n",
              "      <td>[Abilene]</td>\n",
              "    </tr>\n",
              "    <tr>\n",
              "      <th>37229</th>\n",
              "      <td>10180</td>\n",
              "      <td>Abilene, TX</td>\n",
              "      <td>4</td>\n",
              "      <td>0</td>\n",
              "      <td>Cross-industry</td>\n",
              "      <td>cross-industry</td>\n",
              "      <td>1235</td>\n",
              "      <td>15-0000</td>\n",
              "      <td>Computer and Mathematical Occupations</td>\n",
              "      <td>major</td>\n",
              "      <td>630</td>\n",
              "      <td>8.5</td>\n",
              "      <td>9.494</td>\n",
              "      <td>0.31</td>\n",
              "      <td>NaN</td>\n",
              "      <td>30.27</td>\n",
              "      <td>62,970</td>\n",
              "      <td>3.1</td>\n",
              "      <td>16.59</td>\n",
              "      <td>21.44</td>\n",
              "      <td>27.31</td>\n",
              "      <td>36.98</td>\n",
              "      <td>49.45</td>\n",
              "      <td>34,510</td>\n",
              "      <td>44,600</td>\n",
              "      <td>56,810</td>\n",
              "      <td>76,910</td>\n",
              "      <td>102,860</td>\n",
              "      <td>NaN</td>\n",
              "      <td>NaN</td>\n",
              "      <td>[Abilene]</td>\n",
              "    </tr>\n",
              "    <tr>\n",
              "      <th>37230</th>\n",
              "      <td>10180</td>\n",
              "      <td>Abilene, TX</td>\n",
              "      <td>4</td>\n",
              "      <td>0</td>\n",
              "      <td>Cross-industry</td>\n",
              "      <td>cross-industry</td>\n",
              "      <td>1235</td>\n",
              "      <td>17-0000</td>\n",
              "      <td>Architecture and Engineering Occupations</td>\n",
              "      <td>major</td>\n",
              "      <td>770</td>\n",
              "      <td>16.0</td>\n",
              "      <td>11.600</td>\n",
              "      <td>0.66</td>\n",
              "      <td>NaN</td>\n",
              "      <td>34.83</td>\n",
              "      <td>72,440</td>\n",
              "      <td>4.6</td>\n",
              "      <td>16.92</td>\n",
              "      <td>23.82</td>\n",
              "      <td>32.11</td>\n",
              "      <td>43.51</td>\n",
              "      <td>56.79</td>\n",
              "      <td>35,200</td>\n",
              "      <td>49,540</td>\n",
              "      <td>66,790</td>\n",
              "      <td>90,500</td>\n",
              "      <td>118,110</td>\n",
              "      <td>NaN</td>\n",
              "      <td>NaN</td>\n",
              "      <td>[Abilene]</td>\n",
              "    </tr>\n",
              "    <tr>\n",
              "      <th>37231</th>\n",
              "      <td>10180</td>\n",
              "      <td>Abilene, TX</td>\n",
              "      <td>4</td>\n",
              "      <td>0</td>\n",
              "      <td>Cross-industry</td>\n",
              "      <td>cross-industry</td>\n",
              "      <td>1235</td>\n",
              "      <td>19-0000</td>\n",
              "      <td>Life, Physical, and Social Science Occupations</td>\n",
              "      <td>major</td>\n",
              "      <td>330</td>\n",
              "      <td>11.5</td>\n",
              "      <td>5.033</td>\n",
              "      <td>0.57</td>\n",
              "      <td>NaN</td>\n",
              "      <td>28.06</td>\n",
              "      <td>58,360</td>\n",
              "      <td>3.1</td>\n",
              "      <td>16.97</td>\n",
              "      <td>20.27</td>\n",
              "      <td>25.94</td>\n",
              "      <td>33.07</td>\n",
              "      <td>41.27</td>\n",
              "      <td>35,300</td>\n",
              "      <td>42,170</td>\n",
              "      <td>53,960</td>\n",
              "      <td>68,790</td>\n",
              "      <td>85,850</td>\n",
              "      <td>NaN</td>\n",
              "      <td>NaN</td>\n",
              "      <td>[Abilene]</td>\n",
              "    </tr>\n",
              "  </tbody>\n",
              "</table>\n",
              "</div>"
            ],
            "text/plain": [
              "        area   area_title  area_type naics  ...  a_pct90 annual  hourly       city\n",
              "37227  10180  Abilene, TX          4     0  ...  157,190    NaN     NaN  [Abilene]\n",
              "37228  10180  Abilene, TX          4     0  ...  101,820    NaN     NaN  [Abilene]\n",
              "37229  10180  Abilene, TX          4     0  ...  102,860    NaN     NaN  [Abilene]\n",
              "37230  10180  Abilene, TX          4     0  ...  118,110    NaN     NaN  [Abilene]\n",
              "37231  10180  Abilene, TX          4     0  ...   85,850    NaN     NaN  [Abilene]\n",
              "\n",
              "[5 rows x 31 columns]"
            ]
          },
          "metadata": {
            "tags": []
          },
          "execution_count": 10
        }
      ]
    },
    {
      "cell_type": "code",
      "metadata": {
        "id": "WDkFusKMKcmp"
      },
      "source": [
        "df_explode = df.explode('city')\n"
      ],
      "execution_count": null,
      "outputs": []
    },
    {
      "cell_type": "code",
      "metadata": {
        "id": "Rd9_qyYnKu1m",
        "outputId": "5828059a-474b-4c32-a3ca-dd589940d63e",
        "colab": {
          "base_uri": "https://localhost:8080/",
          "height": 34
        }
      },
      "source": [
        "df_explode.shape"
      ],
      "execution_count": null,
      "outputs": [
        {
          "output_type": "execute_result",
          "data": {
            "text/plain": [
              "(241969, 31)"
            ]
          },
          "metadata": {
            "tags": []
          },
          "execution_count": 12
        }
      ]
    },
    {
      "cell_type": "code",
      "metadata": {
        "id": "DigvMoV6K6RK",
        "outputId": "c2bb5270-63b5-4f1c-d9aa-4d0f1e3a0efe",
        "colab": {
          "base_uri": "https://localhost:8080/",
          "height": 134
        }
      },
      "source": [
        "df_explode.columns"
      ],
      "execution_count": null,
      "outputs": [
        {
          "output_type": "execute_result",
          "data": {
            "text/plain": [
              "Index(['area', 'area_title', 'area_type', 'naics', 'naics_title', 'i_group',\n",
              "       'own_code', 'occ_code', 'occ_title', 'o_group', 'tot_emp', 'emp_prse',\n",
              "       'jobs_1000_orig', 'loc_quotient', 'pct_total', 'h_mean', 'a_mean',\n",
              "       'mean_prse', 'h_pct10', 'h_pct25', 'h_median', 'h_pct75', 'h_pct90',\n",
              "       'a_pct10', 'a_pct25', 'a_median', 'a_pct75', 'a_pct90', 'annual',\n",
              "       'hourly', 'city'],\n",
              "      dtype='object')"
            ]
          },
          "metadata": {
            "tags": []
          },
          "execution_count": 13
        }
      ]
    },
    {
      "cell_type": "code",
      "metadata": {
        "id": "-KJv0cKdMm44",
        "outputId": "a03547ac-4d2b-4fa0-f14d-a847084fa4fe",
        "colab": {
          "base_uri": "https://localhost:8080/",
          "height": 195
        }
      },
      "source": [
        "df_explode[['area_title', 'city']].head()"
      ],
      "execution_count": null,
      "outputs": [
        {
          "output_type": "execute_result",
          "data": {
            "text/html": [
              "<div>\n",
              "<style scoped>\n",
              "    .dataframe tbody tr th:only-of-type {\n",
              "        vertical-align: middle;\n",
              "    }\n",
              "\n",
              "    .dataframe tbody tr th {\n",
              "        vertical-align: top;\n",
              "    }\n",
              "\n",
              "    .dataframe thead th {\n",
              "        text-align: right;\n",
              "    }\n",
              "</style>\n",
              "<table border=\"1\" class=\"dataframe\">\n",
              "  <thead>\n",
              "    <tr style=\"text-align: right;\">\n",
              "      <th></th>\n",
              "      <th>area_title</th>\n",
              "      <th>city</th>\n",
              "    </tr>\n",
              "  </thead>\n",
              "  <tbody>\n",
              "    <tr>\n",
              "      <th>37227</th>\n",
              "      <td>Abilene, TX</td>\n",
              "      <td>Abilene</td>\n",
              "    </tr>\n",
              "    <tr>\n",
              "      <th>37228</th>\n",
              "      <td>Abilene, TX</td>\n",
              "      <td>Abilene</td>\n",
              "    </tr>\n",
              "    <tr>\n",
              "      <th>37229</th>\n",
              "      <td>Abilene, TX</td>\n",
              "      <td>Abilene</td>\n",
              "    </tr>\n",
              "    <tr>\n",
              "      <th>37230</th>\n",
              "      <td>Abilene, TX</td>\n",
              "      <td>Abilene</td>\n",
              "    </tr>\n",
              "    <tr>\n",
              "      <th>37231</th>\n",
              "      <td>Abilene, TX</td>\n",
              "      <td>Abilene</td>\n",
              "    </tr>\n",
              "  </tbody>\n",
              "</table>\n",
              "</div>"
            ],
            "text/plain": [
              "        area_title     city\n",
              "37227  Abilene, TX  Abilene\n",
              "37228  Abilene, TX  Abilene\n",
              "37229  Abilene, TX  Abilene\n",
              "37230  Abilene, TX  Abilene\n",
              "37231  Abilene, TX  Abilene"
            ]
          },
          "metadata": {
            "tags": []
          },
          "execution_count": 15
        }
      ]
    },
    {
      "cell_type": "code",
      "metadata": {
        "id": "nvZ8ZiubEC08",
        "outputId": "60d8c9f8-8583-45f7-e512-9061d06ac65c",
        "colab": {
          "base_uri": "https://localhost:8080/",
          "height": 202
        }
      },
      "source": [
        "missing = ['Chandler', 'Gilbert', 'Glendale', 'Santa Ana', 'Honolulu', 'Boise', 'Louisville', 'Winston Salem', 'Irving', 'Plano', 'Chesapeake']\n",
        "sorted(missing)"
      ],
      "execution_count": null,
      "outputs": [
        {
          "output_type": "execute_result",
          "data": {
            "text/plain": [
              "['Boise',\n",
              " 'Chandler',\n",
              " 'Chesapeake',\n",
              " 'Gilbert',\n",
              " 'Glendale',\n",
              " 'Honolulu',\n",
              " 'Irving',\n",
              " 'Louisville',\n",
              " 'Plano',\n",
              " 'Santa Ana',\n",
              " 'Winston Salem']"
            ]
          },
          "metadata": {
            "tags": []
          },
          "execution_count": 16
        }
      ]
    },
    {
      "cell_type": "code",
      "metadata": {
        "id": "k5Ph9SSJSFGz",
        "outputId": "c8da0d0e-1f8e-40bd-ee7b-47cced54d642",
        "colab": {
          "base_uri": "https://localhost:8080/",
          "height": 34
        }
      },
      "source": [
        "len(df_explode.city.unique())"
      ],
      "execution_count": null,
      "outputs": [
        {
          "output_type": "execute_result",
          "data": {
            "text/plain": [
              "564"
            ]
          },
          "metadata": {
            "tags": []
          },
          "execution_count": 17
        }
      ]
    },
    {
      "cell_type": "code",
      "metadata": {
        "id": "AjkqIIFdSuFm",
        "outputId": "07bd0f4c-3466-46c2-80ed-5fe78173ac00",
        "colab": {
          "base_uri": "https://localhost:8080/",
          "height": 34
        }
      },
      "source": [
        "len(df_explode.area_title.unique())"
      ],
      "execution_count": null,
      "outputs": [
        {
          "output_type": "execute_result",
          "data": {
            "text/plain": [
              "396"
            ]
          },
          "metadata": {
            "tags": []
          },
          "execution_count": 20
        }
      ]
    },
    {
      "cell_type": "code",
      "metadata": {
        "id": "PZtI4YojYisC"
      },
      "source": [
        "# Cleaning up some more city names\n",
        "\n",
        "df_explode = df_explode.replace(['Boise City', 'Louisville/Jefferson County', 'Urban Honolulu', 'Winston'], ['Boise', 'Louisville', 'Honolulu', 'Winston Salem'])"
      ],
      "execution_count": null,
      "outputs": []
    },
    {
      "cell_type": "code",
      "metadata": {
        "id": "QSmeaHwoORiM"
      },
      "source": [
        "# merging with the dataframe with unique identifier\n",
        "\n",
        "merged = df_cities.merge(df_explode, on=\"city\", how=\"left\")"
      ],
      "execution_count": null,
      "outputs": []
    },
    {
      "cell_type": "code",
      "metadata": {
        "id": "nK1166uYOz09",
        "outputId": "ef723ae4-0885-4fcf-a247-84b15060b1a5",
        "colab": {
          "base_uri": "https://localhost:8080/",
          "height": 450
        }
      },
      "source": [
        "merged.head()"
      ],
      "execution_count": null,
      "outputs": [
        {
          "output_type": "execute_result",
          "data": {
            "text/html": [
              "<div>\n",
              "<style scoped>\n",
              "    .dataframe tbody tr th:only-of-type {\n",
              "        vertical-align: middle;\n",
              "    }\n",
              "\n",
              "    .dataframe tbody tr th {\n",
              "        vertical-align: top;\n",
              "    }\n",
              "\n",
              "    .dataframe thead th {\n",
              "        text-align: right;\n",
              "    }\n",
              "</style>\n",
              "<table border=\"1\" class=\"dataframe\">\n",
              "  <thead>\n",
              "    <tr style=\"text-align: right;\">\n",
              "      <th></th>\n",
              "      <th>city_id</th>\n",
              "      <th>city</th>\n",
              "      <th>state</th>\n",
              "      <th>city_state</th>\n",
              "      <th>area</th>\n",
              "      <th>area_title</th>\n",
              "      <th>area_type</th>\n",
              "      <th>naics</th>\n",
              "      <th>naics_title</th>\n",
              "      <th>i_group</th>\n",
              "      <th>own_code</th>\n",
              "      <th>occ_code</th>\n",
              "      <th>occ_title</th>\n",
              "      <th>o_group</th>\n",
              "      <th>tot_emp</th>\n",
              "      <th>emp_prse</th>\n",
              "      <th>jobs_1000_orig</th>\n",
              "      <th>loc_quotient</th>\n",
              "      <th>pct_total</th>\n",
              "      <th>h_mean</th>\n",
              "      <th>a_mean</th>\n",
              "      <th>mean_prse</th>\n",
              "      <th>h_pct10</th>\n",
              "      <th>h_pct25</th>\n",
              "      <th>h_median</th>\n",
              "      <th>h_pct75</th>\n",
              "      <th>h_pct90</th>\n",
              "      <th>a_pct10</th>\n",
              "      <th>a_pct25</th>\n",
              "      <th>a_median</th>\n",
              "      <th>a_pct75</th>\n",
              "      <th>a_pct90</th>\n",
              "      <th>annual</th>\n",
              "      <th>hourly</th>\n",
              "    </tr>\n",
              "  </thead>\n",
              "  <tbody>\n",
              "    <tr>\n",
              "      <th>0</th>\n",
              "      <td>0</td>\n",
              "      <td>Anchorage</td>\n",
              "      <td>AK</td>\n",
              "      <td>Anchorage, AK</td>\n",
              "      <td>11260</td>\n",
              "      <td>Anchorage, AK</td>\n",
              "      <td>4</td>\n",
              "      <td>0</td>\n",
              "      <td>Cross-industry</td>\n",
              "      <td>cross-industry</td>\n",
              "      <td>1235</td>\n",
              "      <td>11-0000</td>\n",
              "      <td>Management Occupations</td>\n",
              "      <td>major</td>\n",
              "      <td>11,830</td>\n",
              "      <td>3.1</td>\n",
              "      <td>67.816</td>\n",
              "      <td>1.24</td>\n",
              "      <td>NaN</td>\n",
              "      <td>53.69</td>\n",
              "      <td>111,680</td>\n",
              "      <td>1.1</td>\n",
              "      <td>25.90</td>\n",
              "      <td>35.17</td>\n",
              "      <td>48.07</td>\n",
              "      <td>63.20</td>\n",
              "      <td>87.82</td>\n",
              "      <td>53,860</td>\n",
              "      <td>73,150</td>\n",
              "      <td>99,970</td>\n",
              "      <td>131,450</td>\n",
              "      <td>182,670</td>\n",
              "      <td>NaN</td>\n",
              "      <td>NaN</td>\n",
              "    </tr>\n",
              "    <tr>\n",
              "      <th>1</th>\n",
              "      <td>0</td>\n",
              "      <td>Anchorage</td>\n",
              "      <td>AK</td>\n",
              "      <td>Anchorage, AK</td>\n",
              "      <td>11260</td>\n",
              "      <td>Anchorage, AK</td>\n",
              "      <td>4</td>\n",
              "      <td>0</td>\n",
              "      <td>Cross-industry</td>\n",
              "      <td>cross-industry</td>\n",
              "      <td>1235</td>\n",
              "      <td>13-0000</td>\n",
              "      <td>Business and Financial Operations Occupations</td>\n",
              "      <td>major</td>\n",
              "      <td>7,920</td>\n",
              "      <td>2.9</td>\n",
              "      <td>45.376</td>\n",
              "      <td>0.81</td>\n",
              "      <td>NaN</td>\n",
              "      <td>35.98</td>\n",
              "      <td>74,840</td>\n",
              "      <td>4.4</td>\n",
              "      <td>15.08</td>\n",
              "      <td>25.79</td>\n",
              "      <td>34.26</td>\n",
              "      <td>44.87</td>\n",
              "      <td>55.86</td>\n",
              "      <td>31,360</td>\n",
              "      <td>53,650</td>\n",
              "      <td>71,270</td>\n",
              "      <td>93,320</td>\n",
              "      <td>116,180</td>\n",
              "      <td>NaN</td>\n",
              "      <td>NaN</td>\n",
              "    </tr>\n",
              "    <tr>\n",
              "      <th>2</th>\n",
              "      <td>0</td>\n",
              "      <td>Anchorage</td>\n",
              "      <td>AK</td>\n",
              "      <td>Anchorage, AK</td>\n",
              "      <td>11260</td>\n",
              "      <td>Anchorage, AK</td>\n",
              "      <td>4</td>\n",
              "      <td>0</td>\n",
              "      <td>Cross-industry</td>\n",
              "      <td>cross-industry</td>\n",
              "      <td>1235</td>\n",
              "      <td>15-0000</td>\n",
              "      <td>Computer and Mathematical Occupations</td>\n",
              "      <td>major</td>\n",
              "      <td>3,280</td>\n",
              "      <td>8.9</td>\n",
              "      <td>18.769</td>\n",
              "      <td>0.61</td>\n",
              "      <td>NaN</td>\n",
              "      <td>39.30</td>\n",
              "      <td>81,740</td>\n",
              "      <td>2.2</td>\n",
              "      <td>20.86</td>\n",
              "      <td>27.21</td>\n",
              "      <td>37.11</td>\n",
              "      <td>48.15</td>\n",
              "      <td>60.20</td>\n",
              "      <td>43,380</td>\n",
              "      <td>56,600</td>\n",
              "      <td>77,180</td>\n",
              "      <td>100,140</td>\n",
              "      <td>125,210</td>\n",
              "      <td>NaN</td>\n",
              "      <td>NaN</td>\n",
              "    </tr>\n",
              "    <tr>\n",
              "      <th>3</th>\n",
              "      <td>0</td>\n",
              "      <td>Anchorage</td>\n",
              "      <td>AK</td>\n",
              "      <td>Anchorage, AK</td>\n",
              "      <td>11260</td>\n",
              "      <td>Anchorage, AK</td>\n",
              "      <td>4</td>\n",
              "      <td>0</td>\n",
              "      <td>Cross-industry</td>\n",
              "      <td>cross-industry</td>\n",
              "      <td>1235</td>\n",
              "      <td>17-0000</td>\n",
              "      <td>Architecture and Engineering Occupations</td>\n",
              "      <td>major</td>\n",
              "      <td>4,440</td>\n",
              "      <td>6.4</td>\n",
              "      <td>25.447</td>\n",
              "      <td>1.44</td>\n",
              "      <td>NaN</td>\n",
              "      <td>49.13</td>\n",
              "      <td>102,180</td>\n",
              "      <td>2.7</td>\n",
              "      <td>26.30</td>\n",
              "      <td>35.33</td>\n",
              "      <td>46.06</td>\n",
              "      <td>59.47</td>\n",
              "      <td>75.06</td>\n",
              "      <td>54,710</td>\n",
              "      <td>73,480</td>\n",
              "      <td>95,790</td>\n",
              "      <td>123,700</td>\n",
              "      <td>156,110</td>\n",
              "      <td>NaN</td>\n",
              "      <td>NaN</td>\n",
              "    </tr>\n",
              "    <tr>\n",
              "      <th>4</th>\n",
              "      <td>0</td>\n",
              "      <td>Anchorage</td>\n",
              "      <td>AK</td>\n",
              "      <td>Anchorage, AK</td>\n",
              "      <td>11260</td>\n",
              "      <td>Anchorage, AK</td>\n",
              "      <td>4</td>\n",
              "      <td>0</td>\n",
              "      <td>Cross-industry</td>\n",
              "      <td>cross-industry</td>\n",
              "      <td>1235</td>\n",
              "      <td>19-0000</td>\n",
              "      <td>Life, Physical, and Social Science Occupations</td>\n",
              "      <td>major</td>\n",
              "      <td>2,930</td>\n",
              "      <td>6.7</td>\n",
              "      <td>16.783</td>\n",
              "      <td>1.91</td>\n",
              "      <td>NaN</td>\n",
              "      <td>38.72</td>\n",
              "      <td>80,540</td>\n",
              "      <td>3.0</td>\n",
              "      <td>21.06</td>\n",
              "      <td>27.87</td>\n",
              "      <td>36.41</td>\n",
              "      <td>47.04</td>\n",
              "      <td>58.97</td>\n",
              "      <td>43,810</td>\n",
              "      <td>57,970</td>\n",
              "      <td>75,720</td>\n",
              "      <td>97,830</td>\n",
              "      <td>122,660</td>\n",
              "      <td>NaN</td>\n",
              "      <td>NaN</td>\n",
              "    </tr>\n",
              "  </tbody>\n",
              "</table>\n",
              "</div>"
            ],
            "text/plain": [
              "   city_id       city state     city_state  ...  a_pct75  a_pct90  annual hourly\n",
              "0        0  Anchorage    AK  Anchorage, AK  ...  131,450  182,670     NaN    NaN\n",
              "1        0  Anchorage    AK  Anchorage, AK  ...   93,320  116,180     NaN    NaN\n",
              "2        0  Anchorage    AK  Anchorage, AK  ...  100,140  125,210     NaN    NaN\n",
              "3        0  Anchorage    AK  Anchorage, AK  ...  123,700  156,110     NaN    NaN\n",
              "4        0  Anchorage    AK  Anchorage, AK  ...   97,830  122,660     NaN    NaN\n",
              "\n",
              "[5 rows x 34 columns]"
            ]
          },
          "metadata": {
            "tags": []
          },
          "execution_count": 23
        }
      ]
    },
    {
      "cell_type": "code",
      "metadata": {
        "id": "haJp0K-6O3B3",
        "outputId": "6dda9bdf-1c83-41a3-b82f-3f74b7ad3c53",
        "colab": {
          "base_uri": "https://localhost:8080/",
          "height": 34
        }
      },
      "source": [
        "merged.shape"
      ],
      "execution_count": null,
      "outputs": [
        {
          "output_type": "execute_result",
          "data": {
            "text/plain": [
              "(62282, 34)"
            ]
          },
          "metadata": {
            "tags": []
          },
          "execution_count": 24
        }
      ]
    },
    {
      "cell_type": "code",
      "metadata": {
        "id": "7pEQfUmoQyh0",
        "outputId": "e4ce497e-6f70-44bb-837d-8dd5198d4938",
        "colab": {
          "base_uri": "https://localhost:8080/",
          "height": 605
        }
      },
      "source": [
        "merged.isnull().sum()"
      ],
      "execution_count": null,
      "outputs": [
        {
          "output_type": "execute_result",
          "data": {
            "text/plain": [
              "city_id               0\n",
              "city                  0\n",
              "state                 0\n",
              "city_state            0\n",
              "area                  0\n",
              "area_title            0\n",
              "area_type             0\n",
              "naics                 0\n",
              "naics_title           0\n",
              "i_group               0\n",
              "own_code              0\n",
              "occ_code              0\n",
              "occ_title             0\n",
              "o_group               0\n",
              "tot_emp               0\n",
              "emp_prse              0\n",
              "jobs_1000_orig        0\n",
              "loc_quotient       4888\n",
              "pct_total         62282\n",
              "h_mean                0\n",
              "a_mean                0\n",
              "mean_prse             0\n",
              "h_pct10               0\n",
              "h_pct25               0\n",
              "h_median              0\n",
              "h_pct75               0\n",
              "h_pct90               0\n",
              "a_pct10               0\n",
              "a_pct25               0\n",
              "a_median              0\n",
              "a_pct75               0\n",
              "a_pct90               0\n",
              "annual            58201\n",
              "hourly            62056\n",
              "dtype: int64"
            ]
          },
          "metadata": {
            "tags": []
          },
          "execution_count": 27
        }
      ]
    },
    {
      "cell_type": "code",
      "metadata": {
        "id": "xtWuNedyR2_C",
        "outputId": "3c457a73-1197-49b4-98f2-a4118e1aec40",
        "colab": {
          "base_uri": "https://localhost:8080/",
          "height": 34
        }
      },
      "source": [
        "len(merged.city.unique())"
      ],
      "execution_count": null,
      "outputs": [
        {
          "output_type": "execute_result",
          "data": {
            "text/plain": [
              "100"
            ]
          },
          "metadata": {
            "tags": []
          },
          "execution_count": 28
        }
      ]
    },
    {
      "cell_type": "code",
      "metadata": {
        "id": "WnxNhftWRnJX"
      },
      "source": [
        "# Downloading the data\n",
        "\n",
        "merged.to_csv('test1.csv')"
      ],
      "execution_count": null,
      "outputs": []
    },
    {
      "cell_type": "markdown",
      "metadata": {
        "id": "bok7BHA3ZStt"
      },
      "source": [
        "To see how the endpoints were created using this data click [here](https://colab.research.google.com/drive/1IJD9aRTVFZiIvYKZztM2xzUEbmkM3Y6E?usp=sharing)"
      ]
    }
  ]
}