{
  "nbformat": 4,
  "nbformat_minor": 0,
  "metadata": {
    "colab": {
      "name": "Citrics - Job Industry Data.ipynb",
      "provenance": [],
      "collapsed_sections": []
    },
    "kernelspec": {
      "name": "python3",
      "display_name": "Python 3"
    }
  },
  "cells": [
    {
      "cell_type": "code",
      "metadata": {
        "id": "6vsEwIcBblfF",
        "colab_type": "code",
        "colab": {}
      },
      "source": [
        "import numpy as np\n",
        "import pandas as pd\n",
        "import plotly.graph_objects as go"
      ],
      "execution_count": 1,
      "outputs": []
    },
    {
      "cell_type": "code",
      "metadata": {
        "id": "nHAeIHR4etKQ",
        "colab_type": "code",
        "colab": {
          "base_uri": "https://localhost:8080/",
          "height": 84
        },
        "outputId": "c9f8cf90-092f-449e-c966-923d7b63cbc0"
      },
      "source": [
        "df = pd.read_csv(\"/content/us_job_industry_data_2019.csv\")"
      ],
      "execution_count": 2,
      "outputs": [
        {
          "output_type": "stream",
          "text": [
            "/usr/local/lib/python3.6/dist-packages/IPython/core/interactiveshell.py:2718: DtypeWarning:\n",
            "\n",
            "Columns (3,12,14) have mixed types.Specify dtype option on import or set low_memory=False.\n",
            "\n"
          ],
          "name": "stderr"
        }
      ]
    },
    {
      "cell_type": "code",
      "metadata": {
        "id": "fEFdbzQkhche",
        "colab_type": "code",
        "colab": {}
      },
      "source": [
        "# TO DO: MAP CITIES TO MASTER LIST"
      ],
      "execution_count": 3,
      "outputs": []
    },
    {
      "cell_type": "code",
      "metadata": {
        "id": "u5PDpPE9VetL",
        "colab_type": "code",
        "colab": {}
      },
      "source": [
        "def wrangle(X):\n",
        "  \"\"\"\n",
        "  Wrangles and cleans dataframe\n",
        "  \"\"\"\n",
        "\n",
        " \n",
        "  # Creating 2 copies to handle numeric and non-numeric data\n",
        "  numeric = X.copy()\n",
        "  non_numeric = X.copy()\n",
        "\n",
        "  # Filtering dataframe to retain relevant numeric columns\n",
        "  numeric = numeric.filter([\"tot_emp\", \"jobs_1000_orig\", \"loc_quotient\", \"h_mean\",\t\n",
        "                \"a_mean\",\t\"h_pct25\",\t\"h_median\",\t\"h_pct75\",\t\"h_pct90\",\t\n",
        "                \"a_pct25\",\t\"a_median\",\t\"a_pct75\", \"a_pct90\"], axis=1)\n",
        "\n",
        "  # Renaming columns\n",
        "  numeric = numeric.rename(columns={\"tot_emp\":\"Total Employed\", \n",
        "                                    \"jobs_1000_orig\":\"Jobs per 1000\", \n",
        "                                    \"loc_quotient\":\"Job Dilution\", \n",
        "                                    \"h_mean\":\"Hourly Wage Mean\",\t\n",
        "                                    \"a_mean\":\"Annual Wage Mean\",\t\n",
        "                                    \"h_pct25\":\"Hourly Wage (25th Percentile)\",\t\n",
        "                                    \"h_median\":\"Hourly Wage (Median)\",\t\n",
        "                                    \"h_pct75\":\"Hourly Wage (75th Percentile)\",\t\n",
        "                                    \"h_pct90\":\"Hourly Wage (90th Percentile)\",\t\n",
        "                                    \"a_pct25\":\"Annual Wage (25th Percentile)\",\t\n",
        "                                    \"a_median\":\"Annual Wage (Median)\",\t\n",
        "                                    \"a_pct75\":\"Annual Wage (75th Percentile)\",\t\n",
        "                                    \"a_pct90\":\"Annual Wage (90th Percentile)\"})\n",
        "\n",
        "  # Replacing NaN values with 0s\n",
        "  numeric = numeric.replace(np.nan, 0)\n",
        "  numeric = numeric.replace(\"*\", 0)\n",
        "  numeric = numeric.replace(\"**\", 0)\n",
        "  numeric[\"Hourly Wage Mean\"] = numeric[\"Hourly Wage Mean\"].replace(\"#\", 100)\n",
        "  numeric[\"Annual Wage Mean\"] = numeric[\"Annual Wage Mean\"].replace(\"#\", 208000)\n",
        "  numeric[\"Hourly Wage (25th Percentile)\"] = numeric[\"Hourly Wage (25th Percentile)\"].replace(\"#\", 100)\n",
        "  numeric[\"Hourly Wage (Median)\"] = numeric[\"Hourly Wage (Median)\"].replace(\"#\", 100)\n",
        "  numeric[\"Hourly Wage (75th Percentile)\"] = numeric[\"Hourly Wage (75th Percentile)\"].replace(\"#\", 100)\n",
        "  numeric[\"Hourly Wage (90th Percentile)\"] = numeric[\"Hourly Wage (90th Percentile)\"].replace(\"#\", 100)\n",
        "  numeric[\"Annual Wage (25th Percentile)\"] = numeric[\"Annual Wage (25th Percentile)\"].replace(\"#\", 208000)\n",
        "  numeric[\"Annual Wage (Median)\"] = numeric[\"Annual Wage (Median)\"].replace(\"#\", 208000)\n",
        "  numeric[\"Annual Wage (75th Percentile)\"] = numeric[\"Annual Wage (75th Percentile)\"].replace(\"#\", 208000)\n",
        "  numeric[\"Annual Wage (90th Percentile)\"] = numeric[\"Annual Wage (90th Percentile)\"].replace(\"#\", 208000)\n",
        "  numeric = numeric.replace(\",\", \"\", regex=True)\n",
        "\n",
        "  # Converting data to numbers for easy visualization\n",
        "  numeric = numeric.astype(float)\n",
        "\n",
        "  # Creating job sector percentage column\n",
        "  numeric[\"Job Sector Percentage\"] = numeric[\"Jobs per 1000\"] / 10\n",
        "\n",
        "\n",
        "  # Handling non-numeric data\n",
        "  non_numeric[[\"area_title\", \"area_state\"]] = non_numeric[\"area_title\"].str.split(\",\", expand=True)\n",
        "  non_numeric = non_numeric.filter([\"area_title\", \"area_state\", \"occ_title\"])\n",
        "\n",
        "  non_numeric = non_numeric.rename(columns={\"area_title\":\"City\", \"area_state\":\"State\", \"occ_title\":\"Job Sector\"})\n",
        "\n",
        "  # Resetting indices to concatenate\n",
        "  numeric.reset_index(drop=True, inplace=True)\n",
        "  non_numeric.reset_index(drop=True, inplace=True)\n",
        "\n",
        "  return pd.concat([non_numeric, numeric], axis=1)"
      ],
      "execution_count": 4,
      "outputs": []
    },
    {
      "cell_type": "code",
      "metadata": {
        "id": "d36lZ6MIdh1R",
        "colab_type": "code",
        "colab": {}
      },
      "source": [
        "# Condensing df to only include statistics at city level\n",
        "\n",
        "df_wrangle = df[ df[\"area_type\"] == 4]"
      ],
      "execution_count": 5,
      "outputs": []
    },
    {
      "cell_type": "code",
      "metadata": {
        "id": "r-F4UlPo0Ze0",
        "colab_type": "code",
        "colab": {
          "base_uri": "https://localhost:8080/",
          "height": 484
        },
        "outputId": "7d774e6c-0164-49a4-dc4d-5a18431cdd91"
      },
      "source": [
        "df_wrangle = wrangle(df_wrangle)\n",
        "df_wrangle.head()"
      ],
      "execution_count": 6,
      "outputs": [
        {
          "output_type": "execute_result",
          "data": {
            "text/html": [
              "<div>\n",
              "<style scoped>\n",
              "    .dataframe tbody tr th:only-of-type {\n",
              "        vertical-align: middle;\n",
              "    }\n",
              "\n",
              "    .dataframe tbody tr th {\n",
              "        vertical-align: top;\n",
              "    }\n",
              "\n",
              "    .dataframe thead th {\n",
              "        text-align: right;\n",
              "    }\n",
              "</style>\n",
              "<table border=\"1\" class=\"dataframe\">\n",
              "  <thead>\n",
              "    <tr style=\"text-align: right;\">\n",
              "      <th></th>\n",
              "      <th>City</th>\n",
              "      <th>State</th>\n",
              "      <th>Job Sector</th>\n",
              "      <th>Total Employed</th>\n",
              "      <th>Jobs per 1000</th>\n",
              "      <th>Job Dilution</th>\n",
              "      <th>Hourly Wage Mean</th>\n",
              "      <th>Annual Wage Mean</th>\n",
              "      <th>Hourly Wage (25th Percentile)</th>\n",
              "      <th>Hourly Wage (Median)</th>\n",
              "      <th>Hourly Wage (75th Percentile)</th>\n",
              "      <th>Hourly Wage (90th Percentile)</th>\n",
              "      <th>Annual Wage (25th Percentile)</th>\n",
              "      <th>Annual Wage (Median)</th>\n",
              "      <th>Annual Wage (75th Percentile)</th>\n",
              "      <th>Annual Wage (90th Percentile)</th>\n",
              "      <th>Job Sector Percentage</th>\n",
              "    </tr>\n",
              "  </thead>\n",
              "  <tbody>\n",
              "    <tr>\n",
              "      <th>0</th>\n",
              "      <td>Abilene</td>\n",
              "      <td>TX</td>\n",
              "      <td>Management Occupations</td>\n",
              "      <td>2670.0</td>\n",
              "      <td>40.137</td>\n",
              "      <td>0.73</td>\n",
              "      <td>43.51</td>\n",
              "      <td>90500.0</td>\n",
              "      <td>27.22</td>\n",
              "      <td>37.51</td>\n",
              "      <td>51.88</td>\n",
              "      <td>75.57</td>\n",
              "      <td>56610.0</td>\n",
              "      <td>78030.0</td>\n",
              "      <td>107910.0</td>\n",
              "      <td>157190.0</td>\n",
              "      <td>4.0137</td>\n",
              "    </tr>\n",
              "    <tr>\n",
              "      <th>1</th>\n",
              "      <td>Abilene</td>\n",
              "      <td>TX</td>\n",
              "      <td>Business and Financial Operations Occupations</td>\n",
              "      <td>2280.0</td>\n",
              "      <td>34.214</td>\n",
              "      <td>0.61</td>\n",
              "      <td>32.46</td>\n",
              "      <td>67520.0</td>\n",
              "      <td>22.11</td>\n",
              "      <td>29.47</td>\n",
              "      <td>38.38</td>\n",
              "      <td>48.95</td>\n",
              "      <td>46000.0</td>\n",
              "      <td>61300.0</td>\n",
              "      <td>79840.0</td>\n",
              "      <td>101820.0</td>\n",
              "      <td>3.4214</td>\n",
              "    </tr>\n",
              "    <tr>\n",
              "      <th>2</th>\n",
              "      <td>Abilene</td>\n",
              "      <td>TX</td>\n",
              "      <td>Computer and Mathematical Occupations</td>\n",
              "      <td>630.0</td>\n",
              "      <td>9.494</td>\n",
              "      <td>0.31</td>\n",
              "      <td>30.27</td>\n",
              "      <td>62970.0</td>\n",
              "      <td>21.44</td>\n",
              "      <td>27.31</td>\n",
              "      <td>36.98</td>\n",
              "      <td>49.45</td>\n",
              "      <td>44600.0</td>\n",
              "      <td>56810.0</td>\n",
              "      <td>76910.0</td>\n",
              "      <td>102860.0</td>\n",
              "      <td>0.9494</td>\n",
              "    </tr>\n",
              "    <tr>\n",
              "      <th>3</th>\n",
              "      <td>Abilene</td>\n",
              "      <td>TX</td>\n",
              "      <td>Architecture and Engineering Occupations</td>\n",
              "      <td>770.0</td>\n",
              "      <td>11.600</td>\n",
              "      <td>0.66</td>\n",
              "      <td>34.83</td>\n",
              "      <td>72440.0</td>\n",
              "      <td>23.82</td>\n",
              "      <td>32.11</td>\n",
              "      <td>43.51</td>\n",
              "      <td>56.79</td>\n",
              "      <td>49540.0</td>\n",
              "      <td>66790.0</td>\n",
              "      <td>90500.0</td>\n",
              "      <td>118110.0</td>\n",
              "      <td>1.1600</td>\n",
              "    </tr>\n",
              "    <tr>\n",
              "      <th>4</th>\n",
              "      <td>Abilene</td>\n",
              "      <td>TX</td>\n",
              "      <td>Life, Physical, and Social Science Occupations</td>\n",
              "      <td>330.0</td>\n",
              "      <td>5.033</td>\n",
              "      <td>0.57</td>\n",
              "      <td>28.06</td>\n",
              "      <td>58360.0</td>\n",
              "      <td>20.27</td>\n",
              "      <td>25.94</td>\n",
              "      <td>33.07</td>\n",
              "      <td>41.27</td>\n",
              "      <td>42170.0</td>\n",
              "      <td>53960.0</td>\n",
              "      <td>68790.0</td>\n",
              "      <td>85850.0</td>\n",
              "      <td>0.5033</td>\n",
              "    </tr>\n",
              "  </tbody>\n",
              "</table>\n",
              "</div>"
            ],
            "text/plain": [
              "      City State  ... Annual Wage (90th Percentile)  Job Sector Percentage\n",
              "0  Abilene    TX  ...                      157190.0                 4.0137\n",
              "1  Abilene    TX  ...                      101820.0                 3.4214\n",
              "2  Abilene    TX  ...                      102860.0                 0.9494\n",
              "3  Abilene    TX  ...                      118110.0                 1.1600\n",
              "4  Abilene    TX  ...                       85850.0                 0.5033\n",
              "\n",
              "[5 rows x 17 columns]"
            ]
          },
          "metadata": {
            "tags": []
          },
          "execution_count": 6
        }
      ]
    },
    {
      "cell_type": "code",
      "metadata": {
        "id": "gTOGGbYPFizt",
        "colab_type": "code",
        "colab": {}
      },
      "source": [
        "def pie(df, city, n_industries):\n",
        "\n",
        "  df = wrangle(df)\n",
        "  df_city_top10 = df[ df[\"City\"] == city].sort_values(by=\"Job Sector Percentage\", ascending=False)[1:n_industries + 1]\n",
        "  df_city_other = df[ df[\"City\"] == city].sort_values(by=\"Job Sector Percentage\", ascending=False)[n_industries + 1:]\n",
        "\n",
        "\n",
        "  top_10_labels = df_city_top10[\"Job Sector\"]\n",
        "  top_10_values = df_city_top10[\"Job Sector Percentage\"]\n",
        "\n",
        "  df_top10_aggregate = pd.DataFrame({\"Job Sector\": top_10_labels,\n",
        "                                     \"Job Sector Percentage\": top_10_values})\n",
        "  \n",
        "  df_city_other = pd.DataFrame({\"Job Sector\": [\"Other\"],\n",
        "                                \"Job Sector Percentage\": [100 - sum(top_10_values)]})\n",
        "\n",
        "  df_combined = pd.concat([df_top10_aggregate, df_city_other])\n",
        "\n",
        "  fig = go.Figure(data=[go.Pie(labels=df_combined[\"Job Sector\"], values=df_combined[\"Job Sector Percentage\"], textinfo=\"label+percent\", hole=.3)])\n",
        "  fig.update_layout(margin=dict(l=20, r=20, t=20, b=20))\n",
        "\n",
        "  return fig.show()"
      ],
      "execution_count": 7,
      "outputs": []
    },
    {
      "cell_type": "code",
      "metadata": {
        "id": "6MIQZDJljKlj",
        "colab_type": "code",
        "colab": {}
      },
      "source": [
        "df_pie = df[ df[\"area_type\"] == 4]"
      ],
      "execution_count": 8,
      "outputs": []
    },
    {
      "cell_type": "code",
      "metadata": {
        "id": "kIR2r7Dv6SgM",
        "colab_type": "code",
        "colab": {
          "base_uri": "https://localhost:8080/",
          "height": 542
        },
        "outputId": "7e2df26f-f446-4828-bebf-ccbe8a2e2202"
      },
      "source": [
        "pie(df_pie, \"Danville\", 10)"
      ],
      "execution_count": 9,
      "outputs": [
        {
          "output_type": "display_data",
          "data": {
            "text/html": [
              "<html>\n",
              "<head><meta charset=\"utf-8\" /></head>\n",
              "<body>\n",
              "    <div>\n",
              "            <script src=\"https://cdnjs.cloudflare.com/ajax/libs/mathjax/2.7.5/MathJax.js?config=TeX-AMS-MML_SVG\"></script><script type=\"text/javascript\">if (window.MathJax) {MathJax.Hub.Config({SVG: {font: \"STIX-Web\"}});}</script>\n",
              "                <script type=\"text/javascript\">window.PlotlyConfig = {MathJaxConfig: 'local'};</script>\n",
              "        <script src=\"https://cdn.plot.ly/plotly-latest.min.js\"></script>    \n",
              "            <div id=\"79235ff3-b7b1-4924-b265-eeab7c613df6\" class=\"plotly-graph-div\" style=\"height:525px; width:100%;\"></div>\n",
              "            <script type=\"text/javascript\">\n",
              "                \n",
              "                    window.PLOTLYENV=window.PLOTLYENV || {};\n",
              "                    \n",
              "                if (document.getElementById(\"79235ff3-b7b1-4924-b265-eeab7c613df6\")) {\n",
              "                    Plotly.newPlot(\n",
              "                        '79235ff3-b7b1-4924-b265-eeab7c613df6',\n",
              "                        [{\"hole\": 0.3, \"labels\": [\"Office and Administrative Support Occupations\", \"Transportation and Material Moving Occupations\", \"Production Occupations\", \"Sales and Related Occupations\", \"Food Preparation and Serving Related Occupations\", \"Educational Instruction and Library Occupations\", \"Healthcare Practitioners and Technical Occupations\", \"Management Occupations\", \"Installation, Maintenance, and Repair Occupations\", \"Business and Financial Operations Occupations\", \"Other\"], \"textinfo\": \"label+percent\", \"type\": \"pie\", \"values\": [14.2724, 13.673599999999999, 11.3324, 8.977599999999999, 8.5131, 7.1927, 5.9505, 5.5794, 4.5338, 3.9191000000000003, 16.05539999999999]}],\n",
              "                        {\"margin\": {\"b\": 20, \"l\": 20, \"r\": 20, \"t\": 20}, \"template\": {\"data\": {\"bar\": [{\"error_x\": {\"color\": \"#2a3f5f\"}, \"error_y\": {\"color\": \"#2a3f5f\"}, \"marker\": {\"line\": {\"color\": \"#E5ECF6\", \"width\": 0.5}}, \"type\": \"bar\"}], \"barpolar\": [{\"marker\": {\"line\": {\"color\": \"#E5ECF6\", \"width\": 0.5}}, \"type\": \"barpolar\"}], \"carpet\": [{\"aaxis\": {\"endlinecolor\": \"#2a3f5f\", \"gridcolor\": \"white\", \"linecolor\": \"white\", \"minorgridcolor\": \"white\", \"startlinecolor\": \"#2a3f5f\"}, \"baxis\": {\"endlinecolor\": \"#2a3f5f\", \"gridcolor\": \"white\", \"linecolor\": \"white\", \"minorgridcolor\": \"white\", \"startlinecolor\": \"#2a3f5f\"}, \"type\": \"carpet\"}], \"choropleth\": [{\"colorbar\": {\"outlinewidth\": 0, \"ticks\": \"\"}, \"type\": \"choropleth\"}], \"contour\": [{\"colorbar\": {\"outlinewidth\": 0, \"ticks\": \"\"}, \"colorscale\": [[0.0, \"#0d0887\"], [0.1111111111111111, \"#46039f\"], [0.2222222222222222, \"#7201a8\"], [0.3333333333333333, \"#9c179e\"], [0.4444444444444444, \"#bd3786\"], [0.5555555555555556, \"#d8576b\"], [0.6666666666666666, \"#ed7953\"], [0.7777777777777778, \"#fb9f3a\"], [0.8888888888888888, \"#fdca26\"], [1.0, \"#f0f921\"]], \"type\": \"contour\"}], \"contourcarpet\": [{\"colorbar\": {\"outlinewidth\": 0, \"ticks\": \"\"}, \"type\": \"contourcarpet\"}], \"heatmap\": [{\"colorbar\": {\"outlinewidth\": 0, \"ticks\": \"\"}, \"colorscale\": [[0.0, \"#0d0887\"], [0.1111111111111111, \"#46039f\"], [0.2222222222222222, \"#7201a8\"], [0.3333333333333333, \"#9c179e\"], [0.4444444444444444, \"#bd3786\"], [0.5555555555555556, \"#d8576b\"], [0.6666666666666666, \"#ed7953\"], [0.7777777777777778, \"#fb9f3a\"], [0.8888888888888888, \"#fdca26\"], [1.0, \"#f0f921\"]], \"type\": \"heatmap\"}], \"heatmapgl\": [{\"colorbar\": {\"outlinewidth\": 0, \"ticks\": \"\"}, \"colorscale\": [[0.0, \"#0d0887\"], [0.1111111111111111, \"#46039f\"], [0.2222222222222222, \"#7201a8\"], [0.3333333333333333, \"#9c179e\"], [0.4444444444444444, \"#bd3786\"], [0.5555555555555556, \"#d8576b\"], [0.6666666666666666, \"#ed7953\"], [0.7777777777777778, \"#fb9f3a\"], [0.8888888888888888, \"#fdca26\"], [1.0, \"#f0f921\"]], \"type\": \"heatmapgl\"}], \"histogram\": [{\"marker\": {\"colorbar\": {\"outlinewidth\": 0, \"ticks\": \"\"}}, \"type\": \"histogram\"}], \"histogram2d\": [{\"colorbar\": {\"outlinewidth\": 0, \"ticks\": \"\"}, \"colorscale\": [[0.0, \"#0d0887\"], [0.1111111111111111, \"#46039f\"], [0.2222222222222222, \"#7201a8\"], [0.3333333333333333, \"#9c179e\"], [0.4444444444444444, \"#bd3786\"], [0.5555555555555556, \"#d8576b\"], [0.6666666666666666, \"#ed7953\"], [0.7777777777777778, \"#fb9f3a\"], [0.8888888888888888, \"#fdca26\"], [1.0, \"#f0f921\"]], \"type\": \"histogram2d\"}], \"histogram2dcontour\": [{\"colorbar\": {\"outlinewidth\": 0, \"ticks\": \"\"}, \"colorscale\": [[0.0, \"#0d0887\"], [0.1111111111111111, \"#46039f\"], [0.2222222222222222, \"#7201a8\"], [0.3333333333333333, \"#9c179e\"], [0.4444444444444444, \"#bd3786\"], [0.5555555555555556, \"#d8576b\"], [0.6666666666666666, \"#ed7953\"], [0.7777777777777778, \"#fb9f3a\"], [0.8888888888888888, \"#fdca26\"], [1.0, \"#f0f921\"]], \"type\": \"histogram2dcontour\"}], \"mesh3d\": [{\"colorbar\": {\"outlinewidth\": 0, \"ticks\": \"\"}, \"type\": \"mesh3d\"}], \"parcoords\": [{\"line\": {\"colorbar\": {\"outlinewidth\": 0, \"ticks\": \"\"}}, \"type\": \"parcoords\"}], \"pie\": [{\"automargin\": true, \"type\": \"pie\"}], \"scatter\": [{\"marker\": {\"colorbar\": {\"outlinewidth\": 0, \"ticks\": \"\"}}, \"type\": \"scatter\"}], \"scatter3d\": [{\"line\": {\"colorbar\": {\"outlinewidth\": 0, \"ticks\": \"\"}}, \"marker\": {\"colorbar\": {\"outlinewidth\": 0, \"ticks\": \"\"}}, \"type\": \"scatter3d\"}], \"scattercarpet\": [{\"marker\": {\"colorbar\": {\"outlinewidth\": 0, \"ticks\": \"\"}}, \"type\": \"scattercarpet\"}], \"scattergeo\": [{\"marker\": {\"colorbar\": {\"outlinewidth\": 0, \"ticks\": \"\"}}, \"type\": \"scattergeo\"}], \"scattergl\": [{\"marker\": {\"colorbar\": {\"outlinewidth\": 0, \"ticks\": \"\"}}, \"type\": \"scattergl\"}], \"scattermapbox\": [{\"marker\": {\"colorbar\": {\"outlinewidth\": 0, \"ticks\": \"\"}}, \"type\": \"scattermapbox\"}], \"scatterpolar\": [{\"marker\": {\"colorbar\": {\"outlinewidth\": 0, \"ticks\": \"\"}}, \"type\": \"scatterpolar\"}], \"scatterpolargl\": [{\"marker\": {\"colorbar\": {\"outlinewidth\": 0, \"ticks\": \"\"}}, \"type\": \"scatterpolargl\"}], \"scatterternary\": [{\"marker\": {\"colorbar\": {\"outlinewidth\": 0, \"ticks\": \"\"}}, \"type\": \"scatterternary\"}], \"surface\": [{\"colorbar\": {\"outlinewidth\": 0, \"ticks\": \"\"}, \"colorscale\": [[0.0, \"#0d0887\"], [0.1111111111111111, \"#46039f\"], [0.2222222222222222, \"#7201a8\"], [0.3333333333333333, \"#9c179e\"], [0.4444444444444444, \"#bd3786\"], [0.5555555555555556, \"#d8576b\"], [0.6666666666666666, \"#ed7953\"], [0.7777777777777778, \"#fb9f3a\"], [0.8888888888888888, \"#fdca26\"], [1.0, \"#f0f921\"]], \"type\": \"surface\"}], \"table\": [{\"cells\": {\"fill\": {\"color\": \"#EBF0F8\"}, \"line\": {\"color\": \"white\"}}, \"header\": {\"fill\": {\"color\": \"#C8D4E3\"}, \"line\": {\"color\": \"white\"}}, \"type\": \"table\"}]}, \"layout\": {\"annotationdefaults\": {\"arrowcolor\": \"#2a3f5f\", \"arrowhead\": 0, \"arrowwidth\": 1}, \"coloraxis\": {\"colorbar\": {\"outlinewidth\": 0, \"ticks\": \"\"}}, \"colorscale\": {\"diverging\": [[0, \"#8e0152\"], [0.1, \"#c51b7d\"], [0.2, \"#de77ae\"], [0.3, \"#f1b6da\"], [0.4, \"#fde0ef\"], [0.5, \"#f7f7f7\"], [0.6, \"#e6f5d0\"], [0.7, \"#b8e186\"], [0.8, \"#7fbc41\"], [0.9, \"#4d9221\"], [1, \"#276419\"]], \"sequential\": [[0.0, \"#0d0887\"], [0.1111111111111111, \"#46039f\"], [0.2222222222222222, \"#7201a8\"], [0.3333333333333333, \"#9c179e\"], [0.4444444444444444, \"#bd3786\"], [0.5555555555555556, \"#d8576b\"], [0.6666666666666666, \"#ed7953\"], [0.7777777777777778, \"#fb9f3a\"], [0.8888888888888888, \"#fdca26\"], [1.0, \"#f0f921\"]], \"sequentialminus\": [[0.0, \"#0d0887\"], [0.1111111111111111, \"#46039f\"], [0.2222222222222222, \"#7201a8\"], [0.3333333333333333, \"#9c179e\"], [0.4444444444444444, \"#bd3786\"], [0.5555555555555556, \"#d8576b\"], [0.6666666666666666, \"#ed7953\"], [0.7777777777777778, \"#fb9f3a\"], [0.8888888888888888, \"#fdca26\"], [1.0, \"#f0f921\"]]}, \"colorway\": [\"#636efa\", \"#EF553B\", \"#00cc96\", \"#ab63fa\", \"#FFA15A\", \"#19d3f3\", \"#FF6692\", \"#B6E880\", \"#FF97FF\", \"#FECB52\"], \"font\": {\"color\": \"#2a3f5f\"}, \"geo\": {\"bgcolor\": \"white\", \"lakecolor\": \"white\", \"landcolor\": \"#E5ECF6\", \"showlakes\": true, \"showland\": true, \"subunitcolor\": \"white\"}, \"hoverlabel\": {\"align\": \"left\"}, \"hovermode\": \"closest\", \"mapbox\": {\"style\": \"light\"}, \"paper_bgcolor\": \"white\", \"plot_bgcolor\": \"#E5ECF6\", \"polar\": {\"angularaxis\": {\"gridcolor\": \"white\", \"linecolor\": \"white\", \"ticks\": \"\"}, \"bgcolor\": \"#E5ECF6\", \"radialaxis\": {\"gridcolor\": \"white\", \"linecolor\": \"white\", \"ticks\": \"\"}}, \"scene\": {\"xaxis\": {\"backgroundcolor\": \"#E5ECF6\", \"gridcolor\": \"white\", \"gridwidth\": 2, \"linecolor\": \"white\", \"showbackground\": true, \"ticks\": \"\", \"zerolinecolor\": \"white\"}, \"yaxis\": {\"backgroundcolor\": \"#E5ECF6\", \"gridcolor\": \"white\", \"gridwidth\": 2, \"linecolor\": \"white\", \"showbackground\": true, \"ticks\": \"\", \"zerolinecolor\": \"white\"}, \"zaxis\": {\"backgroundcolor\": \"#E5ECF6\", \"gridcolor\": \"white\", \"gridwidth\": 2, \"linecolor\": \"white\", \"showbackground\": true, \"ticks\": \"\", \"zerolinecolor\": \"white\"}}, \"shapedefaults\": {\"line\": {\"color\": \"#2a3f5f\"}}, \"ternary\": {\"aaxis\": {\"gridcolor\": \"white\", \"linecolor\": \"white\", \"ticks\": \"\"}, \"baxis\": {\"gridcolor\": \"white\", \"linecolor\": \"white\", \"ticks\": \"\"}, \"bgcolor\": \"#E5ECF6\", \"caxis\": {\"gridcolor\": \"white\", \"linecolor\": \"white\", \"ticks\": \"\"}}, \"title\": {\"x\": 0.05}, \"xaxis\": {\"automargin\": true, \"gridcolor\": \"white\", \"linecolor\": \"white\", \"ticks\": \"\", \"title\": {\"standoff\": 15}, \"zerolinecolor\": \"white\", \"zerolinewidth\": 2}, \"yaxis\": {\"automargin\": true, \"gridcolor\": \"white\", \"linecolor\": \"white\", \"ticks\": \"\", \"title\": {\"standoff\": 15}, \"zerolinecolor\": \"white\", \"zerolinewidth\": 2}}}},\n",
              "                        {\"responsive\": true}\n",
              "                    ).then(function(){\n",
              "                            \n",
              "var gd = document.getElementById('79235ff3-b7b1-4924-b265-eeab7c613df6');\n",
              "var x = new MutationObserver(function (mutations, observer) {{\n",
              "        var display = window.getComputedStyle(gd).display;\n",
              "        if (!display || display === 'none') {{\n",
              "            console.log([gd, 'removed!']);\n",
              "            Plotly.purge(gd);\n",
              "            observer.disconnect();\n",
              "        }}\n",
              "}});\n",
              "\n",
              "// Listen for the removal of the full notebook cells\n",
              "var notebookContainer = gd.closest('#notebook-container');\n",
              "if (notebookContainer) {{\n",
              "    x.observe(notebookContainer, {childList: true});\n",
              "}}\n",
              "\n",
              "// Listen for the clearing of the current output cell\n",
              "var outputEl = gd.closest('.output');\n",
              "if (outputEl) {{\n",
              "    x.observe(outputEl, {childList: true});\n",
              "}}\n",
              "\n",
              "                        })\n",
              "                };\n",
              "                \n",
              "            </script>\n",
              "        </div>\n",
              "</body>\n",
              "</html>"
            ]
          },
          "metadata": {
            "tags": []
          }
        }
      ]
    },
    {
      "cell_type": "code",
      "metadata": {
        "id": "NugvxvzzpLtD",
        "colab_type": "code",
        "colab": {}
      },
      "source": [
        ""
      ],
      "execution_count": null,
      "outputs": []
    }
  ]
}