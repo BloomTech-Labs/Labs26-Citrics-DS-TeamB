{
  "nbformat": 4,
  "nbformat_minor": 0,
  "metadata": {
    "colab": {
      "name": "Citrics - Cleaning City Names.ipynb",
      "provenance": [],
      "collapsed_sections": []
    },
    "kernelspec": {
      "name": "python3",
      "display_name": "Python 3"
    }
  },
  "cells": [
    {
      "cell_type": "code",
      "metadata": {
        "id": "6vsEwIcBblfF",
        "colab_type": "code",
        "colab": {}
      },
      "source": [
        "import pandas as pd"
      ],
      "execution_count": 105,
      "outputs": []
    },
    {
      "cell_type": "code",
      "metadata": {
        "id": "nHAeIHR4etKQ",
        "colab_type": "code",
        "colab": {
          "base_uri": "https://localhost:8080/",
          "height": 84
        },
        "outputId": "39832dd1-a664-4c75-a061-046a627a8613"
      },
      "source": [
        "df = pd.read_csv(\"/content/us_job_industry_data_2019.csv\")"
      ],
      "execution_count": 106,
      "outputs": [
        {
          "output_type": "stream",
          "text": [
            "/usr/local/lib/python3.6/dist-packages/IPython/core/interactiveshell.py:2718: DtypeWarning:\n",
            "\n",
            "Columns (3,12,14) have mixed types.Specify dtype option on import or set low_memory=False.\n",
            "\n"
          ],
          "name": "stderr"
        }
      ]
    },
    {
      "cell_type": "code",
      "metadata": {
        "id": "fEFdbzQkhche",
        "colab_type": "code",
        "colab": {}
      },
      "source": [
        "# TO DO: MAP CITIES TO MASTER LIST"
      ],
      "execution_count": 107,
      "outputs": []
    },
    {
      "cell_type": "code",
      "metadata": {
        "id": "8mCjzLITEVcT",
        "colab_type": "code",
        "colab": {}
      },
      "source": [
        "# Restricting area type to city\n",
        "\n",
        "city_names = df[ df[\"area_type\"] == 4]"
      ],
      "execution_count": 1,
      "outputs": [
        {
          "output_type": "error",
          "ename": "NameError",
          "evalue": "name 'df' is not defined",
          "traceback": [
            "\u001b[1;31m---------------------------------------------------------------------------\u001b[0m",
            "\u001b[1;31mNameError\u001b[0m                                 Traceback (most recent call last)",
            "\u001b[1;32m<ipython-input-1-7de8ea5b582d>\u001b[0m in \u001b[0;36m<module>\u001b[1;34m\u001b[0m\n\u001b[1;32m----> 1\u001b[1;33m \u001b[0mcity_names\u001b[0m \u001b[1;33m=\u001b[0m \u001b[0mdf\u001b[0m\u001b[1;33m[\u001b[0m \u001b[0mdf\u001b[0m\u001b[1;33m[\u001b[0m\u001b[1;34m\"area_type\"\u001b[0m\u001b[1;33m]\u001b[0m \u001b[1;33m==\u001b[0m \u001b[1;36m4\u001b[0m\u001b[1;33m]\u001b[0m\u001b[1;33m\u001b[0m\u001b[1;33m\u001b[0m\u001b[0m\n\u001b[0m",
            "\u001b[1;31mNameError\u001b[0m: name 'df' is not defined"
          ]
        }
      ]
    },
    {
      "cell_type": "code",
      "metadata": {
        "id": "XUXFsCvjF3JW",
        "colab_type": "code",
        "colab": {}
      },
      "source": [
        "# Retaining only area title (city) column\n",
        "\n",
        "city_names = city_names.filter([\"area_title\"])"
      ],
      "execution_count": 109,
      "outputs": []
    },
    {
      "cell_type": "code",
      "metadata": {
        "id": "PG_xnHfsGPrx",
        "colab_type": "code",
        "colab": {}
      },
      "source": [
        "# Removing duplicate city names\n",
        "\n",
        "city_names = city_names[\"area_title\"].unique()"
      ],
      "execution_count": 110,
      "outputs": []
    },
    {
      "cell_type": "code",
      "metadata": {
        "id": "99iob91Q4bus",
        "colab_type": "code",
        "colab": {}
      },
      "source": [
        "# Removing cities located in Puerto Rico\n",
        "\n",
        "non_pr_city_names = []\n",
        "\n",
        "for city in city_names:\n",
        "  if city.split()[-1] != \"PR\":\n",
        "    non_pr_city_names.append(city)"
      ],
      "execution_count": 112,
      "outputs": []
    },
    {
      "cell_type": "code",
      "metadata": {
        "id": "ogytxQb7LThG",
        "colab_type": "code",
        "colab": {}
      },
      "source": [
        "# Handling cities separated by double dashes\n",
        "\n",
        "city_double_dashes = []\n",
        "\n",
        "for city in non_pr_city_names:\n",
        "  if \"--\" in city.split(\",\")[0]:\n",
        "    for hyphenated_city in city.split(\"--\"):\n",
        "      city_double_dashes.append(hyphenated_city + \", \" + city.split()[-1])    \n",
        "  else:\n",
        "    city_double_dashes.append(city)"
      ],
      "execution_count": 113,
      "outputs": []
    },
    {
      "cell_type": "code",
      "metadata": {
        "id": "504Dy33qOSre",
        "colab_type": "code",
        "colab": {}
      },
      "source": [
        "# Handling cities separated by single dashes\n",
        "\n",
        "city_dashes = []\n",
        "\n",
        "for row in city_double_dashes:\n",
        "  if \"-\" in row.split(\",\")[0] and row.split(\",\")[0] != \"Wilkes-Barre\":\n",
        "    for hyphenated_city in row.split(\",\")[0].split(\"-\"):\n",
        "      city_dashes.append(hyphenated_city + \", \" + city.split()[-1])\n",
        "  else:\n",
        "    city_dashes.append(row)"
      ],
      "execution_count": 135,
      "outputs": []
    },
    {
      "cell_type": "code",
      "metadata": {
        "id": "zagkScQ_So4A",
        "colab_type": "code",
        "colab": {}
      },
      "source": [
        "# Handling states separated by dashes\n",
        "\n",
        "state_dashes = []\n",
        "\n",
        "for row in city_dashes:\n",
        "  if \"-\" in row.split(\",\")[-1]:\n",
        "    for hyphenated_state in row.split(\",\")[-1].split(\"-\"):\n",
        "      hyphenated_state = hyphenated_state.strip()\n",
        "      state_dashes.append(row.split(\",\")[0] + \", \" + hyphenated_state)\n",
        "  else:\n",
        "    state_dashes.append(row)"
      ],
      "execution_count": 149,
      "outputs": []
    },
    {
      "cell_type": "code",
      "metadata": {
        "id": "ra-IqYuRXWDP",
        "colab_type": "code",
        "colab": {}
      },
      "source": [
        "# Correcting shape of data in order to transform into a pandas dataframe\n",
        "\n",
        "fixing_state_names = []\n",
        "\n",
        "for row in state_dashes:\n",
        "  if len(row.split(\",\")) > 2:\n",
        "    fixing_state_names.append(row.split(\",\")[0:2])\n",
        "  else:\n",
        "    fixing_state_names.append(row)"
      ],
      "execution_count": 203,
      "outputs": []
    },
    {
      "cell_type": "code",
      "metadata": {
        "id": "ynur6pL0Y0os",
        "colab_type": "code",
        "colab": {}
      },
      "source": [
        "# Converting city_names into a pandas dataframe\n",
        "\n",
        "city_names = pd.DataFrame({\"city\":fixing_state_names})"
      ],
      "execution_count": 204,
      "outputs": []
    },
    {
      "cell_type": "code",
      "metadata": {
        "id": "w6y0YttVZ6uP",
        "colab_type": "code",
        "colab": {}
      },
      "source": [
        "# Creating new \"City\" and \"State\" columns from city data formatted as {City}, {State}\n",
        "\n",
        "city_names[[\"City\", \"State\"]] = city_names[\"city\"].str.split(\", \", expand=True)"
      ],
      "execution_count": 206,
      "outputs": []
    },
    {
      "cell_type": "code",
      "metadata": {
        "id": "WqenvdH5cpnT",
        "colab_type": "code",
        "colab": {}
      },
      "source": [
        "# Dropping combined city/state column\n",
        "\n",
        "city_names = city_names.filter([\"City\", \"State\"])"
      ],
      "execution_count": 208,
      "outputs": []
    },
    {
      "cell_type": "code",
      "metadata": {
        "id": "VgMqGSQmg7kF",
        "colab_type": "code",
        "colab": {}
      },
      "source": [
        "# Converting cities for a master list of cities\n",
        "\n",
        "city_names.to_csv(\"jobs_cities_master_list.csv\")"
      ],
      "execution_count": 211,
      "outputs": []
    },
    {
      "cell_type": "code",
      "metadata": {
        "id": "31JcKfNRiFdr",
        "colab_type": "code",
        "colab": {}
      },
      "source": [
        ""
      ],
      "execution_count": null,
      "outputs": []
    }
  ]
}