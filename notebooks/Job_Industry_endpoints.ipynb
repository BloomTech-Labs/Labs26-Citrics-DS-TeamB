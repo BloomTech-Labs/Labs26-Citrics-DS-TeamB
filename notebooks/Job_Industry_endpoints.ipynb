{
  "nbformat": 4,
  "nbformat_minor": 0,
  "metadata": {
    "colab": {
      "name": "Job Industry endpoints.ipynb",
      "provenance": []
    },
    "kernelspec": {
      "name": "python3",
      "display_name": "Python 3"
    }
  },
  "cells": [
    {
      "cell_type": "code",
      "metadata": {
        "id": "jUU3JxTQfhOR"
      },
      "source": [
        "import numpy as np\n",
        "import pandas as pd\n",
        "import plotly.graph_objects as go"
      ],
      "execution_count": null,
      "outputs": []
    },
    {
      "cell_type": "markdown",
      "metadata": {
        "id": "Sg3QtKvCZyVF"
      },
      "source": [
        "To see where the following data came from click [here](https://colab.research.google.com/drive/1C4WURTmu_I_GPq8rhbnO6a-Wti6oxNV7?usp=sharing)"
      ]
    },
    {
      "cell_type": "code",
      "metadata": {
        "id": "T5R6_ughf080",
        "outputId": "609e56e3-6194-4966-c404-81f187e45783",
        "colab": {
          "base_uri": "https://localhost:8080/",
          "height": 501
        }
      },
      "source": [
        "df = pd.read_csv('job_industry_data.csv')\n",
        "print(df.shape)\n",
        "df.head()"
      ],
      "execution_count": null,
      "outputs": [
        {
          "output_type": "stream",
          "text": [
            "(62282, 20)\n"
          ],
          "name": "stdout"
        },
        {
          "output_type": "execute_result",
          "data": {
            "text/html": [
              "<div>\n",
              "<style scoped>\n",
              "    .dataframe tbody tr th:only-of-type {\n",
              "        vertical-align: middle;\n",
              "    }\n",
              "\n",
              "    .dataframe tbody tr th {\n",
              "        vertical-align: top;\n",
              "    }\n",
              "\n",
              "    .dataframe thead th {\n",
              "        text-align: right;\n",
              "    }\n",
              "</style>\n",
              "<table border=\"1\" class=\"dataframe\">\n",
              "  <thead>\n",
              "    <tr style=\"text-align: right;\">\n",
              "      <th></th>\n",
              "      <th>Unnamed: 0</th>\n",
              "      <th>city_id</th>\n",
              "      <th>city</th>\n",
              "      <th>state</th>\n",
              "      <th>city_state</th>\n",
              "      <th>Job Sector</th>\n",
              "      <th>Total Employed</th>\n",
              "      <th>Jobs per 1000</th>\n",
              "      <th>Job Dilution</th>\n",
              "      <th>Hourly Wage Mean</th>\n",
              "      <th>Annual Wage Mean</th>\n",
              "      <th>Hourly Wage (25th Percentile)</th>\n",
              "      <th>Hourly Wage (Median)</th>\n",
              "      <th>Hourly Wage (75th Percentile)</th>\n",
              "      <th>Hourly Wage (90th Percentile)</th>\n",
              "      <th>Annual Wage (25th Percentile)</th>\n",
              "      <th>Annual Wage (Median)</th>\n",
              "      <th>Annual Wage (75th Percentile)</th>\n",
              "      <th>Annual Wage (90th Percentile)</th>\n",
              "      <th>Job Sector Percentage</th>\n",
              "    </tr>\n",
              "  </thead>\n",
              "  <tbody>\n",
              "    <tr>\n",
              "      <th>0</th>\n",
              "      <td>0</td>\n",
              "      <td>0</td>\n",
              "      <td>Anchorage</td>\n",
              "      <td>AK</td>\n",
              "      <td>Anchorage, AK</td>\n",
              "      <td>Management Occupations</td>\n",
              "      <td>11830.0</td>\n",
              "      <td>67.816</td>\n",
              "      <td>1.24</td>\n",
              "      <td>53.69</td>\n",
              "      <td>111680.0</td>\n",
              "      <td>35.17</td>\n",
              "      <td>48.07</td>\n",
              "      <td>63.20</td>\n",
              "      <td>87.82</td>\n",
              "      <td>73150.0</td>\n",
              "      <td>99970.0</td>\n",
              "      <td>131450.0</td>\n",
              "      <td>182670.0</td>\n",
              "      <td>6.7816</td>\n",
              "    </tr>\n",
              "    <tr>\n",
              "      <th>1</th>\n",
              "      <td>1</td>\n",
              "      <td>0</td>\n",
              "      <td>Anchorage</td>\n",
              "      <td>AK</td>\n",
              "      <td>Anchorage, AK</td>\n",
              "      <td>Business and Financial Operations Occupations</td>\n",
              "      <td>7920.0</td>\n",
              "      <td>45.376</td>\n",
              "      <td>0.81</td>\n",
              "      <td>35.98</td>\n",
              "      <td>74840.0</td>\n",
              "      <td>25.79</td>\n",
              "      <td>34.26</td>\n",
              "      <td>44.87</td>\n",
              "      <td>55.86</td>\n",
              "      <td>53650.0</td>\n",
              "      <td>71270.0</td>\n",
              "      <td>93320.0</td>\n",
              "      <td>116180.0</td>\n",
              "      <td>4.5376</td>\n",
              "    </tr>\n",
              "    <tr>\n",
              "      <th>2</th>\n",
              "      <td>2</td>\n",
              "      <td>0</td>\n",
              "      <td>Anchorage</td>\n",
              "      <td>AK</td>\n",
              "      <td>Anchorage, AK</td>\n",
              "      <td>Computer and Mathematical Occupations</td>\n",
              "      <td>3280.0</td>\n",
              "      <td>18.769</td>\n",
              "      <td>0.61</td>\n",
              "      <td>39.30</td>\n",
              "      <td>81740.0</td>\n",
              "      <td>27.21</td>\n",
              "      <td>37.11</td>\n",
              "      <td>48.15</td>\n",
              "      <td>60.20</td>\n",
              "      <td>56600.0</td>\n",
              "      <td>77180.0</td>\n",
              "      <td>100140.0</td>\n",
              "      <td>125210.0</td>\n",
              "      <td>1.8769</td>\n",
              "    </tr>\n",
              "    <tr>\n",
              "      <th>3</th>\n",
              "      <td>3</td>\n",
              "      <td>0</td>\n",
              "      <td>Anchorage</td>\n",
              "      <td>AK</td>\n",
              "      <td>Anchorage, AK</td>\n",
              "      <td>Architecture and Engineering Occupations</td>\n",
              "      <td>4440.0</td>\n",
              "      <td>25.447</td>\n",
              "      <td>1.44</td>\n",
              "      <td>49.13</td>\n",
              "      <td>102180.0</td>\n",
              "      <td>35.33</td>\n",
              "      <td>46.06</td>\n",
              "      <td>59.47</td>\n",
              "      <td>75.06</td>\n",
              "      <td>73480.0</td>\n",
              "      <td>95790.0</td>\n",
              "      <td>123700.0</td>\n",
              "      <td>156110.0</td>\n",
              "      <td>2.5447</td>\n",
              "    </tr>\n",
              "    <tr>\n",
              "      <th>4</th>\n",
              "      <td>4</td>\n",
              "      <td>0</td>\n",
              "      <td>Anchorage</td>\n",
              "      <td>AK</td>\n",
              "      <td>Anchorage, AK</td>\n",
              "      <td>Life, Physical, and Social Science Occupations</td>\n",
              "      <td>2930.0</td>\n",
              "      <td>16.783</td>\n",
              "      <td>1.91</td>\n",
              "      <td>38.72</td>\n",
              "      <td>80540.0</td>\n",
              "      <td>27.87</td>\n",
              "      <td>36.41</td>\n",
              "      <td>47.04</td>\n",
              "      <td>58.97</td>\n",
              "      <td>57970.0</td>\n",
              "      <td>75720.0</td>\n",
              "      <td>97830.0</td>\n",
              "      <td>122660.0</td>\n",
              "      <td>1.6783</td>\n",
              "    </tr>\n",
              "  </tbody>\n",
              "</table>\n",
              "</div>"
            ],
            "text/plain": [
              "   Unnamed: 0  city_id  ... Annual Wage (90th Percentile) Job Sector Percentage\n",
              "0           0        0  ...                      182670.0                6.7816\n",
              "1           1        0  ...                      116180.0                4.5376\n",
              "2           2        0  ...                      125210.0                1.8769\n",
              "3           3        0  ...                      156110.0                2.5447\n",
              "4           4        0  ...                      122660.0                1.6783\n",
              "\n",
              "[5 rows x 20 columns]"
            ]
          },
          "metadata": {
            "tags": []
          },
          "execution_count": 2
        }
      ]
    },
    {
      "cell_type": "code",
      "metadata": {
        "id": "Gzo4nW9KgLgL"
      },
      "source": [
        "# This fucntion is used to generate a donut chart of \n",
        "# Top job industries of a city  \n",
        "\n",
        "def pie(df, city_id, n_industries):\n",
        "\n",
        "  df = df\n",
        "  df_city_top10 = df[ df[\"city_id\"] == city_id].sort_values(by=\"Job Sector Percentage\", ascending=False)[1:n_industries + 1]\n",
        "  df_city_other = df[ df[\"city_id\"] == city_id].sort_values(by=\"Job Sector Percentage\", ascending=False)[n_industries + 1:]\n",
        "\n",
        "\n",
        "  top_10_labels = df_city_top10[\"Job Sector\"]\n",
        "  top_10_values = df_city_top10[\"Job Sector Percentage\"]\n",
        "\n",
        "  df_top10_aggregate = pd.DataFrame({\"Job Sector\": top_10_labels,\n",
        "                                     \"Job Sector Percentage\": top_10_values})\n",
        "  \n",
        "  df_city_other = pd.DataFrame({\"Job Sector\": [\"Other\"],\n",
        "                                \"Job Sector Percentage\": [100 - sum(top_10_values)]})\n",
        "\n",
        "  df_combined = pd.concat([df_top10_aggregate, df_city_other])\n",
        "\n",
        "  fig = go.Figure(data=[go.Pie(labels=df_combined[\"Job Sector\"], values=df_combined[\"Job Sector Percentage\"], textinfo=\"label+percent\", hole=.3)])\n",
        "  fig.update_layout(margin=dict(l=20, r=20, t=20, b=20))\n",
        "\n",
        "  return fig.show()"
      ],
      "execution_count": null,
      "outputs": []
    },
    {
      "cell_type": "code",
      "metadata": {
        "id": "SWGANchMgRsQ",
        "outputId": "b040edc2-ecc2-403b-d18b-a67476cd266a",
        "colab": {
          "base_uri": "https://localhost:8080/",
          "height": 542
        }
      },
      "source": [
        "pie(df, 1, 10)"
      ],
      "execution_count": null,
      "outputs": [
        {
          "output_type": "display_data",
          "data": {
            "text/html": [
              "<html>\n",
              "<head><meta charset=\"utf-8\" /></head>\n",
              "<body>\n",
              "    <div>\n",
              "            <script src=\"https://cdnjs.cloudflare.com/ajax/libs/mathjax/2.7.5/MathJax.js?config=TeX-AMS-MML_SVG\"></script><script type=\"text/javascript\">if (window.MathJax) {MathJax.Hub.Config({SVG: {font: \"STIX-Web\"}});}</script>\n",
              "                <script type=\"text/javascript\">window.PlotlyConfig = {MathJaxConfig: 'local'};</script>\n",
              "        <script src=\"https://cdn.plot.ly/plotly-latest.min.js\"></script>    \n",
              "            <div id=\"c0309f6f-19d8-4032-b9a3-f7842ea0847a\" class=\"plotly-graph-div\" style=\"height:525px; width:100%;\"></div>\n",
              "            <script type=\"text/javascript\">\n",
              "                \n",
              "                    window.PLOTLYENV=window.PLOTLYENV || {};\n",
              "                    \n",
              "                if (document.getElementById(\"c0309f6f-19d8-4032-b9a3-f7842ea0847a\")) {\n",
              "                    Plotly.newPlot(\n",
              "                        'c0309f6f-19d8-4032-b9a3-f7842ea0847a',\n",
              "                        [{\"hole\": 0.3, \"labels\": [\"Office and Administrative Support Occupations\", \"Sales and Related Occupations\", \"Food Preparation and Serving Related Occupations\", \"Transportation and Material Moving Occupations\", \"Business and Financial Operations Occupations\", \"Management Occupations\", \"Healthcare Practitioners and Technical Occupations\", \"Construction and Extraction Occupations\", \"Educational Instruction and Library Occupations\", \"Healthcare Support Occupations\", \"Other\"], \"textinfo\": \"label+percent\", \"type\": \"pie\", \"values\": [15.5324, 10.206, 8.898, 8.3149, 6.443300000000002, 6.0918, 5.7008, 4.8309, 4.7168, 4.3202, 24.94489999999999]}],\n",
              "                        {\"margin\": {\"b\": 20, \"l\": 20, \"r\": 20, \"t\": 20}, \"template\": {\"data\": {\"bar\": [{\"error_x\": {\"color\": \"#2a3f5f\"}, \"error_y\": {\"color\": \"#2a3f5f\"}, \"marker\": {\"line\": {\"color\": \"#E5ECF6\", \"width\": 0.5}}, \"type\": \"bar\"}], \"barpolar\": [{\"marker\": {\"line\": {\"color\": \"#E5ECF6\", \"width\": 0.5}}, \"type\": \"barpolar\"}], \"carpet\": [{\"aaxis\": {\"endlinecolor\": \"#2a3f5f\", \"gridcolor\": \"white\", \"linecolor\": \"white\", \"minorgridcolor\": \"white\", \"startlinecolor\": \"#2a3f5f\"}, \"baxis\": {\"endlinecolor\": \"#2a3f5f\", \"gridcolor\": \"white\", \"linecolor\": \"white\", \"minorgridcolor\": \"white\", \"startlinecolor\": \"#2a3f5f\"}, \"type\": \"carpet\"}], \"choropleth\": [{\"colorbar\": {\"outlinewidth\": 0, \"ticks\": \"\"}, \"type\": \"choropleth\"}], \"contour\": [{\"colorbar\": {\"outlinewidth\": 0, \"ticks\": \"\"}, \"colorscale\": [[0.0, \"#0d0887\"], [0.1111111111111111, \"#46039f\"], [0.2222222222222222, \"#7201a8\"], [0.3333333333333333, \"#9c179e\"], [0.4444444444444444, \"#bd3786\"], [0.5555555555555556, \"#d8576b\"], [0.6666666666666666, \"#ed7953\"], [0.7777777777777778, \"#fb9f3a\"], [0.8888888888888888, \"#fdca26\"], [1.0, \"#f0f921\"]], \"type\": \"contour\"}], \"contourcarpet\": [{\"colorbar\": {\"outlinewidth\": 0, \"ticks\": \"\"}, \"type\": \"contourcarpet\"}], \"heatmap\": [{\"colorbar\": {\"outlinewidth\": 0, \"ticks\": \"\"}, \"colorscale\": [[0.0, \"#0d0887\"], [0.1111111111111111, \"#46039f\"], [0.2222222222222222, \"#7201a8\"], [0.3333333333333333, \"#9c179e\"], [0.4444444444444444, \"#bd3786\"], [0.5555555555555556, \"#d8576b\"], [0.6666666666666666, \"#ed7953\"], [0.7777777777777778, \"#fb9f3a\"], [0.8888888888888888, \"#fdca26\"], [1.0, \"#f0f921\"]], \"type\": \"heatmap\"}], \"heatmapgl\": [{\"colorbar\": {\"outlinewidth\": 0, \"ticks\": \"\"}, \"colorscale\": [[0.0, \"#0d0887\"], [0.1111111111111111, \"#46039f\"], [0.2222222222222222, \"#7201a8\"], [0.3333333333333333, \"#9c179e\"], [0.4444444444444444, \"#bd3786\"], [0.5555555555555556, \"#d8576b\"], [0.6666666666666666, \"#ed7953\"], [0.7777777777777778, \"#fb9f3a\"], [0.8888888888888888, \"#fdca26\"], [1.0, \"#f0f921\"]], \"type\": \"heatmapgl\"}], \"histogram\": [{\"marker\": {\"colorbar\": {\"outlinewidth\": 0, \"ticks\": \"\"}}, \"type\": \"histogram\"}], \"histogram2d\": [{\"colorbar\": {\"outlinewidth\": 0, \"ticks\": \"\"}, \"colorscale\": [[0.0, \"#0d0887\"], [0.1111111111111111, \"#46039f\"], [0.2222222222222222, \"#7201a8\"], [0.3333333333333333, \"#9c179e\"], [0.4444444444444444, \"#bd3786\"], [0.5555555555555556, \"#d8576b\"], [0.6666666666666666, \"#ed7953\"], [0.7777777777777778, \"#fb9f3a\"], [0.8888888888888888, \"#fdca26\"], [1.0, \"#f0f921\"]], \"type\": \"histogram2d\"}], \"histogram2dcontour\": [{\"colorbar\": {\"outlinewidth\": 0, \"ticks\": \"\"}, \"colorscale\": [[0.0, \"#0d0887\"], [0.1111111111111111, \"#46039f\"], [0.2222222222222222, \"#7201a8\"], [0.3333333333333333, \"#9c179e\"], [0.4444444444444444, \"#bd3786\"], [0.5555555555555556, \"#d8576b\"], [0.6666666666666666, \"#ed7953\"], [0.7777777777777778, \"#fb9f3a\"], [0.8888888888888888, \"#fdca26\"], [1.0, \"#f0f921\"]], \"type\": \"histogram2dcontour\"}], \"mesh3d\": [{\"colorbar\": {\"outlinewidth\": 0, \"ticks\": \"\"}, \"type\": \"mesh3d\"}], \"parcoords\": [{\"line\": {\"colorbar\": {\"outlinewidth\": 0, \"ticks\": \"\"}}, \"type\": \"parcoords\"}], \"pie\": [{\"automargin\": true, \"type\": \"pie\"}], \"scatter\": [{\"marker\": {\"colorbar\": {\"outlinewidth\": 0, \"ticks\": \"\"}}, \"type\": \"scatter\"}], \"scatter3d\": [{\"line\": {\"colorbar\": {\"outlinewidth\": 0, \"ticks\": \"\"}}, \"marker\": {\"colorbar\": {\"outlinewidth\": 0, \"ticks\": \"\"}}, \"type\": \"scatter3d\"}], \"scattercarpet\": [{\"marker\": {\"colorbar\": {\"outlinewidth\": 0, \"ticks\": \"\"}}, \"type\": \"scattercarpet\"}], \"scattergeo\": [{\"marker\": {\"colorbar\": {\"outlinewidth\": 0, \"ticks\": \"\"}}, \"type\": \"scattergeo\"}], \"scattergl\": [{\"marker\": {\"colorbar\": {\"outlinewidth\": 0, \"ticks\": \"\"}}, \"type\": \"scattergl\"}], \"scattermapbox\": [{\"marker\": {\"colorbar\": {\"outlinewidth\": 0, \"ticks\": \"\"}}, \"type\": \"scattermapbox\"}], \"scatterpolar\": [{\"marker\": {\"colorbar\": {\"outlinewidth\": 0, \"ticks\": \"\"}}, \"type\": \"scatterpolar\"}], \"scatterpolargl\": [{\"marker\": {\"colorbar\": {\"outlinewidth\": 0, \"ticks\": \"\"}}, \"type\": \"scatterpolargl\"}], \"scatterternary\": [{\"marker\": {\"colorbar\": {\"outlinewidth\": 0, \"ticks\": \"\"}}, \"type\": \"scatterternary\"}], \"surface\": [{\"colorbar\": {\"outlinewidth\": 0, \"ticks\": \"\"}, \"colorscale\": [[0.0, \"#0d0887\"], [0.1111111111111111, \"#46039f\"], [0.2222222222222222, \"#7201a8\"], [0.3333333333333333, \"#9c179e\"], [0.4444444444444444, \"#bd3786\"], [0.5555555555555556, \"#d8576b\"], [0.6666666666666666, \"#ed7953\"], [0.7777777777777778, \"#fb9f3a\"], [0.8888888888888888, \"#fdca26\"], [1.0, \"#f0f921\"]], \"type\": \"surface\"}], \"table\": [{\"cells\": {\"fill\": {\"color\": \"#EBF0F8\"}, \"line\": {\"color\": \"white\"}}, \"header\": {\"fill\": {\"color\": \"#C8D4E3\"}, \"line\": {\"color\": \"white\"}}, \"type\": \"table\"}]}, \"layout\": {\"annotationdefaults\": {\"arrowcolor\": \"#2a3f5f\", \"arrowhead\": 0, \"arrowwidth\": 1}, \"coloraxis\": {\"colorbar\": {\"outlinewidth\": 0, \"ticks\": \"\"}}, \"colorscale\": {\"diverging\": [[0, \"#8e0152\"], [0.1, \"#c51b7d\"], [0.2, \"#de77ae\"], [0.3, \"#f1b6da\"], [0.4, \"#fde0ef\"], [0.5, \"#f7f7f7\"], [0.6, \"#e6f5d0\"], [0.7, \"#b8e186\"], [0.8, \"#7fbc41\"], [0.9, \"#4d9221\"], [1, \"#276419\"]], \"sequential\": [[0.0, \"#0d0887\"], [0.1111111111111111, \"#46039f\"], [0.2222222222222222, \"#7201a8\"], [0.3333333333333333, \"#9c179e\"], [0.4444444444444444, \"#bd3786\"], [0.5555555555555556, \"#d8576b\"], [0.6666666666666666, \"#ed7953\"], [0.7777777777777778, \"#fb9f3a\"], [0.8888888888888888, \"#fdca26\"], [1.0, \"#f0f921\"]], \"sequentialminus\": [[0.0, \"#0d0887\"], [0.1111111111111111, \"#46039f\"], [0.2222222222222222, \"#7201a8\"], [0.3333333333333333, \"#9c179e\"], [0.4444444444444444, \"#bd3786\"], [0.5555555555555556, \"#d8576b\"], [0.6666666666666666, \"#ed7953\"], [0.7777777777777778, \"#fb9f3a\"], [0.8888888888888888, \"#fdca26\"], [1.0, \"#f0f921\"]]}, \"colorway\": [\"#636efa\", \"#EF553B\", \"#00cc96\", \"#ab63fa\", \"#FFA15A\", \"#19d3f3\", \"#FF6692\", \"#B6E880\", \"#FF97FF\", \"#FECB52\"], \"font\": {\"color\": \"#2a3f5f\"}, \"geo\": {\"bgcolor\": \"white\", \"lakecolor\": \"white\", \"landcolor\": \"#E5ECF6\", \"showlakes\": true, \"showland\": true, \"subunitcolor\": \"white\"}, \"hoverlabel\": {\"align\": \"left\"}, \"hovermode\": \"closest\", \"mapbox\": {\"style\": \"light\"}, \"paper_bgcolor\": \"white\", \"plot_bgcolor\": \"#E5ECF6\", \"polar\": {\"angularaxis\": {\"gridcolor\": \"white\", \"linecolor\": \"white\", \"ticks\": \"\"}, \"bgcolor\": \"#E5ECF6\", \"radialaxis\": {\"gridcolor\": \"white\", \"linecolor\": \"white\", \"ticks\": \"\"}}, \"scene\": {\"xaxis\": {\"backgroundcolor\": \"#E5ECF6\", \"gridcolor\": \"white\", \"gridwidth\": 2, \"linecolor\": \"white\", \"showbackground\": true, \"ticks\": \"\", \"zerolinecolor\": \"white\"}, \"yaxis\": {\"backgroundcolor\": \"#E5ECF6\", \"gridcolor\": \"white\", \"gridwidth\": 2, \"linecolor\": \"white\", \"showbackground\": true, \"ticks\": \"\", \"zerolinecolor\": \"white\"}, \"zaxis\": {\"backgroundcolor\": \"#E5ECF6\", \"gridcolor\": \"white\", \"gridwidth\": 2, \"linecolor\": \"white\", \"showbackground\": true, \"ticks\": \"\", \"zerolinecolor\": \"white\"}}, \"shapedefaults\": {\"line\": {\"color\": \"#2a3f5f\"}}, \"ternary\": {\"aaxis\": {\"gridcolor\": \"white\", \"linecolor\": \"white\", \"ticks\": \"\"}, \"baxis\": {\"gridcolor\": \"white\", \"linecolor\": \"white\", \"ticks\": \"\"}, \"bgcolor\": \"#E5ECF6\", \"caxis\": {\"gridcolor\": \"white\", \"linecolor\": \"white\", \"ticks\": \"\"}}, \"title\": {\"x\": 0.05}, \"xaxis\": {\"automargin\": true, \"gridcolor\": \"white\", \"linecolor\": \"white\", \"ticks\": \"\", \"title\": {\"standoff\": 15}, \"zerolinecolor\": \"white\", \"zerolinewidth\": 2}, \"yaxis\": {\"automargin\": true, \"gridcolor\": \"white\", \"linecolor\": \"white\", \"ticks\": \"\", \"title\": {\"standoff\": 15}, \"zerolinecolor\": \"white\", \"zerolinewidth\": 2}}}},\n",
              "                        {\"responsive\": true}\n",
              "                    ).then(function(){\n",
              "                            \n",
              "var gd = document.getElementById('c0309f6f-19d8-4032-b9a3-f7842ea0847a');\n",
              "var x = new MutationObserver(function (mutations, observer) {{\n",
              "        var display = window.getComputedStyle(gd).display;\n",
              "        if (!display || display === 'none') {{\n",
              "            console.log([gd, 'removed!']);\n",
              "            Plotly.purge(gd);\n",
              "            observer.disconnect();\n",
              "        }}\n",
              "}});\n",
              "\n",
              "// Listen for the removal of the full notebook cells\n",
              "var notebookContainer = gd.closest('#notebook-container');\n",
              "if (notebookContainer) {{\n",
              "    x.observe(notebookContainer, {childList: true});\n",
              "}}\n",
              "\n",
              "// Listen for the clearing of the current output cell\n",
              "var outputEl = gd.closest('.output');\n",
              "if (outputEl) {{\n",
              "    x.observe(outputEl, {childList: true});\n",
              "}}\n",
              "\n",
              "                        })\n",
              "                };\n",
              "                \n",
              "            </script>\n",
              "        </div>\n",
              "</body>\n",
              "</html>"
            ]
          },
          "metadata": {
            "tags": []
          }
        }
      ]
    },
    {
      "cell_type": "code",
      "metadata": {
        "id": "EmLUvrfmzZIx"
      },
      "source": [
        "# This function is used to get a list of \n",
        "# top job industries of a city\n",
        "\n",
        "def top_jobs(df, city_id, n_industries):\n",
        "\n",
        "  df = df\n",
        "  df_city_top10 = df[ df[\"city_id\"] == city_id].sort_values(by=\"Job Sector Percentage\", ascending=False)[1:n_industries + 1]\n",
        "  df_city_other = df[ df[\"city_id\"] == city_id].sort_values(by=\"Job Sector Percentage\", ascending=False)[n_industries + 1:]\n",
        "\n",
        "\n",
        "  top_10_labels = df_city_top10[\"Job Sector\"]\n",
        "  top_10_values = df_city_top10[\"Job Sector Percentage\"]\n",
        "\n",
        "  df_top10_aggregate = pd.DataFrame({\"Job Sector\": top_10_labels,\n",
        "                                     \"Job Sector Percentage\": top_10_values})\n",
        "  \n",
        "  df_city_other = pd.DataFrame({\"Job Sector\": [\"Other\"],\n",
        "                                \"Job Sector Percentage\": [100 - sum(top_10_values)]})\n",
        "\n",
        "  df_combined = pd.concat([df_top10_aggregate, df_city_other])\n",
        "  t = df_combined[\"all\"] = df_combined[\"Job Sector\"].astype(str)\n",
        "\n",
        "  return t"
      ],
      "execution_count": null,
      "outputs": []
    },
    {
      "cell_type": "code",
      "metadata": {
        "id": "S9Bsksuvg2vo"
      },
      "source": [
        "# This function is used to get a list of the\n",
        "# percentage of each top job industries of a city\n",
        "\n",
        "def percentage(df, city_id, n_industries):\n",
        "\n",
        "  df = df\n",
        "  df_city_top10 = df[ df[\"city_id\"] == city_id].sort_values(by=\"Job Sector Percentage\", ascending=False)[1:n_industries + 1]\n",
        "  df_city_other = df[ df[\"city_id\"] == city_id].sort_values(by=\"Job Sector Percentage\", ascending=False)[n_industries + 1:]\n",
        "\n",
        "\n",
        "  top_10_labels = df_city_top10[\"Job Sector\"]\n",
        "  top_10_values = df_city_top10[\"Job Sector Percentage\"]\n",
        "\n",
        "  df_top10_aggregate = pd.DataFrame({\"Job Sector\": top_10_labels,\n",
        "                                     \"Job Sector Percentage\": top_10_values})\n",
        "  \n",
        "  df_city_other = pd.DataFrame({\"Job Sector\": [\"Other\"],\n",
        "                                \"Job Sector Percentage\": [100 - sum(top_10_values)]})\n",
        "\n",
        "  df_combined = pd.concat([df_top10_aggregate, df_city_other])\n",
        "  p = df_combined[\"all\"] = (df_combined[\"Job Sector Percentage\"].round(2)).astype(str) + \"%\"\n",
        "\n",
        "  return p"
      ],
      "execution_count": null,
      "outputs": []
    },
    {
      "cell_type": "code",
      "metadata": {
        "id": "g5h_9-OPz6QT",
        "outputId": "2b2b4609-9a92-4367-8339-cf5b3a2009ee",
        "colab": {
          "base_uri": "https://localhost:8080/",
          "height": 35
        }
      },
      "source": [
        "top_jobs(df, 0, 10).iloc[4]\n"
      ],
      "execution_count": null,
      "outputs": [
        {
          "output_type": "execute_result",
          "data": {
            "application/vnd.google.colaboratory.intrinsic+json": {
              "type": "string"
            },
            "text/plain": [
              "'Management Occupations'"
            ]
          },
          "metadata": {
            "tags": []
          },
          "execution_count": 7
        }
      ]
    },
    {
      "cell_type": "code",
      "metadata": {
        "id": "393_X4yuicBF",
        "outputId": "ae67b1db-9628-44fd-93d3-be83eface9c3",
        "colab": {
          "base_uri": "https://localhost:8080/",
          "height": 35
        }
      },
      "source": [
        "percentage(df, 0, 10).iloc[4]"
      ],
      "execution_count": null,
      "outputs": [
        {
          "output_type": "execute_result",
          "data": {
            "application/vnd.google.colaboratory.intrinsic+json": {
              "type": "string"
            },
            "text/plain": [
              "'6.78%'"
            ]
          },
          "metadata": {
            "tags": []
          },
          "execution_count": 8
        }
      ]
    }
  ]
}