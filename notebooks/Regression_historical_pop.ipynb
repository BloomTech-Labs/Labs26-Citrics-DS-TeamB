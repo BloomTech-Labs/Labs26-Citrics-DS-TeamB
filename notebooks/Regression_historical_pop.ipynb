{
  "nbformat": 4,
  "nbformat_minor": 0,
  "metadata": {
    "colab": {
      "name": "Regression historical pop.ipynb",
      "provenance": []
    },
    "kernelspec": {
      "name": "python3",
      "display_name": "Python 3"
    }
  },
  "cells": [
    {
      "cell_type": "code",
      "metadata": {
        "id": "F8tRgFxworlF",
        "outputId": "5f2cb6d2-ca75-4cdb-c628-77cfac14b73e",
        "colab": {
          "base_uri": "https://localhost:8080/",
          "height": 419
        }
      },
      "source": [
        "import pandas as pd\n",
        "import numpy as np\n",
        "import plotly.express as px\n",
        "from fbprophet import Prophet\n",
        "\n",
        "# praying_df = pd.read_csv(r\"C:\\Users\\Z Dubs\\lambda\\labs_week1\\pop_data\\historical_pop_final.csv\", encoding='utf-8')\n",
        "df = pd.read_csv('historical_pop_data_final.csv', encoding='utf-8')\n",
        "df"
      ],
      "execution_count": 1,
      "outputs": [
        {
          "output_type": "execute_result",
          "data": {
            "text/html": [
              "<div>\n",
              "<style scoped>\n",
              "    .dataframe tbody tr th:only-of-type {\n",
              "        vertical-align: middle;\n",
              "    }\n",
              "\n",
              "    .dataframe tbody tr th {\n",
              "        vertical-align: top;\n",
              "    }\n",
              "\n",
              "    .dataframe thead th {\n",
              "        text-align: right;\n",
              "    }\n",
              "</style>\n",
              "<table border=\"1\" class=\"dataframe\">\n",
              "  <thead>\n",
              "    <tr style=\"text-align: right;\">\n",
              "      <th></th>\n",
              "      <th>city</th>\n",
              "      <th>state</th>\n",
              "      <th>city_state</th>\n",
              "      <th>year</th>\n",
              "      <th>total_pop</th>\n",
              "      <th>land_area</th>\n",
              "      <th>pop_density</th>\n",
              "      <th>male_pop</th>\n",
              "      <th>female_pop</th>\n",
              "      <th>age_under_20</th>\n",
              "      <th>age_20-29</th>\n",
              "      <th>age_30-39</th>\n",
              "      <th>age_40-49</th>\n",
              "      <th>age_50-59</th>\n",
              "      <th>age_above_60</th>\n",
              "    </tr>\n",
              "  </thead>\n",
              "  <tbody>\n",
              "    <tr>\n",
              "      <th>0</th>\n",
              "      <td>Anchorage</td>\n",
              "      <td>AK</td>\n",
              "      <td>Anchorage, AK</td>\n",
              "      <td>2010</td>\n",
              "      <td>293227</td>\n",
              "      <td>1706.6</td>\n",
              "      <td>171.819407</td>\n",
              "      <td>148566</td>\n",
              "      <td>144661</td>\n",
              "      <td>28.8</td>\n",
              "      <td>17.1</td>\n",
              "      <td>13.1</td>\n",
              "      <td>14.9</td>\n",
              "      <td>14.1</td>\n",
              "      <td>12.0</td>\n",
              "    </tr>\n",
              "    <tr>\n",
              "      <th>1</th>\n",
              "      <td>Anchorage</td>\n",
              "      <td>AK</td>\n",
              "      <td>Anchorage, AK</td>\n",
              "      <td>2011</td>\n",
              "      <td>295570</td>\n",
              "      <td>1706.6</td>\n",
              "      <td>173.192312</td>\n",
              "      <td>148299</td>\n",
              "      <td>147271</td>\n",
              "      <td>28.0</td>\n",
              "      <td>17.7</td>\n",
              "      <td>13.8</td>\n",
              "      <td>14.0</td>\n",
              "      <td>14.0</td>\n",
              "      <td>12.7</td>\n",
              "    </tr>\n",
              "    <tr>\n",
              "      <th>2</th>\n",
              "      <td>Anchorage</td>\n",
              "      <td>AK</td>\n",
              "      <td>Anchorage, AK</td>\n",
              "      <td>2012</td>\n",
              "      <td>298610</td>\n",
              "      <td>1706.6</td>\n",
              "      <td>174.973632</td>\n",
              "      <td>151752</td>\n",
              "      <td>146858</td>\n",
              "      <td>27.8</td>\n",
              "      <td>17.5</td>\n",
              "      <td>13.5</td>\n",
              "      <td>13.9</td>\n",
              "      <td>13.8</td>\n",
              "      <td>13.5</td>\n",
              "    </tr>\n",
              "    <tr>\n",
              "      <th>3</th>\n",
              "      <td>Anchorage</td>\n",
              "      <td>AK</td>\n",
              "      <td>Anchorage, AK</td>\n",
              "      <td>2013</td>\n",
              "      <td>300950</td>\n",
              "      <td>1706.6</td>\n",
              "      <td>176.344779</td>\n",
              "      <td>153776</td>\n",
              "      <td>147174</td>\n",
              "      <td>27.8</td>\n",
              "      <td>18.4</td>\n",
              "      <td>14.6</td>\n",
              "      <td>11.9</td>\n",
              "      <td>14.4</td>\n",
              "      <td>12.8</td>\n",
              "    </tr>\n",
              "    <tr>\n",
              "      <th>4</th>\n",
              "      <td>Anchorage</td>\n",
              "      <td>AK</td>\n",
              "      <td>Anchorage, AK</td>\n",
              "      <td>2014</td>\n",
              "      <td>301010</td>\n",
              "      <td>1706.6</td>\n",
              "      <td>176.379937</td>\n",
              "      <td>153176</td>\n",
              "      <td>147834</td>\n",
              "      <td>27.6</td>\n",
              "      <td>18.2</td>\n",
              "      <td>14.7</td>\n",
              "      <td>12.1</td>\n",
              "      <td>13.8</td>\n",
              "      <td>13.6</td>\n",
              "    </tr>\n",
              "    <tr>\n",
              "      <th>...</th>\n",
              "      <td>...</td>\n",
              "      <td>...</td>\n",
              "      <td>...</td>\n",
              "      <td>...</td>\n",
              "      <td>...</td>\n",
              "      <td>...</td>\n",
              "      <td>...</td>\n",
              "      <td>...</td>\n",
              "      <td>...</td>\n",
              "      <td>...</td>\n",
              "      <td>...</td>\n",
              "      <td>...</td>\n",
              "      <td>...</td>\n",
              "      <td>...</td>\n",
              "      <td>...</td>\n",
              "    </tr>\n",
              "    <tr>\n",
              "      <th>995</th>\n",
              "      <td>Milwaukee</td>\n",
              "      <td>WI</td>\n",
              "      <td>Milwaukee, WI</td>\n",
              "      <td>2015</td>\n",
              "      <td>600154</td>\n",
              "      <td>96.2</td>\n",
              "      <td>6238.607069</td>\n",
              "      <td>286315</td>\n",
              "      <td>313839</td>\n",
              "      <td>29.4</td>\n",
              "      <td>17.9</td>\n",
              "      <td>14.1</td>\n",
              "      <td>11.9</td>\n",
              "      <td>12.0</td>\n",
              "      <td>14.6</td>\n",
              "    </tr>\n",
              "    <tr>\n",
              "      <th>996</th>\n",
              "      <td>Milwaukee</td>\n",
              "      <td>WI</td>\n",
              "      <td>Milwaukee, WI</td>\n",
              "      <td>2016</td>\n",
              "      <td>595070</td>\n",
              "      <td>96.2</td>\n",
              "      <td>6185.758836</td>\n",
              "      <td>286000</td>\n",
              "      <td>309070</td>\n",
              "      <td>29.8</td>\n",
              "      <td>18.2</td>\n",
              "      <td>14.5</td>\n",
              "      <td>11.5</td>\n",
              "      <td>11.7</td>\n",
              "      <td>14.4</td>\n",
              "    </tr>\n",
              "    <tr>\n",
              "      <th>997</th>\n",
              "      <td>Milwaukee</td>\n",
              "      <td>WI</td>\n",
              "      <td>Milwaukee, WI</td>\n",
              "      <td>2017</td>\n",
              "      <td>595365</td>\n",
              "      <td>96.2</td>\n",
              "      <td>6188.825364</td>\n",
              "      <td>285279</td>\n",
              "      <td>310086</td>\n",
              "      <td>29.1</td>\n",
              "      <td>17.9</td>\n",
              "      <td>14.5</td>\n",
              "      <td>11.1</td>\n",
              "      <td>11.5</td>\n",
              "      <td>15.9</td>\n",
              "    </tr>\n",
              "    <tr>\n",
              "      <th>998</th>\n",
              "      <td>Milwaukee</td>\n",
              "      <td>WI</td>\n",
              "      <td>Milwaukee, WI</td>\n",
              "      <td>2018</td>\n",
              "      <td>592002</td>\n",
              "      <td>96.2</td>\n",
              "      <td>6153.866944</td>\n",
              "      <td>287293</td>\n",
              "      <td>304709</td>\n",
              "      <td>29.3</td>\n",
              "      <td>18.1</td>\n",
              "      <td>14.8</td>\n",
              "      <td>10.8</td>\n",
              "      <td>10.5</td>\n",
              "      <td>16.4</td>\n",
              "    </tr>\n",
              "    <tr>\n",
              "      <th>999</th>\n",
              "      <td>Milwaukee</td>\n",
              "      <td>WI</td>\n",
              "      <td>Milwaukee, WI</td>\n",
              "      <td>2019</td>\n",
              "      <td>590157</td>\n",
              "      <td>96.2</td>\n",
              "      <td>6134.688150</td>\n",
              "      <td>284873</td>\n",
              "      <td>305284</td>\n",
              "      <td>28.8</td>\n",
              "      <td>18.3</td>\n",
              "      <td>14.8</td>\n",
              "      <td>11.3</td>\n",
              "      <td>11.3</td>\n",
              "      <td>15.5</td>\n",
              "    </tr>\n",
              "  </tbody>\n",
              "</table>\n",
              "<p>1000 rows × 15 columns</p>\n",
              "</div>"
            ],
            "text/plain": [
              "          city state     city_state  ...  age_40-49  age_50-59  age_above_60\n",
              "0    Anchorage    AK  Anchorage, AK  ...       14.9       14.1          12.0\n",
              "1    Anchorage    AK  Anchorage, AK  ...       14.0       14.0          12.7\n",
              "2    Anchorage    AK  Anchorage, AK  ...       13.9       13.8          13.5\n",
              "3    Anchorage    AK  Anchorage, AK  ...       11.9       14.4          12.8\n",
              "4    Anchorage    AK  Anchorage, AK  ...       12.1       13.8          13.6\n",
              "..         ...   ...            ...  ...        ...        ...           ...\n",
              "995  Milwaukee    WI  Milwaukee, WI  ...       11.9       12.0          14.6\n",
              "996  Milwaukee    WI  Milwaukee, WI  ...       11.5       11.7          14.4\n",
              "997  Milwaukee    WI  Milwaukee, WI  ...       11.1       11.5          15.9\n",
              "998  Milwaukee    WI  Milwaukee, WI  ...       10.8       10.5          16.4\n",
              "999  Milwaukee    WI  Milwaukee, WI  ...       11.3       11.3          15.5\n",
              "\n",
              "[1000 rows x 15 columns]"
            ]
          },
          "metadata": {
            "tags": []
          },
          "execution_count": 1
        }
      ]
    },
    {
      "cell_type": "markdown",
      "metadata": {
        "id": "HYiBCE3fqJOE"
      },
      "source": [
        "\n",
        "\n",
        "---\n",
        "\n",
        "Exploring the data\n",
        "\n",
        "---\n",
        "\n"
      ]
    },
    {
      "cell_type": "code",
      "metadata": {
        "id": "v-Ec7Nkzy0tK"
      },
      "source": [
        "city_state = 'San Jose, CA'"
      ],
      "execution_count": 2,
      "outputs": []
    },
    {
      "cell_type": "code",
      "metadata": {
        "id": "2Q2w4QvLynLt",
        "outputId": "961e8ded-0a61-4bde-a07b-14b93414d721",
        "colab": {
          "base_uri": "https://localhost:8080/",
          "height": 359
        }
      },
      "source": [
        "sample = df[(df.city_state == city_state)]\n",
        "sample"
      ],
      "execution_count": 3,
      "outputs": [
        {
          "output_type": "execute_result",
          "data": {
            "text/html": [
              "<div>\n",
              "<style scoped>\n",
              "    .dataframe tbody tr th:only-of-type {\n",
              "        vertical-align: middle;\n",
              "    }\n",
              "\n",
              "    .dataframe tbody tr th {\n",
              "        vertical-align: top;\n",
              "    }\n",
              "\n",
              "    .dataframe thead th {\n",
              "        text-align: right;\n",
              "    }\n",
              "</style>\n",
              "<table border=\"1\" class=\"dataframe\">\n",
              "  <thead>\n",
              "    <tr style=\"text-align: right;\">\n",
              "      <th></th>\n",
              "      <th>city</th>\n",
              "      <th>state</th>\n",
              "      <th>city_state</th>\n",
              "      <th>year</th>\n",
              "      <th>total_pop</th>\n",
              "      <th>land_area</th>\n",
              "      <th>pop_density</th>\n",
              "      <th>male_pop</th>\n",
              "      <th>female_pop</th>\n",
              "      <th>age_under_20</th>\n",
              "      <th>age_20-29</th>\n",
              "      <th>age_30-39</th>\n",
              "      <th>age_40-49</th>\n",
              "      <th>age_50-59</th>\n",
              "      <th>age_above_60</th>\n",
              "    </tr>\n",
              "  </thead>\n",
              "  <tbody>\n",
              "    <tr>\n",
              "      <th>170</th>\n",
              "      <td>San Jose</td>\n",
              "      <td>CA</td>\n",
              "      <td>San Jose, CA</td>\n",
              "      <td>2010</td>\n",
              "      <td>949197</td>\n",
              "      <td>177.5</td>\n",
              "      <td>5347.588732</td>\n",
              "      <td>477347</td>\n",
              "      <td>471850</td>\n",
              "      <td>27.1</td>\n",
              "      <td>14.6</td>\n",
              "      <td>15.4</td>\n",
              "      <td>15.4</td>\n",
              "      <td>12.3</td>\n",
              "      <td>15.2</td>\n",
              "    </tr>\n",
              "    <tr>\n",
              "      <th>171</th>\n",
              "      <td>San Jose</td>\n",
              "      <td>CA</td>\n",
              "      <td>San Jose, CA</td>\n",
              "      <td>2011</td>\n",
              "      <td>967478</td>\n",
              "      <td>177.5</td>\n",
              "      <td>5450.580282</td>\n",
              "      <td>486623</td>\n",
              "      <td>480855</td>\n",
              "      <td>26.4</td>\n",
              "      <td>14.4</td>\n",
              "      <td>15.8</td>\n",
              "      <td>15.2</td>\n",
              "      <td>12.9</td>\n",
              "      <td>15.1</td>\n",
              "    </tr>\n",
              "    <tr>\n",
              "      <th>172</th>\n",
              "      <td>San Jose</td>\n",
              "      <td>CA</td>\n",
              "      <td>San Jose, CA</td>\n",
              "      <td>2012</td>\n",
              "      <td>982783</td>\n",
              "      <td>177.5</td>\n",
              "      <td>5536.805634</td>\n",
              "      <td>494487</td>\n",
              "      <td>488296</td>\n",
              "      <td>26.9</td>\n",
              "      <td>14.3</td>\n",
              "      <td>15.3</td>\n",
              "      <td>15.2</td>\n",
              "      <td>12.6</td>\n",
              "      <td>15.7</td>\n",
              "    </tr>\n",
              "    <tr>\n",
              "      <th>173</th>\n",
              "      <td>San Jose</td>\n",
              "      <td>CA</td>\n",
              "      <td>San Jose, CA</td>\n",
              "      <td>2013</td>\n",
              "      <td>998514</td>\n",
              "      <td>177.5</td>\n",
              "      <td>5625.430986</td>\n",
              "      <td>501691</td>\n",
              "      <td>496823</td>\n",
              "      <td>26.4</td>\n",
              "      <td>14.4</td>\n",
              "      <td>15.4</td>\n",
              "      <td>14.7</td>\n",
              "      <td>13.3</td>\n",
              "      <td>15.8</td>\n",
              "    </tr>\n",
              "    <tr>\n",
              "      <th>174</th>\n",
              "      <td>San Jose</td>\n",
              "      <td>CA</td>\n",
              "      <td>San Jose, CA</td>\n",
              "      <td>2014</td>\n",
              "      <td>1015796</td>\n",
              "      <td>177.5</td>\n",
              "      <td>5722.794366</td>\n",
              "      <td>507542</td>\n",
              "      <td>508254</td>\n",
              "      <td>25.5</td>\n",
              "      <td>14.7</td>\n",
              "      <td>15.0</td>\n",
              "      <td>14.7</td>\n",
              "      <td>13.3</td>\n",
              "      <td>16.7</td>\n",
              "    </tr>\n",
              "    <tr>\n",
              "      <th>175</th>\n",
              "      <td>San Jose</td>\n",
              "      <td>CA</td>\n",
              "      <td>San Jose, CA</td>\n",
              "      <td>2015</td>\n",
              "      <td>1026919</td>\n",
              "      <td>177.5</td>\n",
              "      <td>5785.459155</td>\n",
              "      <td>518317</td>\n",
              "      <td>508602</td>\n",
              "      <td>25.2</td>\n",
              "      <td>14.5</td>\n",
              "      <td>15.0</td>\n",
              "      <td>14.7</td>\n",
              "      <td>13.4</td>\n",
              "      <td>17.2</td>\n",
              "    </tr>\n",
              "    <tr>\n",
              "      <th>176</th>\n",
              "      <td>San Jose</td>\n",
              "      <td>CA</td>\n",
              "      <td>San Jose, CA</td>\n",
              "      <td>2016</td>\n",
              "      <td>1025373</td>\n",
              "      <td>177.5</td>\n",
              "      <td>5776.749296</td>\n",
              "      <td>520732</td>\n",
              "      <td>504641</td>\n",
              "      <td>25.2</td>\n",
              "      <td>14.8</td>\n",
              "      <td>15.0</td>\n",
              "      <td>14.7</td>\n",
              "      <td>13.1</td>\n",
              "      <td>17.1</td>\n",
              "    </tr>\n",
              "    <tr>\n",
              "      <th>177</th>\n",
              "      <td>San Jose</td>\n",
              "      <td>CA</td>\n",
              "      <td>San Jose, CA</td>\n",
              "      <td>2017</td>\n",
              "      <td>1035353</td>\n",
              "      <td>177.5</td>\n",
              "      <td>5832.974648</td>\n",
              "      <td>522618</td>\n",
              "      <td>512735</td>\n",
              "      <td>24.2</td>\n",
              "      <td>14.7</td>\n",
              "      <td>15.7</td>\n",
              "      <td>13.7</td>\n",
              "      <td>13.1</td>\n",
              "      <td>18.3</td>\n",
              "    </tr>\n",
              "    <tr>\n",
              "      <th>178</th>\n",
              "      <td>San Jose</td>\n",
              "      <td>CA</td>\n",
              "      <td>San Jose, CA</td>\n",
              "      <td>2018</td>\n",
              "      <td>1030119</td>\n",
              "      <td>177.5</td>\n",
              "      <td>5803.487324</td>\n",
              "      <td>515713</td>\n",
              "      <td>514406</td>\n",
              "      <td>24.2</td>\n",
              "      <td>14.3</td>\n",
              "      <td>16.0</td>\n",
              "      <td>14.0</td>\n",
              "      <td>12.9</td>\n",
              "      <td>18.6</td>\n",
              "    </tr>\n",
              "    <tr>\n",
              "      <th>179</th>\n",
              "      <td>San Jose</td>\n",
              "      <td>CA</td>\n",
              "      <td>San Jose, CA</td>\n",
              "      <td>2019</td>\n",
              "      <td>1021786</td>\n",
              "      <td>177.5</td>\n",
              "      <td>5756.540845</td>\n",
              "      <td>516559</td>\n",
              "      <td>505227</td>\n",
              "      <td>24.3</td>\n",
              "      <td>14.3</td>\n",
              "      <td>15.4</td>\n",
              "      <td>13.9</td>\n",
              "      <td>13.2</td>\n",
              "      <td>19.1</td>\n",
              "    </tr>\n",
              "  </tbody>\n",
              "</table>\n",
              "</div>"
            ],
            "text/plain": [
              "         city state    city_state  ...  age_40-49  age_50-59  age_above_60\n",
              "170  San Jose    CA  San Jose, CA  ...       15.4       12.3          15.2\n",
              "171  San Jose    CA  San Jose, CA  ...       15.2       12.9          15.1\n",
              "172  San Jose    CA  San Jose, CA  ...       15.2       12.6          15.7\n",
              "173  San Jose    CA  San Jose, CA  ...       14.7       13.3          15.8\n",
              "174  San Jose    CA  San Jose, CA  ...       14.7       13.3          16.7\n",
              "175  San Jose    CA  San Jose, CA  ...       14.7       13.4          17.2\n",
              "176  San Jose    CA  San Jose, CA  ...       14.7       13.1          17.1\n",
              "177  San Jose    CA  San Jose, CA  ...       13.7       13.1          18.3\n",
              "178  San Jose    CA  San Jose, CA  ...       14.0       12.9          18.6\n",
              "179  San Jose    CA  San Jose, CA  ...       13.9       13.2          19.1\n",
              "\n",
              "[10 rows x 15 columns]"
            ]
          },
          "metadata": {
            "tags": []
          },
          "execution_count": 3
        }
      ]
    },
    {
      "cell_type": "code",
      "metadata": {
        "id": "vxsDFAQzp7o9",
        "outputId": "843975c4-d68d-4ad4-ffe0-22f7024f2871",
        "colab": {
          "base_uri": "https://localhost:8080/",
          "height": 290
        }
      },
      "source": [
        "import seaborn as sns\n",
        "import matplotlib.pyplot as plt\n",
        "%matplotlib inline\n",
        "# Visualize the target\n",
        "sns.lineplot(data=sample, x=\"year\", y='total_pop')\n",
        "plt.show()"
      ],
      "execution_count": null,
      "outputs": [
        {
          "output_type": "display_data",
          "data": {
            "image/png": "[encoded data removed]",
            "text/plain": [
              "<Figure size 432x288 with 1 Axes>"
            ]
          },
          "metadata": {
            "tags": [],
            "needs_background": "light"
          }
        }
      ]
    },
    {
      "cell_type": "code",
      "metadata": {
        "id": "p2wgokBLqrsA",
        "outputId": "9e13f574-42ce-4dbd-bf4a-76108acb8072",
        "colab": {
          "base_uri": "https://localhost:8080/",
          "height": 1000
        }
      },
      "source": [
        "# Visualize comparison of target to features\n",
        "sns.pairplot(sample)\n",
        "plt.show()"
      ],
      "execution_count": null,
      "outputs": [
        {
          "output_type": "display_data",
          "data": {
            "image/png": "[encoded data removed]",
            "text/plain": [
              "<Figure size 2160x2160 with 156 Axes>"
            ]
          },
          "metadata": {
            "tags": [],
            "needs_background": "light"
          }
        }
      ]
    },
    {
      "cell_type": "code",
      "metadata": {
        "id": "hCxoxHPtFPfI",
        "outputId": "0f4c516f-11d8-4878-c321-7a16625a5c5c",
        "colab": {
          "base_uri": "https://localhost:8080/",
          "height": 631
        }
      },
      "source": [
        "from datetime import datetime\n",
        "\n",
        "# Converting game_date to datetime\n",
        "sample['year'] = pd.to_datetime(sample['year'], format='%Y')\n",
        "sample['year'] = sample['year'].dt.year\n",
        "\n",
        "# # Altering data to be used as constraints in train/test split\n",
        "# cutoff = pd.to_datetime('2018')\n",
        "\n",
        "# # Seperate train and test sets\n",
        "# train = sample[(sample['year'] <= cutoff)]\n",
        "# test  = sample[(sample['year'] > cutoff)]\n",
        "\n",
        "# train.shape, test.shape\n",
        "sample"
      ],
      "execution_count": null,
      "outputs": [
        {
          "output_type": "stream",
          "text": [
            "/usr/local/lib/python3.6/dist-packages/ipykernel_launcher.py:4: SettingWithCopyWarning:\n",
            "\n",
            "\n",
            "A value is trying to be set on a copy of a slice from a DataFrame.\n",
            "Try using .loc[row_indexer,col_indexer] = value instead\n",
            "\n",
            "See the caveats in the documentation: https://pandas.pydata.org/pandas-docs/stable/user_guide/indexing.html#returning-a-view-versus-a-copy\n",
            "\n",
            "/usr/local/lib/python3.6/dist-packages/ipykernel_launcher.py:5: SettingWithCopyWarning:\n",
            "\n",
            "\n",
            "A value is trying to be set on a copy of a slice from a DataFrame.\n",
            "Try using .loc[row_indexer,col_indexer] = value instead\n",
            "\n",
            "See the caveats in the documentation: https://pandas.pydata.org/pandas-docs/stable/user_guide/indexing.html#returning-a-view-versus-a-copy\n",
            "\n"
          ],
          "name": "stderr"
        },
        {
          "output_type": "execute_result",
          "data": {
            "text/html": [
              "<div>\n",
              "<style scoped>\n",
              "    .dataframe tbody tr th:only-of-type {\n",
              "        vertical-align: middle;\n",
              "    }\n",
              "\n",
              "    .dataframe tbody tr th {\n",
              "        vertical-align: top;\n",
              "    }\n",
              "\n",
              "    .dataframe thead th {\n",
              "        text-align: right;\n",
              "    }\n",
              "</style>\n",
              "<table border=\"1\" class=\"dataframe\">\n",
              "  <thead>\n",
              "    <tr style=\"text-align: right;\">\n",
              "      <th></th>\n",
              "      <th>city</th>\n",
              "      <th>state</th>\n",
              "      <th>city_state</th>\n",
              "      <th>year</th>\n",
              "      <th>total_pop</th>\n",
              "      <th>land_area</th>\n",
              "      <th>pop_density</th>\n",
              "      <th>male_pop</th>\n",
              "      <th>female_pop</th>\n",
              "      <th>age_under_20</th>\n",
              "      <th>age_20-29</th>\n",
              "      <th>age_30-39</th>\n",
              "      <th>age_40-49</th>\n",
              "      <th>age_50-59</th>\n",
              "      <th>age_above_60</th>\n",
              "    </tr>\n",
              "  </thead>\n",
              "  <tbody>\n",
              "    <tr>\n",
              "      <th>170</th>\n",
              "      <td>San Jose</td>\n",
              "      <td>CA</td>\n",
              "      <td>San Jose, CA</td>\n",
              "      <td>2010</td>\n",
              "      <td>949197</td>\n",
              "      <td>177.5</td>\n",
              "      <td>5347.588732</td>\n",
              "      <td>477347</td>\n",
              "      <td>471850</td>\n",
              "      <td>27.1</td>\n",
              "      <td>14.6</td>\n",
              "      <td>15.4</td>\n",
              "      <td>15.4</td>\n",
              "      <td>12.3</td>\n",
              "      <td>15.2</td>\n",
              "    </tr>\n",
              "    <tr>\n",
              "      <th>171</th>\n",
              "      <td>San Jose</td>\n",
              "      <td>CA</td>\n",
              "      <td>San Jose, CA</td>\n",
              "      <td>2011</td>\n",
              "      <td>967478</td>\n",
              "      <td>177.5</td>\n",
              "      <td>5450.580282</td>\n",
              "      <td>486623</td>\n",
              "      <td>480855</td>\n",
              "      <td>26.4</td>\n",
              "      <td>14.4</td>\n",
              "      <td>15.8</td>\n",
              "      <td>15.2</td>\n",
              "      <td>12.9</td>\n",
              "      <td>15.1</td>\n",
              "    </tr>\n",
              "    <tr>\n",
              "      <th>172</th>\n",
              "      <td>San Jose</td>\n",
              "      <td>CA</td>\n",
              "      <td>San Jose, CA</td>\n",
              "      <td>2012</td>\n",
              "      <td>982783</td>\n",
              "      <td>177.5</td>\n",
              "      <td>5536.805634</td>\n",
              "      <td>494487</td>\n",
              "      <td>488296</td>\n",
              "      <td>26.9</td>\n",
              "      <td>14.3</td>\n",
              "      <td>15.3</td>\n",
              "      <td>15.2</td>\n",
              "      <td>12.6</td>\n",
              "      <td>15.7</td>\n",
              "    </tr>\n",
              "    <tr>\n",
              "      <th>173</th>\n",
              "      <td>San Jose</td>\n",
              "      <td>CA</td>\n",
              "      <td>San Jose, CA</td>\n",
              "      <td>2013</td>\n",
              "      <td>998514</td>\n",
              "      <td>177.5</td>\n",
              "      <td>5625.430986</td>\n",
              "      <td>501691</td>\n",
              "      <td>496823</td>\n",
              "      <td>26.4</td>\n",
              "      <td>14.4</td>\n",
              "      <td>15.4</td>\n",
              "      <td>14.7</td>\n",
              "      <td>13.3</td>\n",
              "      <td>15.8</td>\n",
              "    </tr>\n",
              "    <tr>\n",
              "      <th>174</th>\n",
              "      <td>San Jose</td>\n",
              "      <td>CA</td>\n",
              "      <td>San Jose, CA</td>\n",
              "      <td>2014</td>\n",
              "      <td>1015796</td>\n",
              "      <td>177.5</td>\n",
              "      <td>5722.794366</td>\n",
              "      <td>507542</td>\n",
              "      <td>508254</td>\n",
              "      <td>25.5</td>\n",
              "      <td>14.7</td>\n",
              "      <td>15.0</td>\n",
              "      <td>14.7</td>\n",
              "      <td>13.3</td>\n",
              "      <td>16.7</td>\n",
              "    </tr>\n",
              "    <tr>\n",
              "      <th>175</th>\n",
              "      <td>San Jose</td>\n",
              "      <td>CA</td>\n",
              "      <td>San Jose, CA</td>\n",
              "      <td>2015</td>\n",
              "      <td>1026919</td>\n",
              "      <td>177.5</td>\n",
              "      <td>5785.459155</td>\n",
              "      <td>518317</td>\n",
              "      <td>508602</td>\n",
              "      <td>25.2</td>\n",
              "      <td>14.5</td>\n",
              "      <td>15.0</td>\n",
              "      <td>14.7</td>\n",
              "      <td>13.4</td>\n",
              "      <td>17.2</td>\n",
              "    </tr>\n",
              "    <tr>\n",
              "      <th>176</th>\n",
              "      <td>San Jose</td>\n",
              "      <td>CA</td>\n",
              "      <td>San Jose, CA</td>\n",
              "      <td>2016</td>\n",
              "      <td>1025373</td>\n",
              "      <td>177.5</td>\n",
              "      <td>5776.749296</td>\n",
              "      <td>520732</td>\n",
              "      <td>504641</td>\n",
              "      <td>25.2</td>\n",
              "      <td>14.8</td>\n",
              "      <td>15.0</td>\n",
              "      <td>14.7</td>\n",
              "      <td>13.1</td>\n",
              "      <td>17.1</td>\n",
              "    </tr>\n",
              "    <tr>\n",
              "      <th>177</th>\n",
              "      <td>San Jose</td>\n",
              "      <td>CA</td>\n",
              "      <td>San Jose, CA</td>\n",
              "      <td>2017</td>\n",
              "      <td>1035353</td>\n",
              "      <td>177.5</td>\n",
              "      <td>5832.974648</td>\n",
              "      <td>522618</td>\n",
              "      <td>512735</td>\n",
              "      <td>24.2</td>\n",
              "      <td>14.7</td>\n",
              "      <td>15.7</td>\n",
              "      <td>13.7</td>\n",
              "      <td>13.1</td>\n",
              "      <td>18.3</td>\n",
              "    </tr>\n",
              "    <tr>\n",
              "      <th>178</th>\n",
              "      <td>San Jose</td>\n",
              "      <td>CA</td>\n",
              "      <td>San Jose, CA</td>\n",
              "      <td>2018</td>\n",
              "      <td>1030119</td>\n",
              "      <td>177.5</td>\n",
              "      <td>5803.487324</td>\n",
              "      <td>515713</td>\n",
              "      <td>514406</td>\n",
              "      <td>24.2</td>\n",
              "      <td>14.3</td>\n",
              "      <td>16.0</td>\n",
              "      <td>14.0</td>\n",
              "      <td>12.9</td>\n",
              "      <td>18.6</td>\n",
              "    </tr>\n",
              "    <tr>\n",
              "      <th>179</th>\n",
              "      <td>San Jose</td>\n",
              "      <td>CA</td>\n",
              "      <td>San Jose, CA</td>\n",
              "      <td>2019</td>\n",
              "      <td>1021786</td>\n",
              "      <td>177.5</td>\n",
              "      <td>5756.540845</td>\n",
              "      <td>516559</td>\n",
              "      <td>505227</td>\n",
              "      <td>24.3</td>\n",
              "      <td>14.3</td>\n",
              "      <td>15.4</td>\n",
              "      <td>13.9</td>\n",
              "      <td>13.2</td>\n",
              "      <td>19.1</td>\n",
              "    </tr>\n",
              "  </tbody>\n",
              "</table>\n",
              "</div>"
            ],
            "text/plain": [
              "         city state    city_state  ...  age_40-49  age_50-59  age_above_60\n",
              "170  San Jose    CA  San Jose, CA  ...       15.4       12.3          15.2\n",
              "171  San Jose    CA  San Jose, CA  ...       15.2       12.9          15.1\n",
              "172  San Jose    CA  San Jose, CA  ...       15.2       12.6          15.7\n",
              "173  San Jose    CA  San Jose, CA  ...       14.7       13.3          15.8\n",
              "174  San Jose    CA  San Jose, CA  ...       14.7       13.3          16.7\n",
              "175  San Jose    CA  San Jose, CA  ...       14.7       13.4          17.2\n",
              "176  San Jose    CA  San Jose, CA  ...       14.7       13.1          17.1\n",
              "177  San Jose    CA  San Jose, CA  ...       13.7       13.1          18.3\n",
              "178  San Jose    CA  San Jose, CA  ...       14.0       12.9          18.6\n",
              "179  San Jose    CA  San Jose, CA  ...       13.9       13.2          19.1\n",
              "\n",
              "[10 rows x 15 columns]"
            ]
          },
          "metadata": {
            "tags": []
          },
          "execution_count": 5
        }
      ]
    },
    {
      "cell_type": "code",
      "metadata": {
        "id": "FJiFHJHYZRZi",
        "outputId": "a4a9c1da-228e-426c-ebd5-9a285d6e54f7",
        "colab": {
          "base_uri": "https://localhost:8080/",
          "height": 359
        }
      },
      "source": [
        "sample = sample[['year', 'total_pop']]\n",
        "sample"
      ],
      "execution_count": 4,
      "outputs": [
        {
          "output_type": "execute_result",
          "data": {
            "text/html": [
              "<div>\n",
              "<style scoped>\n",
              "    .dataframe tbody tr th:only-of-type {\n",
              "        vertical-align: middle;\n",
              "    }\n",
              "\n",
              "    .dataframe tbody tr th {\n",
              "        vertical-align: top;\n",
              "    }\n",
              "\n",
              "    .dataframe thead th {\n",
              "        text-align: right;\n",
              "    }\n",
              "</style>\n",
              "<table border=\"1\" class=\"dataframe\">\n",
              "  <thead>\n",
              "    <tr style=\"text-align: right;\">\n",
              "      <th></th>\n",
              "      <th>year</th>\n",
              "      <th>total_pop</th>\n",
              "    </tr>\n",
              "  </thead>\n",
              "  <tbody>\n",
              "    <tr>\n",
              "      <th>170</th>\n",
              "      <td>2010</td>\n",
              "      <td>949197</td>\n",
              "    </tr>\n",
              "    <tr>\n",
              "      <th>171</th>\n",
              "      <td>2011</td>\n",
              "      <td>967478</td>\n",
              "    </tr>\n",
              "    <tr>\n",
              "      <th>172</th>\n",
              "      <td>2012</td>\n",
              "      <td>982783</td>\n",
              "    </tr>\n",
              "    <tr>\n",
              "      <th>173</th>\n",
              "      <td>2013</td>\n",
              "      <td>998514</td>\n",
              "    </tr>\n",
              "    <tr>\n",
              "      <th>174</th>\n",
              "      <td>2014</td>\n",
              "      <td>1015796</td>\n",
              "    </tr>\n",
              "    <tr>\n",
              "      <th>175</th>\n",
              "      <td>2015</td>\n",
              "      <td>1026919</td>\n",
              "    </tr>\n",
              "    <tr>\n",
              "      <th>176</th>\n",
              "      <td>2016</td>\n",
              "      <td>1025373</td>\n",
              "    </tr>\n",
              "    <tr>\n",
              "      <th>177</th>\n",
              "      <td>2017</td>\n",
              "      <td>1035353</td>\n",
              "    </tr>\n",
              "    <tr>\n",
              "      <th>178</th>\n",
              "      <td>2018</td>\n",
              "      <td>1030119</td>\n",
              "    </tr>\n",
              "    <tr>\n",
              "      <th>179</th>\n",
              "      <td>2019</td>\n",
              "      <td>1021786</td>\n",
              "    </tr>\n",
              "  </tbody>\n",
              "</table>\n",
              "</div>"
            ],
            "text/plain": [
              "     year  total_pop\n",
              "170  2010     949197\n",
              "171  2011     967478\n",
              "172  2012     982783\n",
              "173  2013     998514\n",
              "174  2014    1015796\n",
              "175  2015    1026919\n",
              "176  2016    1025373\n",
              "177  2017    1035353\n",
              "178  2018    1030119\n",
              "179  2019    1021786"
            ]
          },
          "metadata": {
            "tags": []
          },
          "execution_count": 4
        }
      ]
    },
    {
      "cell_type": "code",
      "metadata": {
        "id": "r4oRZANUcA1v",
        "outputId": "d3185da4-c3e9-4225-c56f-ba95b96965f4",
        "colab": {
          "base_uri": "https://localhost:8080/",
          "height": 359
        }
      },
      "source": [
        "sample.columns = ['ds', 'y']\n",
        "sample"
      ],
      "execution_count": 6,
      "outputs": [
        {
          "output_type": "execute_result",
          "data": {
            "text/html": [
              "<div>\n",
              "<style scoped>\n",
              "    .dataframe tbody tr th:only-of-type {\n",
              "        vertical-align: middle;\n",
              "    }\n",
              "\n",
              "    .dataframe tbody tr th {\n",
              "        vertical-align: top;\n",
              "    }\n",
              "\n",
              "    .dataframe thead th {\n",
              "        text-align: right;\n",
              "    }\n",
              "</style>\n",
              "<table border=\"1\" class=\"dataframe\">\n",
              "  <thead>\n",
              "    <tr style=\"text-align: right;\">\n",
              "      <th></th>\n",
              "      <th>ds</th>\n",
              "      <th>y</th>\n",
              "    </tr>\n",
              "  </thead>\n",
              "  <tbody>\n",
              "    <tr>\n",
              "      <th>170</th>\n",
              "      <td>2010</td>\n",
              "      <td>949197</td>\n",
              "    </tr>\n",
              "    <tr>\n",
              "      <th>171</th>\n",
              "      <td>2011</td>\n",
              "      <td>967478</td>\n",
              "    </tr>\n",
              "    <tr>\n",
              "      <th>172</th>\n",
              "      <td>2012</td>\n",
              "      <td>982783</td>\n",
              "    </tr>\n",
              "    <tr>\n",
              "      <th>173</th>\n",
              "      <td>2013</td>\n",
              "      <td>998514</td>\n",
              "    </tr>\n",
              "    <tr>\n",
              "      <th>174</th>\n",
              "      <td>2014</td>\n",
              "      <td>1015796</td>\n",
              "    </tr>\n",
              "    <tr>\n",
              "      <th>175</th>\n",
              "      <td>2015</td>\n",
              "      <td>1026919</td>\n",
              "    </tr>\n",
              "    <tr>\n",
              "      <th>176</th>\n",
              "      <td>2016</td>\n",
              "      <td>1025373</td>\n",
              "    </tr>\n",
              "    <tr>\n",
              "      <th>177</th>\n",
              "      <td>2017</td>\n",
              "      <td>1035353</td>\n",
              "    </tr>\n",
              "    <tr>\n",
              "      <th>178</th>\n",
              "      <td>2018</td>\n",
              "      <td>1030119</td>\n",
              "    </tr>\n",
              "    <tr>\n",
              "      <th>179</th>\n",
              "      <td>2019</td>\n",
              "      <td>1021786</td>\n",
              "    </tr>\n",
              "  </tbody>\n",
              "</table>\n",
              "</div>"
            ],
            "text/plain": [
              "       ds        y\n",
              "170  2010   949197\n",
              "171  2011   967478\n",
              "172  2012   982783\n",
              "173  2013   998514\n",
              "174  2014  1015796\n",
              "175  2015  1026919\n",
              "176  2016  1025373\n",
              "177  2017  1035353\n",
              "178  2018  1030119\n",
              "179  2019  1021786"
            ]
          },
          "metadata": {
            "tags": []
          },
          "execution_count": 6
        }
      ]
    },
    {
      "cell_type": "code",
      "metadata": {
        "id": "RXwE8Yv3fW4_",
        "outputId": "03852e9e-3470-41db-d31f-f1b45f6dd892",
        "colab": {
          "base_uri": "https://localhost:8080/",
          "height": 153
        }
      },
      "source": [
        "sample['ds'] = pd.to_datetime(sample['ds'], format='%Y')\n",
        "# sample['ds'] = sample['ds'].dt.year"
      ],
      "execution_count": 7,
      "outputs": [
        {
          "output_type": "stream",
          "text": [
            "/usr/local/lib/python3.6/dist-packages/ipykernel_launcher.py:1: SettingWithCopyWarning:\n",
            "\n",
            "\n",
            "A value is trying to be set on a copy of a slice from a DataFrame.\n",
            "Try using .loc[row_indexer,col_indexer] = value instead\n",
            "\n",
            "See the caveats in the documentation: https://pandas.pydata.org/pandas-docs/stable/user_guide/indexing.html#returning-a-view-versus-a-copy\n",
            "\n"
          ],
          "name": "stderr"
        }
      ]
    },
    {
      "cell_type": "code",
      "metadata": {
        "id": "O6BXWRnEepsE",
        "outputId": "b579c303-136b-4d6b-c640-ef35bda7c007",
        "colab": {
          "base_uri": "https://localhost:8080/",
          "height": 68
        }
      },
      "source": [
        "sample.dtypes"
      ],
      "execution_count": 8,
      "outputs": [
        {
          "output_type": "execute_result",
          "data": {
            "text/plain": [
              "ds    datetime64[ns]\n",
              "y              int64\n",
              "dtype: object"
            ]
          },
          "metadata": {
            "tags": []
          },
          "execution_count": 8
        }
      ]
    },
    {
      "cell_type": "code",
      "metadata": {
        "id": "3YFPUw5mbJ-G",
        "outputId": "9631cc97-b63d-4dfc-fcde-f9e583f0a16f",
        "colab": {
          "base_uri": "https://localhost:8080/",
          "height": 102
        }
      },
      "source": [
        "m = Prophet()\n",
        "m.fit(sample)"
      ],
      "execution_count": 9,
      "outputs": [
        {
          "output_type": "stream",
          "text": [
            "INFO:numexpr.utils:NumExpr defaulting to 2 threads.\n",
            "INFO:fbprophet:Disabling weekly seasonality. Run prophet with weekly_seasonality=True to override this.\n",
            "INFO:fbprophet:Disabling daily seasonality. Run prophet with daily_seasonality=True to override this.\n",
            "INFO:fbprophet:n_changepoints greater than number of observations. Using 7.\n"
          ],
          "name": "stderr"
        },
        {
          "output_type": "execute_result",
          "data": {
            "text/plain": [
              "<fbprophet.forecaster.Prophet at 0x7fd003cba630>"
            ]
          },
          "metadata": {
            "tags": []
          },
          "execution_count": 9
        }
      ]
    },
    {
      "cell_type": "code",
      "metadata": {
        "id": "TfI1RQS_cKvj",
        "outputId": "3c9d6272-203a-491c-a18b-04bb5d0d3c53",
        "colab": {
          "base_uri": "https://localhost:8080/",
          "height": 204
        }
      },
      "source": [
        "future = m.make_future_dataframe(periods=5, freq= 'y')\n",
        "future.tail()"
      ],
      "execution_count": 10,
      "outputs": [
        {
          "output_type": "execute_result",
          "data": {
            "text/html": [
              "<div>\n",
              "<style scoped>\n",
              "    .dataframe tbody tr th:only-of-type {\n",
              "        vertical-align: middle;\n",
              "    }\n",
              "\n",
              "    .dataframe tbody tr th {\n",
              "        vertical-align: top;\n",
              "    }\n",
              "\n",
              "    .dataframe thead th {\n",
              "        text-align: right;\n",
              "    }\n",
              "</style>\n",
              "<table border=\"1\" class=\"dataframe\">\n",
              "  <thead>\n",
              "    <tr style=\"text-align: right;\">\n",
              "      <th></th>\n",
              "      <th>ds</th>\n",
              "    </tr>\n",
              "  </thead>\n",
              "  <tbody>\n",
              "    <tr>\n",
              "      <th>10</th>\n",
              "      <td>2019-12-31</td>\n",
              "    </tr>\n",
              "    <tr>\n",
              "      <th>11</th>\n",
              "      <td>2020-12-31</td>\n",
              "    </tr>\n",
              "    <tr>\n",
              "      <th>12</th>\n",
              "      <td>2021-12-31</td>\n",
              "    </tr>\n",
              "    <tr>\n",
              "      <th>13</th>\n",
              "      <td>2022-12-31</td>\n",
              "    </tr>\n",
              "    <tr>\n",
              "      <th>14</th>\n",
              "      <td>2023-12-31</td>\n",
              "    </tr>\n",
              "  </tbody>\n",
              "</table>\n",
              "</div>"
            ],
            "text/plain": [
              "           ds\n",
              "10 2019-12-31\n",
              "11 2020-12-31\n",
              "12 2021-12-31\n",
              "13 2022-12-31\n",
              "14 2023-12-31"
            ]
          },
          "metadata": {
            "tags": []
          },
          "execution_count": 10
        }
      ]
    },
    {
      "cell_type": "code",
      "metadata": {
        "id": "8FN98JiXclDU",
        "outputId": "a6a34615-2108-4e4e-9421-1a7cd2cafa21",
        "colab": {
          "base_uri": "https://localhost:8080/",
          "height": 204
        }
      },
      "source": [
        "forecast = m.predict(future)\n",
        "forecast[['ds', 'yhat', 'yhat_lower', 'yhat_upper']].tail()"
      ],
      "execution_count": 11,
      "outputs": [
        {
          "output_type": "execute_result",
          "data": {
            "text/html": [
              "<div>\n",
              "<style scoped>\n",
              "    .dataframe tbody tr th:only-of-type {\n",
              "        vertical-align: middle;\n",
              "    }\n",
              "\n",
              "    .dataframe tbody tr th {\n",
              "        vertical-align: top;\n",
              "    }\n",
              "\n",
              "    .dataframe thead th {\n",
              "        text-align: right;\n",
              "    }\n",
              "</style>\n",
              "<table border=\"1\" class=\"dataframe\">\n",
              "  <thead>\n",
              "    <tr style=\"text-align: right;\">\n",
              "      <th></th>\n",
              "      <th>ds</th>\n",
              "      <th>yhat</th>\n",
              "      <th>yhat_lower</th>\n",
              "      <th>yhat_upper</th>\n",
              "    </tr>\n",
              "  </thead>\n",
              "  <tbody>\n",
              "    <tr>\n",
              "      <th>10</th>\n",
              "      <td>2019-12-31</td>\n",
              "      <td>961262.968874</td>\n",
              "      <td>958266.514300</td>\n",
              "      <td>9.640145e+05</td>\n",
              "    </tr>\n",
              "    <tr>\n",
              "      <th>11</th>\n",
              "      <td>2020-12-31</td>\n",
              "      <td>995470.373050</td>\n",
              "      <td>983995.219670</td>\n",
              "      <td>1.007031e+06</td>\n",
              "    </tr>\n",
              "    <tr>\n",
              "      <th>12</th>\n",
              "      <td>2021-12-31</td>\n",
              "      <td>977320.589390</td>\n",
              "      <td>953370.501777</td>\n",
              "      <td>1.000106e+06</td>\n",
              "    </tr>\n",
              "    <tr>\n",
              "      <th>13</th>\n",
              "      <td>2022-12-31</td>\n",
              "      <td>955738.134311</td>\n",
              "      <td>917154.484839</td>\n",
              "      <td>9.953160e+05</td>\n",
              "    </tr>\n",
              "    <tr>\n",
              "      <th>14</th>\n",
              "      <td>2023-12-31</td>\n",
              "      <td>930650.022335</td>\n",
              "      <td>874556.416578</td>\n",
              "      <td>9.858987e+05</td>\n",
              "    </tr>\n",
              "  </tbody>\n",
              "</table>\n",
              "</div>"
            ],
            "text/plain": [
              "           ds           yhat     yhat_lower    yhat_upper\n",
              "10 2019-12-31  961262.968874  958266.514300  9.640145e+05\n",
              "11 2020-12-31  995470.373050  983995.219670  1.007031e+06\n",
              "12 2021-12-31  977320.589390  953370.501777  1.000106e+06\n",
              "13 2022-12-31  955738.134311  917154.484839  9.953160e+05\n",
              "14 2023-12-31  930650.022335  874556.416578  9.858987e+05"
            ]
          },
          "metadata": {
            "tags": []
          },
          "execution_count": 11
        }
      ]
    },
    {
      "cell_type": "code",
      "metadata": {
        "id": "wEg8ohDrdAHt",
        "outputId": "6a3ca250-10b4-41b3-d638-43bda04dba7e",
        "colab": {
          "base_uri": "https://localhost:8080/",
          "height": 441
        }
      },
      "source": [
        "m.plot(forecast);"
      ],
      "execution_count": 12,
      "outputs": [
        {
          "output_type": "display_data",
          "data": {
            "image/png": "[encoded data removed]",
            "text/plain": [
              "<Figure size 720x432 with 1 Axes>"
            ]
          },
          "metadata": {
            "tags": []
          }
        }
      ]
    },
    {
      "cell_type": "code",
      "metadata": {
        "id": "WwqATsqumJGI",
        "outputId": "8d819cdf-c0fe-437d-8386-c10d90e7e0c6",
        "colab": {
          "base_uri": "https://localhost:8080/",
          "height": 617
        }
      },
      "source": [
        "from fbprophet.plot import plot_plotly, plot_components_plotly\n",
        "\n",
        "plot_plotly(m, forecast)"
      ],
      "execution_count": 13,
      "outputs": [
        {
          "output_type": "display_data",
          "data": {
            "text/html": [
              "<html>\n",
              "<head><meta charset=\"utf-8\" /></head>\n",
              "<body>\n",
              "    <div>\n",
              "            <script src=\"https://cdnjs.cloudflare.com/ajax/libs/mathjax/2.7.5/MathJax.js?config=TeX-AMS-MML_SVG\"></script><script type=\"text/javascript\">if (window.MathJax) {MathJax.Hub.Config({SVG: {font: \"STIX-Web\"}});}</script>\n",
              "                <script type=\"text/javascript\">window.PlotlyConfig = {MathJaxConfig: 'local'};</script>\n",
              "        <script src=\"https://cdn.plot.ly/plotly-latest.min.js\"></script>    \n",
              "            <div id=\"3017322e-1748-4b9a-a763-83d6851c5a25\" class=\"plotly-graph-div\" style=\"height:600px; width:900px;\"></div>\n",
              "            <script type=\"text/javascript\">\n",
              "                \n",
              "                    window.PLOTLYENV=window.PLOTLYENV || {};\n",
              "                    \n",
              "                if (document.getElementById(\"3017322e-1748-4b9a-a763-83d6851c5a25\")) {\n",
              "                    Plotly.newPlot(\n",
              "                        '3017322e-1748-4b9a-a763-83d6851c5a25',\n",
              "                        [{\"marker\": {\"color\": \"black\", \"size\": 4}, \"mode\": \"markers\", \"name\": \"Actual\", \"type\": \"scatter\", \"x\": [\"2010-01-01T00:00:00\", \"2011-01-01T00:00:00\", \"2012-01-01T00:00:00\", \"2013-01-01T00:00:00\", \"2014-01-01T00:00:00\", \"2015-01-01T00:00:00\", \"2016-01-01T00:00:00\", \"2017-01-01T00:00:00\", \"2018-01-01T00:00:00\", \"2019-01-01T00:00:00\"], \"y\": [949197, 967478, 982783, 998514, 1015796, 1026919, 1025373, 1035353, 1030119, 1021786]}, {\"hoverinfo\": \"skip\", \"line\": {\"width\": 0}, \"mode\": \"lines\", \"type\": \"scatter\", \"x\": [\"2010-01-01T00:00:00\", \"2011-01-01T00:00:00\", \"2012-01-01T00:00:00\", \"2013-01-01T00:00:00\", \"2014-01-01T00:00:00\", \"2015-01-01T00:00:00\", \"2016-01-01T00:00:00\", \"2017-01-01T00:00:00\", \"2018-01-01T00:00:00\", \"2019-01-01T00:00:00\", \"2019-12-31T00:00:00\", \"2020-12-31T00:00:00\", \"2021-12-31T00:00:00\", \"2022-12-31T00:00:00\", \"2023-12-31T00:00:00\"], \"y\": [949196.9999928682, 967477.9999927729, 982782.9999939058, 998513.999993697, 1015795.9999927676, 1026918.9999930575, 1025372.9999930916, 1035352.9999931641, 1030118.9999933945, 1021785.9999932739, 958266.514300372, 983995.2196702206, 953370.5017765461, 917154.4848394699, 874556.41657813]}, {\"fill\": \"tonexty\", \"fillcolor\": \"rgba(0, 114, 178, 0.2)\", \"line\": {\"color\": \"#0072B2\", \"width\": 2}, \"mode\": \"lines\", \"name\": \"Predicted\", \"type\": \"scatter\", \"x\": [\"2010-01-01T00:00:00\", \"2011-01-01T00:00:00\", \"2012-01-01T00:00:00\", \"2013-01-01T00:00:00\", \"2014-01-01T00:00:00\", \"2015-01-01T00:00:00\", \"2016-01-01T00:00:00\", \"2017-01-01T00:00:00\", \"2018-01-01T00:00:00\", \"2019-01-01T00:00:00\", \"2019-12-31T00:00:00\", \"2020-12-31T00:00:00\", \"2021-12-31T00:00:00\", \"2022-12-31T00:00:00\", \"2023-12-31T00:00:00\"], \"y\": [949197.0000000399, 967477.9999999751, 982783.0000000414, 998513.9999999783, 1015796.0000000017, 1026919.0000000193, 1025372.9999999832, 1035352.9999999632, 1030119.0000000054, 1021786.0000000603, 961262.9688742149, 995470.37305003, 977320.5893901355, 955738.1343106369, 930650.0223345617]}, {\"fill\": \"tonexty\", \"fillcolor\": \"rgba(0, 114, 178, 0.2)\", \"hoverinfo\": \"skip\", \"line\": {\"width\": 0}, \"mode\": \"lines\", \"type\": \"scatter\", \"x\": [\"2010-01-01T00:00:00\", \"2011-01-01T00:00:00\", \"2012-01-01T00:00:00\", \"2013-01-01T00:00:00\", \"2014-01-01T00:00:00\", \"2015-01-01T00:00:00\", \"2016-01-01T00:00:00\", \"2017-01-01T00:00:00\", \"2018-01-01T00:00:00\", \"2019-01-01T00:00:00\", \"2019-12-31T00:00:00\", \"2020-12-31T00:00:00\", \"2021-12-31T00:00:00\", \"2022-12-31T00:00:00\", \"2023-12-31T00:00:00\"], \"y\": [949197.0000066552, 967478.0000066864, 982783.0000070342, 998514.0000066193, 1015796.0000063641, 1026919.0000070871, 1025373.0000067229, 1035353.0000070068, 1030119.0000070666, 1021786.0000065707, 964014.5383464056, 1007030.652428312, 1000106.338796805, 995316.0118800558, 985898.6874393513]}],\n",
              "                        {\"height\": 600, \"showlegend\": false, \"template\": {\"data\": {\"bar\": [{\"error_x\": {\"color\": \"#2a3f5f\"}, \"error_y\": {\"color\": \"#2a3f5f\"}, \"marker\": {\"line\": {\"color\": \"#E5ECF6\", \"width\": 0.5}}, \"type\": \"bar\"}], \"barpolar\": [{\"marker\": {\"line\": {\"color\": \"#E5ECF6\", \"width\": 0.5}}, \"type\": \"barpolar\"}], \"carpet\": [{\"aaxis\": {\"endlinecolor\": \"#2a3f5f\", \"gridcolor\": \"white\", \"linecolor\": \"white\", \"minorgridcolor\": \"white\", \"startlinecolor\": \"#2a3f5f\"}, \"baxis\": {\"endlinecolor\": \"#2a3f5f\", \"gridcolor\": \"white\", \"linecolor\": \"white\", \"minorgridcolor\": \"white\", \"startlinecolor\": \"#2a3f5f\"}, \"type\": \"carpet\"}], \"choropleth\": [{\"colorbar\": {\"outlinewidth\": 0, \"ticks\": \"\"}, \"type\": \"choropleth\"}], \"contour\": [{\"colorbar\": {\"outlinewidth\": 0, \"ticks\": \"\"}, \"colorscale\": [[0.0, \"#0d0887\"], [0.1111111111111111, \"#46039f\"], [0.2222222222222222, \"#7201a8\"], [0.3333333333333333, \"#9c179e\"], [0.4444444444444444, \"#bd3786\"], [0.5555555555555556, \"#d8576b\"], [0.6666666666666666, \"#ed7953\"], [0.7777777777777778, \"#fb9f3a\"], [0.8888888888888888, \"#fdca26\"], [1.0, \"#f0f921\"]], \"type\": \"contour\"}], \"contourcarpet\": [{\"colorbar\": {\"outlinewidth\": 0, \"ticks\": \"\"}, \"type\": \"contourcarpet\"}], \"heatmap\": [{\"colorbar\": {\"outlinewidth\": 0, \"ticks\": \"\"}, \"colorscale\": [[0.0, \"#0d0887\"], [0.1111111111111111, \"#46039f\"], [0.2222222222222222, \"#7201a8\"], [0.3333333333333333, \"#9c179e\"], [0.4444444444444444, \"#bd3786\"], [0.5555555555555556, \"#d8576b\"], [0.6666666666666666, \"#ed7953\"], [0.7777777777777778, \"#fb9f3a\"], [0.8888888888888888, \"#fdca26\"], [1.0, \"#f0f921\"]], \"type\": \"heatmap\"}], \"heatmapgl\": [{\"colorbar\": {\"outlinewidth\": 0, \"ticks\": \"\"}, \"colorscale\": [[0.0, \"#0d0887\"], [0.1111111111111111, \"#46039f\"], [0.2222222222222222, \"#7201a8\"], [0.3333333333333333, \"#9c179e\"], [0.4444444444444444, \"#bd3786\"], [0.5555555555555556, \"#d8576b\"], [0.6666666666666666, \"#ed7953\"], [0.7777777777777778, \"#fb9f3a\"], [0.8888888888888888, \"#fdca26\"], [1.0, \"#f0f921\"]], \"type\": \"heatmapgl\"}], \"histogram\": [{\"marker\": {\"colorbar\": {\"outlinewidth\": 0, \"ticks\": \"\"}}, \"type\": \"histogram\"}], \"histogram2d\": [{\"colorbar\": {\"outlinewidth\": 0, \"ticks\": \"\"}, \"colorscale\": [[0.0, \"#0d0887\"], [0.1111111111111111, \"#46039f\"], [0.2222222222222222, \"#7201a8\"], [0.3333333333333333, \"#9c179e\"], [0.4444444444444444, \"#bd3786\"], [0.5555555555555556, \"#d8576b\"], [0.6666666666666666, \"#ed7953\"], [0.7777777777777778, \"#fb9f3a\"], [0.8888888888888888, \"#fdca26\"], [1.0, \"#f0f921\"]], \"type\": \"histogram2d\"}], \"histogram2dcontour\": [{\"colorbar\": {\"outlinewidth\": 0, \"ticks\": \"\"}, \"colorscale\": [[0.0, \"#0d0887\"], [0.1111111111111111, \"#46039f\"], [0.2222222222222222, \"#7201a8\"], [0.3333333333333333, \"#9c179e\"], [0.4444444444444444, \"#bd3786\"], [0.5555555555555556, \"#d8576b\"], [0.6666666666666666, \"#ed7953\"], [0.7777777777777778, \"#fb9f3a\"], [0.8888888888888888, \"#fdca26\"], [1.0, \"#f0f921\"]], \"type\": \"histogram2dcontour\"}], \"mesh3d\": [{\"colorbar\": {\"outlinewidth\": 0, \"ticks\": \"\"}, \"type\": \"mesh3d\"}], \"parcoords\": [{\"line\": {\"colorbar\": {\"outlinewidth\": 0, \"ticks\": \"\"}}, \"type\": \"parcoords\"}], \"pie\": [{\"automargin\": true, \"type\": \"pie\"}], \"scatter\": [{\"marker\": {\"colorbar\": {\"outlinewidth\": 0, \"ticks\": \"\"}}, \"type\": \"scatter\"}], \"scatter3d\": [{\"line\": {\"colorbar\": {\"outlinewidth\": 0, \"ticks\": \"\"}}, \"marker\": {\"colorbar\": {\"outlinewidth\": 0, \"ticks\": \"\"}}, \"type\": \"scatter3d\"}], \"scattercarpet\": [{\"marker\": {\"colorbar\": {\"outlinewidth\": 0, \"ticks\": \"\"}}, \"type\": \"scattercarpet\"}], \"scattergeo\": [{\"marker\": {\"colorbar\": {\"outlinewidth\": 0, \"ticks\": \"\"}}, \"type\": \"scattergeo\"}], \"scattergl\": [{\"marker\": {\"colorbar\": {\"outlinewidth\": 0, \"ticks\": \"\"}}, \"type\": \"scattergl\"}], \"scattermapbox\": [{\"marker\": {\"colorbar\": {\"outlinewidth\": 0, \"ticks\": \"\"}}, \"type\": \"scattermapbox\"}], \"scatterpolar\": [{\"marker\": {\"colorbar\": {\"outlinewidth\": 0, \"ticks\": \"\"}}, \"type\": \"scatterpolar\"}], \"scatterpolargl\": [{\"marker\": {\"colorbar\": {\"outlinewidth\": 0, \"ticks\": \"\"}}, \"type\": \"scatterpolargl\"}], \"scatterternary\": [{\"marker\": {\"colorbar\": {\"outlinewidth\": 0, \"ticks\": \"\"}}, \"type\": \"scatterternary\"}], \"surface\": [{\"colorbar\": {\"outlinewidth\": 0, \"ticks\": \"\"}, \"colorscale\": [[0.0, \"#0d0887\"], [0.1111111111111111, \"#46039f\"], [0.2222222222222222, \"#7201a8\"], [0.3333333333333333, \"#9c179e\"], [0.4444444444444444, \"#bd3786\"], [0.5555555555555556, \"#d8576b\"], [0.6666666666666666, \"#ed7953\"], [0.7777777777777778, \"#fb9f3a\"], [0.8888888888888888, \"#fdca26\"], [1.0, \"#f0f921\"]], \"type\": \"surface\"}], \"table\": [{\"cells\": {\"fill\": {\"color\": \"#EBF0F8\"}, \"line\": {\"color\": \"white\"}}, \"header\": {\"fill\": {\"color\": \"#C8D4E3\"}, \"line\": {\"color\": \"white\"}}, \"type\": \"table\"}]}, \"layout\": {\"annotationdefaults\": {\"arrowcolor\": \"#2a3f5f\", \"arrowhead\": 0, \"arrowwidth\": 1}, \"coloraxis\": {\"colorbar\": {\"outlinewidth\": 0, \"ticks\": \"\"}}, \"colorscale\": {\"diverging\": [[0, \"#8e0152\"], [0.1, \"#c51b7d\"], [0.2, \"#de77ae\"], [0.3, \"#f1b6da\"], [0.4, \"#fde0ef\"], [0.5, \"#f7f7f7\"], [0.6, \"#e6f5d0\"], [0.7, \"#b8e186\"], [0.8, \"#7fbc41\"], [0.9, \"#4d9221\"], [1, \"#276419\"]], \"sequential\": [[0.0, \"#0d0887\"], [0.1111111111111111, \"#46039f\"], [0.2222222222222222, \"#7201a8\"], [0.3333333333333333, \"#9c179e\"], [0.4444444444444444, \"#bd3786\"], [0.5555555555555556, \"#d8576b\"], [0.6666666666666666, \"#ed7953\"], [0.7777777777777778, \"#fb9f3a\"], [0.8888888888888888, \"#fdca26\"], [1.0, \"#f0f921\"]], \"sequentialminus\": [[0.0, \"#0d0887\"], [0.1111111111111111, \"#46039f\"], [0.2222222222222222, \"#7201a8\"], [0.3333333333333333, \"#9c179e\"], [0.4444444444444444, \"#bd3786\"], [0.5555555555555556, \"#d8576b\"], [0.6666666666666666, \"#ed7953\"], [0.7777777777777778, \"#fb9f3a\"], [0.8888888888888888, \"#fdca26\"], [1.0, \"#f0f921\"]]}, \"colorway\": [\"#636efa\", \"#EF553B\", \"#00cc96\", \"#ab63fa\", \"#FFA15A\", \"#19d3f3\", \"#FF6692\", \"#B6E880\", \"#FF97FF\", \"#FECB52\"], \"font\": {\"color\": \"#2a3f5f\"}, \"geo\": {\"bgcolor\": \"white\", \"lakecolor\": \"white\", \"landcolor\": \"#E5ECF6\", \"showlakes\": true, \"showland\": true, \"subunitcolor\": \"white\"}, \"hoverlabel\": {\"align\": \"left\"}, \"hovermode\": \"closest\", \"mapbox\": {\"style\": \"light\"}, \"paper_bgcolor\": \"white\", \"plot_bgcolor\": \"#E5ECF6\", \"polar\": {\"angularaxis\": {\"gridcolor\": \"white\", \"linecolor\": \"white\", \"ticks\": \"\"}, \"bgcolor\": \"#E5ECF6\", \"radialaxis\": {\"gridcolor\": \"white\", \"linecolor\": \"white\", \"ticks\": \"\"}}, \"scene\": {\"xaxis\": {\"backgroundcolor\": \"#E5ECF6\", \"gridcolor\": \"white\", \"gridwidth\": 2, \"linecolor\": \"white\", \"showbackground\": true, \"ticks\": \"\", \"zerolinecolor\": \"white\"}, \"yaxis\": {\"backgroundcolor\": \"#E5ECF6\", \"gridcolor\": \"white\", \"gridwidth\": 2, \"linecolor\": \"white\", \"showbackground\": true, \"ticks\": \"\", \"zerolinecolor\": \"white\"}, \"zaxis\": {\"backgroundcolor\": \"#E5ECF6\", \"gridcolor\": \"white\", \"gridwidth\": 2, \"linecolor\": \"white\", \"showbackground\": true, \"ticks\": \"\", \"zerolinecolor\": \"white\"}}, \"shapedefaults\": {\"line\": {\"color\": \"#2a3f5f\"}}, \"ternary\": {\"aaxis\": {\"gridcolor\": \"white\", \"linecolor\": \"white\", \"ticks\": \"\"}, \"baxis\": {\"gridcolor\": \"white\", \"linecolor\": \"white\", \"ticks\": \"\"}, \"bgcolor\": \"#E5ECF6\", \"caxis\": {\"gridcolor\": \"white\", \"linecolor\": \"white\", \"ticks\": \"\"}}, \"title\": {\"x\": 0.05}, \"xaxis\": {\"automargin\": true, \"gridcolor\": \"white\", \"linecolor\": \"white\", \"ticks\": \"\", \"title\": {\"standoff\": 15}, \"zerolinecolor\": \"white\", \"zerolinewidth\": 2}, \"yaxis\": {\"automargin\": true, \"gridcolor\": \"white\", \"linecolor\": \"white\", \"ticks\": \"\", \"title\": {\"standoff\": 15}, \"zerolinecolor\": \"white\", \"zerolinewidth\": 2}}}, \"width\": 900, \"xaxis\": {\"rangeselector\": {\"buttons\": [{\"count\": 7, \"label\": \"1w\", \"step\": \"day\", \"stepmode\": \"backward\"}, {\"count\": 1, \"label\": \"1m\", \"step\": \"month\", \"stepmode\": \"backward\"}, {\"count\": 6, \"label\": \"6m\", \"step\": \"month\", \"stepmode\": \"backward\"}, {\"count\": 1, \"label\": \"1y\", \"step\": \"year\", \"stepmode\": \"backward\"}, {\"step\": \"all\"}]}, \"rangeslider\": {\"visible\": true}, \"title\": {\"text\": \"ds\"}, \"type\": \"date\"}, \"yaxis\": {\"title\": {\"text\": \"y\"}}},\n",
              "                        {\"responsive\": true}\n",
              "                    ).then(function(){\n",
              "                            \n",
              "var gd = document.getElementById('3017322e-1748-4b9a-a763-83d6851c5a25');\n",
              "var x = new MutationObserver(function (mutations, observer) {{\n",
              "        var display = window.getComputedStyle(gd).display;\n",
              "        if (!display || display === 'none') {{\n",
              "            console.log([gd, 'removed!']);\n",
              "            Plotly.purge(gd);\n",
              "            observer.disconnect();\n",
              "        }}\n",
              "}});\n",
              "\n",
              "// Listen for the removal of the full notebook cells\n",
              "var notebookContainer = gd.closest('#notebook-container');\n",
              "if (notebookContainer) {{\n",
              "    x.observe(notebookContainer, {childList: true});\n",
              "}}\n",
              "\n",
              "// Listen for the clearing of the current output cell\n",
              "var outputEl = gd.closest('.output');\n",
              "if (outputEl) {{\n",
              "    x.observe(outputEl, {childList: true});\n",
              "}}\n",
              "\n",
              "                        })\n",
              "                };\n",
              "                \n",
              "            </script>\n",
              "        </div>\n",
              "</body>\n",
              "</html>"
            ]
          },
          "metadata": {
            "tags": []
          }
        }
      ]
    },
    {
      "cell_type": "code",
      "metadata": {
        "id": "5t757AUBsF9T"
      },
      "source": [
        "import pickle\n",
        "\n",
        "# Save the Model to file in the current working directory\n",
        "Pkl_Filename = \"FbProphet.pkl\"  \n",
        "\n",
        "with open(Pkl_Filename, 'wb') as file:  \n",
        "    pickle.dump(m, file)"
      ],
      "execution_count": 14,
      "outputs": []
    },
    {
      "cell_type": "code",
      "metadata": {
        "id": "xq_GB7ORtE6z",
        "outputId": "b43de38b-e712-4801-bd5f-17802f24b4cf",
        "colab": {
          "base_uri": "https://localhost:8080/",
          "height": 34
        }
      },
      "source": [
        "# Load in and try out the new pickled model\n",
        "with open(Pkl_Filename, 'rb') as file:  \n",
        "    FbProphet_model = pickle.load(file)\n",
        "\n",
        "FbProphet_model"
      ],
      "execution_count": 16,
      "outputs": [
        {
          "output_type": "execute_result",
          "data": {
            "text/plain": [
              "<fbprophet.forecaster.Prophet at 0x7fcff6f48e10>"
            ]
          },
          "metadata": {
            "tags": []
          },
          "execution_count": 16
        }
      ]
    },
    {
      "cell_type": "code",
      "metadata": {
        "id": "dlfZ2yGstd0f",
        "outputId": "bde7b96e-1f0a-4d7f-c0da-afb1b817dfec",
        "colab": {
          "base_uri": "https://localhost:8080/",
          "height": 204
        }
      },
      "source": [
        "future2 = FbProphet_model.make_future_dataframe(periods=5, freq= 'y')\n",
        "future2.tail()"
      ],
      "execution_count": 18,
      "outputs": [
        {
          "output_type": "execute_result",
          "data": {
            "text/html": [
              "<div>\n",
              "<style scoped>\n",
              "    .dataframe tbody tr th:only-of-type {\n",
              "        vertical-align: middle;\n",
              "    }\n",
              "\n",
              "    .dataframe tbody tr th {\n",
              "        vertical-align: top;\n",
              "    }\n",
              "\n",
              "    .dataframe thead th {\n",
              "        text-align: right;\n",
              "    }\n",
              "</style>\n",
              "<table border=\"1\" class=\"dataframe\">\n",
              "  <thead>\n",
              "    <tr style=\"text-align: right;\">\n",
              "      <th></th>\n",
              "      <th>ds</th>\n",
              "    </tr>\n",
              "  </thead>\n",
              "  <tbody>\n",
              "    <tr>\n",
              "      <th>10</th>\n",
              "      <td>2019-12-31</td>\n",
              "    </tr>\n",
              "    <tr>\n",
              "      <th>11</th>\n",
              "      <td>2020-12-31</td>\n",
              "    </tr>\n",
              "    <tr>\n",
              "      <th>12</th>\n",
              "      <td>2021-12-31</td>\n",
              "    </tr>\n",
              "    <tr>\n",
              "      <th>13</th>\n",
              "      <td>2022-12-31</td>\n",
              "    </tr>\n",
              "    <tr>\n",
              "      <th>14</th>\n",
              "      <td>2023-12-31</td>\n",
              "    </tr>\n",
              "  </tbody>\n",
              "</table>\n",
              "</div>"
            ],
            "text/plain": [
              "           ds\n",
              "10 2019-12-31\n",
              "11 2020-12-31\n",
              "12 2021-12-31\n",
              "13 2022-12-31\n",
              "14 2023-12-31"
            ]
          },
          "metadata": {
            "tags": []
          },
          "execution_count": 18
        }
      ]
    },
    {
      "cell_type": "code",
      "metadata": {
        "id": "4iYW54gOuDMT",
        "outputId": "45a4e982-ea1a-4be2-9fbc-92780dc5f411",
        "colab": {
          "base_uri": "https://localhost:8080/",
          "height": 204
        }
      },
      "source": [
        "forecast2 = FbProphet_model.predict(future2)\n",
        "forecast2[['ds', 'yhat', 'yhat_lower', 'yhat_upper']].tail()"
      ],
      "execution_count": 19,
      "outputs": [
        {
          "output_type": "execute_result",
          "data": {
            "text/html": [
              "<div>\n",
              "<style scoped>\n",
              "    .dataframe tbody tr th:only-of-type {\n",
              "        vertical-align: middle;\n",
              "    }\n",
              "\n",
              "    .dataframe tbody tr th {\n",
              "        vertical-align: top;\n",
              "    }\n",
              "\n",
              "    .dataframe thead th {\n",
              "        text-align: right;\n",
              "    }\n",
              "</style>\n",
              "<table border=\"1\" class=\"dataframe\">\n",
              "  <thead>\n",
              "    <tr style=\"text-align: right;\">\n",
              "      <th></th>\n",
              "      <th>ds</th>\n",
              "      <th>yhat</th>\n",
              "      <th>yhat_lower</th>\n",
              "      <th>yhat_upper</th>\n",
              "    </tr>\n",
              "  </thead>\n",
              "  <tbody>\n",
              "    <tr>\n",
              "      <th>10</th>\n",
              "      <td>2019-12-31</td>\n",
              "      <td>961262.968874</td>\n",
              "      <td>958700.805692</td>\n",
              "      <td>9.643262e+05</td>\n",
              "    </tr>\n",
              "    <tr>\n",
              "      <th>11</th>\n",
              "      <td>2020-12-31</td>\n",
              "      <td>995470.373050</td>\n",
              "      <td>985492.184368</td>\n",
              "      <td>1.007731e+06</td>\n",
              "    </tr>\n",
              "    <tr>\n",
              "      <th>12</th>\n",
              "      <td>2021-12-31</td>\n",
              "      <td>977320.589390</td>\n",
              "      <td>955811.209420</td>\n",
              "      <td>1.000673e+06</td>\n",
              "    </tr>\n",
              "    <tr>\n",
              "      <th>13</th>\n",
              "      <td>2022-12-31</td>\n",
              "      <td>955738.134311</td>\n",
              "      <td>919199.783920</td>\n",
              "      <td>9.908587e+05</td>\n",
              "    </tr>\n",
              "    <tr>\n",
              "      <th>14</th>\n",
              "      <td>2023-12-31</td>\n",
              "      <td>930650.022335</td>\n",
              "      <td>881645.108110</td>\n",
              "      <td>9.821791e+05</td>\n",
              "    </tr>\n",
              "  </tbody>\n",
              "</table>\n",
              "</div>"
            ],
            "text/plain": [
              "           ds           yhat     yhat_lower    yhat_upper\n",
              "10 2019-12-31  961262.968874  958700.805692  9.643262e+05\n",
              "11 2020-12-31  995470.373050  985492.184368  1.007731e+06\n",
              "12 2021-12-31  977320.589390  955811.209420  1.000673e+06\n",
              "13 2022-12-31  955738.134311  919199.783920  9.908587e+05\n",
              "14 2023-12-31  930650.022335  881645.108110  9.821791e+05"
            ]
          },
          "metadata": {
            "tags": []
          },
          "execution_count": 19
        }
      ]
    },
    {
      "cell_type": "code",
      "metadata": {
        "id": "KiNII5lQZxvc",
        "outputId": "e3db1d6e-ae93-45a2-a55c-36440b22f76e",
        "colab": {
          "base_uri": "https://localhost:8080/",
          "height": 187
        }
      },
      "source": [
        "X = sample.iloc[:, 0].values.reshape(-1, 1)\n",
        "y = sample.iloc[:, 1].values.reshape(-1, 1)\n",
        "\n",
        "X"
      ],
      "execution_count": null,
      "outputs": [
        {
          "output_type": "execute_result",
          "data": {
            "text/plain": [
              "array([[2010],\n",
              "       [2011],\n",
              "       [2012],\n",
              "       [2013],\n",
              "       [2014],\n",
              "       [2015],\n",
              "       [2016],\n",
              "       [2017],\n",
              "       [2018],\n",
              "       [2019]])"
            ]
          },
          "metadata": {
            "tags": []
          },
          "execution_count": 6
        }
      ]
    },
    {
      "cell_type": "code",
      "metadata": {
        "id": "W4BjjzPeZ8nc",
        "outputId": "87ee0cf7-966c-4d59-ff17-0373e8e6e70e",
        "colab": {
          "base_uri": "https://localhost:8080/",
          "height": 34
        }
      },
      "source": [
        "from sklearn.linear_model import LinearRegression\n",
        "\n",
        "model = LinearRegression().fit(X, y)\n",
        "y_pred = model.predict([[2020]])\n",
        "y_pred"
      ],
      "execution_count": null,
      "outputs": [
        {
          "output_type": "execute_result",
          "data": {
            "text/plain": [
              "array([[1053543.06666667]])"
            ]
          },
          "metadata": {
            "tags": []
          },
          "execution_count": 7
        }
      ]
    },
    {
      "cell_type": "code",
      "metadata": {
        "id": "KwVf0UP3anYC",
        "outputId": "30bbae83-4214-4fe9-9f56-87b3720dd9a9",
        "colab": {
          "base_uri": "https://localhost:8080/",
          "height": 34
        }
      },
      "source": [
        "model.score(X, y)"
      ],
      "execution_count": null,
      "outputs": [
        {
          "output_type": "execute_result",
          "data": {
            "text/plain": [
              "0.8021570703049702"
            ]
          },
          "metadata": {
            "tags": []
          },
          "execution_count": 8
        }
      ]
    },
    {
      "cell_type": "code",
      "metadata": {
        "id": "saTpMXMsvx6H",
        "outputId": "b151fb6f-2ba8-423e-fc85-664b7f246948",
        "colab": {
          "base_uri": "https://localhost:8080/",
          "height": 577
        }
      },
      "source": [
        "from statsmodels.tsa.seasonal import seasonal_decompose \n",
        "\n",
        "# sample.index = sample.year\n",
        "result = seasonal_decompose(sample['total_pop'].values, freq=3) \n",
        "result.plot()"
      ],
      "execution_count": null,
      "outputs": [
        {
          "output_type": "execute_result",
          "data": {
            "image/png": "[encoded data removed]",
            "text/plain": [
              "<Figure size 432x288 with 4 Axes>"
            ]
          },
          "metadata": {
            "tags": []
          },
          "execution_count": 23
        },
        {
          "output_type": "display_data",
          "data": {
            "image/png": "[encoded data removed]",
            "text/plain": [
              "<Figure size 432x288 with 4 Axes>"
            ]
          },
          "metadata": {
            "tags": [],
            "needs_background": "light"
          }
        }
      ]
    },
    {
      "cell_type": "code",
      "metadata": {
        "id": "u-lhq-kZ3jaa",
        "outputId": "458cded1-8839-4ee3-c186-65b2af105ff5",
        "colab": {
          "base_uri": "https://localhost:8080/",
          "height": 680
        }
      },
      "source": [
        "# pip install pmdarima "
      ],
      "execution_count": null,
      "outputs": [
        {
          "output_type": "stream",
          "text": [
            "Collecting pmdarima\n",
            "\u001b[?25l  Downloading https://files.pythonhosted.org/packages/be/62/725b3b6ae0e56c77534de5a8139322e7b863ca53fd5bd6bd3b7de87d0c20/pmdarima-1.7.1-cp36-cp36m-manylinux1_x86_64.whl (1.5MB)\n",
            "\u001b[K     |████████████████████████████████| 1.5MB 4.4MB/s \n",
            "\u001b[?25hRequirement already satisfied: scipy>=1.3.2 in /usr/local/lib/python3.6/dist-packages (from pmdarima) (1.4.1)\n",
            "Requirement already satisfied: pandas>=0.19 in /usr/local/lib/python3.6/dist-packages (from pmdarima) (1.1.2)\n",
            "Requirement already satisfied: numpy>=1.17.3 in /usr/local/lib/python3.6/dist-packages (from pmdarima) (1.18.5)\n",
            "Requirement already satisfied: scikit-learn>=0.22 in /usr/local/lib/python3.6/dist-packages (from pmdarima) (0.22.2.post1)\n",
            "Requirement already satisfied: joblib>=0.11 in /usr/local/lib/python3.6/dist-packages (from pmdarima) (0.16.0)\n",
            "Collecting setuptools<50.0.0\n",
            "\u001b[?25l  Downloading https://files.pythonhosted.org/packages/c3/a9/5dc32465951cf4812e9e93b4ad2d314893c2fa6d5f66ce5c057af6e76d85/setuptools-49.6.0-py3-none-any.whl (803kB)\n",
            "\u001b[K     |████████████████████████████████| 808kB 26.4MB/s \n",
            "\u001b[?25hRequirement already satisfied: urllib3 in /usr/local/lib/python3.6/dist-packages (from pmdarima) (1.24.3)\n",
            "Collecting Cython<0.29.18,>=0.29\n",
            "\u001b[?25l  Downloading https://files.pythonhosted.org/packages/e7/d7/510ddef0248f3e1e91f9cc7e31c0f35f8954d0af92c5c3fd4c853e859ebe/Cython-0.29.17-cp36-cp36m-manylinux1_x86_64.whl (2.1MB)\n",
            "\u001b[K     |████████████████████████████████| 2.1MB 31.6MB/s \n",
            "\u001b[?25hCollecting statsmodels<0.12,>=0.11\n",
            "\u001b[?25l  Downloading https://files.pythonhosted.org/packages/cb/83/540fd83238a18abe6c2d280fa8e489ac5fcefa1f370f0ca1acd16ae1b860/statsmodels-0.11.1-cp36-cp36m-manylinux1_x86_64.whl (8.7MB)\n",
            "\u001b[K     |████████████████████████████████| 8.7MB 42.4MB/s \n",
            "\u001b[?25hRequirement already satisfied: pytz>=2017.2 in /usr/local/lib/python3.6/dist-packages (from pandas>=0.19->pmdarima) (2018.9)\n",
            "Requirement already satisfied: python-dateutil>=2.7.3 in /usr/local/lib/python3.6/dist-packages (from pandas>=0.19->pmdarima) (2.8.1)\n",
            "Requirement already satisfied: patsy>=0.5 in /usr/local/lib/python3.6/dist-packages (from statsmodels<0.12,>=0.11->pmdarima) (0.5.1)\n",
            "Requirement already satisfied: six>=1.5 in /usr/local/lib/python3.6/dist-packages (from python-dateutil>=2.7.3->pandas>=0.19->pmdarima) (1.15.0)\n",
            "\u001b[31mERROR: datascience 0.10.6 has requirement folium==0.2.1, but you'll have folium 0.8.3 which is incompatible.\u001b[0m\n",
            "Installing collected packages: setuptools, Cython, statsmodels, pmdarima\n",
            "  Found existing installation: setuptools 50.3.0\n",
            "    Uninstalling setuptools-50.3.0:\n",
            "      Successfully uninstalled setuptools-50.3.0\n",
            "  Found existing installation: Cython 0.29.21\n",
            "    Uninstalling Cython-0.29.21:\n",
            "      Successfully uninstalled Cython-0.29.21\n",
            "  Found existing installation: statsmodels 0.10.2\n",
            "    Uninstalling statsmodels-0.10.2:\n",
            "      Successfully uninstalled statsmodels-0.10.2\n",
            "Successfully installed Cython-0.29.17 pmdarima-1.7.1 setuptools-49.6.0 statsmodels-0.11.1\n"
          ],
          "name": "stdout"
        },
        {
          "output_type": "display_data",
          "data": {
            "application/vnd.colab-display-data+json": {
              "pip_warning": {
                "packages": [
                  "pkg_resources",
                  "statsmodels"
                ]
              }
            }
          },
          "metadata": {
            "tags": []
          }
        }
      ]
    },
    {
      "cell_type": "code",
      "metadata": {
        "id": "Bv_jK1ZJ33vX",
        "outputId": "8399dad0-2eb7-4050-889d-05d29254dd97",
        "colab": {
          "base_uri": "https://localhost:8080/",
          "height": 374
        }
      },
      "source": [
        "# Import the library \n",
        "from pmdarima import auto_arima \n",
        "  \n",
        "# Ignore harmless warnings \n",
        "import warnings \n",
        "warnings.filterwarnings(\"ignore\") \n",
        "  \n",
        "# Fit auto_arima function to AirPassengers dataset \n",
        "stepwise_fit = auto_arima(sample['total_pop'], start_p = 1, start_q = 1, \n",
        "                          max_p = 3, max_q = 3, m = 12, \n",
        "                          start_P = 0, seasonal = True, \n",
        "                          d = None, trace = True, \n",
        "                          error_action ='ignore',   # we don't want to know if an order does not work \n",
        "                          suppress_warnings = True,  # we don't want convergence warnings \n",
        "                          stepwise = True)           # set to stepwise \n",
        "  \n",
        "# To print the summary \n",
        "stepwise_fit.summary()  "
      ],
      "execution_count": null,
      "outputs": [
        {
          "output_type": "error",
          "ename": "ValueError",
          "evalue": "ignored",
          "traceback": [
            "\u001b[0;31m---------------------------------------------------------------------------\u001b[0m",
            "\u001b[0;31mValueError\u001b[0m                                Traceback (most recent call last)",
            "\u001b[0;32m<ipython-input-10-ec33aa4716b7>\u001b[0m in \u001b[0;36m<module>\u001b[0;34m()\u001b[0m\n\u001b[1;32m     13\u001b[0m                           \u001b[0merror_action\u001b[0m \u001b[0;34m=\u001b[0m\u001b[0;34m'ignore'\u001b[0m\u001b[0;34m,\u001b[0m   \u001b[0;31m# we don't want to know if an order does not work\u001b[0m\u001b[0;34m\u001b[0m\u001b[0;34m\u001b[0m\u001b[0m\n\u001b[1;32m     14\u001b[0m                           \u001b[0msuppress_warnings\u001b[0m \u001b[0;34m=\u001b[0m \u001b[0;32mTrue\u001b[0m\u001b[0;34m,\u001b[0m  \u001b[0;31m# we don't want convergence warnings\u001b[0m\u001b[0;34m\u001b[0m\u001b[0;34m\u001b[0m\u001b[0m\n\u001b[0;32m---> 15\u001b[0;31m                           stepwise = True)           # set to stepwise \n\u001b[0m\u001b[1;32m     16\u001b[0m \u001b[0;34m\u001b[0m\u001b[0m\n\u001b[1;32m     17\u001b[0m \u001b[0;31m# To print the summary\u001b[0m\u001b[0;34m\u001b[0m\u001b[0;34m\u001b[0m\u001b[0;34m\u001b[0m\u001b[0m\n",
            "\u001b[0;32m/usr/local/lib/python3.6/dist-packages/pmdarima/arima/auto.py\u001b[0m in \u001b[0;36mauto_arima\u001b[0;34m(y, exogenous, start_p, d, start_q, max_p, max_d, max_q, start_P, D, start_Q, max_P, max_D, max_Q, max_order, m, seasonal, stationary, information_criterion, alpha, test, seasonal_test, stepwise, n_jobs, start_params, trend, method, maxiter, offset_test_args, seasonal_test_args, suppress_warnings, error_action, trace, random, random_state, n_fits, return_valid_fits, out_of_sample_size, scoring, scoring_args, with_intercept, sarimax_kwargs, **fit_args)\u001b[0m\n\u001b[1;32m    458\u001b[0m     \u001b[0;32melif\u001b[0m \u001b[0mD\u001b[0m \u001b[0;32mis\u001b[0m \u001b[0;32mNone\u001b[0m\u001b[0;34m:\u001b[0m  \u001b[0;31m# we don't have a D yet and we need one (seasonal)\u001b[0m\u001b[0;34m\u001b[0m\u001b[0;34m\u001b[0m\u001b[0m\n\u001b[1;32m    459\u001b[0m         D = nsdiffs(xx, m=m, test=seasonal_test, max_D=max_D,\n\u001b[0;32m--> 460\u001b[0;31m                     **seasonal_test_args)\n\u001b[0m\u001b[1;32m    461\u001b[0m \u001b[0;34m\u001b[0m\u001b[0m\n\u001b[1;32m    462\u001b[0m         \u001b[0;32mif\u001b[0m \u001b[0mD\u001b[0m \u001b[0;34m>\u001b[0m \u001b[0;36m0\u001b[0m \u001b[0;32mand\u001b[0m \u001b[0mexogenous\u001b[0m \u001b[0;32mis\u001b[0m \u001b[0;32mnot\u001b[0m \u001b[0;32mNone\u001b[0m\u001b[0;34m:\u001b[0m\u001b[0;34m\u001b[0m\u001b[0;34m\u001b[0m\u001b[0m\n",
            "\u001b[0;32m/usr/local/lib/python3.6/dist-packages/pmdarima/arima/utils.py\u001b[0m in \u001b[0;36mnsdiffs\u001b[0;34m(x, m, max_D, test, **kwargs)\u001b[0m\n\u001b[1;32m    104\u001b[0m \u001b[0;34m\u001b[0m\u001b[0m\n\u001b[1;32m    105\u001b[0m     \u001b[0mD\u001b[0m \u001b[0;34m=\u001b[0m \u001b[0;36m0\u001b[0m\u001b[0;34m\u001b[0m\u001b[0;34m\u001b[0m\u001b[0m\n\u001b[0;32m--> 106\u001b[0;31m     \u001b[0mdodiff\u001b[0m \u001b[0;34m=\u001b[0m \u001b[0mtestfunc\u001b[0m\u001b[0;34m(\u001b[0m\u001b[0mx\u001b[0m\u001b[0;34m)\u001b[0m\u001b[0;34m\u001b[0m\u001b[0;34m\u001b[0m\u001b[0m\n\u001b[0m\u001b[1;32m    107\u001b[0m     \u001b[0;32mwhile\u001b[0m \u001b[0mdodiff\u001b[0m \u001b[0;34m==\u001b[0m \u001b[0;36m1\u001b[0m \u001b[0;32mand\u001b[0m \u001b[0mD\u001b[0m \u001b[0;34m<\u001b[0m \u001b[0mmax_D\u001b[0m\u001b[0;34m:\u001b[0m\u001b[0;34m\u001b[0m\u001b[0;34m\u001b[0m\u001b[0m\n\u001b[1;32m    108\u001b[0m         \u001b[0mD\u001b[0m \u001b[0;34m+=\u001b[0m \u001b[0;36m1\u001b[0m\u001b[0;34m\u001b[0m\u001b[0;34m\u001b[0m\u001b[0m\n",
            "\u001b[0;32m/usr/local/lib/python3.6/dist-packages/pmdarima/arima/seasonality.py\u001b[0m in \u001b[0;36mestimate_seasonal_differencing_term\u001b[0;34m(self, x)\u001b[0m\n\u001b[1;32m    590\u001b[0m \u001b[0;34m\u001b[0m\u001b[0m\n\u001b[1;32m    591\u001b[0m         \u001b[0;31m# Get the critical value for m\u001b[0m\u001b[0;34m\u001b[0m\u001b[0;34m\u001b[0m\u001b[0;34m\u001b[0m\u001b[0m\n\u001b[0;32m--> 592\u001b[0;31m         \u001b[0mstat\u001b[0m \u001b[0;34m=\u001b[0m \u001b[0mself\u001b[0m\u001b[0;34m.\u001b[0m\u001b[0m_compute_test_statistic\u001b[0m\u001b[0;34m(\u001b[0m\u001b[0mx\u001b[0m\u001b[0;34m)\u001b[0m\u001b[0;34m\u001b[0m\u001b[0;34m\u001b[0m\u001b[0m\n\u001b[0m\u001b[1;32m    593\u001b[0m         \u001b[0mcrit_val\u001b[0m \u001b[0;34m=\u001b[0m \u001b[0mself\u001b[0m\u001b[0;34m.\u001b[0m\u001b[0m_calc_ocsb_crit_val\u001b[0m\u001b[0;34m(\u001b[0m\u001b[0mself\u001b[0m\u001b[0;34m.\u001b[0m\u001b[0mm\u001b[0m\u001b[0;34m)\u001b[0m\u001b[0;34m\u001b[0m\u001b[0;34m\u001b[0m\u001b[0m\n\u001b[1;32m    594\u001b[0m         \u001b[0;32mreturn\u001b[0m \u001b[0mint\u001b[0m\u001b[0;34m(\u001b[0m\u001b[0mstat\u001b[0m \u001b[0;34m>\u001b[0m \u001b[0mcrit_val\u001b[0m\u001b[0;34m)\u001b[0m\u001b[0;34m\u001b[0m\u001b[0;34m\u001b[0m\u001b[0m\n",
            "\u001b[0;32m/usr/local/lib/python3.6/dist-packages/pmdarima/arima/seasonality.py\u001b[0m in \u001b[0;36m_compute_test_statistic\u001b[0;34m(self, x)\u001b[0m\n\u001b[1;32m    530\u001b[0m             \u001b[0;32mfor\u001b[0m \u001b[0mlag_term\u001b[0m \u001b[0;32min\u001b[0m \u001b[0mrange\u001b[0m\u001b[0;34m(\u001b[0m\u001b[0;36m1\u001b[0m\u001b[0;34m,\u001b[0m \u001b[0mmaxlag\u001b[0m \u001b[0;34m+\u001b[0m \u001b[0;36m1\u001b[0m\u001b[0;34m)\u001b[0m\u001b[0;34m:\u001b[0m  \u001b[0;31m# 1 -> maxlag (incl)\u001b[0m\u001b[0;34m\u001b[0m\u001b[0;34m\u001b[0m\u001b[0m\n\u001b[1;32m    531\u001b[0m                 \u001b[0;32mtry\u001b[0m\u001b[0;34m:\u001b[0m\u001b[0;34m\u001b[0m\u001b[0;34m\u001b[0m\u001b[0m\n\u001b[0;32m--> 532\u001b[0;31m                     \u001b[0mfit\u001b[0m \u001b[0;34m=\u001b[0m \u001b[0mself\u001b[0m\u001b[0;34m.\u001b[0m\u001b[0m_fit_ocsb\u001b[0m\u001b[0;34m(\u001b[0m\u001b[0mx\u001b[0m\u001b[0;34m,\u001b[0m \u001b[0mm\u001b[0m\u001b[0;34m,\u001b[0m \u001b[0mlag_term\u001b[0m\u001b[0;34m,\u001b[0m \u001b[0mmaxlag\u001b[0m\u001b[0;34m)\u001b[0m\u001b[0;34m\u001b[0m\u001b[0;34m\u001b[0m\u001b[0m\n\u001b[0m\u001b[1;32m    533\u001b[0m                     \u001b[0mfits\u001b[0m\u001b[0;34m.\u001b[0m\u001b[0mappend\u001b[0m\u001b[0;34m(\u001b[0m\u001b[0mfit\u001b[0m\u001b[0;34m)\u001b[0m\u001b[0;34m\u001b[0m\u001b[0;34m\u001b[0m\u001b[0m\n\u001b[1;32m    534\u001b[0m                     \u001b[0micvals\u001b[0m\u001b[0;34m.\u001b[0m\u001b[0mappend\u001b[0m\u001b[0;34m(\u001b[0m\u001b[0micfunc\u001b[0m\u001b[0;34m(\u001b[0m\u001b[0mfit\u001b[0m\u001b[0;34m)\u001b[0m\u001b[0;34m)\u001b[0m\u001b[0;34m\u001b[0m\u001b[0;34m\u001b[0m\u001b[0m\n",
            "\u001b[0;32m/usr/local/lib/python3.6/dist-packages/pmdarima/arima/seasonality.py\u001b[0m in \u001b[0;36m_fit_ocsb\u001b[0;34m(x, m, lag, max_lag)\u001b[0m\n\u001b[1;32m    470\u001b[0m         \u001b[0;32mif\u001b[0m \u001b[0my_first_order_diff\u001b[0m\u001b[0;34m.\u001b[0m\u001b[0mshape\u001b[0m\u001b[0;34m[\u001b[0m\u001b[0;36m0\u001b[0m\u001b[0;34m]\u001b[0m \u001b[0;34m==\u001b[0m \u001b[0;36m0\u001b[0m\u001b[0;34m:\u001b[0m\u001b[0;34m\u001b[0m\u001b[0;34m\u001b[0m\u001b[0m\n\u001b[1;32m    471\u001b[0m             raise ValueError(\n\u001b[0;32m--> 472\u001b[0;31m                 \u001b[0;34m\"There are no more samples after a first-order \"\u001b[0m\u001b[0;34m\u001b[0m\u001b[0;34m\u001b[0m\u001b[0m\n\u001b[0m\u001b[1;32m    473\u001b[0m                 \u001b[0;34m\"seasonal differencing. See http://alkaline-ml.com/pmdarima/\"\u001b[0m\u001b[0;34m\u001b[0m\u001b[0;34m\u001b[0m\u001b[0m\n\u001b[1;32m    474\u001b[0m                 \u001b[0;34m\"seasonal-differencing-issues.html for a more in-depth \"\u001b[0m\u001b[0;34m\u001b[0m\u001b[0;34m\u001b[0m\u001b[0m\n",
            "\u001b[0;31mValueError\u001b[0m: There are no more samples after a first-order seasonal differencing. See http://alkaline-ml.com/pmdarima/seasonal-differencing-issues.html for a more in-depth explanation and potential work-arounds."
          ]
        }
      ]
    },
    {
      "cell_type": "code",
      "metadata": {
        "id": "jfpyon5hec9A",
        "outputId": "31f3798f-eff5-4b4f-fcb4-34855ea4a31e",
        "colab": {
          "base_uri": "https://localhost:8080/",
          "height": 136
        }
      },
      "source": [
        "# Fitting Random Forest Regression to the dataset \n",
        "# import the regressor \n",
        "from sklearn.ensemble import RandomForestRegressor \n",
        "  \n",
        "# create regressor object \n",
        "rfr = RandomForestRegressor(n_estimators = 100, random_state = 7) \n",
        "  \n",
        "# fit the regressor with x and y data \n",
        "rfr.fit(X, y.ravel())"
      ],
      "execution_count": null,
      "outputs": [
        {
          "output_type": "execute_result",
          "data": {
            "text/plain": [
              "RandomForestRegressor(bootstrap=True, ccp_alpha=0.0, criterion='mse',\n",
              "                      max_depth=None, max_features='auto', max_leaf_nodes=None,\n",
              "                      max_samples=None, min_impurity_decrease=0.0,\n",
              "                      min_impurity_split=None, min_samples_leaf=1,\n",
              "                      min_samples_split=2, min_weight_fraction_leaf=0.0,\n",
              "                      n_estimators=100, n_jobs=None, oob_score=False,\n",
              "                      random_state=7, verbose=0, warm_start=False)"
            ]
          },
          "metadata": {
            "tags": []
          },
          "execution_count": 93
        }
      ]
    },
    {
      "cell_type": "code",
      "metadata": {
        "id": "SwBipDNafIjW",
        "outputId": "f77a9360-f717-48c3-ce00-4f86a467717c",
        "colab": {
          "base_uri": "https://localhost:8080/",
          "height": 34
        }
      },
      "source": [
        "y_pred2 = rfr.predict([[2020]])\n",
        "y_pred2"
      ],
      "execution_count": null,
      "outputs": [
        {
          "output_type": "execute_result",
          "data": {
            "text/plain": [
              "array([1025228.88])"
            ]
          },
          "metadata": {
            "tags": []
          },
          "execution_count": 97
        }
      ]
    },
    {
      "cell_type": "code",
      "metadata": {
        "id": "BpSzQE97feLC",
        "outputId": "76e121b9-9a49-4e77-ab1e-d6eceef1c7f5",
        "colab": {
          "base_uri": "https://localhost:8080/",
          "height": 34
        }
      },
      "source": [
        "rfr.score(X, y)"
      ],
      "execution_count": null,
      "outputs": [
        {
          "output_type": "execute_result",
          "data": {
            "text/plain": [
              "0.9800537537129942"
            ]
          },
          "metadata": {
            "tags": []
          },
          "execution_count": 78
        }
      ]
    },
    {
      "cell_type": "code",
      "metadata": {
        "id": "cB_KBlNmf_fr",
        "outputId": "387c17a2-f94e-46ce-a145-fa0a1dfd2216",
        "colab": {
          "base_uri": "https://localhost:8080/",
          "height": 295
        }
      },
      "source": [
        "# Visualising the Random Forest Regression results \n",
        "  \n",
        "# arange for creating a range of values \n",
        "# from min value of x to max  \n",
        "# value of x with a difference of 0.01  \n",
        "# between two consecutive values \n",
        "X_grid = np.arange(min(X), max(X), 0.01)  \n",
        "  \n",
        "# reshape for reshaping the data into a len(X_grid)*1 array,  \n",
        "# i.e. to make a column out of the X_grid value                   \n",
        "X_grid = X_grid.reshape((len(X_grid), 1)) \n",
        "  \n",
        "# Scatter plot for original data \n",
        "plt.scatter(x, y, color = 'blue')   \n",
        "  \n",
        "# plot predicted data \n",
        "plt.plot(X_grid, rfr.predict(X_grid),  \n",
        "         color = 'green')  \n",
        "plt.title('Random Forest Regression') \n",
        "plt.xlabel('Year') \n",
        "plt.ylabel('Population') \n",
        "plt.show()"
      ],
      "execution_count": null,
      "outputs": [
        {
          "output_type": "display_data",
          "data": {
            "image/png": "[encoded data removed]",
            "text/plain": [
              "<Figure size 432x288 with 1 Axes>"
            ]
          },
          "metadata": {
            "tags": [],
            "needs_background": "light"
          }
        }
      ]
    },
    {
      "cell_type": "code",
      "metadata": {
        "id": "1HZmu_-ugsnM",
        "outputId": "929762a0-0113-4a3f-f311-c34b2e992184",
        "colab": {
          "base_uri": "https://localhost:8080/",
          "height": 136
        }
      },
      "source": [
        "import xgboost as xgb\n",
        "\n",
        "xgbr = xgb.XGBRegressor(verbosity=0)\n",
        "xgbr.fit(X, y)"
      ],
      "execution_count": null,
      "outputs": [
        {
          "output_type": "execute_result",
          "data": {
            "text/plain": [
              "XGBRegressor(base_score=0.5, booster='gbtree', colsample_bylevel=1,\n",
              "             colsample_bynode=1, colsample_bytree=1, gamma=0,\n",
              "             importance_type='gain', learning_rate=0.1, max_delta_step=0,\n",
              "             max_depth=3, min_child_weight=1, missing=None, n_estimators=100,\n",
              "             n_jobs=1, nthread=None, objective='reg:linear', random_state=0,\n",
              "             reg_alpha=0, reg_lambda=1, scale_pos_weight=1, seed=None,\n",
              "             silent=None, subsample=1, verbosity=0)"
            ]
          },
          "metadata": {
            "tags": []
          },
          "execution_count": 68
        }
      ]
    },
    {
      "cell_type": "code",
      "metadata": {
        "id": "oYcU1H5cg74w",
        "outputId": "700d298f-5cd2-4d34-aed9-3652bba8f3ee",
        "colab": {
          "base_uri": "https://localhost:8080/",
          "height": 34
        }
      },
      "source": [
        "y_pred3 = xgbr.predict([[2050]])\n",
        "y_pred3"
      ],
      "execution_count": null,
      "outputs": [
        {
          "output_type": "execute_result",
          "data": {
            "text/plain": [
              "array([1021695.4], dtype=float32)"
            ]
          },
          "metadata": {
            "tags": []
          },
          "execution_count": 75
        }
      ]
    },
    {
      "cell_type": "code",
      "metadata": {
        "id": "Y_-HBSKRhBG-",
        "outputId": "366a2622-79aa-47a5-ba6b-d6de439a135b",
        "colab": {
          "base_uri": "https://localhost:8080/",
          "height": 34
        }
      },
      "source": [
        "xgbr.score(X, y)"
      ],
      "execution_count": null,
      "outputs": [
        {
          "output_type": "execute_result",
          "data": {
            "text/plain": [
              "0.9995389763233216"
            ]
          },
          "metadata": {
            "tags": []
          },
          "execution_count": 70
        }
      ]
    }
  ]
}