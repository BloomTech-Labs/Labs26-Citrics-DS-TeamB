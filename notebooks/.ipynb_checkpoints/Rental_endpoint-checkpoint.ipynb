{
 "cells": [
  {
   "cell_type": "code",
   "execution_count": 5,
   "metadata": {},
   "outputs": [],
   "source": [
    "import pandas as pd\n",
    "import os"
   ]
  },
  {
   "cell_type": "code",
   "execution_count": 15,
   "metadata": {},
   "outputs": [
    {
     "data": {
      "text/plain": [
       "(100, 13)"
      ]
     },
     "execution_count": 15,
     "metadata": {},
     "output_type": "execute_result"
    }
   ],
   "source": [
    "rental_data = \"./data/rental_data_2020.csv\"\n",
    "df = pd.read_csv(rental_data)\n",
    "df.shape"
   ]
  },
  {
   "cell_type": "code",
   "execution_count": 11,
   "metadata": {},
   "outputs": [
    {
     "data": {
      "text/html": [
       "<div>\n",
       "<style scoped>\n",
       "    .dataframe tbody tr th:only-of-type {\n",
       "        vertical-align: middle;\n",
       "    }\n",
       "\n",
       "    .dataframe tbody tr th {\n",
       "        vertical-align: top;\n",
       "    }\n",
       "\n",
       "    .dataframe thead th {\n",
       "        text-align: right;\n",
       "    }\n",
       "</style>\n",
       "<table border=\"1\" class=\"dataframe\">\n",
       "  <thead>\n",
       "    <tr style=\"text-align: right;\">\n",
       "      <th></th>\n",
       "      <th>city_id</th>\n",
       "      <th>city</th>\n",
       "      <th>state</th>\n",
       "      <th>city_state</th>\n",
       "      <th>fmr_0</th>\n",
       "      <th>fmr_1</th>\n",
       "      <th>fmr_2</th>\n",
       "      <th>fmr_3</th>\n",
       "      <th>fmr_4</th>\n",
       "      <th>areaname</th>\n",
       "      <th>countyname</th>\n",
       "      <th>fmr_pct_chg</th>\n",
       "      <th>fmr_dollar_chg</th>\n",
       "    </tr>\n",
       "  </thead>\n",
       "  <tbody>\n",
       "    <tr>\n",
       "      <td>0</td>\n",
       "      <td>0</td>\n",
       "      <td>Anchorage</td>\n",
       "      <td>AK</td>\n",
       "      <td>Anchorage, AK</td>\n",
       "      <td>935</td>\n",
       "      <td>991</td>\n",
       "      <td>1305</td>\n",
       "      <td>1883</td>\n",
       "      <td>2291</td>\n",
       "      <td>Anchorage, AK HUD Metro FMR Area</td>\n",
       "      <td>Anchorage Municipality</td>\n",
       "      <td>-0.006093</td>\n",
       "      <td>-8</td>\n",
       "    </tr>\n",
       "    <tr>\n",
       "      <td>1</td>\n",
       "      <td>1</td>\n",
       "      <td>Chandler</td>\n",
       "      <td>AZ</td>\n",
       "      <td>Chandler, AZ</td>\n",
       "      <td>847</td>\n",
       "      <td>958</td>\n",
       "      <td>1173</td>\n",
       "      <td>1676</td>\n",
       "      <td>1916</td>\n",
       "      <td>Phoenix-Chandler-Glendale-Gilbert-Mesa-Scottsd...</td>\n",
       "      <td>Maricopa County</td>\n",
       "      <td>0.093197</td>\n",
       "      <td>100</td>\n",
       "    </tr>\n",
       "    <tr>\n",
       "      <td>2</td>\n",
       "      <td>2</td>\n",
       "      <td>Gilbert</td>\n",
       "      <td>AZ</td>\n",
       "      <td>Gilbert, AZ</td>\n",
       "      <td>847</td>\n",
       "      <td>958</td>\n",
       "      <td>1173</td>\n",
       "      <td>1676</td>\n",
       "      <td>1916</td>\n",
       "      <td>Phoenix-Chandler-Glendale-Gilbert-Mesa-Scottsd...</td>\n",
       "      <td>Maricopa County</td>\n",
       "      <td>0.093197</td>\n",
       "      <td>100</td>\n",
       "    </tr>\n",
       "    <tr>\n",
       "      <td>3</td>\n",
       "      <td>3</td>\n",
       "      <td>Glendale</td>\n",
       "      <td>AZ</td>\n",
       "      <td>Glendale, AZ</td>\n",
       "      <td>847</td>\n",
       "      <td>958</td>\n",
       "      <td>1173</td>\n",
       "      <td>1676</td>\n",
       "      <td>1916</td>\n",
       "      <td>Phoenix-Chandler-Glendale-Gilbert-Mesa-Scottsd...</td>\n",
       "      <td>Maricopa County</td>\n",
       "      <td>0.093197</td>\n",
       "      <td>100</td>\n",
       "    </tr>\n",
       "    <tr>\n",
       "      <td>4</td>\n",
       "      <td>4</td>\n",
       "      <td>Mesa</td>\n",
       "      <td>AZ</td>\n",
       "      <td>Mesa, AZ</td>\n",
       "      <td>847</td>\n",
       "      <td>958</td>\n",
       "      <td>1173</td>\n",
       "      <td>1676</td>\n",
       "      <td>1916</td>\n",
       "      <td>Phoenix-Chandler-Glendale-Gilbert-Mesa-Scottsd...</td>\n",
       "      <td>Maricopa County</td>\n",
       "      <td>0.093197</td>\n",
       "      <td>100</td>\n",
       "    </tr>\n",
       "  </tbody>\n",
       "</table>\n",
       "</div>"
      ],
      "text/plain": [
       "   city_id       city state     city_state  fmr_0  fmr_1  fmr_2  fmr_3  fmr_4  \\\n",
       "0        0  Anchorage    AK  Anchorage, AK    935    991   1305   1883   2291   \n",
       "1        1   Chandler    AZ   Chandler, AZ    847    958   1173   1676   1916   \n",
       "2        2    Gilbert    AZ    Gilbert, AZ    847    958   1173   1676   1916   \n",
       "3        3   Glendale    AZ   Glendale, AZ    847    958   1173   1676   1916   \n",
       "4        4       Mesa    AZ       Mesa, AZ    847    958   1173   1676   1916   \n",
       "\n",
       "                                            areaname              countyname  \\\n",
       "0                   Anchorage, AK HUD Metro FMR Area  Anchorage Municipality   \n",
       "1  Phoenix-Chandler-Glendale-Gilbert-Mesa-Scottsd...         Maricopa County   \n",
       "2  Phoenix-Chandler-Glendale-Gilbert-Mesa-Scottsd...         Maricopa County   \n",
       "3  Phoenix-Chandler-Glendale-Gilbert-Mesa-Scottsd...         Maricopa County   \n",
       "4  Phoenix-Chandler-Glendale-Gilbert-Mesa-Scottsd...         Maricopa County   \n",
       "\n",
       "   fmr_pct_chg  fmr_dollar_chg  \n",
       "0    -0.006093              -8  \n",
       "1     0.093197             100  \n",
       "2     0.093197             100  \n",
       "3     0.093197             100  \n",
       "4     0.093197             100  "
      ]
     },
     "execution_count": 11,
     "metadata": {},
     "output_type": "execute_result"
    }
   ],
   "source": [
    "df.head()"
   ]
  },
  {
   "cell_type": "code",
   "execution_count": null,
   "metadata": {},
   "outputs": [],
   "source": [
    "'''\n",
    "    rt_data_dict[''] = rt_data[0][4]\n",
    "    rt_data_dict[''] = rt_data[0][8]\n",
    "    rt_data_dict[''] = rt_data[0][6]\n",
    "'''\n",
    " "
   ]
  },
  {
   "cell_type": "code",
   "execution_count": 16,
   "metadata": {},
   "outputs": [],
   "source": [
    "def  get_rental_data(city_id):   \n",
    "    rt_dict = {}\n",
    "    rt_data_dict = {}\n",
    "\n",
    "    df = pd.read_csv(rental_data, encoding='utf-8')\n",
    "    dataframe = df[df['city_id']==city_id]\n",
    "    rt_data = dataframe.to_numpy()\n",
    "    print(rt_data)\n",
    "    \n",
    "    rt_data_dict['id'] = rt_data[0][0]\n",
    "    rt_data_dict['city'] = rt_data[0][1]\n",
    "    rt_data_dict['state'] = rt_data[0][2]\n",
    "    rt_data_dict['city_state'] = rt_data[0][3]\n",
    "    \n",
    "    rt_data_dict['studio'] = rt_data[0][4]\n",
    "    rt_data_dict['1br'] = rt_data[0][5]\n",
    "    rt_data_dict['2br'] = rt_data[0][6]\n",
    "    rt_data_dict['3br'] = rt_data[0][7]\n",
    "    rt_data_dict['4br'] = rt_data[0][8]\n",
    "    rt_data_dict['area_name'] = rt_data[0][9]\n",
    "    rt_data_dict['county_name'] = rt_data[0][10]\n",
    "    rt_data_dict['rental_pct_chg'] = rt_data[0][11]\n",
    "    rt_data_dict['rental_dollar_chg'] = rt_data[0][12]\n",
    "     \n",
    "    \n",
    "    rt_dict['data'] = rt_data_dict\n",
    "    return rt_dict"
   ]
  },
  {
   "cell_type": "code",
   "execution_count": 17,
   "metadata": {},
   "outputs": [
    {
     "name": "stdout",
     "output_type": "stream",
     "text": [
      "[[17 'San Jose' 'CA' 'San Jose, CA' 2103 2458 2970 3943 4525\n",
      "  'San Jose-Sunnyvale-Santa Clara, CA HUD Metro FMR Area'\n",
      "  'Santa Clara County' 0.046143 131]]\n"
     ]
    }
   ],
   "source": [
    "d = get_rental_data(17)"
   ]
  },
  {
   "cell_type": "code",
   "execution_count": 18,
   "metadata": {},
   "outputs": [
    {
     "name": "stdout",
     "output_type": "stream",
     "text": [
      "{'data': {'id': 17, 'city': 'San Jose', 'state': 'CA', 'city_state': 'San Jose, CA', 'studio': 2103, '1br': 2458, '2br': 2970, '3br': 3943, '4br': 4525, 'area_name': 'San Jose-Sunnyvale-Santa Clara, CA HUD Metro FMR Area', 'county_name': 'Santa Clara County', 'rental_pct_chg': 0.046143, 'rental_dollar_chg': 131}}\n"
     ]
    }
   ],
   "source": [
    "print(d)"
   ]
  },
  {
   "cell_type": "code",
   "execution_count": null,
   "metadata": {},
   "outputs": [],
   "source": []
  }
 ],
 "metadata": {
  "kernelspec": {
   "display_name": "Python 3",
   "language": "python",
   "name": "python3"
  },
  "language_info": {
   "codemirror_mode": {
    "name": "ipython",
    "version": 3
   },
   "file_extension": ".py",
   "mimetype": "text/x-python",
   "name": "python",
   "nbconvert_exporter": "python",
   "pygments_lexer": "ipython3",
   "version": "3.7.4"
  }
 },
 "nbformat": 4,
 "nbformat_minor": 4
}
