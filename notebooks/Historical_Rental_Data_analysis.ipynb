{
  "nbformat": 4,
  "nbformat_minor": 0,
  "metadata": {
    "kernelspec": {
      "display_name": "Python 3",
      "language": "python",
      "name": "python3"
    },
    "language_info": {
      "codemirror_mode": {
        "name": "ipython",
        "version": 3
      },
      "file_extension": ".py",
      "mimetype": "text/x-python",
      "name": "python",
      "nbconvert_exporter": "python",
      "pygments_lexer": "ipython3",
      "version": "3.7.4"
    },
    "colab": {
      "name": "Historical_Rental_Data_analysis.ipynb",
      "provenance": [],
      "collapsed_sections": []
    }
  },
  "cells": [
    {
      "cell_type": "markdown",
      "metadata": {
        "id": "_Lygz8yVd08j"
      },
      "source": [
        "# Working on weather data for a project\n",
        "\n",
        "[Citrics](https://b.citrics.dev/) is a project that helps people decide before moving to a new city by providing them valuable informations on different cities. One of the core features of the project is being able see rental information and trend of different type of apartments of different cities. This notebook shows how the data was cleaned, wrangled and new features were created so that they can be used for getting rental info and to create predictive model to see trend towards the future.\n",
        "\n",
        "The data were collected from [huduser.gov](https://www.huduser.gov/portal/datasets/fmr.html). Data for each year were collected saparately and then joined together"
      ]
    },
    {
      "cell_type": "code",
      "metadata": {
        "id": "0FO_3x4E1YiG"
      },
      "source": [
        "import pandas as pd\n",
        "import numpy as np\n",
        "#pd.set_option('display.max_rows',None)"
      ],
      "execution_count": null,
      "outputs": []
    },
    {
      "cell_type": "code",
      "metadata": {
        "id": "CDyDGbpc1YiJ"
      },
      "source": [
        "#url_cities='./data/100city_population_data_2018.csv'\n",
        "url= \"/content/data/rental_2011.csv\"\n",
        "url_zumper_cities = '/content/data/100city_state_data.csv'\n",
        "df = pd.read_csv(url)\n",
        "df_cities = pd.read_csv(url_zumper_cities)\n"
      ],
      "execution_count": null,
      "outputs": []
    },
    {
      "cell_type": "markdown",
      "metadata": {
        "id": "-VyPR7Di1YiL"
      },
      "source": [
        "## areaname replaced in FMR Data\n",
        "# From.          To\n",
        "Urban Honolulu   Honolulu\n",
        "                 Gilbert added in areaname for maricopa county\n",
        "                 Glendale \"\"     \"\"\n",
        "                 chandler \"\"     \"\"\n",
        "Boise City       Boise\n",
        "Winston-Salem    Winston Salem\n",
        "                 \n",
        "                 Plano, TX added in areaname for collin county\n",
        "                 Chesapeake added in areaname for Chesapeake City County\n",
        "                 Irving, TX added in areaname for dallas county"
      ]
    },
    {
      "cell_type": "markdown",
      "metadata": {
        "id": "KyFUINeD1YiL"
      },
      "source": [
        "## City that was changed in cities_rental\n",
        "# From           To\n",
        "St Louis         St.Louis\n",
        "St Petersburg    St.Petersburg"
      ]
    },
    {
      "cell_type": "code",
      "metadata": {
        "id": "VunPzEeU1YiM",
        "outputId": "bfe38663-a1e1-4ad8-ba37-1d3397f9d902",
        "colab": {
          "base_uri": "https://localhost:8080/"
        }
      },
      "source": [
        "df.shape, df_cities.shape"
      ],
      "execution_count": null,
      "outputs": [
        {
          "output_type": "execute_result",
          "data": {
            "text/plain": [
              "((4765, 20), (100, 4))"
            ]
          },
          "metadata": {
            "tags": []
          },
          "execution_count": 3
        }
      ]
    },
    {
      "cell_type": "code",
      "metadata": {
        "id": "P51AYxop1YiP",
        "outputId": "2772053d-2864-4877-ecdc-59784f503ae7",
        "colab": {
          "base_uri": "https://localhost:8080/"
        }
      },
      "source": [
        "df.columns"
      ],
      "execution_count": null,
      "outputs": [
        {
          "output_type": "execute_result",
          "data": {
            "text/plain": [
              "Index(['FIPS', 'fmr0', 'fmr1', 'fmr2', 'fmr3', 'fmr4', 'county', 'State',\n",
              "       'CouSub', 'pop2000', 'countyname', 'Metro_code', 'Areaname',\n",
              "       'county_town_name', 'ACS_2010_sm_2', 'state_alpha', 'fmr_type', 'metro',\n",
              "       'FMR_PCT_Change', 'FMR_Dollar_Change'],\n",
              "      dtype='object')"
            ]
          },
          "metadata": {
            "tags": []
          },
          "execution_count": 4
        }
      ]
    },
    {
      "cell_type": "code",
      "metadata": {
        "id": "2hw4ZxqIpm17"
      },
      "source": [
        "df.rename(columns = {'Areaname':'areaname', 'fmr0':'fmr_0', 'fmr1':'fmr_1', 'fmr2':'fmr_2', 'fmr3':'fmr_3', 'fmr4':'fmr_4', }, inplace = True) "
      ],
      "execution_count": null,
      "outputs": []
    },
    {
      "cell_type": "code",
      "metadata": {
        "id": "OoQqo9241YiR",
        "outputId": "084843dc-7b8a-4a74-f435-d283dfcc9ffb",
        "colab": {
          "base_uri": "https://localhost:8080/"
        }
      },
      "source": [
        "df_cities.columns"
      ],
      "execution_count": null,
      "outputs": [
        {
          "output_type": "execute_result",
          "data": {
            "text/plain": [
              "Index(['city_id', 'city', 'state', 'city_state'], dtype='object')"
            ]
          },
          "metadata": {
            "tags": []
          },
          "execution_count": 6
        }
      ]
    },
    {
      "cell_type": "code",
      "metadata": {
        "id": "mINcVwwf1YiT",
        "outputId": "c6185600-284d-4c48-a7ee-17904f23a815",
        "colab": {
          "base_uri": "https://localhost:8080/",
          "height": 366
        }
      },
      "source": [
        "df.head()"
      ],
      "execution_count": null,
      "outputs": [
        {
          "output_type": "execute_result",
          "data": {
            "text/html": [
              "<div>\n",
              "<style scoped>\n",
              "    .dataframe tbody tr th:only-of-type {\n",
              "        vertical-align: middle;\n",
              "    }\n",
              "\n",
              "    .dataframe tbody tr th {\n",
              "        vertical-align: top;\n",
              "    }\n",
              "\n",
              "    .dataframe thead th {\n",
              "        text-align: right;\n",
              "    }\n",
              "</style>\n",
              "<table border=\"1\" class=\"dataframe\">\n",
              "  <thead>\n",
              "    <tr style=\"text-align: right;\">\n",
              "      <th></th>\n",
              "      <th>FIPS</th>\n",
              "      <th>fmr_0</th>\n",
              "      <th>fmr_1</th>\n",
              "      <th>fmr_2</th>\n",
              "      <th>fmr_3</th>\n",
              "      <th>fmr_4</th>\n",
              "      <th>county</th>\n",
              "      <th>State</th>\n",
              "      <th>CouSub</th>\n",
              "      <th>pop2000</th>\n",
              "      <th>countyname</th>\n",
              "      <th>Metro_code</th>\n",
              "      <th>areaname</th>\n",
              "      <th>county_town_name</th>\n",
              "      <th>ACS_2010_sm_2</th>\n",
              "      <th>state_alpha</th>\n",
              "      <th>fmr_type</th>\n",
              "      <th>metro</th>\n",
              "      <th>FMR_PCT_Change</th>\n",
              "      <th>FMR_Dollar_Change</th>\n",
              "    </tr>\n",
              "  </thead>\n",
              "  <tbody>\n",
              "    <tr>\n",
              "      <th>0</th>\n",
              "      <td>100199999</td>\n",
              "      <td>552</td>\n",
              "      <td>653</td>\n",
              "      <td>735</td>\n",
              "      <td>975</td>\n",
              "      <td>1287</td>\n",
              "      <td>1</td>\n",
              "      <td>1</td>\n",
              "      <td>99999</td>\n",
              "      <td>43671.0</td>\n",
              "      <td>Autauga County</td>\n",
              "      <td>METRO33860M33860</td>\n",
              "      <td>Montgomery, AL MSA</td>\n",
              "      <td>Autauga County</td>\n",
              "      <td>735.0</td>\n",
              "      <td>AL</td>\n",
              "      <td>40</td>\n",
              "      <td>1</td>\n",
              "      <td>1.000000</td>\n",
              "      <td>0.0</td>\n",
              "    </tr>\n",
              "    <tr>\n",
              "      <th>1</th>\n",
              "      <td>100399999</td>\n",
              "      <td>534</td>\n",
              "      <td>643</td>\n",
              "      <td>764</td>\n",
              "      <td>1013</td>\n",
              "      <td>1160</td>\n",
              "      <td>3</td>\n",
              "      <td>1</td>\n",
              "      <td>99999</td>\n",
              "      <td>140415.0</td>\n",
              "      <td>Baldwin County</td>\n",
              "      <td>NCNTY01003N01003</td>\n",
              "      <td>Baldwin County, AL</td>\n",
              "      <td>Baldwin County</td>\n",
              "      <td>764.0</td>\n",
              "      <td>AL</td>\n",
              "      <td>40</td>\n",
              "      <td>0</td>\n",
              "      <td>1.000000</td>\n",
              "      <td>0.0</td>\n",
              "    </tr>\n",
              "    <tr>\n",
              "      <th>2</th>\n",
              "      <td>100599999</td>\n",
              "      <td>448</td>\n",
              "      <td>449</td>\n",
              "      <td>539</td>\n",
              "      <td>667</td>\n",
              "      <td>687</td>\n",
              "      <td>5</td>\n",
              "      <td>1</td>\n",
              "      <td>99999</td>\n",
              "      <td>29038.0</td>\n",
              "      <td>Barbour County</td>\n",
              "      <td>NCNTY01005N01005</td>\n",
              "      <td>Barbour County, AL</td>\n",
              "      <td>Barbour County</td>\n",
              "      <td>539.0</td>\n",
              "      <td>AL</td>\n",
              "      <td>40</td>\n",
              "      <td>0</td>\n",
              "      <td>1.000000</td>\n",
              "      <td>0.0</td>\n",
              "    </tr>\n",
              "    <tr>\n",
              "      <th>3</th>\n",
              "      <td>100799999</td>\n",
              "      <td>634</td>\n",
              "      <td>705</td>\n",
              "      <td>786</td>\n",
              "      <td>997</td>\n",
              "      <td>1027</td>\n",
              "      <td>7</td>\n",
              "      <td>1</td>\n",
              "      <td>99999</td>\n",
              "      <td>20826.0</td>\n",
              "      <td>Bibb County</td>\n",
              "      <td>METRO13820M13820</td>\n",
              "      <td>Birmingham-Hoover, AL HUD Metro FMR Area</td>\n",
              "      <td>Bibb County</td>\n",
              "      <td>735.0</td>\n",
              "      <td>AL</td>\n",
              "      <td>40</td>\n",
              "      <td>1</td>\n",
              "      <td>1.069388</td>\n",
              "      <td>51.0</td>\n",
              "    </tr>\n",
              "    <tr>\n",
              "      <th>4</th>\n",
              "      <td>100999999</td>\n",
              "      <td>634</td>\n",
              "      <td>705</td>\n",
              "      <td>786</td>\n",
              "      <td>997</td>\n",
              "      <td>1027</td>\n",
              "      <td>9</td>\n",
              "      <td>1</td>\n",
              "      <td>99999</td>\n",
              "      <td>51024.0</td>\n",
              "      <td>Blount County</td>\n",
              "      <td>METRO13820M13820</td>\n",
              "      <td>Birmingham-Hoover, AL HUD Metro FMR Area</td>\n",
              "      <td>Blount County</td>\n",
              "      <td>735.0</td>\n",
              "      <td>AL</td>\n",
              "      <td>40</td>\n",
              "      <td>1</td>\n",
              "      <td>1.069388</td>\n",
              "      <td>51.0</td>\n",
              "    </tr>\n",
              "  </tbody>\n",
              "</table>\n",
              "</div>"
            ],
            "text/plain": [
              "        FIPS  fmr_0  fmr_1  ...  metro  FMR_PCT_Change  FMR_Dollar_Change\n",
              "0  100199999    552    653  ...      1        1.000000                0.0\n",
              "1  100399999    534    643  ...      0        1.000000                0.0\n",
              "2  100599999    448    449  ...      0        1.000000                0.0\n",
              "3  100799999    634    705  ...      1        1.069388               51.0\n",
              "4  100999999    634    705  ...      1        1.069388               51.0\n",
              "\n",
              "[5 rows x 20 columns]"
            ]
          },
          "metadata": {
            "tags": []
          },
          "execution_count": 7
        }
      ]
    },
    {
      "cell_type": "code",
      "metadata": {
        "id": "JoIqMXYG9nwr",
        "outputId": "f1ad286b-da95-4467-9d2f-35d0bc522c8e",
        "colab": {
          "base_uri": "https://localhost:8080/",
          "height": 164
        }
      },
      "source": [
        "df.loc[df['countyname'] == 'Collin County']"
      ],
      "execution_count": null,
      "outputs": [
        {
          "output_type": "execute_result",
          "data": {
            "text/html": [
              "<div>\n",
              "<style scoped>\n",
              "    .dataframe tbody tr th:only-of-type {\n",
              "        vertical-align: middle;\n",
              "    }\n",
              "\n",
              "    .dataframe tbody tr th {\n",
              "        vertical-align: top;\n",
              "    }\n",
              "\n",
              "    .dataframe thead th {\n",
              "        text-align: right;\n",
              "    }\n",
              "</style>\n",
              "<table border=\"1\" class=\"dataframe\">\n",
              "  <thead>\n",
              "    <tr style=\"text-align: right;\">\n",
              "      <th></th>\n",
              "      <th>FIPS</th>\n",
              "      <th>fmr_0</th>\n",
              "      <th>fmr_1</th>\n",
              "      <th>fmr_2</th>\n",
              "      <th>fmr_3</th>\n",
              "      <th>fmr_4</th>\n",
              "      <th>county</th>\n",
              "      <th>State</th>\n",
              "      <th>CouSub</th>\n",
              "      <th>pop2000</th>\n",
              "      <th>countyname</th>\n",
              "      <th>Metro_code</th>\n",
              "      <th>areaname</th>\n",
              "      <th>county_town_name</th>\n",
              "      <th>ACS_2010_sm_2</th>\n",
              "      <th>state_alpha</th>\n",
              "      <th>fmr_type</th>\n",
              "      <th>metro</th>\n",
              "      <th>FMR_PCT_Change</th>\n",
              "      <th>FMR_Dollar_Change</th>\n",
              "    </tr>\n",
              "  </thead>\n",
              "  <tbody>\n",
              "    <tr>\n",
              "      <th>3863</th>\n",
              "      <td>4808599999</td>\n",
              "      <td>666</td>\n",
              "      <td>738</td>\n",
              "      <td>891</td>\n",
              "      <td>1160</td>\n",
              "      <td>1372</td>\n",
              "      <td>85</td>\n",
              "      <td>48</td>\n",
              "      <td>99999</td>\n",
              "      <td>491675.0</td>\n",
              "      <td>Collin County</td>\n",
              "      <td>METRO19100M19100</td>\n",
              "      <td>Dallas, TX HUD Metro FMR Area</td>\n",
              "      <td>Collin County</td>\n",
              "      <td>894.0</td>\n",
              "      <td>TX</td>\n",
              "      <td>40</td>\n",
              "      <td>1</td>\n",
              "      <td>0.996644</td>\n",
              "      <td>-3.0</td>\n",
              "    </tr>\n",
              "  </tbody>\n",
              "</table>\n",
              "</div>"
            ],
            "text/plain": [
              "            FIPS  fmr_0  fmr_1  ...  metro  FMR_PCT_Change  FMR_Dollar_Change\n",
              "3863  4808599999    666    738  ...      1        0.996644               -3.0\n",
              "\n",
              "[1 rows x 20 columns]"
            ]
          },
          "metadata": {
            "tags": []
          },
          "execution_count": 8
        }
      ]
    },
    {
      "cell_type": "code",
      "metadata": {
        "id": "hXUGGtAK-CXx",
        "outputId": "92ff587c-20ef-4380-82e2-f80a5ac50470",
        "colab": {
          "base_uri": "https://localhost:8080/",
          "height": 198
        }
      },
      "source": [
        "df.loc[df['countyname'] == 'Chesapeake city']"
      ],
      "execution_count": null,
      "outputs": [
        {
          "output_type": "execute_result",
          "data": {
            "text/html": [
              "<div>\n",
              "<style scoped>\n",
              "    .dataframe tbody tr th:only-of-type {\n",
              "        vertical-align: middle;\n",
              "    }\n",
              "\n",
              "    .dataframe tbody tr th {\n",
              "        vertical-align: top;\n",
              "    }\n",
              "\n",
              "    .dataframe thead th {\n",
              "        text-align: right;\n",
              "    }\n",
              "</style>\n",
              "<table border=\"1\" class=\"dataframe\">\n",
              "  <thead>\n",
              "    <tr style=\"text-align: right;\">\n",
              "      <th></th>\n",
              "      <th>FIPS</th>\n",
              "      <th>fmr_0</th>\n",
              "      <th>fmr_1</th>\n",
              "      <th>fmr_2</th>\n",
              "      <th>fmr_3</th>\n",
              "      <th>fmr_4</th>\n",
              "      <th>county</th>\n",
              "      <th>State</th>\n",
              "      <th>CouSub</th>\n",
              "      <th>pop2000</th>\n",
              "      <th>countyname</th>\n",
              "      <th>Metro_code</th>\n",
              "      <th>areaname</th>\n",
              "      <th>county_town_name</th>\n",
              "      <th>ACS_2010_sm_2</th>\n",
              "      <th>state_alpha</th>\n",
              "      <th>fmr_type</th>\n",
              "      <th>metro</th>\n",
              "      <th>FMR_PCT_Change</th>\n",
              "      <th>FMR_Dollar_Change</th>\n",
              "    </tr>\n",
              "  </thead>\n",
              "  <tbody>\n",
              "    <tr>\n",
              "      <th>4459</th>\n",
              "      <td>5155099999</td>\n",
              "      <td>800</td>\n",
              "      <td>834</td>\n",
              "      <td>965</td>\n",
              "      <td>1319</td>\n",
              "      <td>1590</td>\n",
              "      <td>550</td>\n",
              "      <td>51</td>\n",
              "      <td>99999</td>\n",
              "      <td>199184.0</td>\n",
              "      <td>Chesapeake city</td>\n",
              "      <td>METRO47260M47260</td>\n",
              "      <td>Virginia Beach-Norfolk-Newport News, VA-NC MSA</td>\n",
              "      <td>Chesapeake city</td>\n",
              "      <td>934.0</td>\n",
              "      <td>VA</td>\n",
              "      <td>40</td>\n",
              "      <td>1</td>\n",
              "      <td>1.033191</td>\n",
              "      <td>31.0</td>\n",
              "    </tr>\n",
              "  </tbody>\n",
              "</table>\n",
              "</div>"
            ],
            "text/plain": [
              "            FIPS  fmr_0  fmr_1  ...  metro  FMR_PCT_Change  FMR_Dollar_Change\n",
              "4459  5155099999    800    834  ...      1        1.033191               31.0\n",
              "\n",
              "[1 rows x 20 columns]"
            ]
          },
          "metadata": {
            "tags": []
          },
          "execution_count": 9
        }
      ]
    },
    {
      "cell_type": "code",
      "metadata": {
        "id": "bM-I5BsG-pG3",
        "outputId": "6dda78ec-f10c-4257-ac93-80c6e8c9da2e",
        "colab": {
          "base_uri": "https://localhost:8080/",
          "height": 501
        }
      },
      "source": [
        "df.loc[df['countyname'] == 'Dallas County']"
      ],
      "execution_count": null,
      "outputs": [
        {
          "output_type": "execute_result",
          "data": {
            "text/html": [
              "<div>\n",
              "<style scoped>\n",
              "    .dataframe tbody tr th:only-of-type {\n",
              "        vertical-align: middle;\n",
              "    }\n",
              "\n",
              "    .dataframe tbody tr th {\n",
              "        vertical-align: top;\n",
              "    }\n",
              "\n",
              "    .dataframe thead th {\n",
              "        text-align: right;\n",
              "    }\n",
              "</style>\n",
              "<table border=\"1\" class=\"dataframe\">\n",
              "  <thead>\n",
              "    <tr style=\"text-align: right;\">\n",
              "      <th></th>\n",
              "      <th>FIPS</th>\n",
              "      <th>fmr_0</th>\n",
              "      <th>fmr_1</th>\n",
              "      <th>fmr_2</th>\n",
              "      <th>fmr_3</th>\n",
              "      <th>fmr_4</th>\n",
              "      <th>county</th>\n",
              "      <th>State</th>\n",
              "      <th>CouSub</th>\n",
              "      <th>pop2000</th>\n",
              "      <th>countyname</th>\n",
              "      <th>Metro_code</th>\n",
              "      <th>areaname</th>\n",
              "      <th>county_town_name</th>\n",
              "      <th>ACS_2010_sm_2</th>\n",
              "      <th>state_alpha</th>\n",
              "      <th>fmr_type</th>\n",
              "      <th>metro</th>\n",
              "      <th>FMR_PCT_Change</th>\n",
              "      <th>FMR_Dollar_Change</th>\n",
              "    </tr>\n",
              "  </thead>\n",
              "  <tbody>\n",
              "    <tr>\n",
              "      <th>23</th>\n",
              "      <td>104799999</td>\n",
              "      <td>355</td>\n",
              "      <td>493</td>\n",
              "      <td>547</td>\n",
              "      <td>690</td>\n",
              "      <td>740</td>\n",
              "      <td>47</td>\n",
              "      <td>1</td>\n",
              "      <td>99999</td>\n",
              "      <td>46365.0</td>\n",
              "      <td>Dallas County</td>\n",
              "      <td>NCNTY01047N01047</td>\n",
              "      <td>Dallas County, AL</td>\n",
              "      <td>Dallas County</td>\n",
              "      <td>547.0</td>\n",
              "      <td>AL</td>\n",
              "      <td>40</td>\n",
              "      <td>0</td>\n",
              "      <td>1.000000</td>\n",
              "      <td>0.0</td>\n",
              "    </tr>\n",
              "    <tr>\n",
              "      <th>130</th>\n",
              "      <td>503999999</td>\n",
              "      <td>347</td>\n",
              "      <td>481</td>\n",
              "      <td>536</td>\n",
              "      <td>683</td>\n",
              "      <td>869</td>\n",
              "      <td>39</td>\n",
              "      <td>5</td>\n",
              "      <td>99999</td>\n",
              "      <td>9210.0</td>\n",
              "      <td>Dallas County</td>\n",
              "      <td>NCNTY05039N05039</td>\n",
              "      <td>Dallas County, AR</td>\n",
              "      <td>Dallas County</td>\n",
              "      <td>515.0</td>\n",
              "      <td>AR</td>\n",
              "      <td>40</td>\n",
              "      <td>0</td>\n",
              "      <td>1.040777</td>\n",
              "      <td>21.0</td>\n",
              "    </tr>\n",
              "    <tr>\n",
              "      <th>974</th>\n",
              "      <td>1904999999</td>\n",
              "      <td>508</td>\n",
              "      <td>606</td>\n",
              "      <td>739</td>\n",
              "      <td>947</td>\n",
              "      <td>1055</td>\n",
              "      <td>49</td>\n",
              "      <td>19</td>\n",
              "      <td>99999</td>\n",
              "      <td>40750.0</td>\n",
              "      <td>Dallas County</td>\n",
              "      <td>METRO19780M19780</td>\n",
              "      <td>Des Moines-West Des Moines, IA MSA</td>\n",
              "      <td>Dallas County</td>\n",
              "      <td>737.0</td>\n",
              "      <td>IA</td>\n",
              "      <td>40</td>\n",
              "      <td>1</td>\n",
              "      <td>1.002714</td>\n",
              "      <td>2.0</td>\n",
              "    </tr>\n",
              "    <tr>\n",
              "      <th>2527</th>\n",
              "      <td>2905999999</td>\n",
              "      <td>352</td>\n",
              "      <td>457</td>\n",
              "      <td>541</td>\n",
              "      <td>738</td>\n",
              "      <td>762</td>\n",
              "      <td>59</td>\n",
              "      <td>29</td>\n",
              "      <td>99999</td>\n",
              "      <td>15661.0</td>\n",
              "      <td>Dallas County</td>\n",
              "      <td>METRO44180N29059</td>\n",
              "      <td>Dallas County, MO HUD Metro FMR Area</td>\n",
              "      <td>Dallas County</td>\n",
              "      <td>517.0</td>\n",
              "      <td>MO</td>\n",
              "      <td>40</td>\n",
              "      <td>1</td>\n",
              "      <td>1.046422</td>\n",
              "      <td>24.0</td>\n",
              "    </tr>\n",
              "    <tr>\n",
              "      <th>3877</th>\n",
              "      <td>4811399999</td>\n",
              "      <td>666</td>\n",
              "      <td>738</td>\n",
              "      <td>891</td>\n",
              "      <td>1160</td>\n",
              "      <td>1372</td>\n",
              "      <td>113</td>\n",
              "      <td>48</td>\n",
              "      <td>99999</td>\n",
              "      <td>2218899.0</td>\n",
              "      <td>Dallas County</td>\n",
              "      <td>METRO19100M19100</td>\n",
              "      <td>Dallas, TX HUD Metro FMR Area</td>\n",
              "      <td>Dallas County</td>\n",
              "      <td>894.0</td>\n",
              "      <td>TX</td>\n",
              "      <td>40</td>\n",
              "      <td>1</td>\n",
              "      <td>0.996644</td>\n",
              "      <td>-3.0</td>\n",
              "    </tr>\n",
              "  </tbody>\n",
              "</table>\n",
              "</div>"
            ],
            "text/plain": [
              "            FIPS  fmr_0  fmr_1  ...  metro  FMR_PCT_Change  FMR_Dollar_Change\n",
              "23     104799999    355    493  ...      0        1.000000                0.0\n",
              "130    503999999    347    481  ...      0        1.040777               21.0\n",
              "974   1904999999    508    606  ...      1        1.002714                2.0\n",
              "2527  2905999999    352    457  ...      1        1.046422               24.0\n",
              "3877  4811399999    666    738  ...      1        0.996644               -3.0\n",
              "\n",
              "[5 rows x 20 columns]"
            ]
          },
          "metadata": {
            "tags": []
          },
          "execution_count": 10
        }
      ]
    },
    {
      "cell_type": "code",
      "metadata": {
        "id": "B6jyWijTBOdU",
        "outputId": "71afc729-c7ec-4c71-e1cd-3f81d31cd3bd",
        "colab": {
          "base_uri": "https://localhost:8080/"
        }
      },
      "source": [
        "pd.set_option('display.max_colwidth', None)\n",
        "df.loc[df['countyname'] == 'Los Angeles County'].areaname"
      ],
      "execution_count": null,
      "outputs": [
        {
          "output_type": "execute_result",
          "data": {
            "text/plain": [
              "204    Los Angeles-Long Beach, CA HUD Metro FMR Area\n",
              "Name: areaname, dtype: object"
            ]
          },
          "metadata": {
            "tags": []
          },
          "execution_count": 11
        }
      ]
    },
    {
      "cell_type": "code",
      "metadata": {
        "id": "K1yyNKW4B6yd",
        "outputId": "edff7162-9c90-4f83-cd46-ac1ba99f4bfe",
        "colab": {
          "base_uri": "https://localhost:8080/"
        }
      },
      "source": [
        "df.loc[df['countyname'] == 'Maricopa County'].areaname"
      ],
      "execution_count": null,
      "outputs": [
        {
          "output_type": "execute_result",
          "data": {
            "text/plain": [
              "103    Phoenix-Mesa-Glendale, AZ MSA\n",
              "Name: areaname, dtype: object"
            ]
          },
          "metadata": {
            "tags": []
          },
          "execution_count": 12
        }
      ]
    },
    {
      "cell_type": "code",
      "metadata": {
        "id": "m-IRf-hsrJds",
        "outputId": "3b849ec6-408d-4572-e36c-c6607e097114",
        "colab": {
          "base_uri": "https://localhost:8080/"
        }
      },
      "source": [
        "print(sorted(df.areaname.unique()))"
      ],
      "execution_count": null,
      "outputs": [
        {
          "output_type": "stream",
          "text": [
            "['Abbeville County, SC', 'Abilene, TX MSA', 'Acadia Parish, LA', 'Accomack County, VA', 'Adair County, IA', 'Adair County, KY', 'Adair County, MO', 'Adair County, OK', 'Adams County, IA', 'Adams County, ID', 'Adams County, IL', 'Adams County, IN', 'Adams County, MS', 'Adams County, ND', 'Adams County, NE', 'Adams County, OH', 'Adams County, PA', 'Adams County, WA', 'Adams County, WI', 'Addison County, VT', 'Aguadilla-Isabela-San Sebastián, PR MSA', 'Aitkin County, MN', 'Akron, OH MSA', 'Alamosa County, CO', 'Albany County, WY', 'Albany, GA MSA', 'Albany-Schenectady-Troy, NY MSA', 'Albuquerque, NM MSA', 'Alcona County, MI', 'Alcorn County, MS', 'Aleutians East Borough, AK', 'Aleutians West Census Area, AK', 'Alexandria, LA MSA', 'Alfalfa County, OK', 'Alger County, MI', 'Allamakee County, IA', 'Allegan County, MI', 'Allegany County, NY', 'Alleghany County, NC', 'Alleghany County-Clifton Forge city-Covington city, VA HUD Nonmetro FMR Area', 'Allen County, KS', 'Allen County, KY', 'Allen Parish, LA', 'Allendale County, SC', 'Allentown-Bethlehem-Easton, PA HUD Metro FMR Area', 'Alpena County, MI', 'Alpine County, CA', 'Altoona, PA MSA', 'Amador County, CA', 'Amarillo, TX MSA', 'Ames, IA MSA', 'Amite County, MS', 'Anchorage, AK HUD Metro FMR Area', 'Anderson County, KS', 'Anderson County, KY', 'Anderson County, TX', 'Anderson, IN MSA', 'Anderson, SC MSA', 'Andrews County, TX', 'Angelina County, TX', 'Ann Arbor, MI MSA', 'Anniston-Oxford, AL MSA', 'Anson County, NC HUD Metro FMR Area', 'Antelope County, NE', 'Antrim County, MI', 'Apache County, AZ', 'Appanoose County, IA', 'Appleton, WI MSA', 'Appling County, GA', 'Aransas County, TX HUD Metro FMR Area', 'Archuleta County, CO', 'Arecibo, PR HUD Metro FMR Area', 'Arenac County, MI', 'Arkansas County, AR', 'Armstrong County, PA HUD Metro FMR Area', 'Aroostook County, ME', 'Arthur County, NE', 'Ashe County, NC', 'Asheville, NC HUD Metro FMR Area', 'Ashland County, OH', 'Ashland County, WI', 'Ashley County, AR', 'Ashtabula County, OH', 'Assumption Parish, LA', 'Atascosa County, TX HUD Metro FMR Area', 'Atchison County, KS', 'Atchison County, MO', 'Athens County, OH', 'Athens-Clarke County, GA MSA', 'Atkinson County, GA', 'Atlanta-Sandy Springs-Marietta, GA HUD Metro FMR Area', 'Atlantic City-Hammonton, NJ MSA', 'Atoka County, OK', 'Attala County, MS', 'Auburn-Opelika, AL MSA', 'Audrain County, MO', 'Audubon County, IA', 'Auglaize County, OH', 'Augusta County-Staunton city-Waynesboro city, VA HUD Nonmetro FMR Area', 'Augusta-Richmond County, GA-SC MSA', 'Aurora County, SD', 'Austin County, TX HUD Metro FMR Area', 'Austin-Round Rock-San Marcos, TX MSA', 'Avery County, NC', 'Avoyelles Parish, LA', 'Baca County, CO', 'Bacon County, GA', 'Bailey County, TX', 'Baker County, FL HUD Metro FMR Area', 'Baker County, OR', 'Bakersfield-Delano, CA MSA', 'Baldwin County, AL', 'Baldwin County, GA', 'Ballard County, KY', 'Baltimore-Towson, MD HUD Metro FMR Area', 'Bamberg County, SC', 'Bangor, ME HUD Metro FMR Area', 'Banks County, GA', 'Banner County, NE', 'Baraga County, MI', 'Barber County, KS', 'Barbour County, AL', 'Barbour County, WV', 'Barnes County, ND', 'Barnstable Town, MA MSA', 'Barnwell County, SC', 'Barranquitas-Aibonito-Quebradillas, PR HUD Metro FMR Area', 'Barren County, KY', 'Barron County, WI', 'Barry County, MI HUD Metro FMR Area', 'Barry County, MO', 'Barton County, KS', 'Barton County, MO', 'Bates County, MO HUD Metro FMR Area', 'Bath County, KY', 'Bath County, VA', 'Baton Rouge, LA HUD Metro FMR Area', 'Battle Creek, MI MSA', 'Baxter County, AR', 'Bay City, MI MSA', 'Bayfield County, WI', 'Baylor County, TX', 'Beadle County, SD', 'Bear Lake County, ID', 'Beaufort County, NC', 'Beaufort County, SC', 'Beaumont-Port Arthur, TX MSA', 'Beauregard Parish, LA', 'Beaver County, OK', 'Beaver County, UT', 'Beaverhead County, MT', 'Becker County, MN', 'Beckham County, OK', 'Bedford County, PA', 'Bedford County, TN', 'Bee County, TX', 'Belknap County, NH', 'Bell County, KY', 'Bellingham, WA MSA', 'Beltrami County, MN', 'Ben Hill County, GA', 'Bend, OR MSA', 'Benewah County, ID', 'Bennett County, SD', 'Bennington County, VT', 'Benson County, ND', 'Bent County, CO', 'Benton County, IA HUD Metro FMR Area', 'Benton County, MO', 'Benton County, MS', 'Benton County, TN', 'Benzie County, MI', 'Bergen-Passaic, NJ HUD Metro FMR Area', 'Berkshire County, MA (part) HUD Metro FMR Area', 'Berrien County, GA', 'Bertie County, NC', 'Bethel Census Area, AK', 'Bienville Parish, LA', 'Big Horn County, MT', 'Big Horn County, WY', 'Big Stone County, MN', 'Billings County, ND', 'Billings, MT MSA', 'Bingham County, ID', 'Binghamton, NY MSA', 'Birmingham-Hoover, AL HUD Metro FMR Area', 'Bismarck, ND MSA', 'Blackford County, IN', 'Blacksburg-Christiansburg-Radford, VA HUD Metro FMR Area', 'Bladen County, NC', 'Blaine County, ID', 'Blaine County, MT', 'Blaine County, NE', 'Blaine County, OK', 'Blanco County, TX', 'Bland County, VA', 'Bleckley County, GA', 'Bledsoe County, TN', 'Bloomington, IN HUD Metro FMR Area', 'Bloomington-Normal, IL MSA', 'Boise City-Nampa, ID HUD Metro FMR Area', 'Bolivar County, MS', 'Bon Homme County, SD', 'Bond County, IL HUD Metro FMR Area', 'Bonner County, ID', 'Boone County, AR', 'Boone County, IA', 'Boone County, NE', 'Boone County, WV HUD Metro FMR Area', 'Borden County, TX', 'Bosque County, TX', 'Boston-Cambridge-Quincy, MA-NH HUD Metro FMR Area', 'Bottineau County, ND', 'Boulder, CO MSA', 'Boundary County, ID', 'Bourbon County, KS', 'Bowling Green, KY MSA', 'Bowman County, ND', 'Box Butte County, NE', 'Box Elder County, UT', 'Boyd County, NE', 'Boyle County, KY', 'Bradford County, FL', 'Bradford County, PA', 'Bradley County, AR', 'Branch County, MI', 'Braxton County, WV', 'Brazoria County, TX HUD Metro FMR Area', 'Breathitt County, KY', 'Breckinridge County, KY', 'Bremer County, IA HUD Metro FMR Area', 'Bremerton-Silverdale, WA MSA', 'Brewster County, TX', 'Bridgeport, CT HUD Metro FMR Area', 'Briscoe County, TX', 'Bristol Bay Borough, AK', 'Broadwater County, MT', 'Brockton, MA HUD Metro FMR Area', 'Brookings County, SD', 'Brooks County, TX', 'Brown County, IL', 'Brown County, KS', 'Brown County, MN', 'Brown County, NE', 'Brown County, OH HUD Metro FMR Area', 'Brown County, SD', 'Brown County, TX', 'Brownsville-Harlingen, TX MSA', 'Brule County, SD', 'Brunswick County, VA', 'Brunswick, GA MSA', 'Bryan County, OK', 'Buchanan County, IA', 'Buchanan County, VA', 'Buckingham County, VA', 'Buena Vista County, IA', 'Buffalo County, NE', 'Buffalo County, SD', 'Buffalo County, WI', 'Buffalo-Niagara Falls, NY MSA', 'Bulloch County, GA', 'Bullock County, AL', 'Bureau County, IL', 'Burke County, ND', 'Burlington, NC MSA', 'Burlington-South Burlington, VT MSA', 'Burnet County, TX', 'Burnett County, WI', 'Burt County, NE', 'Butler County, AL', 'Butler County, IA', 'Butler County, KY', 'Butler County, MO', 'Butler County, NE', 'Butte County, ID', 'Butte County, SD', 'Butts County, GA HUD Metro FMR Area', 'Caddo County, OK', 'Caguas, PR HUD Metro FMR Area', 'Calaveras County, CA', 'Caldwell County, KY', 'Caldwell Parish, LA', 'Caledonia County, VT', 'Calhoun County, AR', 'Calhoun County, FL', 'Calhoun County, GA', 'Calhoun County, IA', 'Calhoun County, MS', 'Calhoun County, TX HUD Metro FMR Area', 'Calhoun County, WV', 'Calloway County, KY', 'Calloway County, MO HUD Metro FMR Area', 'Camas County, ID', 'Camden County, GA', 'Camden County, MO', 'Camden County, NC', 'Cameron County, PA', 'Camp County, TX', 'Campbell County, SD', 'Campbell County, TN', 'Campbell County, WY', 'Candler County, GA', 'Canton-Massillon, OH MSA', 'Cape Coral-Fort Myers, FL MSA', 'Cape Girardeau-Jackson, MO-IL MSA', 'Carbon County, UT', 'Carbon County, WY', 'Caribou County, ID', 'Carlisle County, KY', 'Caroline County, MD', 'Carroll County, AR', 'Carroll County, IA', 'Carroll County, IL', 'Carroll County, IN HUD Metro FMR Area', 'Carroll County, KY', 'Carroll County, MO', 'Carroll County, MS', 'Carroll County, NH', 'Carroll County, TN', 'Carroll County-Galax city, VA HUD Nonmetro FMR Area', 'Carson City, NV MSA', 'Carter County, KY', 'Carter County, MO', 'Carter County, MT', 'Carter County, OK', 'Carteret County, NC', 'Casey County, KY', 'Casper, WY MSA', 'Cass County, IA', 'Cass County, IL', 'Cass County, IN', 'Cass County, MI HUD Metro FMR Area', 'Cass County, MN', 'Cass County, TX', 'Cassia County, ID', 'Castro County, TX', 'Caswell County, NC', 'Catahoula Parish, LA', 'Catron County, NM', 'Cattaraugus County, NY', 'Cavalier County, ND', 'Cayuga County, NY', 'Cedar County, IA', 'Cedar County, MO', 'Cedar County, NE', 'Cedar Rapids, IA HUD Metro FMR Area', 'Cerro Gordo County, IA', 'Chaffee County, CO', 'Chambers County, AL', 'Champaign County, OH', 'Champaign-Urbana, IL MSA', 'Chariton County, MO', 'Charles Mix County, SD', 'Charleston, WV HUD Metro FMR Area', 'Charleston-North Charleston-Summerville, SC MSA', 'Charlevoix County, MI', 'Charlotte County, VA', 'Charlotte-Gastonia-Rock Hill, NC-SC HUD Metro FMR Area', 'Charlottesville, VA MSA', 'Charlton County, GA', 'Chase County, KS', 'Chase County, NE', 'Chattanooga, TN-GA MSA', 'Chattooga County, GA', 'Chautauqua County, KS', 'Chautauqua County, NY', 'Chaves County, NM', 'Cheboygan County, MI', 'Chenango County, NY', 'Cherokee County, AL', 'Cherokee County, IA', 'Cherokee County, KS', 'Cherokee County, NC', 'Cherokee County, OK', 'Cherokee County, SC', 'Cherokee County, TX', 'Cherry County, NE', 'Cheshire County, NH', 'Chester County, SC', 'Chesterfield County, SC', 'Cheyenne County, CO', 'Cheyenne County, KS', 'Cheyenne County, NE', 'Cheyenne, WY MSA', 'Chicago-Joliet-Naperville, IL HUD Metro FMR Area', 'Chickasaw County, IA', 'Chickasaw County, MS', 'Chico, CA MSA', 'Chicot County, AR', 'Childress County, TX', 'Chilton County, AL HUD Metro FMR Area', 'Chippewa County, MI', 'Chippewa County, MN', 'Choctaw County, AL', 'Choctaw County, MS', 'Choctaw County, OK', 'Chouteau County, MT', 'Chowan County, NC', 'Christian County, IL', 'Churchill County, NV', 'Cibola County, NM', 'Cimarron County, OK', 'Cincinnati-Middleton, OH-KY-IN HUD Metro FMR Area', 'Citrus County, FL', 'Claiborne County, MS', 'Claiborne County, TN', 'Claiborne Parish, LA', 'Clallam County, WA', 'Clare County, MI', 'Clarendon County, SC', 'Clarion County, PA', 'Clark County, AR', 'Clark County, ID', 'Clark County, IL', 'Clark County, KS', 'Clark County, MO', 'Clark County, SD', 'Clark County, WI', 'Clarke County, AL', 'Clarke County, IA', 'Clarke County, MS', 'Clarksville, TN-KY HUD Metro FMR Area', 'Clatsop County, OR', 'Clay County, AL', 'Clay County, AR', 'Clay County, GA', 'Clay County, IA', 'Clay County, IL', 'Clay County, KS', 'Clay County, KY', 'Clay County, MS', 'Clay County, NC', 'Clay County, NE', 'Clay County, SD', 'Clay County, TN', 'Clayton County, IA', 'Clearfield County, PA', 'Clearwater County, ID', 'Clearwater County, MN', 'Cleburne County, AL', 'Cleburne County, AR', 'Cleveland County, NC', 'Cleveland, TN MSA', 'Cleveland-Elyria-Mentor, OH MSA', 'Clinch County, GA', 'Clinton County, IA', 'Clinton County, IN', 'Clinton County, KY', 'Clinton County, NY', 'Clinton County, OH', 'Clinton County, PA', 'Cloud County, KS', 'Coahoma County, MS', 'Coal County, OK', 'Cochise County, AZ', 'Cochran County, TX', 'Cocke County, TN', 'Codington County, SD', \"Coeur d'Alene, ID MSA\", 'Coffee County, AL', 'Coffee County, GA', 'Coffee County, TN', 'Coffey County, KS', 'Coke County, TX', 'Colchester-Lebanon, CT HUD Metro FMR Area', 'Coleman County, TX', 'Coles County, IL', 'Colfax County, NE', 'Colfax County, NM', 'College Station-Bryan, TX MSA', 'Colleton County, SC', 'Collingsworth County, TX', 'Colorado County, TX', 'Colorado Springs, CO HUD Metro FMR Area', 'Colquitt County, GA', 'Columbia County, AR', 'Columbia County, FL', 'Columbia County, NY', 'Columbia County, PA', 'Columbia County, WA', 'Columbia County, WI HUD Metro FMR Area', 'Columbia city, MD HUD Metro FMR Area', 'Columbia, MO MSA', 'Columbia, SC HUD Metro FMR Area', 'Columbiana County, OH', 'Columbus County, NC', 'Columbus, GA-AL MSA', 'Columbus, IN MSA', 'Columbus, OH HUD Metro FMR Area', 'Colusa County, CA', 'Comanche County, KS', 'Comanche County, TX', 'Concho County, TX', 'Concordia Parish, LA', 'Conecuh County, AL', 'Conejos County, CO', 'Converse County, WY', 'Conway County, AR', 'Cook County, GA', 'Cook County, MN', 'Cooke County, TX', 'Cooper County, MO', 'Coos County, NH', 'Coos County, OR', 'Coosa County, AL', 'Corpus Christi, TX HUD Metro FMR Area', 'Corson County, SD', 'Cortland County, NY', 'Corvallis, OR MSA', 'Coshocton County, OH', 'Costilla County, CO', 'Cottle County, TX', 'Cotton County, OK', 'Cottonwood County, MN', 'Covington County, AL', 'Covington County, MS', 'Cowley County, KS', 'Craig County, OK', 'Crane County, TX', 'Craven County, NC', 'Crawford County, IA', 'Crawford County, IL', 'Crawford County, IN', 'Crawford County, KS', 'Crawford County, MI', 'Crawford County, MO', 'Crawford County, OH', 'Crawford County, PA', 'Crawford County, WI', 'Crenshaw County, AL', 'Crestview-Fort Walton Beach-Destin, FL MSA', 'Crisp County, GA', 'Crittenden County, KY', 'Crockett County, TN', 'Crockett County, TX', 'Crook County, OR', 'Crook County, WY', 'Cross County, AR', 'Crow Wing County, MN', 'Crowley County, CO', 'Culberson County, TX', 'Cullman County, AL', 'Culpeper County, VA', 'Cumberland County, IL', 'Cumberland County, KY', 'Cumberland County, ME (part) HUD Metro FMR Area', 'Cumberland County, TN', 'Cumberland, MD-WV MSA', 'Cuming County, NE', 'Curry County, NM', 'Curry County, OR', 'Custer County, CO', 'Custer County, ID', 'Custer County, MT', 'Custer County, NE', 'Custer County, OK', 'Custer County, SD', 'Dade County, MO', 'Daggett County, UT', 'Dale County, AL', 'Dallam County, TX', 'Dallas County, AL', 'Dallas County, AR', 'Dallas County, MO HUD Metro FMR Area', 'Dallas, TX HUD Metro FMR Area', 'Dalton, GA HUD Metro FMR Area', 'Danbury, CT HUD Metro FMR Area', 'Daniels County, MT', 'Danville, IL MSA', 'Danville, VA MSA', 'Dare County, NC', 'Darke County, OH', 'Darlington County, SC HUD Metro FMR Area', 'Davenport-Moline-Rock Island, IA-IL MSA', 'Davidson County, NC', 'Daviess County, IN', 'Daviess County, MO', 'Davis County, IA', 'Davison County, SD', 'Dawes County, NE', 'Dawson County, MT', 'Dawson County, NE', 'Dawson County, TX', 'Day County, SD', 'Dayton, OH HUD Metro FMR Area', 'De Baca County, NM', 'De Witt County, IL', 'DeKalb County, AL', 'DeKalb County, IL HUD Metro FMR Area', 'DeKalb County, IN', 'DeKalb County, TN', 'DeSoto County, FL', 'DeWitt County, TX', 'Deaf Smith County, TX', 'Decatur County, GA', 'Decatur County, IA', 'Decatur County, IN', 'Decatur County, KS', 'Decatur County, TN', 'Decatur, AL MSA', 'Decatur, IL MSA', 'Deer Lodge County, MT', 'Defiance County, OH', 'Del Norte County, CA', 'Delaware County, IA', 'Delaware County, NY', 'Delaware County, OK', 'Delta County, CO', 'Delta County, MI', 'Deltona-Daytona Beach-Ormond Beach, FL MSA', 'Denali Borough, AK', 'Dent County, MO', 'Denver-Aurora-Broomfield, CO MSA', 'Des Moines County, IA', 'Des Moines-West Des Moines, IA MSA', 'Desha County, AR', 'Detroit-Warren-Livonia, MI HUD Metro FMR Area', 'Deuel County, NE', 'Deuel County, SD', 'Dewey County, OK', 'Dewey County, SD', 'Dickens County, TX', 'Dickenson County, VA', 'Dickey County, ND', 'Dickinson County, IA', 'Dickinson County, KS', 'Dickinson County, MI', 'Dillingham Census Area, AK', 'Dillon County, SC', 'Dimmit County, TX', 'Divide County, ND', 'Dixie County, FL', 'Doddridge County, WV', 'Dodge County, GA', 'Dodge County, NE', 'Dodge County, WI', 'Dolores County, CO', 'Donley County, TX', 'Dooly County, GA', 'Door County, WI', 'Dorchester County, MD', 'Dothan, AL HUD Metro FMR Area', 'Douglas County, IL', 'Douglas County, MN', 'Douglas County, MO', 'Douglas County, NV', 'Douglas County, OR', 'Douglas County, SD', 'Dover, DE MSA', 'Drew County, AR', 'Dubois County, IN', 'Dubuque, IA MSA', 'Duchesne County, UT', 'Dukes County, MA', 'Duluth, MN-WI MSA', 'Dundy County, NE', 'Dunklin County, MO', 'Dunn County, ND', 'Dunn County, WI', 'Duplin County, NC', 'Durham-Chapel Hill, NC HUD Metro FMR Area', 'Duval County, TX', 'Dyer County, TN', 'Eagle County, CO', 'Early County, GA', 'East Carroll Parish, LA', 'Eastern Worcester County, MA HUD Metro FMR Area', 'Eastland County, TX', 'Easton-Raynham, MA HUD Metro FMR Area', 'Eau Claire, WI MSA', 'Eddy County, ND', 'Eddy County, NM', 'Edgar County, IL', 'Edmunds County, SD', 'Edwards County, IL', 'Edwards County, KS', 'Edwards County, TX', 'Effingham County, IL', 'El Centro, CA MSA', 'El Paso, TX MSA', 'Elbert County, GA', 'Elizabethtown, KY MSA', 'Elk County, KS', 'Elk County, PA', 'Elkhart-Goshen, IN MSA', 'Elko County, NV', 'Elliott County, KY', 'Ellis County, KS', 'Ellis County, OK', 'Ellsworth County, KS', 'Elmira, NY MSA', 'Elmore County, ID', 'Emanuel County, GA', 'Emery County, UT', 'Emmet County, IA', 'Emmet County, MI', 'Emmons County, ND', 'Erath County, TX', 'Erie, PA MSA', 'Escambia County, AL', 'Esmeralda County, NV', 'Essex County, NY', 'Essex County, VA', 'Essex County, VT', 'Estill County, KY', 'Eugene-Springfield, OR MSA', 'Eureka County, NV', 'Evangeline Parish, LA', 'Evans County, GA', 'Evansville, IN-KY HUD Metro FMR Area', 'Fairbanks, AK MSA', 'Fajardo, PR MSA', 'Fall River County, SD', 'Fallon County, MT', 'Falls County, TX', 'Fannin County, GA', 'Fannin County, TX', 'Fargo, ND-MN MSA', 'Faribault County, MN', 'Farmington, NM MSA', 'Faulk County, SD', 'Fayette County, AL', 'Fayette County, IA', 'Fayette County, IL', 'Fayette County, IN', 'Fayette County, OH', 'Fayette County, TX', 'Fayette County, WV', 'Fayetteville, NC HUD Metro FMR Area', 'Fayetteville-Springdale-Rogers, AR HUD Metro FMR Area', 'Fentress County, TN', 'Fergus County, MT', 'Ferry County, WA', 'Fillmore County, MN', 'Fillmore County, NE', 'Finney County, KS', 'Fisher County, TX', 'Fitchburg-Leominster, MA HUD Metro FMR Area', 'Flagstaff, AZ MSA', 'Flathead County, MT', 'Fleming County, KY', 'Flint, MI MSA', 'Florence County, WI', 'Florence, SC HUD Metro FMR Area', 'Florence-Muscle Shoals, AL MSA', 'Floyd County, IA', 'Floyd County, KY', 'Floyd County, TX', 'Floyd County, VA', 'Foard County, TX', 'Fond du Lac, WI MSA', 'Ford County, KS', 'Forest County, PA', 'Forest County, WI', 'Fort Collins-Loveland, CO MSA', 'Fort Lauderdale, FL HUD Metro FMR Area', 'Fort Smith, AR-OK HUD Metro FMR Area', 'Fort Wayne, IN MSA', 'Fort Worth-Arlington, TX HUD Metro FMR Area', 'Foster County, ND', 'Fountain County, IN', 'Franklin County, AL', 'Franklin County, AR HUD Metro FMR Area', 'Franklin County, FL', 'Franklin County, GA', 'Franklin County, IA', 'Franklin County, IL', 'Franklin County, KS HUD Metro FMR Area', 'Franklin County, KY', 'Franklin County, MA (part) HUD Metro FMR Area', 'Franklin County, ME', 'Franklin County, MS', 'Franklin County, NE', 'Franklin County, NY', 'Franklin County, PA', 'Franklin County, TN', 'Franklin County, TX', 'Franklin County, VA HUD Metro FMR Area', 'Franklin Parish, LA', 'Freeborn County, MN', 'Freestone County, TX', 'Fremont County, CO', 'Fremont County, IA', 'Fremont County, ID', 'Fremont County, WY', 'Fresno, CA MSA', 'Frio County, TX', 'Frontier County, NE', 'Fulton County, AR', 'Fulton County, IL', 'Fulton County, IN', 'Fulton County, KY', 'Fulton County, NY', 'Fulton County, PA', 'Furnas County, NE', 'Gadsden, AL MSA', 'Gage County, NE', 'Gaines County, TX', 'Gainesville, FL MSA', 'Gainesville, GA MSA', 'Gallatin County, IL', 'Gallatin County, MT', 'Gallia County, OH', 'Garden County, NE', 'Garfield County, CO', 'Garfield County, MT', 'Garfield County, NE', 'Garfield County, OK', 'Garfield County, UT', 'Garfield County, WA', 'Garrard County, KY', 'Garrett County, MD', 'Garvin County, OK', 'Gary, IN HUD Metro FMR Area', 'Garza County, TX', 'Gasconade County, MO', 'Gates County, NC', 'Gem County, ID HUD Metro FMR Area', 'Genesee County, NY', 'Gentry County, MO', 'Georgetown County, SC', 'Gibson County, IN HUD Metro FMR Area', 'Gibson County, TN', 'Gila County, AZ', 'Giles County, TN', 'Giles County, VA HUD Metro FMR Area', 'Gillespie County, TX', 'Gilliam County, OR', 'Gilmer County, GA', 'Gilmer County, WV', 'Glacier County, MT', 'Glades County, FL', 'Gladwin County, MI', 'Glascock County, GA', 'Glasscock County, TX', 'Glenn County, CA', 'Glens Falls, NY MSA', 'Gogebic County, MI', 'Golden Valley County, MT', 'Golden Valley County, ND', 'Goldsboro, NC MSA', 'Gonzales County, TX', 'Goodhue County, MN', 'Gooding County, ID', 'Gordon County, GA', 'Goshen County, WY', 'Gosper County, NE', 'Gove County, KS', 'Grady County, GA', 'Grady County, OK HUD Metro FMR Area', 'Grafton County, NH', 'Graham County, AZ', 'Graham County, KS', 'Graham County, NC', 'Grand County, CO', 'Grand County, UT', 'Grand Forks, ND-MN MSA', 'Grand Junction, CO MSA', 'Grand Rapids-Wyoming, MI HUD Metro FMR Area', 'Grand Traverse County, MI', 'Granite County, MT', 'Grant County, AR HUD Metro FMR Area', 'Grant County, IN', 'Grant County, KS', 'Grant County, KY HUD Metro FMR Area', 'Grant County, MN', 'Grant County, ND', 'Grant County, NE', 'Grant County, NM', 'Grant County, OK', 'Grant County, OR', 'Grant County, SD', 'Grant County, WA', 'Grant County, WI', 'Grant County, WV', 'Granville County, NC', 'Gratiot County, MI', 'Graves County, KY', 'Gray County, KS', 'Gray County, TX', 'Grays Harbor County, WA', 'Grayson County, KY', 'Grayson County, VA', 'Great Falls, MT MSA', 'Greeley County, KS', 'Greeley County, NE', 'Greeley, CO MSA', 'Green Bay, WI HUD Metro FMR Area', 'Green County, KY', 'Green County, WI', 'Green Lake County, WI', 'Greenbrier County, WV', 'Greene County, AR', 'Greene County, GA', 'Greene County, IA', 'Greene County, IL', 'Greene County, IN HUD Metro FMR Area', 'Greene County, MS', 'Greene County, NC HUD Metro FMR Area', 'Greene County, NY', 'Greene County, PA', 'Greene County, TN', 'Greenlee County, AZ', 'Greensboro-High Point, NC HUD Metro FMR Area', 'Greensville County-Emporia city, VA HUD Nonmetro FMR Area', 'Greenville, NC HUD Metro FMR Area', 'Greenville-Mauldin-Easley, SC MSA', 'Greenwood County, KS', 'Greenwood County, SC', 'Greer County, OK', 'Gregory County, SD', 'Grenada County, MS', 'Griggs County, ND', 'Grimes County, TX', 'Grundy County, IL HUD Metro FMR Area', 'Grundy County, MO', 'Grundy County, TN', 'Guadalupe County, NM', 'Guayama, PR MSA', 'Guernsey County, OH', 'Gulf County, FL', 'Gulfport-Biloxi, MS MSA', 'Gunnison County, CO', 'Haakon County, SD', 'Habersham County, GA', 'Hagerstown, MD HUD Metro FMR Area', 'Haines Borough, AK', 'Hale County, TX', 'Halifax County, NC', 'Halifax County, VA', 'Hall County, NE', 'Hall County, TX', 'Hamilton County, FL', 'Hamilton County, IA', 'Hamilton County, IL', 'Hamilton County, KS', 'Hamilton County, NE', 'Hamilton County, NY', 'Hamilton County, TX', 'Hamlin County, SD', 'Hampton County, SC', 'Hancock County, GA', 'Hancock County, IA', 'Hancock County, IL', 'Hancock County, ME', 'Hancock County, OH', 'Hancock County, TN', 'Hand County, SD', 'Hanford-Corcoran, CA MSA', 'Hansford County, TX', 'Hanson County, SD', 'Haralson County, GA HUD Metro FMR Area', 'Hardee County, FL', 'Hardeman County, TN', 'Hardeman County, TX', 'Hardin County, IA', 'Hardin County, IL', 'Hardin County, OH', 'Hardin County, TN', 'Harding County, NM', 'Harding County, SD', 'Hardy County, WV', 'Harlan County, KY', 'Harlan County, NE', 'Harmon County, OK', 'Harnett County, NC', 'Harney County, OR', 'Harper County, KS', 'Harper County, OK', 'Harrisburg-Carlisle, PA MSA', 'Harrison County, KY', 'Harrison County, MO', 'Harrison County, OH', 'Harrison County, TX', 'Harrison County, WV', 'Harrisonburg, VA MSA', 'Hart County, GA', 'Hart County, KY', 'Hartford-West Hartford-East Hartford, CT HUD Metro FMR Area', 'Hartley County, TX', 'Haskell County, KS', 'Haskell County, OK', 'Haskell County, TX', 'Hattiesburg, MS MSA', 'Hawaii County, HI', 'Hayes County, NE', 'Haywood County, NC HUD Metro FMR Area', 'Haywood County, TN', 'Hemphill County, TX', 'Hempstead County, AR', 'Henderson County, IL', 'Henderson County, TN', 'Henderson County, TX', 'Hendry County, FL', 'Henry County, AL HUD Metro FMR Area', 'Henry County, IA', 'Henry County, IN', 'Henry County, MO', 'Henry County, OH', 'Henry County, TN', 'Henry County-Martinsville city, VA HUD Nonmetro FMR Area', 'Hertford County, NC', 'Hettinger County, ND', 'Hickman County, KY', 'Hickman County, TN HUD Metro FMR Area', 'Hickory County, MO', 'Hickory-Lenoir-Morganton, NC MSA', 'Hidalgo County, NM', 'Highland County, OH', 'Highland County, VA', 'Highlands County, FL', 'Hill County, MT', 'Hill County, TX', 'Hillsborough County, NH (part) HUD Metro FMR Area', 'Hillsdale County, MI', 'Hinesville-Fort Stewart, GA HUD Metro FMR Area', 'Hinsdale County, CO', 'Hitchcock County, NE', 'Hocking County, OH', 'Hockley County, TX', 'Hodgeman County, KS', 'Hoke County, NC HUD Metro FMR Area', 'Holland-Grand Haven, MI MSA', 'Holmes County, FL', 'Holmes County, MS', 'Holmes County, OH', 'Holt County, MO', 'Holt County, NE', 'Honolulu, HI MSA', 'Hood County, TX', 'Hood River County, OR', 'Hooker County, NE', 'Hoonah-Angoon Census Area, AK', 'Hopkins County, KY', 'Hopkins County, TX', 'Hot Spring County, AR', 'Hot Springs County, WY', 'Hot Springs, AR MSA', 'Houghton County, MI', 'Houma-Bayou Cane-Thibodaux, LA MSA', 'Houston County, TN', 'Houston County, TX', 'Houston-Baytown-Sugar Land, TX HUD Metro FMR Area', 'Howard County, AR', 'Howard County, IA', 'Howard County, NE', 'Howard County, TX', 'Howell County, MO', 'Hubbard County, MN', 'Hudspeth County, TX', 'Huerfano County, CO', 'Hughes County, OK', 'Hughes County, SD', 'Humboldt County, CA', 'Humboldt County, IA', 'Humboldt County, NV', 'Humphreys County, MS', 'Humphreys County, TN', 'Huntingdon County, PA', 'Huntington County, IN', 'Huntington-Ashland, WV-KY-OH MSA', 'Huntsville, AL MSA', 'Huron County, MI', 'Huron County, OH', 'Hutchinson County, SD', 'Hutchinson County, TX', 'Hyde County, NC', 'Hyde County, SD', 'Iberia Parish, LA', 'Iberville Parish, LA HUD Metro FMR Area', 'Ida County, IA', 'Idaho County, ID', 'Idaho Falls, ID MSA', 'Independence County, AR', 'Indiana County, PA', 'Indianapolis, IN HUD Metro FMR Area', 'Inyo County, CA', 'Ionia County, MI HUD Metro FMR Area', 'Iosco County, MI', 'Iowa City, IA HUD Metro FMR Area', 'Iowa County, IA', 'Iowa County, WI HUD Metro FMR Area', 'Iredell County, NC', 'Iron County, MI', 'Iron County, MO', 'Iron County, UT', 'Iron County, WI', 'Iroquois County, IL', 'Irwin County, GA', 'Isabella County, MI', 'Island County, WA', 'Issaquena County, MS', 'Itasca County, MN', 'Itawamba County, MS', 'Ithaca, NY MSA', 'Izard County, AR', 'Jack County, TX', 'Jackson County, AL', 'Jackson County, AR', 'Jackson County, CO', 'Jackson County, FL', 'Jackson County, GA', 'Jackson County, IA', 'Jackson County, IL', 'Jackson County, IN', 'Jackson County, KY', 'Jackson County, MN', 'Jackson County, NC', 'Jackson County, OH', 'Jackson County, OK', 'Jackson County, SD', 'Jackson County, TN', 'Jackson County, TX', 'Jackson County, WI', 'Jackson County, WV', 'Jackson Parish, LA', 'Jackson, MI MSA', 'Jackson, MS HUD Metro FMR Area', 'Jackson, TN MSA', 'Jacksonville, FL HUD Metro FMR Area', 'Jacksonville, NC MSA', 'Janesville, WI MSA', 'Jasper County, IA', 'Jasper County, IL', 'Jasper County, IN HUD Metro FMR Area', 'Jasper County, MS', 'Jasper County, SC', 'Jasper County, TX', 'Jay County, IN', 'Jeff Davis County, GA', 'Jeff Davis County, TX', 'Jefferson City, MO HUD Metro FMR Area', 'Jefferson County, GA', 'Jefferson County, IA', 'Jefferson County, IL', 'Jefferson County, IN', 'Jefferson County, MS', 'Jefferson County, MT', 'Jefferson County, NE', 'Jefferson County, NY', 'Jefferson County, OK', 'Jefferson County, OR', 'Jefferson County, PA', 'Jefferson County, WA', 'Jefferson County, WI', 'Jefferson County, WV HUD Metro FMR Area', 'Jefferson Davis County, MS', 'Jefferson Davis Parish, LA', 'Jenkins County, GA', 'Jennings County, IN', 'Jerauld County, SD', 'Jerome County, ID', 'Jersey City, NJ HUD Metro FMR Area', 'Jewell County, KS', 'Jim Hogg County, TX', 'Jim Wells County, TX', 'Jo Daviess County, IL', 'Johnson City, TN MSA', 'Johnson County, AR', 'Johnson County, GA', 'Johnson County, IL', 'Johnson County, KY', 'Johnson County, MO', 'Johnson County, NE', 'Johnson County, TN', 'Johnson County, WY', 'Johnston County, OK', 'Johnstown, PA MSA', 'Jones County, IA HUD Metro FMR Area', 'Jones County, MS', 'Jones County, NC', 'Jones County, SD', 'Jonesboro, AR HUD Metro FMR Area', 'Joplin, MO MSA', 'Josephine County, OR', 'Judith Basin County, MT', 'Juneau City and Borough, AK', 'Juneau County, WI', 'Juniata County, PA', 'Kalamazoo-Portage, MI MSA', 'Kalawao County, HI', 'Kalkaska County, MI', 'Kanabec County, MN', 'Kandiyohi County, MN', 'Kane County, UT', 'Kankakee-Bradley, IL MSA', 'Kansas City, MO-KS HUD Metro FMR Area', 'Karnes County, TX', 'Kauai County, HI', 'Kay County, OK', 'Kearney County, NE', 'Kearny County, KS', 'Keith County, NE', 'Kemper County, MS', 'Kenai Peninsula Borough, AK', 'Kendall County, IL HUD Metro FMR Area', 'Kendall County, TX HUD Metro FMR Area', 'Kenedy County, TX', 'Kennebec County, ME', 'Kennewick-Pasco-Richland, WA MSA', 'Kenosha County, WI HUD Metro FMR Area', 'Kent County, MD', 'Kent County, TX', 'Keokuk County, IA', 'Kerr County, TX', 'Kershaw County, SC HUD Metro FMR Area', 'Ketchikan Gateway Borough, AK', 'Keweenaw County, MI', 'Keya Paha County, NE', 'Kidder County, ND', 'Killeen-Temple-Fort Hood, TX HUD Metro FMR Area', 'Kimball County, NE', 'Kimble County, TX', 'King County, TX', 'King George County, VA', 'Kingfisher County, OK', 'Kingman County, KS', 'Kingsbury County, SD', 'Kingsport-Bristol-Bristol, TN-VA MSA', 'Kingston, NY MSA', 'Kinney County, TX', 'Kiowa County, CO', 'Kiowa County, KS', 'Kiowa County, OK', 'Kit Carson County, CO', 'Kittitas County, WA', 'Kittson County, MN', 'Klamath County, OR', 'Kleberg County, TX', 'Klickitat County, WA', 'Knott County, KY', 'Knox County, IL', 'Knox County, IN', 'Knox County, KY', 'Knox County, ME', 'Knox County, MO', 'Knox County, NE', 'Knox County, OH', 'Knox County, TX', 'Knoxville, TN MSA', 'Kodiak Island Borough, AK', 'Kokomo, IN MSA', 'Koochiching County, MN', 'Kosciusko County, IN', 'Kossuth County, IA', 'La Crosse, WI-MN MSA', 'La Paz County, AZ', 'La Plata County, CO', 'La Salle County, IL', 'La Salle County, TX', 'La Salle Parish, LA', 'LaGrange County, IN', 'LaMoure County, ND', 'Labette County, KS', 'Lac qui Parle County, MN', 'Laclede County, MO', 'Lafayette County, AR', 'Lafayette County, FL', 'Lafayette County, MS', 'Lafayette County, WI', 'Lafayette, IN HUD Metro FMR Area', 'Lafayette, LA MSA', 'Lake Charles, LA MSA', 'Lake County, CA', 'Lake County, CO', 'Lake County, MI', 'Lake County, MN', 'Lake County, MT', 'Lake County, OR', 'Lake County, SD', 'Lake County, TN', 'Lake Havasu City-Kingman, AZ MSA', 'Lake and Peninsula Borough, AK', 'Lake of the Woods County, MN', 'Lakeland-Winter Haven, FL MSA', 'Lamar County, AL', 'Lamar County, GA HUD Metro FMR Area', 'Lamar County, TX', 'Lamb County, TX', 'Lamoille County, VT', 'Lampasas County, TX HUD Metro FMR Area', 'Lancaster County, SC', 'Lancaster County, VA', 'Lancaster, PA MSA', 'Lander County, NV', 'Lane County, KS', 'Langlade County, WI', 'Lansing-East Lansing, MI MSA', 'Laredo, TX MSA', 'Las Animas County, CO', 'Las Cruces, NM MSA', 'Las Vegas-Paradise, NV MSA', 'Lassen County, CA', 'Latah County, ID', 'Latimer County, OK', 'Lauderdale County, MS', 'Lauderdale County, TN', 'Laurel County, KY', 'Laurens County, GA', 'Laurens County, SC HUD Metro FMR Area', 'Lavaca County, TX', 'Lawrence County, AR', 'Lawrence County, IL', 'Lawrence County, IN', 'Lawrence County, KY', 'Lawrence County, MO', 'Lawrence County, MS', 'Lawrence County, PA', 'Lawrence County, SD', 'Lawrence County, TN', 'Lawrence, KS MSA', 'Lawrence, MA-NH HUD Metro FMR Area', 'Lawton, OK MSA', 'Le Flore County, OK HUD Metro FMR Area', 'Le Sueur County, MN', 'Lea County, NM', 'Leake County, MS', 'Lebanon, PA MSA', 'Lee County, AR', 'Lee County, IA', 'Lee County, IL', 'Lee County, KY', 'Lee County, MS', 'Lee County, NC', 'Lee County, SC', 'Lee County, TX', 'Lee County, VA', 'Leelanau County, MI', 'Leflore County, MS', 'Lemhi County, ID', 'Lenawee County, MI', 'Lenoir County, NC', 'Leon County, TX', 'Leslie County, KY', 'Letcher County, KY', 'Levy County, FL', 'Lewis County, ID', 'Lewis County, KY', 'Lewis County, MO', 'Lewis County, NY', 'Lewis County, TN', 'Lewis County, WA', 'Lewis County, WV', 'Lewis and Clark County, MT', 'Lewiston, ID-WA MSA', 'Lewiston-Auburn, ME MSA', 'Lexington-Fayette, KY MSA', 'Liberty County, FL', 'Liberty County, MT', 'Lima, OH MSA', 'Limestone County, TX', 'Lincoln County, CO', 'Lincoln County, GA', 'Lincoln County, ID', 'Lincoln County, KS', 'Lincoln County, KY', 'Lincoln County, ME', 'Lincoln County, MN', 'Lincoln County, MS', 'Lincoln County, MT', 'Lincoln County, NC', 'Lincoln County, NE', 'Lincoln County, NM', 'Lincoln County, NV', 'Lincoln County, OK HUD Metro FMR Area', 'Lincoln County, OR', 'Lincoln County, TN', 'Lincoln County, WA', 'Lincoln County, WI', 'Lincoln County, WY', 'Lincoln Parish, LA', 'Lincoln, NE HUD Metro FMR Area', 'Linn County, MO', 'Linn County, OR', 'Lipscomb County, TX', 'Litchfield County, CT', 'Little River County, AR', 'Little Rock-North Little Rock-Conway, AR HUD Metro FMR Area', 'Live Oak County, TX', 'Livingston County, IL', 'Livingston County, KY', 'Livingston County, MI HUD Metro FMR Area', 'Livingston County, MO', 'Llano County, TX', 'Logan County, AR', 'Logan County, CO', 'Logan County, IL', 'Logan County, KS', 'Logan County, KY', 'Logan County, ND', 'Logan County, NE', 'Logan County, OH', 'Logan County, WV', 'Logan, UT-ID MSA', 'Long County, GA HUD Metro FMR Area', 'Longview, TX HUD Metro FMR Area', 'Longview, WA MSA', 'Los Alamos County, NM', 'Los Angeles-Long Beach, CA HUD Metro FMR Area', 'Louisa County, IA', 'Louisa County, VA HUD Metro FMR Area', 'Louisville, KY-IN HUD Metro FMR Area', 'Loup County, NE', 'Love County, OK', 'Loving County, TX', 'Lowell, MA HUD Metro FMR Area', 'Lowndes County, MS', 'Lubbock, TX MSA', 'Lucas County, IA', 'Luce County, MI', 'Lumpkin County, GA', 'Luna County, NM', 'Lunenburg County, VA', 'Lyman County, SD', 'Lynchburg, VA MSA', 'Lynn County, TX', 'Lyon County, IA', 'Lyon County, KS', 'Lyon County, KY', 'Lyon County, MN', 'Lyon County, NV', 'Mackinac County, MI', 'Macon County, AL', 'Macon County, GA', 'Macon County, MO', 'Macon County, NC', 'Macon County, TN HUD Metro FMR Area', 'Macon, GA MSA', 'Macoupin County, IL HUD Metro FMR Area', 'Madera-Chowchilla, CA MSA', 'Madison County, FL', 'Madison County, ID', 'Madison County, KY', 'Madison County, MO', 'Madison County, MT', 'Madison County, NE', 'Madison County, TX', 'Madison County, VA', 'Madison Parish, LA', 'Madison, WI HUD Metro FMR Area', 'Magoffin County, KY', 'Mahaska County, IA', 'Mahnomen County, MN', 'Major County, OK', 'Malheur County, OR', 'Manchester, NH HUD Metro FMR Area', 'Manhattan, KS MSA', 'Manistee County, MI', 'Manitowoc County, WI', 'Mankato-North Mankato, MN MSA', 'Mansfield, OH MSA', 'Marengo County, AL', 'Maries County, MO', 'Marinette County, WI', 'Marion County, AL', 'Marion County, AR', 'Marion County, IA', 'Marion County, IL', 'Marion County, KS', 'Marion County, KY', 'Marion County, MO', 'Marion County, MS', 'Marion County, OH', 'Marion County, SC', 'Marion County, TX', 'Marion County, WV', 'Mariposa County, CA', 'Marlboro County, SC', 'Marquette County, MI', 'Marquette County, WI', 'Marshall County, AL', 'Marshall County, IA', 'Marshall County, IN', 'Marshall County, KS', 'Marshall County, KY', 'Marshall County, MN', 'Marshall County, MS HUD Metro FMR Area', 'Marshall County, OK', 'Marshall County, SD', 'Marshall County, TN', 'Martin County, IN', 'Martin County, KY', 'Martin County, MN', 'Martin County, NC', 'Martin County, TX', 'Martinsburg, WV HUD Metro FMR Area', 'Mason County, IL', 'Mason County, KY', 'Mason County, MI', 'Mason County, TX', 'Mason County, WA', 'Mason County, WV', 'Massac County, IL', 'Matagorda County, TX', 'Matanuska-Susitna Borough, AK HUD Metro FMR Area', 'Maui County, HI', 'Maury County, TN', 'Maverick County, TX', 'Mayagüez, PR MSA', 'Mayes County, OK', 'McAllen-Edinburg-Mission, TX MSA', 'McCone County, MT', 'McCormick County, SC', 'McCracken County, KY', 'McCreary County, KY', 'McCulloch County, TX', 'McCurtain County, OK', 'McDonald County, MO HUD Metro FMR Area', 'McDonough County, IL', 'McDowell County, NC', 'McDowell County, WV', 'McHenry County, ND', 'McIntosh County, ND', 'McIntosh County, OK', 'McKean County, PA', 'McKenzie County, ND', 'McKinley County, NM', 'McLean County, ND', 'McLeod County, MN', 'McMinn County, TN', 'McMullen County, TX', 'McNairy County, TN', 'McPherson County, KS', 'McPherson County, NE', 'McPherson County, SD', 'Meade County, KS', 'Meade County, KY HUD Metro FMR Area', 'Meade County, SD HUD Metro FMR Area', 'Meagher County, MT', 'Mecklenburg County, VA', 'Mecosta County, MI', 'Medford, OR MSA', 'Medina County, TX HUD Metro FMR Area', 'Meeker County, MN', 'Meigs County, OH', 'Meigs County, TN', 'Mellette County, SD', 'Memphis, TN-MS-AR HUD Metro FMR Area', 'Menard County, TX', 'Mendocino County, CA', 'Menifee County, KY', 'Menominee County, MI', 'Menominee County, WI', 'Merced, CA MSA', 'Mercer County, KY', 'Mercer County, MO', 'Mercer County, ND', 'Mercer County, OH', 'Mercer County, WV', 'Meriwether County, GA HUD Metro FMR Area', 'Merrick County, NE', 'Merrimack County, NH', 'Metcalfe County, KY', 'Miami County, IN', 'Miami-Miami Beach-Kendall, FL HUD Metro FMR Area', 'Michigan City-La Porte, IN MSA', 'Middlesex County, VA', 'Middlesex-Somerset-Hunterdon, NJ HUD Metro FMR Area', 'Midland County, MI', 'Midland, TX MSA', 'Mifflin County, PA', 'Milam County, TX', 'Milford-Ansonia-Seymour, CT HUD Metro FMR Area', 'Millard County, UT', 'Mille Lacs County, MN', 'Miller County, GA', 'Miller County, MO', 'Mills County, TX', 'Milwaukee-Waukesha-West Allis, WI MSA', 'Miner County, SD', 'Mineral County, CO', 'Mineral County, MT', 'Mineral County, NV', 'Mingo County, WV', 'Minidoka County, ID', 'Minneapolis-St. Paul-Bloomington, MN-WI MSA', 'Missaukee County, MI', 'Mississippi County, AR', 'Mississippi County, MO', 'Missoula, MT MSA', 'Mitchell County, GA', 'Mitchell County, IA', 'Mitchell County, KS', 'Mitchell County, NC', 'Mitchell County, TX', 'Mobile, AL MSA', 'Modesto, CA MSA', 'Modoc County, CA', 'Moffat County, CO', 'Moniteau County, MO HUD Metro FMR Area', 'Monmouth-Ocean, NJ HUD Metro FMR Area', 'Mono County, CA', 'Monona County, IA', 'Monroe County, AL', 'Monroe County, AR', 'Monroe County, FL', 'Monroe County, GA HUD Metro FMR Area', 'Monroe County, IA', 'Monroe County, KY', 'Monroe County, MO', 'Monroe County, MS', 'Monroe County, OH', 'Monroe County, PA', 'Monroe County, TN', 'Monroe County, WI', 'Monroe County, WV', 'Monroe, LA MSA', 'Monroe, MI MSA', 'Montague County, TX', 'Montcalm County, MI', 'Montezuma County, CO', 'Montgomery County, AR', 'Montgomery County, GA', 'Montgomery County, IA', 'Montgomery County, IL', 'Montgomery County, IN', 'Montgomery County, KS', 'Montgomery County, KY', 'Montgomery County, MO', 'Montgomery County, MS', 'Montgomery County, NC', 'Montgomery County, NY', 'Montgomery, AL MSA', 'Montmorency County, MI', 'Montour County, PA', 'Montrose County, CO', 'Moody County, SD', 'Moore County, NC', 'Moore County, TN', 'Moore County, TX', 'Mora County, NM', 'Morehouse Parish, LA', 'Morgan County, CO', 'Morgan County, GA', 'Morgan County, IL', 'Morgan County, KY', 'Morgan County, MO', 'Morgan County, OH', 'Morgan County, TN', 'Morgantown, WV MSA', 'Morrill County, NE', 'Morris County, KS', 'Morris County, TX', 'Morrison County, MN', 'Morristown, TN MSA', 'Morrow County, OR', 'Morton County, KS', 'Motley County, TX', 'Moultrie County, IL', 'Mount Vernon-Anacortes, WA MSA', 'Mountrail County, ND', 'Mower County, MN', 'Muhlenberg County, KY', 'Muncie, IN MSA', 'Murray County, GA HUD Metro FMR Area', 'Murray County, MN', 'Murray County, OK', 'Muscatine County, IA', 'Muskegon-Norton Shores, MI MSA', 'Muskingum County, OH', 'Muskogee County, OK', 'Musselshell County, MT', 'Myrtle Beach-North Myrtle Beach-Conway, SC MSA', 'Nacogdoches County, TX', 'Nance County, NE', 'Nantucket County, MA', 'Napa, CA MSA', 'Naples-Marco Island, FL MSA', 'Nashua, NH HUD Metro FMR Area', 'Nashville-Davidson--Murfreesboro--Franklin, TN MSA', 'Nassau-Suffolk, NY HUD Metro FMR Area', 'Natchitoches Parish, LA', 'Navajo County, AZ', 'Navarro County, TX', 'Nelson County, KY HUD Metro FMR Area', 'Nelson County, ND', 'Nemaha County, KS', 'Nemaha County, NE', 'Neosho County, KS', 'Neshoba County, MS', 'Ness County, KS', 'Nevada County, AR', 'Nevada County, CA', 'New Bedford, MA HUD Metro FMR Area', 'New Haven-Meriden, CT HUD Metro FMR Area', 'New Madrid County, MO', 'New Orleans-Metairie-Kenner, LA MSA', 'New York, NY HUD Metro FMR Area', 'Newark, NJ HUD Metro FMR Area', 'Newaygo County, MI HUD Metro FMR Area', 'Newberry County, SC', 'Newport-Middleton-Portsmouth, RI HUD Metro FMR Area', 'Newton County, AR', 'Newton County, MS', 'Newton County, TX', 'Nicholas County, KY', 'Nicholas County, WV', 'Niles-Benton Harbor, MI MSA', 'Niobrara County, WY', 'Noble County, IN', 'Noble County, OH', 'Noble County, OK', 'Nobles County, MN', 'Nodaway County, MO', 'Nolan County, TX', 'Nome Census Area, AK', 'Norman County, MN', 'North Port-Bradenton-Sarasota, FL MSA', 'North Slope Borough, AK', 'Northampton County, NC', 'Northampton County, VA', 'Northumberland County, PA', 'Northumberland County, VA', 'Northwest Arctic Borough, AK', 'Norton County, KS', 'Norwich-New London, CT HUD Metro FMR Area', 'Nottoway County, VA', 'Nowata County, OK', 'Noxubee County, MS', 'Nuckolls County, NE', 'Nye County, NV', \"O'Brien County, IA\", 'Oakland-Fremont, CA HUD Metro FMR Area', 'Obion County, TN', 'Ocala, FL MSA', 'Ocean City, NJ MSA', 'Oceana County, MI', 'Ochiltree County, TX', 'Oconee County, SC', 'Oconto County, WI HUD Metro FMR Area', 'Odessa, TX MSA', 'Ogden-Clearfield, UT MSA', 'Ogemaw County, MI', 'Ogle County, IL', 'Ohio County, KY', 'Okanogan County, WA', 'Okeechobee County, FL', 'Okfuskee County, OK', 'Oklahoma City, OK HUD Metro FMR Area', 'Okmulgee County, OK HUD Metro FMR Area', 'Oktibbeha County, MS', 'Oldham County, TX', 'Oliver County, ND', 'Olympia, WA MSA', 'Omaha-Council Bluffs, NE-IA HUD Metro FMR Area', 'Oneida County, ID', 'Oneida County, WI', 'Ontonagon County, MI', 'Orange County, CA HUD Metro FMR Area', 'Orange County, IN', 'Orange County, VA', 'Orange County, VT', 'Orangeburg County, SC', 'Oregon County, MO', 'Orlando-Kissimmee-Sanford, FL MSA', 'Orleans County, VT', 'Osborne County, KS', 'Osceola County, IA', 'Osceola County, MI', 'Oscoda County, MI', 'Oshkosh-Neenah, WI MSA', 'Otero County, CO', 'Otero County, NM', 'Otoe County, NE', 'Otsego County, MI', 'Otsego County, NY', 'Ottawa County, KS', 'Ottawa County, OK', 'Otter Tail County, MN', 'Ouachita County, AR', 'Ouray County, CO', 'Overton County, TN', 'Owen County, IN HUD Metro FMR Area', 'Owen County, KY', 'Owensboro, KY MSA', 'Owsley County, KY', 'Oxford County, ME', 'Oxnard-Thousand Oaks-Ventura, CA MSA', 'Ozark County, MO', 'Pacific County, WA', 'Pacific Islands', 'Page County, IA', 'Page County, VA', 'Palm Bay-Melbourne-Titusville, FL MSA', 'Palm Coast, FL MSA', 'Palo Alto County, IA', 'Palo Pinto County, TX', 'Pamlico County, NC', 'Panama City-Lynn Haven-Panama City Beach, FL MSA', 'Panola County, MS', 'Panola County, TX', 'Park County, MT', 'Park County, WY', 'Parke County, IN', 'Parkersburg-Marietta-Vienna, WV-OH MSA', 'Parmer County, TX', 'Pascagoula, MS MSA', 'Pasquotank County, NC', 'Patrick County, VA', 'Paulding County, OH', 'Pawnee County, KS', 'Pawnee County, NE', 'Pawnee County, OK HUD Metro FMR Area', 'Payette County, ID', 'Payne County, OK', 'Peach County, GA', 'Pearl River County, MS', 'Pecos County, TX', 'Pembina County, ND', 'Pemiscot County, MO', 'Pend Oreille County, WA', 'Pender County, NC HUD Metro FMR Area', 'Pendleton County, WV', 'Pennington County, MN', 'Penobscot County, ME (part) HUD Metro FMR Area', 'Pensacola-Ferry Pass-Brent, FL MSA', 'Peoria, IL MSA', 'Pepin County, WI', 'Perkins County, NE', 'Perkins County, SD', 'Perquimans County, NC', 'Perry County, AL', 'Perry County, IL', 'Perry County, IN', 'Perry County, KY', 'Perry County, MO', 'Perry County, OH', 'Perry County, TN', 'Pershing County, NV', 'Person County, NC HUD Metro FMR Area', 'Petersburg Census Area, AK', 'Petroleum County, MT', 'Pettis County, MO', 'Phelps County, MO', 'Phelps County, NE', 'Philadelphia-Camden-Wilmington, PA-NJ-DE-MD MSA', 'Phillips County, AR', 'Phillips County, CO', 'Phillips County, KS', 'Phillips County, MT', 'Phoenix-Mesa-Glendale, AZ MSA', 'Pickens County, AL', 'Pickett County, TN', 'Pierce County, GA', 'Pierce County, ND', 'Pierce County, NE', 'Pike County, AL', 'Pike County, AR', 'Pike County, IL', 'Pike County, IN', 'Pike County, KY', 'Pike County, MO', 'Pike County, MS', 'Pike County, OH', 'Pike County, PA HUD Metro FMR Area', 'Pine Bluff, AR MSA', 'Pine County, MN', 'Pipestone County, MN', 'Piscataquis County, ME', 'Pitkin County, CO', 'Pittsburg County, OK', 'Pittsburgh, PA HUD Metro FMR Area', 'Pittsfield, MA HUD Metro FMR Area', 'Piute County, UT', 'Platte County, NE', 'Platte County, WY', 'Plumas County, CA', 'Plymouth County, IA', 'Pocahontas County, IA', 'Pocahontas County, WV', 'Pocatello, ID MSA', 'Poinsett County, AR HUD Metro FMR Area', 'Polk County, AR', 'Polk County, GA', 'Polk County, MO HUD Metro FMR Area', 'Polk County, NC', 'Polk County, NE', 'Polk County, TX', 'Polk County, WI', 'Ponce, PR MSA', 'Pondera County, MT', 'Pontotoc County, MS', 'Pontotoc County, OK', 'Pope County, AR', 'Pope County, IL', 'Pope County, MN', 'Port St. Lucie, FL MSA', 'Portage County, WI', 'Portland, ME HUD Metro FMR Area', 'Portland-Vancouver-Hillsboro, OR-WA MSA', 'Portsmouth-Rochester, NH HUD Metro FMR Area', 'Pottawatomie County, OK', 'Potter County, PA', 'Potter County, SD', 'Poughkeepsie-Newburgh-Middletown, NY MSA', 'Powder River County, MT', 'Powell County, KY', 'Powell County, MT', 'Poweshiek County, IA', 'Prairie County, AR', 'Prairie County, MT', 'Pratt County, KS', 'Preble County, OH HUD Metro FMR Area', 'Prentiss County, MS', 'Prescott, AZ MSA', 'Presidio County, TX', 'Presque Isle County, MI', 'Price County, WI', 'Prince Edward County, VA', 'Prince of Wales-Hyder Census Area, AK', 'Providence-Fall River, RI-MA HUD Metro FMR Area', 'Provo-Orem, UT MSA', 'Prowers County, CO', 'Pueblo, CO MSA', 'Puerto Rico HUD Nonmetro Area', 'Pulaski County, GA', 'Pulaski County, IL', 'Pulaski County, IN', 'Pulaski County, KY', 'Pulaski County, MO', 'Pulaski County, VA HUD Metro FMR Area', 'Punta Gorda, FL MSA', 'Pushmataha County, OK', 'Putnam County, FL', 'Putnam County, GA', 'Putnam County, IL', 'Putnam County, IN HUD Metro FMR Area', 'Putnam County, MO', 'Putnam County, OH', 'Putnam County, TN', 'Quay County, NM', 'Quitman County, GA', 'Quitman County, MS', 'Rabun County, GA', 'Racine, WI MSA', 'Rains County, TX', 'Raleigh County, WV', 'Raleigh-Cary, NC MSA', 'Ralls County, MO', 'Ramsey County, ND', 'Randolph County, AL', 'Randolph County, AR', 'Randolph County, GA', 'Randolph County, IL', 'Randolph County, IN', 'Randolph County, MO', 'Randolph County, WV', 'Ransom County, ND', 'Rapid City, SD HUD Metro FMR Area', 'Rappahannock County, VA', 'Ravalli County, MT', 'Rawlins County, KS', 'Reading, PA MSA', 'Reagan County, TX', 'Real County, TX', 'Red Lake County, MN', 'Red River County, TX', 'Red River Parish, LA', 'Red Willow County, NE', 'Redding, CA MSA', 'Redwood County, MN', 'Reeves County, TX', 'Refugio County, TX', 'Reno County, KS', 'Reno-Sparks, NV MSA', 'Renville County, MN', 'Renville County, ND', 'Republic County, KS', 'Reynolds County, MO', 'Rhea County, TN', 'Rice County, KS', 'Rice County, MN', 'Rich County, UT', 'Richardson County, NE', 'Richland County, IL', 'Richland County, MT', 'Richland County, ND', 'Richland County, WI', 'Richland Parish, LA', 'Richmond County, NC', 'Richmond County, VA', 'Richmond, VA HUD Metro FMR Area', 'Ringgold County, IA', 'Rio Arriba County, NM', 'Rio Blanco County, CO', 'Rio Grande County, CO', 'Ripley County, IN', 'Ripley County, MO', 'Ritchie County, WV', 'Riverside-San Bernardino-Ontario, CA MSA', 'Roane County, TN', 'Roane County, WV', 'Roanoke, VA HUD Metro FMR Area', 'Roberts County, SD', 'Roberts County, TX', 'Robertson County, KY', 'Robeson County, NC', 'Rochester, MN HUD Metro FMR Area', 'Rochester, NY MSA', 'Rock County, MN', 'Rock County, NE', 'Rockbridge County-Buena Vista city-Lexington city, VA HUD Nonmetro FMR Area', 'Rockcastle County, KY', 'Rockford, IL MSA', 'Rockingham County, NC HUD Metro FMR Area', 'Rocky Mount, NC MSA', 'Roger Mills County, OK', 'Rolette County, ND', 'Rome, GA MSA', 'Rooks County, KS', 'Roosevelt County, MT', 'Roosevelt County, NM', 'Roscommon County, MI', 'Roseau County, MN', 'Rosebud County, MT', 'Ross County, OH', 'Routt County, CO', 'Rowan County, KY', 'Rowan County, NC', 'Runnels County, TX', 'Rush County, IN', 'Rush County, KS', 'Rusk County, TX HUD Metro FMR Area', 'Rusk County, WI', 'Russell County, KS', 'Russell County, KY', 'Russell County, VA', 'Rutherford County, NC', 'Rutland County, VT', 'Sabine County, TX', 'Sabine Parish, LA', 'Sac County, IA', 'Sacramento--Arden-Arcade--Roseville, CA HUD Metro FMR Area', 'Sagadahoc County, ME HUD Metro FMR Area', 'Saginaw-Saginaw Township North, MI MSA', 'Saguache County, CO', 'Salem, OR MSA', 'Salinas, CA MSA', 'Saline County, IL', 'Saline County, KS', 'Saline County, MO', 'Saline County, NE', 'Salisbury, MD HUD Metro FMR Area', 'Salt Lake City, UT HUD Metro FMR Area', 'Sampson County, NC', 'San Angelo, TX MSA', 'San Antonio-New Braunfels, TX HUD Metro FMR Area', 'San Augustine County, TX', 'San Benito County, CA HUD Metro FMR Area', 'San Diego-Carlsbad-San Marcos, CA MSA', 'San Francisco, CA HUD Metro FMR Area', 'San Germán-Cabo Rojo, PR MSA', 'San Jose-Sunnyvale-Santa Clara, CA HUD Metro FMR Area', 'San Juan County, CO', 'San Juan County, UT', 'San Juan County, WA', 'San Juan-Guaynabo, PR HUD Metro FMR Area', 'San Luis Obispo-Paso Robles, CA MSA', 'San Miguel County, CO', 'San Miguel County, NM', 'San Saba County, TX', 'Sanborn County, SD', 'Sanders County, MT', 'Sandusky County, OH', 'Sandusky, OH MSA', 'Sanilac County, MI', 'Sanpete County, UT', 'Santa Barbara-Santa Maria-Goleta, CA MSA', 'Santa Cruz County, AZ', 'Santa Cruz-Watsonville, CA MSA', 'Santa Fe, NM MSA', 'Santa Rosa-Petaluma, CA MSA', 'Sargent County, ND', 'Sauk County, WI', 'Saunders County, NE HUD Metro FMR Area', 'Savannah, GA MSA', 'Sawyer County, WI', 'Schleicher County, TX', 'Schley County, GA', 'Schoolcraft County, MI', 'Schuyler County, IL', 'Schuyler County, MO', 'Schuyler County, NY', 'Schuylkill County, PA', 'Scioto County, OH', 'Scotland County, MO', 'Scotland County, NC', 'Scott County, AR', 'Scott County, IL', 'Scott County, IN', 'Scott County, KS', 'Scott County, MO', 'Scott County, MS', 'Scott County, TN', 'Scotts Bluff County, NE', 'Scranton--Wilkes-Barre, PA MSA', 'Screven County, GA', 'Scurry County, TX', 'Searcy County, AR', 'Seattle-Bellevue, WA HUD Metro FMR Area', 'Sebastian-Vero Beach, FL MSA', 'Sedgwick County, CO', 'Seminole County, GA', 'Seminole County, OK', 'Seneca County, NY', 'Seneca County, OH', 'Sevier County, AR', 'Sevier County, TN', 'Sevier County, UT', 'Seward County, KS', 'Seward County, NE HUD Metro FMR Area', 'Shackelford County, TX', 'Shannon County, MO', 'Shannon County, SD', 'Sharkey County, MS', 'Sharon, PA HUD Metro FMR Area', 'Sharp County, AR', 'Shawano County, WI', 'Sheboygan, WI MSA', 'Shelby County, IA', 'Shelby County, IL', 'Shelby County, KY HUD Metro FMR Area', 'Shelby County, MO', 'Shelby County, OH', 'Shelby County, TX', 'Shenandoah County, VA', 'Sheridan County, KS', 'Sheridan County, MT', 'Sheridan County, ND', 'Sheridan County, NE', 'Sheridan County, WY', 'Sherman County, KS', 'Sherman County, NE', 'Sherman County, OR', 'Sherman County, TX', 'Sherman-Denison, TX MSA', 'Shiawassee County, MI', 'Shoshone County, ID', 'Shreveport-Bossier City, LA MSA', 'Sibley County, MN', 'Sierra County, CA', 'Sierra County, NM', 'Silver Bow County, MT', 'Simpson County, KY', 'Simpson County, MS HUD Metro FMR Area', 'Sioux City, IA-NE-SD MSA', 'Sioux County, IA', 'Sioux County, ND', 'Sioux County, NE', 'Sioux Falls, SD MSA', 'Siskiyou County, CA', 'Sitka City and Borough, AK', 'Skagway Municipality, AK', 'Slope County, ND', 'Smith County, KS', 'Smith County, MS', 'Smith County, TN HUD Metro FMR Area', 'Smyth County, VA', 'Snyder County, PA', 'Socorro County, NM', 'Somerset County, MD HUD Metro FMR Area', 'Somerset County, ME', 'Somerset County, PA', 'Somervell County, TX', 'South Bend-Mishawaka, IN HUD Metro FMR Area', 'Southampton County-Franklin city, VA HUD Nonmetro FMR Area', 'Southeast Fairbanks Census Area, AK', 'Southern Middlesex County, CT HUD Metro FMR Area', 'Spartanburg, SC MSA', 'Spencer County, IN', 'Spink County, SD', 'Spokane, WA MSA', 'Springfield, IL MSA', 'Springfield, MA HUD Metro FMR Area', 'Springfield, MO HUD Metro FMR Area', 'Springfield, OH MSA', 'St. Clair County, MO', 'St. Cloud, MN MSA', 'St. Croix Island, VI', 'St. Francis County, AR', 'St. Francois County, MO', 'St. George, UT MSA', 'St. James Parish, LA', 'St. John/St. Thomas, VI', 'St. Joseph County, MI', 'St. Joseph, MO-KS MSA', 'St. Landry Parish, LA', 'St. Lawrence County, NY', 'St. Louis, MO-IL HUD Metro FMR Area', 'St. Mary Parish, LA', \"St. Mary's County, MD\", 'Stafford County, KS', 'Stamford-Norwalk, CT HUD Metro FMR Area', 'Stanley County, SD', 'Stanly County, NC', 'Stanton County, KS', 'Stanton County, NE', 'Stark County, ND', 'Starke County, IN', 'Starr County, TX', 'State College, PA MSA', 'Ste. Genevieve County, MO', 'Steele County, MN', 'Steele County, ND', 'Stephens County, GA', 'Stephens County, OK', 'Stephens County, TX', 'Stephenson County, IL', 'Sterling County, TX', 'Steuben County, IN', 'Steuben County, NY', 'Steubenville-Weirton, OH-WV MSA', 'Stevens County, KS', 'Stevens County, MN', 'Stevens County, WA', 'Stewart County, GA', 'Stewart County, TN HUD Metro FMR Area', 'Stillwater County, MT', 'Stockton, CA MSA', 'Stoddard County, MO', 'Stone County, AR', 'Stone County, MO', 'Stonewall County, TX', 'Stutsman County, ND', 'Sublette County, WY', 'Sullivan County, IN HUD Metro FMR Area', 'Sullivan County, MO', 'Sullivan County, NH', 'Sullivan County, NY', 'Sullivan County, PA', 'Sully County, SD', 'Summers County, WV', 'Summit County, CO', 'Summit County, UT HUD Metro FMR Area', 'Sumner County, KS HUD Metro FMR Area', 'Sumter County, AL', 'Sumter County, FL', 'Sumter County, GA', 'Sumter, SC MSA', 'Sunflower County, MS', 'Surry County, NC', 'Susquehanna County, PA', 'Sussex County, DE', 'Sutton County, TX', 'Suwannee County, FL', 'Swain County, NC', 'Sweet Grass County, MT', 'Sweetwater County, WY', 'Swift County, MN', 'Swisher County, TX', 'Switzerland County, IN', 'Syracuse, NY MSA', 'Tacoma, WA HUD Metro FMR Area', 'Talbot County, GA', 'Talbot County, MD', 'Taliaferro County, GA', 'Talladega County, AL', 'Tallahassee, FL HUD Metro FMR Area', 'Tallahatchie County, MS', 'Tallapoosa County, AL', 'Tama County, IA', 'Tampa-St. Petersburg-Clearwater, FL MSA', 'Taney County, MO', 'Tangipahoa Parish, LA', 'Taos County, NM', 'Tate County, MS HUD Metro FMR Area', 'Tattnall County, GA', 'Taunton-Mansfield-Norton, MA HUD Metro FMR Area', 'Taylor County, FL', 'Taylor County, GA', 'Taylor County, IA', 'Taylor County, KY', 'Taylor County, WI', 'Taylor County, WV', 'Tazewell County, VA', 'Tehama County, CA', 'Telfair County, GA', 'Teller County, CO HUD Metro FMR Area', 'Tensas Parish, LA', 'Terre Haute, IN HUD Metro FMR Area', 'Terrell County, TX', 'Terry County, TX', 'Teton County, ID', 'Teton County, MT', 'Teton County, WY', 'Texarkana, TX-Texarkana, AR MSA', 'Texas County, MO', 'Texas County, OK', 'Thayer County, NE', 'Thomas County, GA', 'Thomas County, KS', 'Thomas County, NE', 'Throckmorton County, TX', 'Thurston County, NE', 'Tift County, GA', 'Tillamook County, OR', 'Tillman County, OK', 'Tioga County, PA', 'Tippah County, MS', 'Tishomingo County, MS', 'Titus County, TX', 'Todd County, KY', 'Todd County, MN', 'Todd County, SD', 'Toledo, OH MSA', 'Tooele County, UT HUD Metro FMR Area', 'Toole County, MT', 'Toombs County, GA', 'Topeka, KS MSA', 'Towner County, ND', 'Towns County, GA', 'Traill County, ND', 'Transylvania County, NC', 'Traverse County, MN', 'Treasure County, MT', 'Trego County, KS', 'Trempealeau County, WI', 'Trenton-Ewing, NJ MSA', 'Treutlen County, GA', 'Trinity County, CA', 'Trinity County, TX', 'Tripp County, SD', 'Troup County, GA', 'Tucker County, WV', 'Tucson, AZ MSA', 'Tulsa, OK HUD Metro FMR Area', 'Tunica County, MS HUD Metro FMR Area', 'Tuolumne County, CA', 'Turner County, GA', 'Tuscaloosa, AL MSA', 'Tuscarawas County, OH', 'Tuscola County, MI', 'Twin Falls County, ID', 'Tyler County, TX', 'Tyler County, WV', 'Tyler, TX MSA', 'Tyrrell County, NC', 'Uinta County, WY', 'Uintah County, UT', 'Umatilla County, OR', 'Union County, AR', 'Union County, FL', 'Union County, GA', 'Union County, IA', 'Union County, IL', 'Union County, IN', 'Union County, KY', 'Union County, MS', 'Union County, NM', 'Union County, OH HUD Metro FMR Area', 'Union County, OR', 'Union County, PA', 'Union County, SC', 'Upshur County, WV', 'Upson County, GA', 'Upton County, TX', 'Utica-Rome, NY MSA', 'Uvalde County, TX', 'Val Verde County, TX', 'Valdez-Cordova Census Area, AK', 'Valdosta, GA MSA', 'Vallejo-Fairfield, CA MSA', 'Valley County, ID', 'Valley County, MT', 'Valley County, NE', 'Van Buren County, AR', 'Van Buren County, IA', 'Van Buren County, TN', 'Van Wert County, OH', 'Van Zandt County, TX', 'Vance County, NC', 'Venango County, PA', 'Vermilion Parish, LA', 'Vernon County, MO', 'Vernon County, WI', 'Vernon Parish, LA', 'Victoria, TX HUD Metro FMR Area', 'Vilas County, WI', 'Vineland-Millville-Bridgeton, NJ MSA', 'Vinton County, OH', 'Virginia Beach-Norfolk-Newport News, VA-NC MSA', 'Visalia-Porterville, CA MSA', 'Wabash County, IL', 'Wabash County, IN', 'Wabasha County, MN HUD Metro FMR Area', 'Waco, TX MSA', 'Wade Hampton Census Area, AK', 'Wadena County, MN', 'Wahkiakum County, WA', 'Wakulla County, FL HUD Metro FMR Area', 'Waldo County, ME', 'Walker County, AL HUD Metro FMR Area', 'Walker County, TX', 'Walla Walla County, WA', 'Wallace County, KS', 'Wallowa County, OR', 'Walsh County, ND', 'Walthall County, MS', 'Walton County, FL', 'Walworth County, SD', 'Walworth County, WI', 'Wapello County, IA', 'Ward County, ND', 'Ward County, TX', 'Ware County, GA', 'Warner Robins, GA MSA', 'Warren County, GA', 'Warren County, IL', 'Warren County, IN', 'Warren County, MS', 'Warren County, NC', 'Warren County, NJ HUD Metro FMR Area', 'Warren County, PA', 'Warren County, TN', 'Warren County, VA HUD Metro FMR Area', 'Wasatch County, UT', 'Wasco County, OR', 'Waseca County, MN', 'Washakie County, WY', 'Washburn County, WI', 'Washington County, AL', 'Washington County, CO', 'Washington County, FL', 'Washington County, GA', 'Washington County, IA HUD Metro FMR Area', 'Washington County, ID', 'Washington County, IL', 'Washington County, IN HUD Metro FMR Area', 'Washington County, KS', 'Washington County, KY', 'Washington County, ME', 'Washington County, MO HUD Metro FMR Area', 'Washington County, MS', 'Washington County, NC', 'Washington County, OK', 'Washington County, TX', 'Washington County, VT', 'Washington Parish, LA', 'Washington-Arlington-Alexandria, DC-VA-MD HUD Metro FMR Area', 'Washita County, OK', 'Watauga County, NC', 'Waterbury, CT HUD Metro FMR Area', 'Waterloo-Cedar Falls, IA HUD Metro FMR Area', 'Watonwan County, MN', 'Waupaca County, WI', 'Wausau, WI MSA', 'Waushara County, WI', 'Wayne County, GA', 'Wayne County, IA', 'Wayne County, IL', 'Wayne County, IN', 'Wayne County, KY', 'Wayne County, MO', 'Wayne County, MS', 'Wayne County, NE', 'Wayne County, OH', 'Wayne County, PA', 'Wayne County, TN', 'Wayne County, UT', 'Weakley County, TN', 'Webster County, GA', 'Webster County, IA', 'Webster County, MS', 'Webster County, NE', 'Webster County, WV', 'Webster Parish, LA', 'Wells County, ND', 'Wenatchee-East Wenatchee, WA MSA', 'West Carroll Parish, LA', 'West Palm Beach-Boca Raton, FL HUD Metro FMR Area', 'Westchester County, NY Statutory Exception Area', 'Westerly-Hopkinton-New Shoreham, RI HUD Metro FMR Area', 'Western Rockingham County, NH HUD Metro FMR Area', 'Western Worcester County, MA HUD Metro FMR Area', 'Westmoreland County, VA', 'Weston County, WY', 'Wetzel County, WV', 'Wexford County, MI', 'Wharton County, TX', 'Wheatland County, MT', 'Wheeler County, GA', 'Wheeler County, NE', 'Wheeler County, OR', 'Wheeler County, TX', 'Wheeling, WV-OH MSA', 'White County, AR', 'White County, GA', 'White County, IL', 'White County, IN', 'White County, TN', 'White Pine County, NV', 'Whiteside County, IL', 'Whitley County, KY', 'Whitman County, WA', 'Wibaux County, MT', 'Wichita County, KS', 'Wichita Falls, TX MSA', 'Wichita, KS HUD Metro FMR Area', 'Wilbarger County, TX', 'Wilcox County, AL', 'Wilcox County, GA', 'Wilkes County, GA', 'Wilkes County, NC', 'Wilkin County, MN', 'Wilkinson County, GA', 'Wilkinson County, MS', 'Willacy County, TX', 'Williams County, ND', 'Williams County, OH', 'Williamsburg County, SC', 'Williamson County, IL', 'Williamsport, PA MSA', 'Wilmington, NC HUD Metro FMR Area', 'Wilson County, KS', 'Wilson County, NC', 'Winchester, VA-WV MSA', 'Windham County, CT', 'Windham County, VT', 'Windsor County, VT', 'Winkler County, TX', 'Winn Parish, LA', 'Winnebago County, IA', 'Winneshiek County, IA', 'Winona County, MN', 'Winston County, AL', 'Winston County, MS', 'Winston-Salem, NC MSA', 'Wise County, TX HUD Metro FMR Area', 'Wise County-Norton city, VA HUD Nonmetro FMR Area', 'Wolfe County, KY', 'Wood County, TX', 'Wood County, WI', 'Woodruff County, AR', 'Woods County, OK', 'Woodson County, KS', 'Woodward County, OK', 'Worcester County, MD', 'Worcester, MA HUD Metro FMR Area', 'Worth County, IA', 'Worth County, MO', 'Wrangell City and Borough, AK', 'Wright County, IA', 'Wright County, MO', 'Wyandot County, OH', 'Wyoming County, NY', 'Wyoming County, WV', 'Wythe County, VA', 'Yakima, WA MSA', 'Yakutat City and Borough, AK', 'Yalobusha County, MS', 'Yancey County, NC', 'Yankton County, SD', 'Yates County, NY', 'Yauco, PR MSA', 'Yazoo County, MS', 'Yell County, AR', 'Yellow Medicine County, MN', 'Yoakum County, TX', 'Yolo, CA HUD Metro FMR Area', 'York County, ME (part) HUD Metro FMR Area', 'York County, NE', 'York-Hanover, PA MSA', 'York-Kittery-South Berwick, ME HUD Metro FMR Area', 'Young County, TX', 'Youngstown-Warren-Boardman, OH HUD Metro FMR Area', 'Yuba City, CA MSA', 'Yukon-Koyukuk Census Area, AK', 'Yuma County, CO', 'Yuma, AZ MSA', 'Zapata County, TX', 'Zavala County, TX', 'Ziebach County, SD']\n"
          ],
          "name": "stdout"
        }
      ]
    },
    {
      "cell_type": "code",
      "metadata": {
        "id": "ouGSK-kFCLBU"
      },
      "source": [
        "df = df.replace(['Boise City', 'Phoenix-Mesa-Glendale, AZ MSA', 'Virginia Beach-Norfolk-Newport News, VA-NC MSA', 'Orange County, CA HUD Metro FMR Area', 'Las Vegas-Paradise, NV MSA'], ['Boise', 'Phoenix-Mesa-Scottsdale-Chandler-Gilbert-Glendale, AZ MSA', 'Chesapeake-Virginia Beach-Norfolk-Newport News, VA-NC MSA', 'Orange County-Santa Ana-Anaheim, CA HUD Metro FMR Area', 'Las Vegas-Henderson-Paradise, NV MSA'])"
      ],
      "execution_count": null,
      "outputs": []
    },
    {
      "cell_type": "code",
      "metadata": {
        "id": "kr1FbwAZJlaX"
      },
      "source": [
        "df.loc[df['countyname'] == 'Dallas County'] = df.loc[df['countyname'] == 'Dallas County'].replace(['Dallas, TX HUD Metro FMR Area'], ['Irving-Dallas, TX HUD Metro FMR Area'])"
      ],
      "execution_count": null,
      "outputs": []
    },
    {
      "cell_type": "code",
      "metadata": {
        "id": "vkpEEWOvKHvf"
      },
      "source": [
        "df.loc[df['countyname'] == 'Collin County'] = df.loc[df['countyname'] == 'Collin County'].replace(['Dallas, TX HUD Metro FMR Area'], ['Plano-Dallas, TX HUD Metro FMR Area'])"
      ],
      "execution_count": null,
      "outputs": []
    },
    {
      "cell_type": "code",
      "metadata": {
        "id": "7wy7Xdi21YiW",
        "outputId": "4754bec5-ce62-4020-825a-2e8ceff6623d",
        "colab": {
          "base_uri": "https://localhost:8080/"
        }
      },
      "source": [
        "df['metro'].value_counts()"
      ],
      "execution_count": null,
      "outputs": [
        {
          "output_type": "execute_result",
          "data": {
            "text/plain": [
              "0    2852\n",
              "1    1913\n",
              "Name: metro, dtype: int64"
            ]
          },
          "metadata": {
            "tags": []
          },
          "execution_count": 17
        }
      ]
    },
    {
      "cell_type": "code",
      "metadata": {
        "id": "cycxNh7y1YiY"
      },
      "source": [
        "metros_orig = df[df['metro'] == 1]"
      ],
      "execution_count": null,
      "outputs": []
    },
    {
      "cell_type": "code",
      "metadata": {
        "id": "mrUh1Usw1Yia",
        "outputId": "2e0436d6-8b3a-4319-852a-1791cbfda666",
        "colab": {
          "base_uri": "https://localhost:8080/"
        }
      },
      "source": [
        "metros_orig.shape"
      ],
      "execution_count": null,
      "outputs": [
        {
          "output_type": "execute_result",
          "data": {
            "text/plain": [
              "(1913, 20)"
            ]
          },
          "metadata": {
            "tags": []
          },
          "execution_count": 19
        }
      ]
    },
    {
      "cell_type": "code",
      "metadata": {
        "id": "fWSHtK4G1Yic",
        "outputId": "78346cb3-d08a-40f0-fd66-8eee784a6ff7",
        "colab": {
          "base_uri": "https://localhost:8080/"
        }
      },
      "source": [
        "metros_orig.areaname.head()"
      ],
      "execution_count": null,
      "outputs": [
        {
          "output_type": "execute_result",
          "data": {
            "text/plain": [
              "0                           Montgomery, AL MSA\n",
              "3     Birmingham-Hoover, AL HUD Metro FMR Area\n",
              "4     Birmingham-Hoover, AL HUD Metro FMR Area\n",
              "7                      Anniston-Oxford, AL MSA\n",
              "10       Chilton County, AL HUD Metro FMR Area\n",
              "Name: areaname, dtype: object"
            ]
          },
          "metadata": {
            "tags": []
          },
          "execution_count": 20
        }
      ]
    },
    {
      "cell_type": "code",
      "metadata": {
        "id": "A6L2tcg_1Yie"
      },
      "source": [
        "#metros['areaname'] = metros['areaname'].replace(\"--\",\"-\")\n",
        "#metros['areaname'].replace('Texarkana, TX-Texarkana, AR HUD Metro FMR Area','Texarkana,  AR HUD Metro FMR Area')"
      ],
      "execution_count": null,
      "outputs": []
    },
    {
      "cell_type": "code",
      "metadata": {
        "id": "bRrTmGYP1Yig",
        "outputId": "851c81de-563d-4450-b331-5d51702abd1f",
        "colab": {
          "base_uri": "https://localhost:8080/",
          "height": 67
        }
      },
      "source": [
        "metros_orig[metros_orig['areaname']=='Texarkana, TX-Texarkana, AR HUD Metro FMR Area']"
      ],
      "execution_count": null,
      "outputs": [
        {
          "output_type": "execute_result",
          "data": {
            "text/html": [
              "<div>\n",
              "<style scoped>\n",
              "    .dataframe tbody tr th:only-of-type {\n",
              "        vertical-align: middle;\n",
              "    }\n",
              "\n",
              "    .dataframe tbody tr th {\n",
              "        vertical-align: top;\n",
              "    }\n",
              "\n",
              "    .dataframe thead th {\n",
              "        text-align: right;\n",
              "    }\n",
              "</style>\n",
              "<table border=\"1\" class=\"dataframe\">\n",
              "  <thead>\n",
              "    <tr style=\"text-align: right;\">\n",
              "      <th></th>\n",
              "      <th>FIPS</th>\n",
              "      <th>fmr_0</th>\n",
              "      <th>fmr_1</th>\n",
              "      <th>fmr_2</th>\n",
              "      <th>fmr_3</th>\n",
              "      <th>fmr_4</th>\n",
              "      <th>county</th>\n",
              "      <th>State</th>\n",
              "      <th>CouSub</th>\n",
              "      <th>pop2000</th>\n",
              "      <th>countyname</th>\n",
              "      <th>Metro_code</th>\n",
              "      <th>areaname</th>\n",
              "      <th>county_town_name</th>\n",
              "      <th>ACS_2010_sm_2</th>\n",
              "      <th>state_alpha</th>\n",
              "      <th>fmr_type</th>\n",
              "      <th>metro</th>\n",
              "      <th>FMR_PCT_Change</th>\n",
              "      <th>FMR_Dollar_Change</th>\n",
              "    </tr>\n",
              "  </thead>\n",
              "  <tbody>\n",
              "  </tbody>\n",
              "</table>\n",
              "</div>"
            ],
            "text/plain": [
              "Empty DataFrame\n",
              "Columns: [FIPS, fmr_0, fmr_1, fmr_2, fmr_3, fmr_4, county, State, CouSub, pop2000, countyname, Metro_code, areaname, county_town_name, ACS_2010_sm_2, state_alpha, fmr_type, metro, FMR_PCT_Change, FMR_Dollar_Change]\n",
              "Index: []"
            ]
          },
          "metadata": {
            "tags": []
          },
          "execution_count": 22
        }
      ]
    },
    {
      "cell_type": "code",
      "metadata": {
        "id": "UF6-7DMq1Yii",
        "outputId": "77be0f84-5f60-4e2a-fecf-acfe61be2e1a",
        "colab": {
          "base_uri": "https://localhost:8080/"
        }
      },
      "source": [
        "metros_orig['areaname'][metros_orig.Metro_code == 'METRO45500M45500'] = 'Texarkana, AR HUD Metro FMR Area'"
      ],
      "execution_count": null,
      "outputs": [
        {
          "output_type": "stream",
          "text": [
            "/usr/local/lib/python3.6/dist-packages/ipykernel_launcher.py:1: SettingWithCopyWarning: \n",
            "A value is trying to be set on a copy of a slice from a DataFrame\n",
            "\n",
            "See the caveats in the documentation: https://pandas.pydata.org/pandas-docs/stable/user_guide/indexing.html#returning-a-view-versus-a-copy\n",
            "  \"\"\"Entry point for launching an IPython kernel.\n",
            "/usr/local/lib/python3.6/dist-packages/pandas/core/series.py:1020: SettingWithCopyWarning: \n",
            "A value is trying to be set on a copy of a slice from a DataFrame\n",
            "\n",
            "See the caveats in the documentation: https://pandas.pydata.org/pandas-docs/stable/user_guide/indexing.html#returning-a-view-versus-a-copy\n",
            "  self._where(~key, value, inplace=True)\n"
          ],
          "name": "stderr"
        }
      ]
    },
    {
      "cell_type": "code",
      "metadata": {
        "id": "TVHn8G9k1Yik",
        "outputId": "085c1a90-c6f8-4663-f457-0830d0e10a7f",
        "colab": {
          "base_uri": "https://localhost:8080/"
        }
      },
      "source": [
        "metros_orig['areaname'][metros_orig.Metro_code == 'METRO45500M45500']"
      ],
      "execution_count": null,
      "outputs": [
        {
          "output_type": "execute_result",
          "data": {
            "text/plain": [
              "156     Texarkana, AR HUD Metro FMR Area\n",
              "3839    Texarkana, AR HUD Metro FMR Area\n",
              "Name: areaname, dtype: object"
            ]
          },
          "metadata": {
            "tags": []
          },
          "execution_count": 24
        }
      ]
    },
    {
      "cell_type": "code",
      "metadata": {
        "id": "8KJLHkmd1Yim"
      },
      "source": [
        "def create_cities(areaname):\n",
        "    #print(areaname)\n",
        "    areaname = areaname.replace(\"--\",\"-\")\n",
        "    cities, garbage1 = areaname.split(\",\")\n",
        "    areaname = cities.split(\"-\")\n",
        "    #print(f\"{cities} ---- {list_cities}\")\n",
        "    return areaname"
      ],
      "execution_count": null,
      "outputs": []
    },
    {
      "cell_type": "code",
      "metadata": {
        "id": "xwDcfGIp1Yio",
        "outputId": "b02167a8-c35d-4a7e-9b20-e86bce230a9d",
        "colab": {
          "base_uri": "https://localhost:8080/"
        }
      },
      "source": [
        "metros_orig['cities'] = metros_orig.areaname.apply(create_cities)"
      ],
      "execution_count": null,
      "outputs": [
        {
          "output_type": "stream",
          "text": [
            "/usr/local/lib/python3.6/dist-packages/ipykernel_launcher.py:1: SettingWithCopyWarning: \n",
            "A value is trying to be set on a copy of a slice from a DataFrame.\n",
            "Try using .loc[row_indexer,col_indexer] = value instead\n",
            "\n",
            "See the caveats in the documentation: https://pandas.pydata.org/pandas-docs/stable/user_guide/indexing.html#returning-a-view-versus-a-copy\n",
            "  \"\"\"Entry point for launching an IPython kernel.\n"
          ],
          "name": "stderr"
        }
      ]
    },
    {
      "cell_type": "code",
      "metadata": {
        "id": "nMGCYzbt1Yir",
        "outputId": "640beab8-146e-4840-db53-d3227b7c54ba",
        "colab": {
          "base_uri": "https://localhost:8080/",
          "height": 417
        }
      },
      "source": [
        "metros_orig.head()"
      ],
      "execution_count": null,
      "outputs": [
        {
          "output_type": "execute_result",
          "data": {
            "text/html": [
              "<div>\n",
              "<style scoped>\n",
              "    .dataframe tbody tr th:only-of-type {\n",
              "        vertical-align: middle;\n",
              "    }\n",
              "\n",
              "    .dataframe tbody tr th {\n",
              "        vertical-align: top;\n",
              "    }\n",
              "\n",
              "    .dataframe thead th {\n",
              "        text-align: right;\n",
              "    }\n",
              "</style>\n",
              "<table border=\"1\" class=\"dataframe\">\n",
              "  <thead>\n",
              "    <tr style=\"text-align: right;\">\n",
              "      <th></th>\n",
              "      <th>FIPS</th>\n",
              "      <th>fmr_0</th>\n",
              "      <th>fmr_1</th>\n",
              "      <th>fmr_2</th>\n",
              "      <th>fmr_3</th>\n",
              "      <th>fmr_4</th>\n",
              "      <th>county</th>\n",
              "      <th>State</th>\n",
              "      <th>CouSub</th>\n",
              "      <th>pop2000</th>\n",
              "      <th>countyname</th>\n",
              "      <th>Metro_code</th>\n",
              "      <th>areaname</th>\n",
              "      <th>county_town_name</th>\n",
              "      <th>ACS_2010_sm_2</th>\n",
              "      <th>state_alpha</th>\n",
              "      <th>fmr_type</th>\n",
              "      <th>metro</th>\n",
              "      <th>FMR_PCT_Change</th>\n",
              "      <th>FMR_Dollar_Change</th>\n",
              "      <th>cities</th>\n",
              "    </tr>\n",
              "  </thead>\n",
              "  <tbody>\n",
              "    <tr>\n",
              "      <th>0</th>\n",
              "      <td>100199999</td>\n",
              "      <td>552</td>\n",
              "      <td>653</td>\n",
              "      <td>735</td>\n",
              "      <td>975</td>\n",
              "      <td>1287</td>\n",
              "      <td>1</td>\n",
              "      <td>1</td>\n",
              "      <td>99999</td>\n",
              "      <td>43671.0</td>\n",
              "      <td>Autauga County</td>\n",
              "      <td>METRO33860M33860</td>\n",
              "      <td>Montgomery, AL MSA</td>\n",
              "      <td>Autauga County</td>\n",
              "      <td>735.0</td>\n",
              "      <td>AL</td>\n",
              "      <td>40</td>\n",
              "      <td>1</td>\n",
              "      <td>1.000000</td>\n",
              "      <td>0.0</td>\n",
              "      <td>[Montgomery]</td>\n",
              "    </tr>\n",
              "    <tr>\n",
              "      <th>3</th>\n",
              "      <td>100799999</td>\n",
              "      <td>634</td>\n",
              "      <td>705</td>\n",
              "      <td>786</td>\n",
              "      <td>997</td>\n",
              "      <td>1027</td>\n",
              "      <td>7</td>\n",
              "      <td>1</td>\n",
              "      <td>99999</td>\n",
              "      <td>20826.0</td>\n",
              "      <td>Bibb County</td>\n",
              "      <td>METRO13820M13820</td>\n",
              "      <td>Birmingham-Hoover, AL HUD Metro FMR Area</td>\n",
              "      <td>Bibb County</td>\n",
              "      <td>735.0</td>\n",
              "      <td>AL</td>\n",
              "      <td>40</td>\n",
              "      <td>1</td>\n",
              "      <td>1.069388</td>\n",
              "      <td>51.0</td>\n",
              "      <td>[Birmingham, Hoover]</td>\n",
              "    </tr>\n",
              "    <tr>\n",
              "      <th>4</th>\n",
              "      <td>100999999</td>\n",
              "      <td>634</td>\n",
              "      <td>705</td>\n",
              "      <td>786</td>\n",
              "      <td>997</td>\n",
              "      <td>1027</td>\n",
              "      <td>9</td>\n",
              "      <td>1</td>\n",
              "      <td>99999</td>\n",
              "      <td>51024.0</td>\n",
              "      <td>Blount County</td>\n",
              "      <td>METRO13820M13820</td>\n",
              "      <td>Birmingham-Hoover, AL HUD Metro FMR Area</td>\n",
              "      <td>Blount County</td>\n",
              "      <td>735.0</td>\n",
              "      <td>AL</td>\n",
              "      <td>40</td>\n",
              "      <td>1</td>\n",
              "      <td>1.069388</td>\n",
              "      <td>51.0</td>\n",
              "      <td>[Birmingham, Hoover]</td>\n",
              "    </tr>\n",
              "    <tr>\n",
              "      <th>7</th>\n",
              "      <td>101599999</td>\n",
              "      <td>426</td>\n",
              "      <td>471</td>\n",
              "      <td>585</td>\n",
              "      <td>773</td>\n",
              "      <td>909</td>\n",
              "      <td>15</td>\n",
              "      <td>1</td>\n",
              "      <td>99999</td>\n",
              "      <td>112249.0</td>\n",
              "      <td>Calhoun County</td>\n",
              "      <td>METRO11500M11500</td>\n",
              "      <td>Anniston-Oxford, AL MSA</td>\n",
              "      <td>Calhoun County</td>\n",
              "      <td>585.0</td>\n",
              "      <td>AL</td>\n",
              "      <td>40</td>\n",
              "      <td>1</td>\n",
              "      <td>1.000000</td>\n",
              "      <td>0.0</td>\n",
              "      <td>[Anniston, Oxford]</td>\n",
              "    </tr>\n",
              "    <tr>\n",
              "      <th>10</th>\n",
              "      <td>102199999</td>\n",
              "      <td>398</td>\n",
              "      <td>550</td>\n",
              "      <td>612</td>\n",
              "      <td>769</td>\n",
              "      <td>881</td>\n",
              "      <td>21</td>\n",
              "      <td>1</td>\n",
              "      <td>99999</td>\n",
              "      <td>39593.0</td>\n",
              "      <td>Chilton County</td>\n",
              "      <td>METRO13820N01021</td>\n",
              "      <td>Chilton County, AL HUD Metro FMR Area</td>\n",
              "      <td>Chilton County</td>\n",
              "      <td>612.0</td>\n",
              "      <td>AL</td>\n",
              "      <td>40</td>\n",
              "      <td>1</td>\n",
              "      <td>1.000000</td>\n",
              "      <td>0.0</td>\n",
              "      <td>[Chilton County]</td>\n",
              "    </tr>\n",
              "  </tbody>\n",
              "</table>\n",
              "</div>"
            ],
            "text/plain": [
              "         FIPS  fmr_0  ...  FMR_Dollar_Change                cities\n",
              "0   100199999    552  ...                0.0          [Montgomery]\n",
              "3   100799999    634  ...               51.0  [Birmingham, Hoover]\n",
              "4   100999999    634  ...               51.0  [Birmingham, Hoover]\n",
              "7   101599999    426  ...                0.0    [Anniston, Oxford]\n",
              "10  102199999    398  ...                0.0      [Chilton County]\n",
              "\n",
              "[5 rows x 21 columns]"
            ]
          },
          "metadata": {
            "tags": []
          },
          "execution_count": 27
        }
      ]
    },
    {
      "cell_type": "code",
      "metadata": {
        "id": "z-cbW2xq1Yis"
      },
      "source": [
        "metros_explode = metros_orig.explode('cities')"
      ],
      "execution_count": null,
      "outputs": []
    },
    {
      "cell_type": "code",
      "metadata": {
        "id": "rzG5_CEL1Yiu",
        "outputId": "5c692380-0d27-4f6b-e835-f1fc74610f30",
        "colab": {
          "base_uri": "https://localhost:8080/"
        }
      },
      "source": [
        "metros_explode.shape"
      ],
      "execution_count": null,
      "outputs": [
        {
          "output_type": "execute_result",
          "data": {
            "text/plain": [
              "(3230, 21)"
            ]
          },
          "metadata": {
            "tags": []
          },
          "execution_count": 29
        }
      ]
    },
    {
      "cell_type": "code",
      "metadata": {
        "id": "oRXDxPdB1Yiw",
        "outputId": "02498db8-138e-4c36-9f5b-d556480bce18",
        "colab": {
          "base_uri": "https://localhost:8080/"
        }
      },
      "source": [
        "metros_explode.columns"
      ],
      "execution_count": null,
      "outputs": [
        {
          "output_type": "execute_result",
          "data": {
            "text/plain": [
              "Index(['FIPS', 'fmr_0', 'fmr_1', 'fmr_2', 'fmr_3', 'fmr_4', 'county', 'State',\n",
              "       'CouSub', 'pop2000', 'countyname', 'Metro_code', 'areaname',\n",
              "       'county_town_name', 'ACS_2010_sm_2', 'state_alpha', 'fmr_type', 'metro',\n",
              "       'FMR_PCT_Change', 'FMR_Dollar_Change', 'cities'],\n",
              "      dtype='object')"
            ]
          },
          "metadata": {
            "tags": []
          },
          "execution_count": 30
        }
      ]
    },
    {
      "cell_type": "code",
      "metadata": {
        "id": "WW3G5gL41Yiy",
        "outputId": "122e1f77-2226-493b-c9b1-72929b719435",
        "colab": {
          "base_uri": "https://localhost:8080/",
          "height": 686
        }
      },
      "source": [
        "metros_explode.head().T"
      ],
      "execution_count": null,
      "outputs": [
        {
          "output_type": "execute_result",
          "data": {
            "text/html": [
              "<div>\n",
              "<style scoped>\n",
              "    .dataframe tbody tr th:only-of-type {\n",
              "        vertical-align: middle;\n",
              "    }\n",
              "\n",
              "    .dataframe tbody tr th {\n",
              "        vertical-align: top;\n",
              "    }\n",
              "\n",
              "    .dataframe thead th {\n",
              "        text-align: right;\n",
              "    }\n",
              "</style>\n",
              "<table border=\"1\" class=\"dataframe\">\n",
              "  <thead>\n",
              "    <tr style=\"text-align: right;\">\n",
              "      <th></th>\n",
              "      <th>0</th>\n",
              "      <th>3</th>\n",
              "      <th>3</th>\n",
              "      <th>4</th>\n",
              "      <th>4</th>\n",
              "    </tr>\n",
              "  </thead>\n",
              "  <tbody>\n",
              "    <tr>\n",
              "      <th>FIPS</th>\n",
              "      <td>100199999</td>\n",
              "      <td>100799999</td>\n",
              "      <td>100799999</td>\n",
              "      <td>100999999</td>\n",
              "      <td>100999999</td>\n",
              "    </tr>\n",
              "    <tr>\n",
              "      <th>fmr_0</th>\n",
              "      <td>552</td>\n",
              "      <td>634</td>\n",
              "      <td>634</td>\n",
              "      <td>634</td>\n",
              "      <td>634</td>\n",
              "    </tr>\n",
              "    <tr>\n",
              "      <th>fmr_1</th>\n",
              "      <td>653</td>\n",
              "      <td>705</td>\n",
              "      <td>705</td>\n",
              "      <td>705</td>\n",
              "      <td>705</td>\n",
              "    </tr>\n",
              "    <tr>\n",
              "      <th>fmr_2</th>\n",
              "      <td>735</td>\n",
              "      <td>786</td>\n",
              "      <td>786</td>\n",
              "      <td>786</td>\n",
              "      <td>786</td>\n",
              "    </tr>\n",
              "    <tr>\n",
              "      <th>fmr_3</th>\n",
              "      <td>975</td>\n",
              "      <td>997</td>\n",
              "      <td>997</td>\n",
              "      <td>997</td>\n",
              "      <td>997</td>\n",
              "    </tr>\n",
              "    <tr>\n",
              "      <th>fmr_4</th>\n",
              "      <td>1287</td>\n",
              "      <td>1027</td>\n",
              "      <td>1027</td>\n",
              "      <td>1027</td>\n",
              "      <td>1027</td>\n",
              "    </tr>\n",
              "    <tr>\n",
              "      <th>county</th>\n",
              "      <td>1</td>\n",
              "      <td>7</td>\n",
              "      <td>7</td>\n",
              "      <td>9</td>\n",
              "      <td>9</td>\n",
              "    </tr>\n",
              "    <tr>\n",
              "      <th>State</th>\n",
              "      <td>1</td>\n",
              "      <td>1</td>\n",
              "      <td>1</td>\n",
              "      <td>1</td>\n",
              "      <td>1</td>\n",
              "    </tr>\n",
              "    <tr>\n",
              "      <th>CouSub</th>\n",
              "      <td>99999</td>\n",
              "      <td>99999</td>\n",
              "      <td>99999</td>\n",
              "      <td>99999</td>\n",
              "      <td>99999</td>\n",
              "    </tr>\n",
              "    <tr>\n",
              "      <th>pop2000</th>\n",
              "      <td>43671</td>\n",
              "      <td>20826</td>\n",
              "      <td>20826</td>\n",
              "      <td>51024</td>\n",
              "      <td>51024</td>\n",
              "    </tr>\n",
              "    <tr>\n",
              "      <th>countyname</th>\n",
              "      <td>Autauga County</td>\n",
              "      <td>Bibb County</td>\n",
              "      <td>Bibb County</td>\n",
              "      <td>Blount County</td>\n",
              "      <td>Blount County</td>\n",
              "    </tr>\n",
              "    <tr>\n",
              "      <th>Metro_code</th>\n",
              "      <td>METRO33860M33860</td>\n",
              "      <td>METRO13820M13820</td>\n",
              "      <td>METRO13820M13820</td>\n",
              "      <td>METRO13820M13820</td>\n",
              "      <td>METRO13820M13820</td>\n",
              "    </tr>\n",
              "    <tr>\n",
              "      <th>areaname</th>\n",
              "      <td>Montgomery, AL MSA</td>\n",
              "      <td>Birmingham-Hoover, AL HUD Metro FMR Area</td>\n",
              "      <td>Birmingham-Hoover, AL HUD Metro FMR Area</td>\n",
              "      <td>Birmingham-Hoover, AL HUD Metro FMR Area</td>\n",
              "      <td>Birmingham-Hoover, AL HUD Metro FMR Area</td>\n",
              "    </tr>\n",
              "    <tr>\n",
              "      <th>county_town_name</th>\n",
              "      <td>Autauga County</td>\n",
              "      <td>Bibb County</td>\n",
              "      <td>Bibb County</td>\n",
              "      <td>Blount County</td>\n",
              "      <td>Blount County</td>\n",
              "    </tr>\n",
              "    <tr>\n",
              "      <th>ACS_2010_sm_2</th>\n",
              "      <td>735</td>\n",
              "      <td>735</td>\n",
              "      <td>735</td>\n",
              "      <td>735</td>\n",
              "      <td>735</td>\n",
              "    </tr>\n",
              "    <tr>\n",
              "      <th>state_alpha</th>\n",
              "      <td>AL</td>\n",
              "      <td>AL</td>\n",
              "      <td>AL</td>\n",
              "      <td>AL</td>\n",
              "      <td>AL</td>\n",
              "    </tr>\n",
              "    <tr>\n",
              "      <th>fmr_type</th>\n",
              "      <td>40</td>\n",
              "      <td>40</td>\n",
              "      <td>40</td>\n",
              "      <td>40</td>\n",
              "      <td>40</td>\n",
              "    </tr>\n",
              "    <tr>\n",
              "      <th>metro</th>\n",
              "      <td>1</td>\n",
              "      <td>1</td>\n",
              "      <td>1</td>\n",
              "      <td>1</td>\n",
              "      <td>1</td>\n",
              "    </tr>\n",
              "    <tr>\n",
              "      <th>FMR_PCT_Change</th>\n",
              "      <td>1</td>\n",
              "      <td>1.06939</td>\n",
              "      <td>1.06939</td>\n",
              "      <td>1.06939</td>\n",
              "      <td>1.06939</td>\n",
              "    </tr>\n",
              "    <tr>\n",
              "      <th>FMR_Dollar_Change</th>\n",
              "      <td>0</td>\n",
              "      <td>51</td>\n",
              "      <td>51</td>\n",
              "      <td>51</td>\n",
              "      <td>51</td>\n",
              "    </tr>\n",
              "    <tr>\n",
              "      <th>cities</th>\n",
              "      <td>Montgomery</td>\n",
              "      <td>Birmingham</td>\n",
              "      <td>Hoover</td>\n",
              "      <td>Birmingham</td>\n",
              "      <td>Hoover</td>\n",
              "    </tr>\n",
              "  </tbody>\n",
              "</table>\n",
              "</div>"
            ],
            "text/plain": [
              "                                    0  ...                                         4\n",
              "FIPS                        100199999  ...                                 100999999\n",
              "fmr_0                             552  ...                                       634\n",
              "fmr_1                             653  ...                                       705\n",
              "fmr_2                             735  ...                                       786\n",
              "fmr_3                             975  ...                                       997\n",
              "fmr_4                            1287  ...                                      1027\n",
              "county                              1  ...                                         9\n",
              "State                               1  ...                                         1\n",
              "CouSub                          99999  ...                                     99999\n",
              "pop2000                         43671  ...                                     51024\n",
              "countyname             Autauga County  ...                             Blount County\n",
              "Metro_code           METRO33860M33860  ...                          METRO13820M13820\n",
              "areaname           Montgomery, AL MSA  ...  Birmingham-Hoover, AL HUD Metro FMR Area\n",
              "county_town_name       Autauga County  ...                             Blount County\n",
              "ACS_2010_sm_2                     735  ...                                       735\n",
              "state_alpha                        AL  ...                                        AL\n",
              "fmr_type                           40  ...                                        40\n",
              "metro                               1  ...                                         1\n",
              "FMR_PCT_Change                      1  ...                                   1.06939\n",
              "FMR_Dollar_Change                   0  ...                                        51\n",
              "cities                     Montgomery  ...                                    Hoover\n",
              "\n",
              "[21 rows x 5 columns]"
            ]
          },
          "metadata": {
            "tags": []
          },
          "execution_count": 31
        }
      ]
    },
    {
      "cell_type": "code",
      "metadata": {
        "id": "G-gUsaat1Yi0",
        "outputId": "7aaf4cbb-4395-434a-94ae-2fcfd310c718",
        "colab": {
          "base_uri": "https://localhost:8080/",
          "height": 195
        }
      },
      "source": [
        "metros_explode[['areaname','cities','state_alpha']].head()"
      ],
      "execution_count": null,
      "outputs": [
        {
          "output_type": "execute_result",
          "data": {
            "text/html": [
              "<div>\n",
              "<style scoped>\n",
              "    .dataframe tbody tr th:only-of-type {\n",
              "        vertical-align: middle;\n",
              "    }\n",
              "\n",
              "    .dataframe tbody tr th {\n",
              "        vertical-align: top;\n",
              "    }\n",
              "\n",
              "    .dataframe thead th {\n",
              "        text-align: right;\n",
              "    }\n",
              "</style>\n",
              "<table border=\"1\" class=\"dataframe\">\n",
              "  <thead>\n",
              "    <tr style=\"text-align: right;\">\n",
              "      <th></th>\n",
              "      <th>areaname</th>\n",
              "      <th>cities</th>\n",
              "      <th>state_alpha</th>\n",
              "    </tr>\n",
              "  </thead>\n",
              "  <tbody>\n",
              "    <tr>\n",
              "      <th>0</th>\n",
              "      <td>Montgomery, AL MSA</td>\n",
              "      <td>Montgomery</td>\n",
              "      <td>AL</td>\n",
              "    </tr>\n",
              "    <tr>\n",
              "      <th>3</th>\n",
              "      <td>Birmingham-Hoover, AL HUD Metro FMR Area</td>\n",
              "      <td>Birmingham</td>\n",
              "      <td>AL</td>\n",
              "    </tr>\n",
              "    <tr>\n",
              "      <th>3</th>\n",
              "      <td>Birmingham-Hoover, AL HUD Metro FMR Area</td>\n",
              "      <td>Hoover</td>\n",
              "      <td>AL</td>\n",
              "    </tr>\n",
              "    <tr>\n",
              "      <th>4</th>\n",
              "      <td>Birmingham-Hoover, AL HUD Metro FMR Area</td>\n",
              "      <td>Birmingham</td>\n",
              "      <td>AL</td>\n",
              "    </tr>\n",
              "    <tr>\n",
              "      <th>4</th>\n",
              "      <td>Birmingham-Hoover, AL HUD Metro FMR Area</td>\n",
              "      <td>Hoover</td>\n",
              "      <td>AL</td>\n",
              "    </tr>\n",
              "  </tbody>\n",
              "</table>\n",
              "</div>"
            ],
            "text/plain": [
              "                                   areaname      cities state_alpha\n",
              "0                        Montgomery, AL MSA  Montgomery          AL\n",
              "3  Birmingham-Hoover, AL HUD Metro FMR Area  Birmingham          AL\n",
              "3  Birmingham-Hoover, AL HUD Metro FMR Area      Hoover          AL\n",
              "4  Birmingham-Hoover, AL HUD Metro FMR Area  Birmingham          AL\n",
              "4  Birmingham-Hoover, AL HUD Metro FMR Area      Hoover          AL"
            ]
          },
          "metadata": {
            "tags": []
          },
          "execution_count": 32
        }
      ]
    },
    {
      "cell_type": "code",
      "metadata": {
        "id": "RGT96Sa81Yi3"
      },
      "source": [
        "metros_explode['city_state'] = metros_explode['cities']+\", \"+metros_explode['state_alpha']"
      ],
      "execution_count": null,
      "outputs": []
    },
    {
      "cell_type": "code",
      "metadata": {
        "id": "RrbohCFl1Yi5"
      },
      "source": [
        "#df = metros_explode[['city_state','cities','state_alpha','countyname','fmr_0','fmr_1']]"
      ],
      "execution_count": null,
      "outputs": []
    },
    {
      "cell_type": "code",
      "metadata": {
        "id": "IgSAdoZf1Yi6"
      },
      "source": [
        "#df.shape"
      ],
      "execution_count": null,
      "outputs": []
    },
    {
      "cell_type": "code",
      "metadata": {
        "id": "gbDIlui01Yi9"
      },
      "source": [
        "#df['city_state'].head()"
      ],
      "execution_count": null,
      "outputs": []
    },
    {
      "cell_type": "code",
      "metadata": {
        "id": "RNgMGMno1Yi_",
        "outputId": "8822494a-8b12-4dd0-a3ae-167fff15208a",
        "colab": {
          "base_uri": "https://localhost:8080/",
          "height": 195
        }
      },
      "source": [
        "df_cities.head()"
      ],
      "execution_count": null,
      "outputs": [
        {
          "output_type": "execute_result",
          "data": {
            "text/html": [
              "<div>\n",
              "<style scoped>\n",
              "    .dataframe tbody tr th:only-of-type {\n",
              "        vertical-align: middle;\n",
              "    }\n",
              "\n",
              "    .dataframe tbody tr th {\n",
              "        vertical-align: top;\n",
              "    }\n",
              "\n",
              "    .dataframe thead th {\n",
              "        text-align: right;\n",
              "    }\n",
              "</style>\n",
              "<table border=\"1\" class=\"dataframe\">\n",
              "  <thead>\n",
              "    <tr style=\"text-align: right;\">\n",
              "      <th></th>\n",
              "      <th>city_id</th>\n",
              "      <th>city</th>\n",
              "      <th>state</th>\n",
              "      <th>city_state</th>\n",
              "    </tr>\n",
              "  </thead>\n",
              "  <tbody>\n",
              "    <tr>\n",
              "      <th>0</th>\n",
              "      <td>0</td>\n",
              "      <td>Anchorage</td>\n",
              "      <td>AK</td>\n",
              "      <td>Anchorage, AK</td>\n",
              "    </tr>\n",
              "    <tr>\n",
              "      <th>1</th>\n",
              "      <td>1</td>\n",
              "      <td>Chandler</td>\n",
              "      <td>AZ</td>\n",
              "      <td>Chandler, AZ</td>\n",
              "    </tr>\n",
              "    <tr>\n",
              "      <th>2</th>\n",
              "      <td>2</td>\n",
              "      <td>Gilbert</td>\n",
              "      <td>AZ</td>\n",
              "      <td>Gilbert, AZ</td>\n",
              "    </tr>\n",
              "    <tr>\n",
              "      <th>3</th>\n",
              "      <td>3</td>\n",
              "      <td>Glendale</td>\n",
              "      <td>AZ</td>\n",
              "      <td>Glendale, AZ</td>\n",
              "    </tr>\n",
              "    <tr>\n",
              "      <th>4</th>\n",
              "      <td>4</td>\n",
              "      <td>Mesa</td>\n",
              "      <td>AZ</td>\n",
              "      <td>Mesa, AZ</td>\n",
              "    </tr>\n",
              "  </tbody>\n",
              "</table>\n",
              "</div>"
            ],
            "text/plain": [
              "   city_id       city state     city_state\n",
              "0        0  Anchorage    AK  Anchorage, AK\n",
              "1        1   Chandler    AZ   Chandler, AZ\n",
              "2        2    Gilbert    AZ    Gilbert, AZ\n",
              "3        3   Glendale    AZ   Glendale, AZ\n",
              "4        4       Mesa    AZ       Mesa, AZ"
            ]
          },
          "metadata": {
            "tags": []
          },
          "execution_count": 37
        }
      ]
    },
    {
      "cell_type": "code",
      "metadata": {
        "id": "M_uUC4UaqcnO"
      },
      "source": [
        "metros_explode.rename(columns = {'cities':'city'}, inplace = True) "
      ],
      "execution_count": null,
      "outputs": []
    },
    {
      "cell_type": "code",
      "metadata": {
        "id": "I2QOoNl11YjB"
      },
      "source": [
        "metros = metros_explode[['city','fmr_0','fmr_1','fmr_2','fmr_3','fmr_4']]"
      ],
      "execution_count": null,
      "outputs": []
    },
    {
      "cell_type": "code",
      "metadata": {
        "id": "LievVZVz1YjD",
        "outputId": "93bdbefc-a3a1-49f9-e187-18230021ede2",
        "colab": {
          "base_uri": "https://localhost:8080/",
          "height": 195
        }
      },
      "source": [
        "metros.head()"
      ],
      "execution_count": null,
      "outputs": [
        {
          "output_type": "execute_result",
          "data": {
            "text/html": [
              "<div>\n",
              "<style scoped>\n",
              "    .dataframe tbody tr th:only-of-type {\n",
              "        vertical-align: middle;\n",
              "    }\n",
              "\n",
              "    .dataframe tbody tr th {\n",
              "        vertical-align: top;\n",
              "    }\n",
              "\n",
              "    .dataframe thead th {\n",
              "        text-align: right;\n",
              "    }\n",
              "</style>\n",
              "<table border=\"1\" class=\"dataframe\">\n",
              "  <thead>\n",
              "    <tr style=\"text-align: right;\">\n",
              "      <th></th>\n",
              "      <th>city</th>\n",
              "      <th>fmr_0</th>\n",
              "      <th>fmr_1</th>\n",
              "      <th>fmr_2</th>\n",
              "      <th>fmr_3</th>\n",
              "      <th>fmr_4</th>\n",
              "    </tr>\n",
              "  </thead>\n",
              "  <tbody>\n",
              "    <tr>\n",
              "      <th>0</th>\n",
              "      <td>Montgomery</td>\n",
              "      <td>552</td>\n",
              "      <td>653</td>\n",
              "      <td>735</td>\n",
              "      <td>975</td>\n",
              "      <td>1287</td>\n",
              "    </tr>\n",
              "    <tr>\n",
              "      <th>3</th>\n",
              "      <td>Birmingham</td>\n",
              "      <td>634</td>\n",
              "      <td>705</td>\n",
              "      <td>786</td>\n",
              "      <td>997</td>\n",
              "      <td>1027</td>\n",
              "    </tr>\n",
              "    <tr>\n",
              "      <th>3</th>\n",
              "      <td>Hoover</td>\n",
              "      <td>634</td>\n",
              "      <td>705</td>\n",
              "      <td>786</td>\n",
              "      <td>997</td>\n",
              "      <td>1027</td>\n",
              "    </tr>\n",
              "    <tr>\n",
              "      <th>4</th>\n",
              "      <td>Birmingham</td>\n",
              "      <td>634</td>\n",
              "      <td>705</td>\n",
              "      <td>786</td>\n",
              "      <td>997</td>\n",
              "      <td>1027</td>\n",
              "    </tr>\n",
              "    <tr>\n",
              "      <th>4</th>\n",
              "      <td>Hoover</td>\n",
              "      <td>634</td>\n",
              "      <td>705</td>\n",
              "      <td>786</td>\n",
              "      <td>997</td>\n",
              "      <td>1027</td>\n",
              "    </tr>\n",
              "  </tbody>\n",
              "</table>\n",
              "</div>"
            ],
            "text/plain": [
              "         city  fmr_0  fmr_1  fmr_2  fmr_3  fmr_4\n",
              "0  Montgomery    552    653    735    975   1287\n",
              "3  Birmingham    634    705    786    997   1027\n",
              "3      Hoover    634    705    786    997   1027\n",
              "4  Birmingham    634    705    786    997   1027\n",
              "4      Hoover    634    705    786    997   1027"
            ]
          },
          "metadata": {
            "tags": []
          },
          "execution_count": 40
        }
      ]
    },
    {
      "cell_type": "code",
      "metadata": {
        "id": "fYPjwXND1YjF",
        "outputId": "b33764e5-7aed-421e-8ddd-ccc290c67d9b",
        "colab": {
          "base_uri": "https://localhost:8080/"
        }
      },
      "source": [
        "metros.shape"
      ],
      "execution_count": null,
      "outputs": [
        {
          "output_type": "execute_result",
          "data": {
            "text/plain": [
              "(3230, 6)"
            ]
          },
          "metadata": {
            "tags": []
          },
          "execution_count": 41
        }
      ]
    },
    {
      "cell_type": "code",
      "metadata": {
        "id": "hdmY0cQd1YjH",
        "outputId": "44ebab13-db7a-4dc4-b239-2cd8dbd482df",
        "colab": {
          "base_uri": "https://localhost:8080/"
        }
      },
      "source": [
        "metros.drop_duplicates(subset=['city'],keep='first',inplace=True)"
      ],
      "execution_count": null,
      "outputs": [
        {
          "output_type": "stream",
          "text": [
            "/usr/local/lib/python3.6/dist-packages/ipykernel_launcher.py:1: SettingWithCopyWarning: \n",
            "A value is trying to be set on a copy of a slice from a DataFrame\n",
            "\n",
            "See the caveats in the documentation: https://pandas.pydata.org/pandas-docs/stable/user_guide/indexing.html#returning-a-view-versus-a-copy\n",
            "  \"\"\"Entry point for launching an IPython kernel.\n"
          ],
          "name": "stderr"
        }
      ]
    },
    {
      "cell_type": "code",
      "metadata": {
        "id": "Xf8n8rSu1YjJ",
        "outputId": "af7d7836-8abd-4572-e39a-4366dc9aa2c5",
        "colab": {
          "base_uri": "https://localhost:8080/"
        }
      },
      "source": [
        "metros.shape"
      ],
      "execution_count": null,
      "outputs": [
        {
          "output_type": "execute_result",
          "data": {
            "text/plain": [
              "(704, 6)"
            ]
          },
          "metadata": {
            "tags": []
          },
          "execution_count": 43
        }
      ]
    },
    {
      "cell_type": "code",
      "metadata": {
        "id": "wijOeKHR6FR1"
      },
      "source": [
        "metros = metros.replace(['Boise City', 'Louisville/Jefferson County', 'Urban Honolulu', 'Winston'], ['Boise', 'Louisville', 'Honolulu', 'Winston Salem'])"
      ],
      "execution_count": null,
      "outputs": []
    },
    {
      "cell_type": "code",
      "metadata": {
        "id": "Qkse8Tf0MlRt",
        "outputId": "8150f012-ae38-4b15-fc30-00e6df1d276c",
        "colab": {
          "base_uri": "https://localhost:8080/",
          "height": 195
        }
      },
      "source": [
        "metros['year']=2011\n",
        "metros.head()"
      ],
      "execution_count": null,
      "outputs": [
        {
          "output_type": "execute_result",
          "data": {
            "text/html": [
              "<div>\n",
              "<style scoped>\n",
              "    .dataframe tbody tr th:only-of-type {\n",
              "        vertical-align: middle;\n",
              "    }\n",
              "\n",
              "    .dataframe tbody tr th {\n",
              "        vertical-align: top;\n",
              "    }\n",
              "\n",
              "    .dataframe thead th {\n",
              "        text-align: right;\n",
              "    }\n",
              "</style>\n",
              "<table border=\"1\" class=\"dataframe\">\n",
              "  <thead>\n",
              "    <tr style=\"text-align: right;\">\n",
              "      <th></th>\n",
              "      <th>city</th>\n",
              "      <th>fmr_0</th>\n",
              "      <th>fmr_1</th>\n",
              "      <th>fmr_2</th>\n",
              "      <th>fmr_3</th>\n",
              "      <th>fmr_4</th>\n",
              "      <th>year</th>\n",
              "    </tr>\n",
              "  </thead>\n",
              "  <tbody>\n",
              "    <tr>\n",
              "      <th>0</th>\n",
              "      <td>Montgomery</td>\n",
              "      <td>552</td>\n",
              "      <td>653</td>\n",
              "      <td>735</td>\n",
              "      <td>975</td>\n",
              "      <td>1287</td>\n",
              "      <td>2011</td>\n",
              "    </tr>\n",
              "    <tr>\n",
              "      <th>3</th>\n",
              "      <td>Birmingham</td>\n",
              "      <td>634</td>\n",
              "      <td>705</td>\n",
              "      <td>786</td>\n",
              "      <td>997</td>\n",
              "      <td>1027</td>\n",
              "      <td>2011</td>\n",
              "    </tr>\n",
              "    <tr>\n",
              "      <th>3</th>\n",
              "      <td>Hoover</td>\n",
              "      <td>634</td>\n",
              "      <td>705</td>\n",
              "      <td>786</td>\n",
              "      <td>997</td>\n",
              "      <td>1027</td>\n",
              "      <td>2011</td>\n",
              "    </tr>\n",
              "    <tr>\n",
              "      <th>7</th>\n",
              "      <td>Anniston</td>\n",
              "      <td>426</td>\n",
              "      <td>471</td>\n",
              "      <td>585</td>\n",
              "      <td>773</td>\n",
              "      <td>909</td>\n",
              "      <td>2011</td>\n",
              "    </tr>\n",
              "    <tr>\n",
              "      <th>7</th>\n",
              "      <td>Oxford</td>\n",
              "      <td>426</td>\n",
              "      <td>471</td>\n",
              "      <td>585</td>\n",
              "      <td>773</td>\n",
              "      <td>909</td>\n",
              "      <td>2011</td>\n",
              "    </tr>\n",
              "  </tbody>\n",
              "</table>\n",
              "</div>"
            ],
            "text/plain": [
              "         city  fmr_0  fmr_1  fmr_2  fmr_3  fmr_4  year\n",
              "0  Montgomery    552    653    735    975   1287  2011\n",
              "3  Birmingham    634    705    786    997   1027  2011\n",
              "3      Hoover    634    705    786    997   1027  2011\n",
              "7    Anniston    426    471    585    773    909  2011\n",
              "7      Oxford    426    471    585    773    909  2011"
            ]
          },
          "metadata": {
            "tags": []
          },
          "execution_count": 45
        }
      ]
    },
    {
      "cell_type": "code",
      "metadata": {
        "id": "op7V2mAq1YjL"
      },
      "source": [
        "merged = df_cities.merge(metros, on=\"city\", how=\"left\")"
      ],
      "execution_count": null,
      "outputs": []
    },
    {
      "cell_type": "code",
      "metadata": {
        "id": "XoTBqDrr1YjN",
        "outputId": "7ad23b5e-7b4f-4a04-8fc7-7523b3464309",
        "colab": {
          "base_uri": "https://localhost:8080/"
        }
      },
      "source": [
        "merged.shape"
      ],
      "execution_count": null,
      "outputs": [
        {
          "output_type": "execute_result",
          "data": {
            "text/plain": [
              "(100, 10)"
            ]
          },
          "metadata": {
            "tags": []
          },
          "execution_count": 47
        }
      ]
    },
    {
      "cell_type": "code",
      "metadata": {
        "id": "S-JA-n66HA0t",
        "outputId": "868ddbac-dcf5-4455-9949-f2385a6c822e",
        "colab": {
          "base_uri": "https://localhost:8080/",
          "height": 47
        }
      },
      "source": [
        "df1 = merged[merged.isna().any(axis=1)]\n",
        "df1.head(50)"
      ],
      "execution_count": null,
      "outputs": [
        {
          "output_type": "execute_result",
          "data": {
            "text/html": [
              "<div>\n",
              "<style scoped>\n",
              "    .dataframe tbody tr th:only-of-type {\n",
              "        vertical-align: middle;\n",
              "    }\n",
              "\n",
              "    .dataframe tbody tr th {\n",
              "        vertical-align: top;\n",
              "    }\n",
              "\n",
              "    .dataframe thead th {\n",
              "        text-align: right;\n",
              "    }\n",
              "</style>\n",
              "<table border=\"1\" class=\"dataframe\">\n",
              "  <thead>\n",
              "    <tr style=\"text-align: right;\">\n",
              "      <th></th>\n",
              "      <th>city_id</th>\n",
              "      <th>city</th>\n",
              "      <th>state</th>\n",
              "      <th>city_state</th>\n",
              "      <th>fmr_0</th>\n",
              "      <th>fmr_1</th>\n",
              "      <th>fmr_2</th>\n",
              "      <th>fmr_3</th>\n",
              "      <th>fmr_4</th>\n",
              "      <th>year</th>\n",
              "    </tr>\n",
              "  </thead>\n",
              "  <tbody>\n",
              "  </tbody>\n",
              "</table>\n",
              "</div>"
            ],
            "text/plain": [
              "Empty DataFrame\n",
              "Columns: [city_id, city, state, city_state, fmr_0, fmr_1, fmr_2, fmr_3, fmr_4, year]\n",
              "Index: []"
            ]
          },
          "metadata": {
            "tags": []
          },
          "execution_count": 48
        }
      ]
    },
    {
      "cell_type": "code",
      "metadata": {
        "id": "m6dMdkmw1YjP",
        "outputId": "fec6344a-0a7f-4a7f-e151-a453db4681c0",
        "colab": {
          "base_uri": "https://localhost:8080/"
        }
      },
      "source": [
        "merged.isnull().sum()"
      ],
      "execution_count": null,
      "outputs": [
        {
          "output_type": "execute_result",
          "data": {
            "text/plain": [
              "city_id       0\n",
              "city          0\n",
              "state         0\n",
              "city_state    0\n",
              "fmr_0         0\n",
              "fmr_1         0\n",
              "fmr_2         0\n",
              "fmr_3         0\n",
              "fmr_4         0\n",
              "year          0\n",
              "dtype: int64"
            ]
          },
          "metadata": {
            "tags": []
          },
          "execution_count": 49
        }
      ]
    },
    {
      "cell_type": "code",
      "metadata": {
        "id": "d9ZGasTj1YjQ",
        "outputId": "3bec5f8b-86a6-4bbd-e580-c65df5e1cff3",
        "colab": {
          "base_uri": "https://localhost:8080/",
          "height": 195
        }
      },
      "source": [
        "merged.head()\n"
      ],
      "execution_count": null,
      "outputs": [
        {
          "output_type": "execute_result",
          "data": {
            "text/html": [
              "<div>\n",
              "<style scoped>\n",
              "    .dataframe tbody tr th:only-of-type {\n",
              "        vertical-align: middle;\n",
              "    }\n",
              "\n",
              "    .dataframe tbody tr th {\n",
              "        vertical-align: top;\n",
              "    }\n",
              "\n",
              "    .dataframe thead th {\n",
              "        text-align: right;\n",
              "    }\n",
              "</style>\n",
              "<table border=\"1\" class=\"dataframe\">\n",
              "  <thead>\n",
              "    <tr style=\"text-align: right;\">\n",
              "      <th></th>\n",
              "      <th>city_id</th>\n",
              "      <th>city</th>\n",
              "      <th>state</th>\n",
              "      <th>city_state</th>\n",
              "      <th>fmr_0</th>\n",
              "      <th>fmr_1</th>\n",
              "      <th>fmr_2</th>\n",
              "      <th>fmr_3</th>\n",
              "      <th>fmr_4</th>\n",
              "      <th>year</th>\n",
              "    </tr>\n",
              "  </thead>\n",
              "  <tbody>\n",
              "    <tr>\n",
              "      <th>0</th>\n",
              "      <td>0</td>\n",
              "      <td>Anchorage</td>\n",
              "      <td>AK</td>\n",
              "      <td>Anchorage, AK</td>\n",
              "      <td>726</td>\n",
              "      <td>826</td>\n",
              "      <td>1036</td>\n",
              "      <td>1492</td>\n",
              "      <td>1817</td>\n",
              "      <td>2011</td>\n",
              "    </tr>\n",
              "    <tr>\n",
              "      <th>1</th>\n",
              "      <td>1</td>\n",
              "      <td>Chandler</td>\n",
              "      <td>AZ</td>\n",
              "      <td>Chandler, AZ</td>\n",
              "      <td>666</td>\n",
              "      <td>776</td>\n",
              "      <td>936</td>\n",
              "      <td>1363</td>\n",
              "      <td>1596</td>\n",
              "      <td>2011</td>\n",
              "    </tr>\n",
              "    <tr>\n",
              "      <th>2</th>\n",
              "      <td>2</td>\n",
              "      <td>Gilbert</td>\n",
              "      <td>AZ</td>\n",
              "      <td>Gilbert, AZ</td>\n",
              "      <td>666</td>\n",
              "      <td>776</td>\n",
              "      <td>936</td>\n",
              "      <td>1363</td>\n",
              "      <td>1596</td>\n",
              "      <td>2011</td>\n",
              "    </tr>\n",
              "    <tr>\n",
              "      <th>3</th>\n",
              "      <td>3</td>\n",
              "      <td>Glendale</td>\n",
              "      <td>AZ</td>\n",
              "      <td>Glendale, AZ</td>\n",
              "      <td>666</td>\n",
              "      <td>776</td>\n",
              "      <td>936</td>\n",
              "      <td>1363</td>\n",
              "      <td>1596</td>\n",
              "      <td>2011</td>\n",
              "    </tr>\n",
              "    <tr>\n",
              "      <th>4</th>\n",
              "      <td>4</td>\n",
              "      <td>Mesa</td>\n",
              "      <td>AZ</td>\n",
              "      <td>Mesa, AZ</td>\n",
              "      <td>666</td>\n",
              "      <td>776</td>\n",
              "      <td>936</td>\n",
              "      <td>1363</td>\n",
              "      <td>1596</td>\n",
              "      <td>2011</td>\n",
              "    </tr>\n",
              "  </tbody>\n",
              "</table>\n",
              "</div>"
            ],
            "text/plain": [
              "   city_id       city state     city_state  ...  fmr_2  fmr_3  fmr_4  year\n",
              "0        0  Anchorage    AK  Anchorage, AK  ...   1036   1492   1817  2011\n",
              "1        1   Chandler    AZ   Chandler, AZ  ...    936   1363   1596  2011\n",
              "2        2    Gilbert    AZ    Gilbert, AZ  ...    936   1363   1596  2011\n",
              "3        3   Glendale    AZ   Glendale, AZ  ...    936   1363   1596  2011\n",
              "4        4       Mesa    AZ       Mesa, AZ  ...    936   1363   1596  2011\n",
              "\n",
              "[5 rows x 10 columns]"
            ]
          },
          "metadata": {
            "tags": []
          },
          "execution_count": 50
        }
      ]
    },
    {
      "cell_type": "code",
      "metadata": {
        "id": "qwAUrv9M1YjT"
      },
      "source": [
        "merged.to_csv(\"/content/output/rental_data_2011.csv\", index=False)"
      ],
      "execution_count": null,
      "outputs": []
    },
    {
      "cell_type": "code",
      "metadata": {
        "id": "3Mx4vuKg1YjV"
      },
      "source": [
        "#rental_data = pd.read_csv(\"./data/rental_data_2020.csv\")"
      ],
      "execution_count": null,
      "outputs": []
    },
    {
      "cell_type": "code",
      "metadata": {
        "id": "74LbD1FU1YjW"
      },
      "source": [
        "#rental_data.head()"
      ],
      "execution_count": null,
      "outputs": []
    },
    {
      "cell_type": "code",
      "metadata": {
        "id": "DqVzSPG71YjY",
        "outputId": "2e152288-3c86-46cc-8e53-371bc1e82a66",
        "colab": {
          "base_uri": "https://localhost:8080/",
          "height": 400
        }
      },
      "source": [
        "\n",
        "dfx = pd.read_csv(\"/content/data/rental_2020.csv\")\n",
        "\n",
        "dfx.head()"
      ],
      "execution_count": null,
      "outputs": [
        {
          "output_type": "execute_result",
          "data": {
            "text/html": [
              "<div>\n",
              "<style scoped>\n",
              "    .dataframe tbody tr th:only-of-type {\n",
              "        vertical-align: middle;\n",
              "    }\n",
              "\n",
              "    .dataframe tbody tr th {\n",
              "        vertical-align: top;\n",
              "    }\n",
              "\n",
              "    .dataframe thead th {\n",
              "        text-align: right;\n",
              "    }\n",
              "</style>\n",
              "<table border=\"1\" class=\"dataframe\">\n",
              "  <thead>\n",
              "    <tr style=\"text-align: right;\">\n",
              "      <th></th>\n",
              "      <th>fips2010</th>\n",
              "      <th>fmr_0</th>\n",
              "      <th>fmr_1</th>\n",
              "      <th>fmr_2</th>\n",
              "      <th>fmr_3</th>\n",
              "      <th>fmr_4</th>\n",
              "      <th>state</th>\n",
              "      <th>metro_code</th>\n",
              "      <th>areaname</th>\n",
              "      <th>county</th>\n",
              "      <th>cousub</th>\n",
              "      <th>countyname</th>\n",
              "      <th>county_town_name</th>\n",
              "      <th>pop2017</th>\n",
              "      <th>acs_2019_2</th>\n",
              "      <th>state_alpha</th>\n",
              "      <th>fmr_type</th>\n",
              "      <th>metro</th>\n",
              "      <th>fmr_pct_chg</th>\n",
              "      <th>fmr_dollar_chg</th>\n",
              "    </tr>\n",
              "  </thead>\n",
              "  <tbody>\n",
              "    <tr>\n",
              "      <th>0</th>\n",
              "      <td>100199999</td>\n",
              "      <td>583</td>\n",
              "      <td>702</td>\n",
              "      <td>830</td>\n",
              "      <td>1047</td>\n",
              "      <td>1425</td>\n",
              "      <td>1</td>\n",
              "      <td>METRO33860M33860</td>\n",
              "      <td>Montgomery, AL MSA</td>\n",
              "      <td>1</td>\n",
              "      <td>99999</td>\n",
              "      <td>Autauga County</td>\n",
              "      <td>Autauga County</td>\n",
              "      <td>55035</td>\n",
              "      <td>825</td>\n",
              "      <td>AL</td>\n",
              "      <td>40</td>\n",
              "      <td>1</td>\n",
              "      <td>0.006061</td>\n",
              "      <td>5</td>\n",
              "    </tr>\n",
              "    <tr>\n",
              "      <th>1</th>\n",
              "      <td>100399999</td>\n",
              "      <td>744</td>\n",
              "      <td>749</td>\n",
              "      <td>916</td>\n",
              "      <td>1251</td>\n",
              "      <td>1566</td>\n",
              "      <td>1</td>\n",
              "      <td>METRO19300M19300</td>\n",
              "      <td>Daphne-Fairhope-Foley, AL MSA</td>\n",
              "      <td>3</td>\n",
              "      <td>99999</td>\n",
              "      <td>Baldwin County</td>\n",
              "      <td>Baldwin County</td>\n",
              "      <td>203360</td>\n",
              "      <td>888</td>\n",
              "      <td>AL</td>\n",
              "      <td>40</td>\n",
              "      <td>1</td>\n",
              "      <td>0.031531</td>\n",
              "      <td>28</td>\n",
              "    </tr>\n",
              "    <tr>\n",
              "      <th>2</th>\n",
              "      <td>100599999</td>\n",
              "      <td>477</td>\n",
              "      <td>481</td>\n",
              "      <td>633</td>\n",
              "      <td>789</td>\n",
              "      <td>925</td>\n",
              "      <td>1</td>\n",
              "      <td>NCNTY01005N01005</td>\n",
              "      <td>Barbour County, AL</td>\n",
              "      <td>5</td>\n",
              "      <td>99999</td>\n",
              "      <td>Barbour County</td>\n",
              "      <td>Barbour County</td>\n",
              "      <td>26200</td>\n",
              "      <td>666</td>\n",
              "      <td>AL</td>\n",
              "      <td>40</td>\n",
              "      <td>0</td>\n",
              "      <td>-0.049550</td>\n",
              "      <td>-33</td>\n",
              "    </tr>\n",
              "    <tr>\n",
              "      <th>3</th>\n",
              "      <td>100799999</td>\n",
              "      <td>804</td>\n",
              "      <td>861</td>\n",
              "      <td>986</td>\n",
              "      <td>1291</td>\n",
              "      <td>1425</td>\n",
              "      <td>1</td>\n",
              "      <td>METRO13820M13820</td>\n",
              "      <td>Birmingham-Hoover, AL HUD Metro FMR Area</td>\n",
              "      <td>7</td>\n",
              "      <td>99999</td>\n",
              "      <td>Bibb County</td>\n",
              "      <td>Bibb County</td>\n",
              "      <td>22580</td>\n",
              "      <td>873</td>\n",
              "      <td>AL</td>\n",
              "      <td>40</td>\n",
              "      <td>1</td>\n",
              "      <td>0.129439</td>\n",
              "      <td>113</td>\n",
              "    </tr>\n",
              "    <tr>\n",
              "      <th>4</th>\n",
              "      <td>100999999</td>\n",
              "      <td>804</td>\n",
              "      <td>861</td>\n",
              "      <td>986</td>\n",
              "      <td>1291</td>\n",
              "      <td>1425</td>\n",
              "      <td>1</td>\n",
              "      <td>METRO13820M13820</td>\n",
              "      <td>Birmingham-Hoover, AL HUD Metro FMR Area</td>\n",
              "      <td>9</td>\n",
              "      <td>99999</td>\n",
              "      <td>Blount County</td>\n",
              "      <td>Blount County</td>\n",
              "      <td>57665</td>\n",
              "      <td>873</td>\n",
              "      <td>AL</td>\n",
              "      <td>40</td>\n",
              "      <td>1</td>\n",
              "      <td>0.129439</td>\n",
              "      <td>113</td>\n",
              "    </tr>\n",
              "  </tbody>\n",
              "</table>\n",
              "</div>"
            ],
            "text/plain": [
              "    fips2010  fmr_0  fmr_1  fmr_2  ...  fmr_type  metro  fmr_pct_chg fmr_dollar_chg\n",
              "0  100199999    583    702    830  ...        40      1     0.006061              5\n",
              "1  100399999    744    749    916  ...        40      1     0.031531             28\n",
              "2  100599999    477    481    633  ...        40      0    -0.049550            -33\n",
              "3  100799999    804    861    986  ...        40      1     0.129439            113\n",
              "4  100999999    804    861    986  ...        40      1     0.129439            113\n",
              "\n",
              "[5 rows x 20 columns]"
            ]
          },
          "metadata": {
            "tags": []
          },
          "execution_count": 54
        }
      ]
    },
    {
      "cell_type": "code",
      "metadata": {
        "id": "p-qK6Vyt1Yja",
        "outputId": "8cbe8569-be02-4712-911b-a755c72b5419",
        "colab": {
          "base_uri": "https://localhost:8080/"
        }
      },
      "source": [
        "print(sorted(dfx.areaname.unique()))"
      ],
      "execution_count": null,
      "outputs": [
        {
          "output_type": "stream",
          "text": [
            "['Abbeville County, SC', 'Abilene, TX MSA', 'Acadia Parish, LA HUD Metro FMR Area', 'Accomack County, VA', 'Adair County, IA', 'Adair County, KY', 'Adair County, MO', 'Adair County, OK', 'Adams County, IA', 'Adams County, ID', 'Adams County, IL', 'Adams County, IN', 'Adams County, MS', 'Adams County, ND', 'Adams County, NE', 'Adams County, OH', 'Adams County, WA', 'Adams County, WI', 'Addison County, VT', 'Aguadilla-Isabela, PR HUD Metro FMR Area', 'Aitkin County, MN', 'Akron, OH MSA', 'Alamosa County, CO', 'Albany County, WY', 'Albany, GA MSA', 'Albany, OR MSA', 'Albany-Schenectady-Troy, NY MSA', 'Albuquerque, NM MSA', 'Alcona County, MI', 'Alcorn County, MS', 'Aleutians East Borough, AK', 'Aleutians West Census Area, AK', 'Alexandria, LA MSA', 'Alfalfa County, OK', 'Alger County, MI', 'Allamakee County, IA', 'Allegan County, MI', 'Allegany County, NY', 'Alleghany County, NC', 'Alleghany County-Clifton Forge city-Covington city, VA HUD Nonmet', 'Allen County, KS', 'Allen County, KY HUD Metro FMR Area', 'Allen Parish, LA', 'Allendale County, SC', 'Allentown-Bethlehem-Easton, PA HUD Metro FMR Area', 'Alpena County, MI', 'Alpine County, CA', 'Altoona, PA MSA', 'Amador County, CA', 'Amarillo, TX HUD Metro FMR Area', 'American Samoa', 'Ames, IA MSA', 'Amite County, MS', 'Anchorage, AK HUD Metro FMR Area', 'Anderson County, KS', 'Anderson County, KY', 'Anderson County, TX', 'Anderson, IN HUD Metro FMR Area', 'Anderson, SC HUD Metro FMR Area', 'Andrews County, TX', 'Angelina County, TX', 'Ann Arbor, MI MSA', 'Anniston-Oxford-Jacksonville, AL MSA', 'Anson County, NC', 'Antelope County, NE', 'Antrim County, MI', 'Apache County, AZ', 'Appanoose County, IA', 'Appleton, WI MSA', 'Appling County, GA', 'Aransas County, TX HUD Metro FMR Area', 'Archuleta County, CO', 'Arecibo, PR HUD Metro FMR Area', 'Arenac County, MI', 'Arkansas County, AR', 'Armstrong County, PA HUD Metro FMR Area', 'Aroostook County, ME', 'Arthur County, NE', 'Ashe County, NC', 'Asheville, NC HUD Metro FMR Area', 'Ashland County, OH', 'Ashland County, WI', 'Ashley County, AR', 'Ashtabula County, OH', 'Assumption Parish, LA', 'Atascosa County, TX HUD Metro FMR Area', 'Atchison County, KS', 'Atchison County, MO', 'Athens County, OH', 'Athens-Clarke County, GA MSA', 'Atkinson County, GA', 'Atlanta-Sandy Springs-Roswell, GA HUD Metro FMR Area', 'Atlantic City-Hammonton, NJ MSA', 'Atoka County, OK', 'Attala County, MS', 'Auburn-Opelika, AL MSA', 'Audrain County, MO', 'Audubon County, IA', 'Auglaize County, OH', 'Augusta-Richmond County, GA-SC HUD Metro FMR Area', 'Aurora County, SD', 'Austin County, TX HUD Metro FMR Area', 'Austin-Round Rock, TX MSA', 'Avery County, NC', 'Avoyelles Parish, LA', 'Baca County, CO', 'Bacon County, GA', 'Bailey County, TX', 'Baker County, FL HUD Metro FMR Area', 'Baker County, OR', 'Bakersfield, CA MSA', 'Baldwin County, GA', 'Ballard County, KY', 'Baltimore-Columbia-Towson, MD MSA', 'Bamberg County, SC', 'Bangor, ME HUD Metro FMR Area', 'Banks County, GA', 'Banner County, NE', 'Baraga County, MI', 'Barber County, KS', 'Barbour County, AL', 'Barbour County, WV', 'Barnes County, ND', 'Barnstable Town, MA MSA', 'Barnwell County, SC', 'Barranquitas-Aibonito, PR HUD Metro FMR Area', 'Barren County, KY', 'Barron County, WI', 'Barry County, MI HUD Metro FMR Area', 'Barry County, MO', 'Barton County, KS', 'Barton County, MO', 'Bates County, MO HUD Metro FMR Area', 'Bath County, KY', 'Bath County, VA', 'Baton Rouge, LA HUD Metro FMR Area', 'Battle Creek, MI MSA', 'Baxter County, AR', 'Bay City, MI MSA', 'Bayfield County, WI', 'Baylor County, TX', 'Beadle County, SD', 'Bear Lake County, ID', 'Beaufort County, NC', 'Beaufort County, SC HUD Metro FMR Area', 'Beaumont-Port Arthur, TX HUD Metro FMR Area', 'Beauregard Parish, LA', 'Beaver County, OK', 'Beaver County, UT', 'Beaverhead County, MT', 'Becker County, MN', 'Beckham County, OK', 'Bedford County, PA', 'Bedford County, TN', 'Bee County, TX', 'Belknap County, NH', 'Bell County, KY', 'Bellingham, WA MSA', 'Beltrami County, MN', 'Ben Hill County, GA', 'Bend-Redmond, OR MSA', 'Benewah County, ID', 'Bennett County, SD', 'Bennington County, VT', 'Benson County, ND', 'Bent County, CO', 'Benton County, IA HUD Metro FMR Area', 'Benton County, MO', 'Benton County, MS HUD Metro FMR Area', 'Benton County, TN', 'Benzie County, MI', 'Bergen-Passaic, NJ HUD Metro FMR Area', 'Berkshire County, MA (part) HUD Metro FMR Area', 'Berrien County, GA', 'Bertie County, NC', 'Bethel Census Area, AK', 'Bienville Parish, LA', 'Big Horn County, MT', 'Big Horn County, WY', 'Big Stone County, MN', 'Billings County, ND', 'Billings, MT HUD Metro FMR Area', 'Bingham County, ID', 'Binghamton, NY MSA', 'Birmingham-Hoover, AL HUD Metro FMR Area', 'Bismarck, ND HUD Metro FMR Area', 'Blackford County, IN', 'Blacksburg-Christiansburg-Radford, VA HUD Metro FMR Area', 'Bladen County, NC', 'Blaine County, ID', 'Blaine County, MT', 'Blaine County, NE', 'Blaine County, OK', 'Blanco County, TX', 'Bland County, VA', 'Bleckley County, GA', 'Bledsoe County, TN', 'Bloomington, IL  HUD Metro FMR Area', 'Bloomington, IN HUD Metro FMR Area', 'Boise City, ID HUD Metro FMR Area', 'Bolivar County, MS', 'Bon Homme County, SD', 'Bond County, IL HUD Metro FMR Area', 'Bonner County, ID', 'Boone County, AR', 'Boone County, IA', 'Boone County, NE', 'Boone County, WV HUD Metro FMR Area', 'Borden County, TX', 'Bosque County, TX', 'Boston-Cambridge-Quincy, MA-NH HUD Metro FMR Area', 'Bottineau County, ND', 'Boulder, CO MSA', 'Boundary County, ID', 'Bourbon County, KS', 'Bowling Green, KY HUD Metro FMR Area', 'Bowman County, ND', 'Box Butte County, NE', 'Box Elder County, UT HUD Metro FMR Area', 'Boyd County, NE', 'Boyle County, KY', 'Bradford County, FL', 'Bradford County, PA', 'Bradley County, AR', 'Branch County, MI', 'Braxton County, WV', 'Brazoria County, TX HUD Metro FMR Area', 'Breathitt County, KY', 'Breckinridge County, KY', 'Bremer County, IA HUD Metro FMR Area', 'Bremerton-Silverdale, WA MSA', 'Brewster County, TX', 'Bridgeport, CT HUD Metro FMR Area', 'Briscoe County, TX', 'Bristol Bay Borough, AK', 'Broadwater County, MT', 'Brockton, MA HUD Metro FMR Area', 'Brookings County, SD', 'Brooks County, TX', 'Brown County, IL', 'Brown County, KS', 'Brown County, MN', 'Brown County, NE', 'Brown County, OH HUD Metro FMR Area', 'Brown County, SD', 'Brown County, TX', 'Brownsville-Harlingen, TX MSA', 'Brule County, SD', 'Brunswick County, NC HUD Metro FMR Area', 'Brunswick County, VA', 'Brunswick, GA MSA', 'Bryan County, OK', 'Buchanan County, IA', 'Buchanan County, VA', 'Buckingham County, VA HUD Metro FMR Area', 'Buena Vista County, IA', 'Buffalo County, NE', 'Buffalo County, SD', 'Buffalo County, WI', 'Buffalo-Cheektowaga-Niagara Falls, NY MSA', 'Bulloch County, GA', 'Bullock County, AL', 'Bureau County, IL', 'Burke County, ND', 'Burlington, NC MSA', 'Burlington-South Burlington, VT MSA', 'Burnet County, TX', 'Burnett County, WI', 'Burt County, NE', 'Butler County, AL', 'Butler County, IA', 'Butler County, KY HUD Metro FMR Area', 'Butler County, MO', 'Butler County, NE', 'Butte County, ID HUD Metro FMR Area', 'Butte County, SD', 'Butts County, GA HUD Metro FMR Area', 'Caddo County, OK', 'Caguas, PR HUD Metro FMR Area', 'Calaveras County, CA', 'Caldwell County, KY', 'Caldwell Parish, LA', 'Caledonia County, VT', 'Calhoun County, AR', 'Calhoun County, FL', 'Calhoun County, GA', 'Calhoun County, IA', 'Calhoun County, MS', 'Calhoun County, TX', 'Calhoun County, WV', 'California-Lexington Park, MD MSA', 'Callaway County, MO HUD Metro FMR Area', 'Calloway County, KY', 'Camas County, ID', 'Camden County, GA', 'Camden County, MO', 'Camden County, NC', 'Cameron County, PA', 'Camp County, TX', 'Campbell County, SD', 'Campbell County, TN HUD Metro FMR Area', 'Campbell County, WY', 'Candler County, GA', 'Canton-Massillon, OH MSA', 'Cape Coral-Fort Myers, FL MSA', 'Cape Girardeau, MO-IL MSA', 'Carbon County, UT', 'Carbon County, WY', 'Caribou County, ID', 'Carlisle County, KY', 'Caroline County, MD', 'Carroll County, AR', 'Carroll County, IA', 'Carroll County, IL', 'Carroll County, IN HUD Metro FMR Area', 'Carroll County, KY', 'Carroll County, MO', 'Carroll County, MS', 'Carroll County, NH', 'Carroll County, TN', 'Carroll County-Galax city, VA HUD Nonmetro FMR Area', 'Carson City, NV MSA', 'Carter County, KY', 'Carter County, MO', 'Carter County, MT', 'Carter County, OK', 'Carteret County, NC', 'Casey County, KY', 'Casper, WY MSA', 'Cass County, IA', 'Cass County, IL', 'Cass County, IN', 'Cass County, MI HUD Metro FMR Area', 'Cass County, MN', 'Cass County, TX', 'Cassia County, ID', 'Castro County, TX', 'Caswell County, NC', 'Catahoula Parish, LA', 'Catron County, NM', 'Cattaraugus County, NY', 'Cavalier County, ND', 'Cayuga County, NY', 'Cedar County, IA', 'Cedar County, MO', 'Cedar County, NE', 'Cedar Rapids, IA HUD Metro FMR Area', 'Cerro Gordo County, IA', 'Chaffee County, CO', 'Chambers County, AL', 'Chambersburg-Waynesboro, PA MSA', 'Champaign County, OH', 'Champaign-Urbana, IL MSA', 'Chariton County, MO', 'Charles Mix County, SD', 'Charleston, WV HUD Metro FMR Area', 'Charleston-North Charleston, SC MSA', 'Charlevoix County, MI', 'Charlotte County, VA', 'Charlotte-Concord-Gastonia, NC-SC HUD Metro FMR Area', 'Charlottesville, VA HUD Metro FMR Area', 'Charlton County, GA', 'Chase County, KS', 'Chase County, NE', 'Chattanooga, TN-GA MSA', 'Chattooga County, GA', 'Chautauqua County, KS', 'Chautauqua County, NY', 'Chaves County, NM', 'Cheboygan County, MI', 'Chenango County, NY', 'Cherokee County, AL', 'Cherokee County, IA', 'Cherokee County, KS', 'Cherokee County, NC', 'Cherokee County, OK', 'Cherokee County, SC', 'Cherokee County, TX', 'Cherry County, NE', 'Cheshire County, NH', 'Chester County, SC HUD Metro FMR Area', 'Chesterfield County, SC', 'Cheyenne County, CO', 'Cheyenne County, KS', 'Cheyenne County, NE', 'Cheyenne, WY MSA', 'Chicago-Joliet-Naperville, IL HUD Metro FMR Area', 'Chickasaw County, IA', 'Chickasaw County, MS', 'Chico, CA MSA', 'Chicot County, AR', 'Childress County, TX', 'Chilton County, AL HUD Metro FMR Area', 'Chippewa County, MI', 'Chippewa County, MN', 'Choctaw County, AL', 'Choctaw County, MS', 'Choctaw County, OK', 'Chouteau County, MT', 'Chowan County, NC', 'Christian County, IL', 'Churchill County, NV', 'Cibola County, NM', 'Cimarron County, OK', 'Cincinnati, OH-KY-IN  HUD Metro FMR Area', 'Claiborne County, MS', 'Claiborne County, TN', 'Claiborne Parish, LA', 'Clallam County, WA', 'Clare County, MI', 'Clarendon County, SC', 'Clarion County, PA', 'Clark County, AR', 'Clark County, ID', 'Clark County, IL', 'Clark County, KS', 'Clark County, MO', 'Clark County, SD', 'Clark County, WI', 'Clarke County, AL', 'Clarke County, IA', 'Clarke County, MS', 'Clarksville, TN-KY MSA', 'Clatsop County, OR', 'Clay County, AL', 'Clay County, AR', 'Clay County, GA', 'Clay County, IA', 'Clay County, IL', 'Clay County, KS', 'Clay County, KY', 'Clay County, MS', 'Clay County, NC', 'Clay County, NE', 'Clay County, SD', 'Clay County, TN', 'Clayton County, IA', 'Clearfield County, PA', 'Clearwater County, ID', 'Clearwater County, MN', 'Cleburne County, AL', 'Cleburne County, AR', 'Cleveland County, NC', 'Cleveland, TN MSA', 'Cleveland-Elyria, OH MSA', 'Clinch County, GA', 'Clinton County, IA', 'Clinton County, IN', 'Clinton County, KY', 'Clinton County, NY', 'Clinton County, OH', 'Clinton County, PA', 'Cloud County, KS', 'Coahoma County, MS', 'Coal County, OK', 'Cochran County, TX', 'Cocke County, TN', 'Codington County, SD', \"Coeur d'Alene, ID MSA\", 'Coffee County, AL', 'Coffee County, GA', 'Coffee County, TN', 'Coffey County, KS', 'Coke County, TX', 'Colchester-Lebanon, CT HUD Metro FMR Area', 'Coleman County, TX', 'Coles County, IL', 'Colfax County, NE', 'Colfax County, NM', 'College Station-Bryan, TX MSA', 'Colleton County, SC', 'Collingsworth County, TX', 'Colorado County, TX', 'Colorado Springs, CO HUD Metro FMR Area', 'Colquitt County, GA', 'Columbia County, AR', 'Columbia County, FL', 'Columbia County, NY', 'Columbia County, PA HUD Metro FMR Area', 'Columbia County, WA HUD Metro FMR Area', 'Columbia County, WI HUD Metro FMR Area', 'Columbia, MO MSA', 'Columbia, SC HUD Metro FMR Area', 'Columbiana County, OH', 'Columbus County, NC', 'Columbus, GA-AL MSA', 'Columbus, IN MSA', 'Columbus, OH HUD Metro FMR Area', 'Colusa County, CA', 'Comanche County, KS', 'Comanche County, TX', 'Concho County, TX', 'Concordia Parish, LA', 'Conecuh County, AL', 'Conejos County, CO', 'Converse County, WY', 'Conway County, AR', 'Cook County, GA', 'Cook County, MN', 'Cooke County, TX', 'Cooper County, MO', 'Coos County, NH', 'Coos County, OR', 'Coosa County, AL', 'Corpus Christi, TX HUD Metro FMR Area', 'Corson County, SD', 'Cortland County, NY', 'Corvallis, OR MSA', 'Coshocton County, OH', 'Costilla County, CO', 'Cottle County, TX', 'Cotton County, OK HUD Metro FMR Area', 'Cottonwood County, MN', 'Covington County, AL', 'Covington County, MS', 'Cowley County, KS', 'Craig County, OK', 'Crane County, TX', 'Craven County, NC HUD Metro FMR Area', 'Crawford County, IA', 'Crawford County, IL', 'Crawford County, IN', 'Crawford County, KS', 'Crawford County, MI', 'Crawford County, MO', 'Crawford County, OH', 'Crawford County, PA', 'Crawford County, WI', 'Crenshaw County, AL', 'Crestview-Fort Walton Beach-Destin, FL HUD Metro FMR Area', 'Crisp County, GA', 'Crittenden County, KY', 'Crockett County, TN HUD Metro FMR Area', 'Crockett County, TX', 'Crook County, OR', 'Crook County, WY', 'Cross County, AR', 'Crow Wing County, MN', 'Crowley County, CO', 'Culberson County, TX', 'Cullman County, AL', 'Culpeper County, VA HUD Metro FMR Area', 'Cumberland County, IL', 'Cumberland County, KY', 'Cumberland County, ME (part) HUD Metro FMR Area', 'Cumberland County, TN', 'Cumberland County, VA', 'Cumberland, MD-WV MSA', 'Cuming County, NE', 'Curry County, NM', 'Curry County, OR', 'Custer County, CO', 'Custer County, ID', 'Custer County, MT', 'Custer County, NE', 'Custer County, OK', 'Custer County, SD HUD Metro FMR Area', 'Dade County, MO', 'Daggett County, UT', 'Dale County, AL', 'Dallam County, TX', 'Dallas County, AL', 'Dallas County, AR', 'Dallas County, MO HUD Metro FMR Area', 'Dallas, TX HUD Metro FMR Area', 'Dalton, GA HUD Metro FMR Area', 'Danbury, CT HUD Metro FMR Area', 'Daniels County, MT', 'Danville, IL MSA', 'Daphne-Fairhope-Foley, AL MSA', 'Dare County, NC', 'Darke County, OH', 'Darlington County, SC HUD Metro FMR Area', 'Davenport-Moline-Rock Island, IA-IL MSA', 'Davidson County, NC HUD Metro FMR Area', 'Daviess County, IN', 'Daviess County, MO', 'Davis County, IA', 'Davison County, SD', 'Dawes County, NE', 'Dawson County, MT', 'Dawson County, NE', 'Dawson County, TX', 'Day County, SD', 'Dayton, OH MSA', 'De Baca County, NM', 'De Witt County, IL HUD Metro FMR Area', 'DeKalb County, AL', 'DeKalb County, IL HUD Metro FMR Area', 'DeKalb County, IN', 'DeKalb County, TN', 'DeSoto County, FL', 'DeWitt County, TX', 'Deaf Smith County, TX', 'Decatur County, GA', 'Decatur County, IA', 'Decatur County, IN', 'Decatur County, KS', 'Decatur County, TN', 'Decatur, AL MSA', 'Decatur, IL MSA', 'Deer Lodge County, MT', 'Defiance County, OH', 'Del Norte County, CA', 'Delaware County, IA', 'Delaware County, NY', 'Delaware County, OK', 'Delta County, CO', 'Delta County, MI', 'Delta County, TX', 'Deltona-Daytona Beach-Ormond Beach, FL HUD Metro FMR Area', 'Denali Borough, AK', 'Dent County, MO', 'Denver-Aurora-Lakewood, CO MSA', 'Des Moines County, IA', 'Des Moines-West Des Moines, IA MSA', 'Desha County, AR', 'Detroit-Warren-Livonia, MI HUD Metro FMR Area', 'Deuel County, NE', 'Deuel County, SD', 'Dewey County, OK', 'Dewey County, SD', 'Dickens County, TX', 'Dickenson County, VA', 'Dickey County, ND', 'Dickinson County, IA', 'Dickinson County, KS', 'Dickinson County, MI', 'Dillingham Census Area, AK', 'Dillon County, SC', 'Dimmit County, TX', 'Divide County, ND', 'Dixie County, FL', 'Doddridge County, WV', 'Dodge County, GA', 'Dodge County, NE', 'Dodge County, WI', 'Dolores County, CO', 'Donley County, TX', 'Dooly County, GA', 'Door County, WI', 'Dorchester County, MD', 'Dothan, AL HUD Metro FMR Area', 'Douglas County, IL', 'Douglas County, MN', 'Douglas County, MO', 'Douglas County, NV', 'Douglas County, OR', 'Douglas County, SD', 'Dover, DE MSA', 'Drew County, AR', 'Dubois County, IN', 'Dubuque, IA MSA', 'Duchesne County, UT', 'Dukes County, MA', 'Duluth, MN-WI MSA', 'Dundy County, NE', 'Dunklin County, MO', 'Dunn County, ND', 'Dunn County, WI', 'Duplin County, NC', 'Durham-Chapel Hill, NC HUD Metro FMR Area', 'Duval County, TX', 'Dyer County, TN', 'Eagle County, CO', 'Early County, GA', 'East Carroll Parish, LA', 'East Stroudsburg, PA MSA', 'Eastern Worcester County, MA HUD Metro FMR Area', 'Eastland County, TX', 'Easton-Raynham, MA HUD Metro FMR Area', 'Eau Claire, WI MSA', 'Eddy County, ND', 'Eddy County, NM', 'Edgar County, IL', 'Edmunds County, SD', 'Edwards County, IL', 'Edwards County, KS', 'Edwards County, TX', 'Effingham County, IL', 'El Centro, CA MSA', 'El Paso, TX HUD Metro FMR Area', 'Elbert County, GA', 'Elizabethtown, KY HUD Metro FMR Area', 'Elk County, KS', 'Elk County, PA', 'Elkhart-Goshen, IN MSA', 'Elko County, NV', 'Elliott County, KY', 'Ellis County, KS', 'Ellis County, OK', 'Ellsworth County, KS', 'Elmira, NY MSA', 'Elmore County, ID', 'Emanuel County, GA', 'Emery County, UT', 'Emmet County, IA', 'Emmet County, MI', 'Emmons County, ND', 'Enid, OK MSA', 'Erath County, TX', 'Erie County, OH', 'Erie, PA MSA', 'Escambia County, AL', 'Esmeralda County, NV', 'Essex County, NY', 'Essex County, VA', 'Essex County, VT', 'Estill County, KY', 'Eugene-Springfield, OR MSA', 'Eureka County, NV', 'Evangeline Parish, LA', 'Evans County, GA', 'Evansville, IN-KY MSA', 'Fairbanks, AK MSA', 'Fajardo, PR HUD Metro FMR Area', 'Fall River County, SD', 'Fallon County, MT', 'Falls County, TX HUD Metro FMR Area', 'Fannin County, GA', 'Fannin County, TX', 'Fargo, ND-MN MSA', 'Faribault County, MN', 'Farmington, NM MSA', 'Faulk County, SD', 'Fayette County, AL', 'Fayette County, IA', 'Fayette County, IL', 'Fayette County, IN', 'Fayette County, OH', 'Fayette County, TX', 'Fayette County, WV HUD Metro FMR Area', 'Fayetteville, NC HUD Metro FMR Area', 'Fayetteville-Springdale-Rogers, AR HUD Metro FMR Area', 'Fentress County, TN', 'Fergus County, MT', 'Ferry County, WA', 'Fillmore County, MN HUD Metro FMR Area', 'Fillmore County, NE', 'Finney County, KS', 'Fisher County, TX', 'Fitchburg-Leominster, MA HUD Metro FMR Area', 'Flagstaff, AZ MSA', 'Flathead County, MT', 'Fleming County, KY', 'Flint, MI MSA', 'Florence County, WI', 'Florence, SC HUD Metro FMR Area', 'Florence-Muscle Shoals, AL MSA', 'Floyd County, IA', 'Floyd County, KY', 'Floyd County, TX', 'Floyd County, VA HUD Metro FMR Area', 'Foard County, TX', 'Fond du Lac, WI MSA', 'Ford County, KS', 'Forest County, PA', 'Forest County, WI', 'Fort Collins, CO MSA', 'Fort Lauderdale, FL HUD Metro FMR Area', 'Fort Smith, AR-OK HUD Metro FMR Area', 'Fort Wayne, IN MSA', 'Fort Worth-Arlington, TX HUD Metro FMR Area', 'Foster County, ND', 'Fountain County, IN', 'Franklin County, AL', 'Franklin County, AR', 'Franklin County, FL', 'Franklin County, GA', 'Franklin County, IA', 'Franklin County, IL', 'Franklin County, IN', 'Franklin County, KS', 'Franklin County, KY', 'Franklin County, MA HUD Nonmetro FMR Area', 'Franklin County, ME', 'Franklin County, MS', 'Franklin County, NE', 'Franklin County, NY', 'Franklin County, TN', 'Franklin County, TX', 'Franklin County, VA HUD Metro FMR Area', 'Franklin Parish, LA', 'Freeborn County, MN', 'Freestone County, TX', 'Fremont County, CO', 'Fremont County, IA', 'Fremont County, ID', 'Fremont County, WY', 'Fresno, CA MSA', 'Frio County, TX', 'Frontier County, NE', 'Fulton County, AR', 'Fulton County, IL', 'Fulton County, IN', 'Fulton County, KY', 'Fulton County, NY', 'Fulton County, PA', 'Furnas County, NE', 'Gadsden, AL MSA', 'Gage County, NE', 'Gaines County, TX', 'Gainesville, FL MSA', 'Gainesville, GA MSA', 'Gallatin County, IL', 'Gallatin County, MT', 'Gallia County, OH', 'Garden County, NE', 'Garfield County, CO', 'Garfield County, MT', 'Garfield County, NE', 'Garfield County, UT', 'Garfield County, WA', 'Garrard County, KY', 'Garrett County, MD', 'Garvin County, OK', 'Gary, IN HUD Metro FMR Area', 'Garza County, TX', 'Gasconade County, MO', 'Gates County, NC HUD Metro FMR Area', 'Geary County, KS', 'Gem County, ID HUD Metro FMR Area', 'Genesee County, NY', 'Gentry County, MO', 'George County, MS', 'Georgetown County, SC', 'Gettysburg, PA MSA', 'Gibson County, IN', 'Gibson County, TN', 'Gila County, AZ', 'Giles County, TN', 'Giles County, VA HUD Metro FMR Area', 'Gillespie County, TX', 'Gilliam County, OR', 'Gilmer County, GA', 'Gilmer County, WV', 'Glacier County, MT', 'Glades County, FL', 'Gladwin County, MI', 'Glascock County, GA', 'Glasscock County, TX', 'Glenn County, CA', 'Glens Falls, NY MSA', 'Gogebic County, MI', 'Golden Valley County, MT HUD Metro FMR Area', 'Golden Valley County, ND', 'Goldsboro, NC MSA', 'Gonzales County, TX', 'Goodhue County, MN', 'Gooding County, ID', 'Gordon County, GA', 'Goshen County, WY', 'Gosper County, NE', 'Gove County, KS', 'Grady County, GA', 'Grady County, OK HUD Metro FMR Area', 'Grafton County, NH', 'Graham County, AZ', 'Graham County, KS', 'Graham County, NC', 'Grainger County, TN HUD Metro FMR Area', 'Grand County, CO', 'Grand County, UT', 'Grand Forks, ND-MN MSA', 'Grand Junction, CO MSA', 'Grand Rapids-Wyoming, MI HUD Metro FMR Area', 'Grand Traverse County, MI', 'Granite County, MT', 'Grant County, AR HUD Metro FMR Area', 'Grant County, IN', 'Grant County, KS', 'Grant County, KY HUD Metro FMR Area', 'Grant County, MN', 'Grant County, ND', 'Grant County, NE', 'Grant County, NM', 'Grant County, OK', 'Grant County, OR', 'Grant County, SD', 'Grant County, WA', 'Grant County, WI', 'Grant County, WV', 'Grants Pass, OR MSA', 'Granville County, NC', 'Gratiot County, MI', 'Graves County, KY', 'Gray County, KS', 'Gray County, TX', 'Grays Harbor County, WA', 'Grayson County, KY', 'Grayson County, VA', 'Great Falls, MT MSA', 'Greeley County, KS', 'Greeley County, NE', 'Greeley, CO MSA', 'Green Bay, WI HUD Metro FMR Area', 'Green County, KY', 'Green County, WI HUD Metro FMR Area', 'Green Lake County, WI', 'Greenbrier County, WV', 'Greene County, AL', 'Greene County, AR', 'Greene County, GA', 'Greene County, IA', 'Greene County, IL', 'Greene County, IN', 'Greene County, MS', 'Greene County, NC', 'Greene County, NY', 'Greene County, PA', 'Greene County, TN', 'Greenlee County, AZ', 'Greensboro-High Point, NC HUD Metro FMR Area', 'Greensville County-Emporia city, VA HUD Nonmetro FMR Area', 'Greenville, NC MSA', 'Greenville-Mauldin-Easley, SC HUD Metro FMR Area', 'Greenwood County, KS', 'Greenwood County, SC', 'Greer County, OK', 'Gregory County, SD', 'Grenada County, MS', 'Griggs County, ND', 'Grimes County, TX', 'Grundy County, IL HUD Metro FMR Area', 'Grundy County, MO', 'Grundy County, TN', 'Guadalupe County, NM', 'Guam', 'Guayama, PR MSA', 'Guernsey County, OH', 'Gulf County, FL HUD Metro FMR Area', 'Gulfport-Biloxi, MS HUD Metro FMR Area', 'Gunnison County, CO', 'Haakon County, SD', 'Habersham County, GA', 'Hagerstown, MD HUD Metro FMR Area', 'Haines Borough, AK', 'Hale County, TX', 'Halifax County, NC', 'Halifax County, VA', 'Hall County, NE HUD Metro FMR Area', 'Hall County, TX', 'Hamilton County, FL', 'Hamilton County, IA', 'Hamilton County, IL', 'Hamilton County, KS', 'Hamilton County, NE HUD Metro FMR Area', 'Hamilton County, NY', 'Hamilton County, TX', 'Hamlin County, SD', 'Hammond, LA MSA', 'Hampton County, SC', 'Hancock County, GA', 'Hancock County, IA', 'Hancock County, IL', 'Hancock County, ME', 'Hancock County, OH', 'Hancock County, TN', 'Hand County, SD', 'Hanford-Corcoran, CA MSA', 'Hansford County, TX', 'Hanson County, SD', 'Haralson County, GA HUD Metro FMR Area', 'Hardee County, FL', 'Hardeman County, TN', 'Hardeman County, TX', 'Hardin County, IA', 'Hardin County, IL', 'Hardin County, OH', 'Hardin County, TN', 'Harding County, NM', 'Harding County, SD', 'Hardy County, WV', 'Harlan County, KY', 'Harlan County, NE', 'Harmon County, OK', 'Harnett County, NC', 'Harney County, OR', 'Harper County, KS', 'Harper County, OK', 'Harrisburg-Carlisle, PA MSA', 'Harrison County, KY', 'Harrison County, MO', 'Harrison County, OH', 'Harrison County, TX', 'Harrison County, WV', 'Harrisonburg, VA MSA', 'Hart County, GA', 'Hart County, KY', 'Hartford-West Hartford-East Hartford, CT HUD Metro FMR Area', 'Hartley County, TX', 'Haskell County, KS', 'Haskell County, OK', 'Haskell County, TX', 'Hattiesburg, MS MSA', 'Hawaii County, HI', 'Hayes County, NE', 'Haywood County, NC HUD Metro FMR Area', 'Haywood County, TN', 'Hemphill County, TX', 'Hempstead County, AR', 'Henderson County, IL', 'Henderson County, TN', 'Henderson County, TX', 'Hendry County, FL', 'Henry County, AL HUD Metro FMR Area', 'Henry County, IA', 'Henry County, IN', 'Henry County, MO', 'Henry County, OH', 'Henry County, TN', 'Henry County-Martinsville city, VA HUD Nonmetro FMR Area', 'Hertford County, NC', 'Hettinger County, ND', 'Hickman County, KY', 'Hickman County, TN HUD Metro FMR Area', 'Hickory County, MO', 'Hickory-Lenoir-Morganton, NC MSA', 'Hidalgo County, NM', 'Highland County, OH', 'Highland County, VA', 'Hill County, MT', 'Hill County, TX', 'Hillsborough County, NH (part) HUD Metro FMR Area', 'Hillsdale County, MI', 'Hinesville, GA HUD Metro FMR Area', 'Hinsdale County, CO', 'Hitchcock County, NE', 'Hocking County, OH HUD Metro FMR Area', 'Hockley County, TX', 'Hodgeman County, KS', 'Hoke County, NC HUD Metro FMR Area', 'Holland-Grand Haven, MI HUD Metro FMR Area', 'Holmes County, FL', 'Holmes County, MS', 'Holmes County, OH', 'Holt County, MO', 'Holt County, NE', 'Homosassa Springs, FL MSA', 'Hood County, TX HUD Metro FMR Area', 'Hood River County, OR', 'Hooker County, NE', 'Hoonah-Angoon Census Area, AK', 'Hopkins County, KY', 'Hopkins County, TX', 'Hot Spring County, AR', 'Hot Springs County, WY', 'Hot Springs, AR MSA', 'Houghton County, MI', 'Houma-Thibodaux, LA MSA', 'Houston County, TN', 'Houston County, TX', 'Houston-The Woodlands-Sugar Land, TX HUD Metro FMR Area', 'Howard County, AR', 'Howard County, IA', 'Howard County, MO', 'Howard County, NE HUD Metro FMR Area', 'Howard County, TX', 'Howell County, MO', 'Hubbard County, MN', 'Hudspeth County, TX HUD Metro FMR Area', 'Huerfano County, CO', 'Hughes County, OK', 'Hughes County, SD', 'Humboldt County, CA', 'Humboldt County, IA', 'Humboldt County, NV', 'Humphreys County, MS', 'Humphreys County, TN', 'Huntingdon County, PA', 'Huntington County, IN', 'Huntington-Ashland, WV-KY-OH HUD Metro FMR Area', 'Huntsville, AL MSA', 'Huron County, MI', 'Huron County, OH', 'Hutchinson County, SD', 'Hutchinson County, TX', 'Hyde County, NC', 'Hyde County, SD', 'Iberia Parish, LA HUD Metro FMR Area', 'Iberville Parish, LA HUD Metro FMR Area', 'Ida County, IA', 'Idaho County, ID', 'Idaho Falls, ID HUD Metro FMR Area', 'Independence County, AR', 'Indiana County, PA', 'Indianapolis-Carmel, IN HUD Metro FMR Area', 'Inyo County, CA', 'Ionia County, MI', 'Iosco County, MI', 'Iowa City, IA HUD Metro FMR Area', 'Iowa County, IA', 'Iowa County, WI HUD Metro FMR Area', 'Iredell County, NC HUD Metro FMR Area', 'Iron County, MI', 'Iron County, MO', 'Iron County, UT', 'Iron County, WI', 'Iroquois County, IL', 'Irwin County, GA', 'Isabella County, MI', 'Island County, WA', 'Issaquena County, MS', 'Itasca County, MN', 'Itawamba County, MS', 'Ithaca, NY MSA', 'Izard County, AR', 'Jack County, TX', 'Jackson County, AL', 'Jackson County, AR', 'Jackson County, CO', 'Jackson County, FL', 'Jackson County, GA', 'Jackson County, IA', 'Jackson County, IL HUD Metro FMR Area', 'Jackson County, IN', 'Jackson County, KY', 'Jackson County, MN', 'Jackson County, NC', 'Jackson County, OH', 'Jackson County, OK', 'Jackson County, SD', 'Jackson County, TN', 'Jackson County, TX', 'Jackson County, WI', 'Jackson County, WV', 'Jackson Parish, LA', 'Jackson, MI MSA', 'Jackson, MS HUD Metro FMR Area', 'Jackson, TN HUD Metro FMR Area', 'Jacksonville, FL HUD Metro FMR Area', 'Jacksonville, NC MSA', 'Janesville-Beloit, WI MSA', 'Jasper County, IA', 'Jasper County, IL', 'Jasper County, IN HUD Metro FMR Area', 'Jasper County, MS', 'Jasper County, SC HUD Metro FMR Area', 'Jasper County, TX', 'Jay County, IN', 'Jeff Davis County, GA', 'Jeff Davis County, TX', 'Jefferson City, MO HUD Metro FMR Area', 'Jefferson County, GA', 'Jefferson County, IA', 'Jefferson County, IL', 'Jefferson County, IN', 'Jefferson County, MS', 'Jefferson County, MT', 'Jefferson County, NE', 'Jefferson County, OK', 'Jefferson County, OR', 'Jefferson County, PA', 'Jefferson County, WA', 'Jefferson County, WI', 'Jefferson County, WV HUD Metro FMR Area', 'Jefferson Davis County, MS', 'Jefferson Davis Parish, LA', 'Jenkins County, GA', 'Jennings County, IN', 'Jerauld County, SD', 'Jerome County, ID', 'Jersey City, NJ HUD Metro FMR Area', 'Jewell County, KS', 'Jim Hogg County, TX', 'Jim Wells County, TX', 'Jo Daviess County, IL', 'Johnson City, TN MSA', 'Johnson County, AR', 'Johnson County, GA', 'Johnson County, IL', 'Johnson County, KY', 'Johnson County, MO', 'Johnson County, NE', 'Johnson County, TN', 'Johnson County, WY', 'Johnston County, OK', 'Johnstown, PA MSA', 'Jones County, IA HUD Metro FMR Area', 'Jones County, MS', 'Jones County, NC HUD Metro FMR Area', 'Jones County, SD', 'Jonesboro, AR HUD Metro FMR Area', 'Joplin, MO MSA', 'Judith Basin County, MT', 'Juneau City and Borough, AK', 'Juneau County, WI', 'Juniata County, PA', 'Kahului-Wailuku-Lahaina, HI MSA', 'Kalamazoo-Portage, MI MSA', 'Kalkaska County, MI', 'Kanabec County, MN', 'Kandiyohi County, MN', 'Kane County, UT', 'Kankakee, IL MSA', 'Kansas City, MO-KS HUD Metro FMR Area', 'Karnes County, TX', 'Kauai County, HI', 'Kay County, OK', 'Kearney County, NE', 'Kearny County, KS', 'Keith County, NE', 'Kemper County, MS', 'Kenai Peninsula Borough, AK', 'Kendall County, IL HUD Metro FMR Area', 'Kendall County, TX HUD Metro FMR Area', 'Kenedy County, TX', 'Kennebec County, ME', 'Kennewick-Richland, WA MSA', 'Kenosha County, WI HUD Metro FMR Area', 'Kent County, MD', 'Kent County, TX', 'Keokuk County, IA', 'Kerr County, TX', 'Kershaw County, SC HUD Metro FMR Area', 'Ketchikan Gateway Borough, AK', 'Keweenaw County, MI', 'Keya Paha County, NE', 'Kidder County, ND', 'Killeen-Temple, TX HUD Metro FMR Area', 'Kimball County, NE', 'Kimble County, TX', 'King County, TX', 'King George County, VA', 'King and Queen County, VA', 'Kingfisher County, OK', 'Kingman County, KS HUD Metro FMR Area', 'Kingsbury County, SD', 'Kingsport-Bristol-Bristol, TN-VA MSA', 'Kingston, NY MSA', 'Kinney County, TX', 'Kiowa County, CO', 'Kiowa County, KS', 'Kiowa County, OK', 'Kit Carson County, CO', 'Kittitas County, WA', 'Kittson County, MN', 'Klamath County, OR', 'Kleberg County, TX', 'Klickitat County, WA', 'Knott County, KY', 'Knox County, IL', 'Knox County, IN', 'Knox County, KY', 'Knox County, ME', 'Knox County, MO', 'Knox County, NE', 'Knox County, OH', 'Knox County, TX', 'Knoxville, TN HUD Metro FMR Area', 'Kodiak Island Borough, AK', 'Kokomo, IN MSA', 'Koochiching County, MN', 'Kosciusko County, IN', 'Kossuth County, IA', 'Kusilvak Census Area', 'La Crosse-Onalaska, WI-MN MSA', 'La Paz County, AZ', 'La Plata County, CO', 'La Salle County, IL', 'La Salle County, TX', 'La Salle Parish, LA', 'LaGrange County, IN', 'LaMoure County, ND', 'Labette County, KS', 'Lac qui Parle County, MN', 'Laclede County, MO', 'Lafayette County, AR', 'Lafayette County, FL', 'Lafayette County, MS', 'Lafayette County, WI', 'Lafayette, LA HUD Metro FMR Area', 'Lafayette-West Lafayette, IN HUD Metro FMR Area', 'Lake Charles, LA MSA', 'Lake County, CA', 'Lake County, CO', 'Lake County, MI', 'Lake County, MN', 'Lake County, MT', 'Lake County, OR', 'Lake County, SD', 'Lake County, TN', 'Lake Havasu City-Kingman, AZ MSA', 'Lake and Peninsula Borough, AK', 'Lake of the Woods County, MN', 'Lakeland-Winter Haven, FL MSA', 'Lamar County, AL', 'Lamar County, GA HUD Metro FMR Area', 'Lamar County, TX', 'Lamb County, TX', 'Lamoille County, VT', 'Lampasas County, TX HUD Metro FMR Area', 'Lancaster County, SC HUD Metro FMR Area', 'Lancaster County, VA', 'Lancaster, PA MSA', 'Lander County, NV', 'Lane County, KS', 'Langlade County, WI', 'Lansing-East Lansing, MI MSA', 'Laredo, TX MSA', 'Las Animas County, CO', 'Las Cruces, NM MSA', 'Las Vegas-Henderson-Paradise, NV MSA', 'Lassen County, CA', 'Latah County, ID', 'Latimer County, OK', 'Lauderdale County, MS', 'Lauderdale County, TN', 'Laurel County, KY', 'Laurens County, GA', 'Laurens County, SC HUD Metro FMR Area', 'Lavaca County, TX', 'Lawrence County, AR', 'Lawrence County, IL', 'Lawrence County, IN', 'Lawrence County, KY', 'Lawrence County, MO', 'Lawrence County, MS', 'Lawrence County, PA', 'Lawrence County, SD', 'Lawrence County, TN', 'Lawrence, KS MSA', 'Lawrence, MA-NH HUD Metro FMR Area', 'Lawton, OK HUD Metro FMR Area', 'Le Flore County, OK HUD Metro FMR Area', 'Le Sueur County, MN HUD Metro FMR Area', 'Lea County, NM', 'Leake County, MS', 'Lebanon, PA MSA', 'Lee County, AR', 'Lee County, IA', 'Lee County, IL', 'Lee County, KY', 'Lee County, MS', 'Lee County, NC', 'Lee County, SC', 'Lee County, TX', 'Lee County, VA', 'Leelanau County, MI', 'Leflore County, MS', 'Lemhi County, ID', 'Lenawee County, MI', 'Lenoir County, NC', 'Leon County, TX', 'Leslie County, KY', 'Letcher County, KY', 'Levy County, FL', 'Lewis County, ID', 'Lewis County, KY', 'Lewis County, MO', 'Lewis County, NY', 'Lewis County, TN', 'Lewis County, WA', 'Lewis County, WV', 'Lewis and Clark County, MT', 'Lewiston, ID-WA MSA', 'Lewiston-Auburn, ME MSA', 'Lexington-Fayette, KY MSA', 'Liberty County, FL', 'Liberty County, MT', 'Lima, OH MSA', 'Limestone County, TX', 'Lincoln County, CO', 'Lincoln County, GA HUD Metro FMR Area', 'Lincoln County, ID', 'Lincoln County, KS', 'Lincoln County, KY', 'Lincoln County, ME', 'Lincoln County, MN', 'Lincoln County, MS', 'Lincoln County, MT', 'Lincoln County, NC HUD Metro FMR Area', 'Lincoln County, NE', 'Lincoln County, NM', 'Lincoln County, NV', 'Lincoln County, OK HUD Metro FMR Area', 'Lincoln County, OR', 'Lincoln County, TN', 'Lincoln County, WA', 'Lincoln County, WI', 'Lincoln County, WV HUD Metro FMR Area', 'Lincoln County, WY', 'Lincoln Parish, LA', 'Lincoln, NE HUD Metro FMR Area', 'Linn County, MO', 'Lipscomb County, TX', 'Litchfield County, CT', 'Little River County, AR HUD Metro FMR Area', 'Little Rock-North Little Rock-Conway, AR HUD Metro FMR Area', 'Live Oak County, TX', 'Livingston County, IL', 'Livingston County, KY', 'Livingston County, MI HUD Metro FMR Area', 'Livingston County, MO', 'Llano County, TX', 'Logan County, AR', 'Logan County, CO', 'Logan County, IL', 'Logan County, KS', 'Logan County, KY', 'Logan County, ND', 'Logan County, NE', 'Logan County, OH', 'Logan County, WV', 'Logan, UT-ID MSA', 'Long County, GA HUD Metro FMR Area', 'Longview, TX HUD Metro FMR Area', 'Longview, WA MSA', 'Los Alamos County, NM', 'Los Angeles-Long Beach-Glendale, CA HUD Metro FMR Area', 'Louisa County, IA', 'Louisa County, VA', 'Louisville, KY-IN HUD Metro FMR Area', 'Loup County, NE', 'Love County, OK', 'Loving County, TX', 'Lowell, MA HUD Metro FMR Area', 'Lowndes County, MS', 'Lubbock, TX HUD Metro FMR Area', 'Lucas County, IA', 'Luce County, MI', 'Lumpkin County, GA', 'Luna County, NM', 'Lunenburg County, VA', 'Lyman County, SD', 'Lynchburg, VA MSA', 'Lynn County, TX HUD Metro FMR Area', 'Lyon County, IA', 'Lyon County, KS', 'Lyon County, KY', 'Lyon County, MN', 'Lyon County, NV', 'Mackinac County, MI', 'Macon County, AL', 'Macon County, GA', 'Macon County, MO', 'Macon County, NC', 'Macon County, TN HUD Metro FMR Area', 'Macon-Bibb County, GA HUD Metro FMR Area', 'Macoupin County, IL HUD Metro FMR Area', 'Madera, CA MSA', 'Madison County, FL', 'Madison County, ID', 'Madison County, KY', 'Madison County, MO', 'Madison County, MT', 'Madison County, NE', 'Madison County, TX', 'Madison County, VA', 'Madison Parish, LA', 'Madison, WI HUD Metro FMR Area', 'Magoffin County, KY', 'Mahaska County, IA', 'Mahnomen County, MN', 'Major County, OK', 'Malheur County, OR', 'Manchester, NH HUD Metro FMR Area', 'Manhattan, KS MSA', 'Manistee County, MI', 'Manitowoc County, WI', 'Mankato-North Mankato, MN MSA', 'Mansfield, OH MSA', 'Marengo County, AL', 'Maries County, MO', 'Marinette County, WI', 'Marion County, AL', 'Marion County, AR', 'Marion County, IA', 'Marion County, IL', 'Marion County, KS', 'Marion County, KY', 'Marion County, MO', 'Marion County, MS', 'Marion County, OH', 'Marion County, SC', 'Marion County, TX', 'Marion County, WV', 'Mariposa County, CA', 'Marlboro County, SC', 'Marquette County, MI', 'Marquette County, WI', 'Marshall County, AL', 'Marshall County, IA', 'Marshall County, IN', 'Marshall County, KS', 'Marshall County, KY', 'Marshall County, MN', 'Marshall County, MS HUD Metro FMR Area', 'Marshall County, OK', 'Marshall County, SD', 'Marshall County, TN', 'Martin County, IN', 'Martin County, KY', 'Martin County, MN', 'Martin County, NC', 'Martin County, TX HUD Metro FMR Area', 'Martinsburg, WV HUD Metro FMR Area', 'Mason County, IL', 'Mason County, KY', 'Mason County, MI', 'Mason County, TX', 'Mason County, WA', 'Mason County, WV', 'Massac County, IL', 'Matagorda County, TX', 'Matanuska-Susitna Borough, AK HUD Metro FMR Area', 'Maury County, TN HUD Metro FMR Area', 'Maverick County, TX', 'Mayagüez, PR MSA', 'Mayes County, OK', 'McAllen-Edinburg-Mission, TX MSA', 'McCone County, MT', 'McCormick County, SC', 'McCracken County, KY', 'McCreary County, KY', 'McCulloch County, TX', 'McCurtain County, OK', 'McDonald County, MO HUD Metro FMR Area', 'McDonough County, IL', 'McDowell County, NC', 'McDowell County, WV', 'McHenry County, ND', 'McIntosh County, ND', 'McIntosh County, OK', 'McKean County, PA', 'McKenzie County, ND', 'McKinley County, NM', 'McLean County, ND', 'McLeod County, MN', 'McMinn County, TN', 'McMullen County, TX', 'McNairy County, TN', 'McPherson County, KS', 'McPherson County, NE', 'McPherson County, SD', 'Meade County, KS', 'Meade County, KY HUD Metro FMR Area', 'Meade County, SD HUD Metro FMR Area', 'Meagher County, MT', 'Mecklenburg County, VA', 'Mecosta County, MI', 'Medford, OR MSA', 'Medina County, TX HUD Metro FMR Area', 'Meeker County, MN', 'Meigs County, OH', 'Meigs County, TN', 'Mellette County, SD', 'Memphis, TN-MS-AR HUD Metro FMR Area', 'Menard County, TX', 'Mendocino County, CA', 'Menifee County, KY', 'Menominee County, MI', 'Menominee County, WI', 'Merced, CA MSA', 'Mercer County, KY', 'Mercer County, MO', 'Mercer County, ND', 'Mercer County, OH', 'Mercer County, WV', 'Meriwether County, GA HUD Metro FMR Area', 'Merrick County, NE HUD Metro FMR Area', 'Merrimack County, NH', 'Metcalfe County, KY', 'Miami County, IN', 'Miami-Miami Beach-Kendall, FL HUD Metro FMR Area', 'Michigan City-La Porte, IN MSA', 'Middlesex County, VA', 'Middlesex-Somerset-Hunterdon, NJ HUD Metro FMR Area', 'Midland, MI MSA', 'Midland, TX HUD Metro FMR Area', 'Mifflin County, PA', 'Milam County, TX', 'Milford-Ansonia-Seymour, CT HUD Metro FMR Area', 'Millard County, UT', 'Mille Lacs County, MN HUD Metro FMR Area', 'Miller County, GA', 'Miller County, MO', 'Mills County, TX', 'Milwaukee-Waukesha-West Allis, WI MSA', 'Miner County, SD', 'Mineral County, CO', 'Mineral County, MT', 'Mineral County, NV', 'Mingo County, WV', 'Minidoka County, ID', 'Minneapolis-St. Paul-Bloomington, MN-WI HUD Metro FMR Area', 'Missaukee County, MI', 'Mississippi County, AR', 'Mississippi County, MO', 'Missoula, MT MSA', 'Mitchell County, GA', 'Mitchell County, IA', 'Mitchell County, KS', 'Mitchell County, NC', 'Mitchell County, TX', 'Mobile, AL MSA', 'Modesto, CA MSA', 'Modoc County, CA', 'Moffat County, CO', 'Moniteau County, MO HUD Metro FMR Area', 'Monmouth-Ocean, NJ HUD Metro FMR Area', 'Mono County, CA', 'Monona County, IA', 'Monroe County, AL', 'Monroe County, AR', 'Monroe County, FL', 'Monroe County, GA HUD Metro FMR Area', 'Monroe County, IA', 'Monroe County, KY', 'Monroe County, MO', 'Monroe County, MS', 'Monroe County, OH', 'Monroe County, TN', 'Monroe County, WI', 'Monroe County, WV', 'Monroe, LA MSA', 'Monroe, MI MSA', 'Montague County, TX', 'Montcalm County, MI HUD Metro FMR Area', 'Montezuma County, CO', 'Montgomery County, AR', 'Montgomery County, GA', 'Montgomery County, IA', 'Montgomery County, IL', 'Montgomery County, IN', 'Montgomery County, KS', 'Montgomery County, KY', 'Montgomery County, MO', 'Montgomery County, MS', 'Montgomery County, NC', 'Montgomery County, NY', 'Montgomery, AL MSA', 'Montmorency County, MI', 'Montour County, PA HUD Metro FMR Area', 'Montrose County, CO', 'Moody County, SD', 'Moore County, NC', 'Moore County, TN', 'Moore County, TX', 'Mora County, NM', 'Morehouse Parish, LA', 'Morgan County, CO', 'Morgan County, GA HUD Metro FMR Area', 'Morgan County, IL', 'Morgan County, KY', 'Morgan County, MO', 'Morgan County, OH', 'Morgan County, TN HUD Metro FMR Area', 'Morgan County, WV', 'Morgantown, WV MSA', 'Morrill County, NE', 'Morris County, KS', 'Morris County, TX', 'Morrison County, MN', 'Morristown, TN MSA', 'Morrow County, OR', 'Morton County, KS', 'Motley County, TX', 'Moultrie County, IL', 'Mount Vernon-Anacortes, WA MSA', 'Mountrail County, ND', 'Mower County, MN', 'Muhlenberg County, KY', 'Muncie, IN MSA', 'Murray County, GA HUD Metro FMR Area', 'Murray County, MN', 'Murray County, OK', 'Muscatine County, IA', 'Muskegon, MI MSA', 'Muskingum County, OH', 'Muskogee County, OK', 'Musselshell County, MT', 'Myrtle Beach-North Myrtle Beach-Conway, SC HUD Metro FMR Area', 'Nacogdoches County, TX', 'Nance County, NE', 'Nantucket County, MA', 'Napa, CA MSA', 'Naples-Immokalee-Marco Island, FL MSA', 'Nashua, NH HUD Metro FMR Area', 'Nashville-Davidson--Murfreesboro--Franklin, TN HUD Metro FMR Area', 'Nassau-Suffolk, NY HUD Metro FMR Area', 'Natchitoches Parish, LA', 'Navajo County, AZ', 'Navarro County, TX', 'Nelson County, KY', 'Nelson County, ND', 'Nemaha County, KS', 'Nemaha County, NE', 'Neosho County, KS', 'Neshoba County, MS', 'Ness County, KS', 'Nevada County, AR', 'Nevada County, CA', 'New Bedford, MA HUD Metro FMR Area', 'New Haven-Meriden, CT HUD Metro FMR Area', 'New Madrid County, MO', 'New Orleans-Metairie, LA HUD Metro FMR Area', 'New York, NY HUD Metro FMR Area', 'Newark, NJ HUD Metro FMR Area', 'Newaygo County, MI', 'Newberry County, SC', 'Newport-Middleton-Portsmouth, RI HUD Metro FMR Area', 'Newton County, AR', 'Newton County, MS', 'Newton County, TX HUD Metro FMR Area', 'Nicholas County, KY', 'Nicholas County, WV', 'Niles-Benton Harbor, MI MSA', 'Niobrara County, WY', 'Noble County, IN', 'Noble County, OH', 'Noble County, OK', 'Nobles County, MN', 'Nodaway County, MO', 'Nolan County, TX', 'Nome Census Area, AK', 'Norman County, MN', 'North Port-Sarasota-Bradenton, FL MSA', 'North Slope Borough, AK', 'Northampton County, NC', 'Northampton County, VA', 'Northern Mariana Islands', 'Northumberland County, PA', 'Northumberland County, VA', 'Northwest Arctic Borough, AK', 'Norton County, KS', 'Norwich-New London, CT HUD Metro FMR Area', 'Nottoway County, VA', 'Nowata County, OK', 'Noxubee County, MS', 'Nuckolls County, NE', 'Nye County, NV', \"O'Brien County, IA\", 'Oakland-Fremont, CA HUD Metro FMR Area', 'Obion County, TN', 'Ocala, FL MSA', 'Ocean City, NJ MSA', 'Oceana County, MI', 'Ochiltree County, TX', 'Oconee County, SC', 'Oconto County, WI HUD Metro FMR Area', 'Odessa, TX MSA', 'Ogden-Clearfield, UT HUD Metro FMR Area', 'Ogemaw County, MI', 'Oglala Lakota County', 'Ogle County, IL', 'Ohio County, KY', 'Okanogan County, WA', 'Okeechobee County, FL', 'Okfuskee County, OK', 'Oklahoma City, OK HUD Metro FMR Area', 'Okmulgee County, OK HUD Metro FMR Area', 'Oktibbeha County, MS', 'Oldham County, TX HUD Metro FMR Area', 'Oliver County, ND HUD Metro FMR Area', 'Olympia-Tumwater, WA MSA', 'Omaha-Council Bluffs, NE-IA HUD Metro FMR Area', 'Oneida County, ID', 'Oneida County, WI', 'Ontonagon County, MI', 'Orange County, IN', 'Orange County, VA', 'Orange County, VT', 'Orangeburg County, SC', 'Oregon County, MO', 'Orlando-Kissimmee-Sanford, FL MSA', 'Orleans County, VT', 'Osborne County, KS', 'Osceola County, IA', 'Osceola County, MI', 'Oscoda County, MI', 'Oshkosh-Neenah, WI MSA', 'Otero County, CO', 'Otero County, NM', 'Otoe County, NE', 'Otsego County, MI', 'Otsego County, NY', 'Ottawa County, KS', 'Ottawa County, OH', 'Ottawa County, OK', 'Otter Tail County, MN', 'Ouachita County, AR', 'Ouray County, CO', 'Overton County, TN', 'Owen County, IN HUD Metro FMR Area', 'Owen County, KY', 'Owensboro, KY MSA', 'Owsley County, KY', 'Oxford County, ME', 'Oxnard-Thousand Oaks-Ventura, CA MSA', 'Ozark County, MO', 'Pacific County, WA', 'Page County, IA', 'Page County, VA', 'Palm Bay-Melbourne-Titusville, FL MSA', 'Palm Coast, FL HUD Metro FMR Area', 'Palo Alto County, IA', 'Palo Pinto County, TX', 'Pamlico County, NC HUD Metro FMR Area', 'Panama City-Lynn Haven-Panama City Beach, FL HUD Metro FMR Area', 'Panola County, MS', 'Panola County, TX', 'Park County, MT', 'Park County, WY', 'Parke County, IN', 'Parkersburg-Vienna, WV MSA', 'Parmer County, TX', 'Pascagoula, MS HUD Metro FMR Area', 'Pasquotank County, NC', 'Patrick County, VA', 'Paulding County, OH', 'Pawnee County, KS', 'Pawnee County, NE', 'Pawnee County, OK HUD Metro FMR Area', 'Payette County, ID', 'Payne County, OK', 'Peach County, GA HUD Metro FMR Area', 'Pearl River County, MS', 'Pecos County, TX', 'Pembina County, ND', 'Pemiscot County, MO', 'Pend Oreille County, WA HUD Metro FMR Area', 'Pender County, NC HUD Metro FMR Area', 'Pendleton County, WV', 'Pennington County, MN', 'Penobscot County, ME (part) HUD Metro FMR Area', 'Pensacola-Ferry Pass-Brent, FL MSA', 'Peoria, IL MSA', 'Pepin County, WI', 'Perkins County, NE', 'Perkins County, SD', 'Perquimans County, NC', 'Perry County, AL', 'Perry County, IL', 'Perry County, IN', 'Perry County, KY', 'Perry County, MO', 'Perry County, OH HUD Metro FMR Area', 'Perry County, TN', 'Pershing County, NV', 'Person County, NC HUD Metro FMR Area', 'Petersburg Borough', 'Petroleum County, MT', 'Pettis County, MO', 'Phelps County, MO', 'Phelps County, NE', 'Philadelphia-Camden-Wilmington, PA-NJ-DE-MD MSA', 'Phillips County, AR', 'Phillips County, CO', 'Phillips County, KS', 'Phillips County, MT', 'Phoenix-Mesa-Scottsdale, AZ MSA', 'Pickens County, AL HUD Metro FMR Area', 'Pickett County, TN', 'Pierce County, GA', 'Pierce County, ND', 'Pierce County, NE', 'Pike County, AL', 'Pike County, AR', 'Pike County, IL', 'Pike County, IN', 'Pike County, KY', 'Pike County, MO', 'Pike County, MS', 'Pike County, OH', 'Pike County, PA HUD Metro FMR Area', 'Pine Bluff, AR MSA', 'Pine County, MN', 'Pipestone County, MN', 'Piscataquis County, ME', 'Pitkin County, CO', 'Pittsburg County, OK', 'Pittsburgh, PA HUD Metro FMR Area', 'Pittsfield, MA HUD Metro FMR Area', 'Pittsylvania County-Danville city, VA HUD Nonmetro FMR Area', 'Piute County, UT', 'Platte County, NE', 'Platte County, WY', 'Pleasants County, WV', 'Plumas County, CA', 'Plymouth County, IA HUD Metro FMR Area', 'Pocahontas County, IA', 'Pocahontas County, WV', 'Pocatello, ID MSA', 'Poinsett County, AR HUD Metro FMR Area', 'Polk County, AR', 'Polk County, GA', 'Polk County, MO HUD Metro FMR Area', 'Polk County, NC', 'Polk County, NE', 'Polk County, TX', 'Polk County, WI', 'Ponce, PR HUD Metro FMR Area', 'Pondera County, MT', 'Pontotoc County, MS', 'Pontotoc County, OK', 'Pope County, AR', 'Pope County, IL', 'Pope County, MN', 'Port St. Lucie, FL MSA', 'Portage County, WI', 'Portland, ME HUD Metro FMR Area', 'Portland-Vancouver-Hillsboro, OR-WA MSA', 'Portsmouth-Rochester, NH HUD Metro FMR Area', 'Pottawatomie County, OK', 'Potter County, PA', 'Potter County, SD', 'Poughkeepsie-Newburgh-Middletown, NY HUD Metro FMR Area', 'Powder River County, MT', 'Powell County, KY', 'Powell County, MT', 'Power County, ID', 'Poweshiek County, IA', 'Prairie County, AR', 'Prairie County, MT', 'Pratt County, KS', 'Preble County, OH', 'Prentiss County, MS', 'Prescott, AZ MSA', 'Presidio County, TX', 'Presque Isle County, MI', 'Price County, WI', 'Prince Edward County, VA', 'Prince of Wales-Hyder Census Area, AK', 'Providence-Fall River, RI-MA HUD Metro FMR Area', 'Provo-Orem, UT MSA', 'Prowers County, CO', 'Pueblo, CO MSA', 'Puerto Rico HUD Nonmetro Area', 'Pulaski County, GA HUD Metro FMR Area', 'Pulaski County, IL', 'Pulaski County, IN', 'Pulaski County, KY', 'Pulaski County, MO', 'Pulaski County, VA HUD Metro FMR Area', 'Punta Gorda, FL MSA', 'Pushmataha County, OK', 'Putnam County, FL', 'Putnam County, GA', 'Putnam County, IL', 'Putnam County, IN HUD Metro FMR Area', 'Putnam County, MO', 'Putnam County, OH', 'Putnam County, TN', 'Putnam County, WV HUD Metro FMR Area', 'Quay County, NM', 'Quebradillas Municipio, PR HUD Metro FMR Area', 'Quitman County, GA', 'Quitman County, MS', 'Rabun County, GA', 'Racine, WI MSA', 'Rains County, TX', 'Raleigh County, WV HUD Metro FMR Area', 'Raleigh, NC MSA', 'Ralls County, MO', 'Ramsey County, ND', 'Randolph County, AL', 'Randolph County, AR', 'Randolph County, GA', 'Randolph County, IL', 'Randolph County, IN', 'Randolph County, MO', 'Randolph County, WV', 'Ransom County, ND', 'Rapid City, SD HUD Metro FMR Area', 'Rappahannock County, VA HUD Metro FMR Area', 'Ravalli County, MT', 'Rawlins County, KS', 'Reading, PA MSA', 'Reagan County, TX', 'Real County, TX', 'Red Lake County, MN', 'Red River County, TX', 'Red River Parish, LA', 'Red Willow County, NE', 'Redding, CA MSA', 'Redwood County, MN', 'Reeves County, TX', 'Refugio County, TX', 'Reno County, KS', 'Reno, NV MSA', 'Renville County, MN', 'Renville County, ND', 'Republic County, KS', 'Reynolds County, MO', 'Rhea County, TN', 'Rice County, KS', 'Rice County, MN', 'Rich County, UT', 'Richardson County, NE', 'Richland County, IL', 'Richland County, MT', 'Richland County, ND', 'Richland County, WI', 'Richland Parish, LA', 'Richmond County, NC', 'Richmond County, VA', 'Richmond, VA MSA', 'Ringgold County, IA', 'Rio Arriba County, NM', 'Rio Blanco County, CO', 'Rio Grande County, CO', 'Ripley County, IN', 'Ripley County, MO', 'Ritchie County, WV', 'Riverside-San Bernardino-Ontario, CA MSA', 'Roane County, TN HUD Metro FMR Area', 'Roane County, WV', 'Roanoke, VA HUD Metro FMR Area', 'Roberts County, SD', 'Roberts County, TX', 'Robertson County, KY', 'Robeson County, NC', 'Rochester, MN HUD Metro FMR Area', 'Rochester, NY HUD Metro FMR Area', 'Rock County, MN', 'Rock County, NE', 'Rockbridge County-Buena Vista city-Lexington city, VA HUD Nonmetr', 'Rockcastle County, KY', 'Rockford, IL MSA', 'Rockingham County, NC HUD Metro FMR Area', 'Rocky Mount, NC MSA', 'Roger Mills County, OK', 'Rolette County, ND', 'Rome, GA MSA', 'Rooks County, KS', 'Roosevelt County, MT', 'Roosevelt County, NM', 'Roscommon County, MI', 'Roseau County, MN', 'Rosebud County, MT', 'Ross County, OH', 'Routt County, CO', 'Rowan County, KY', 'Rowan County, NC HUD Metro FMR Area', 'Runnels County, TX', 'Rush County, IN', 'Rush County, KS', 'Rusk County, TX HUD Metro FMR Area', 'Rusk County, WI', 'Russell County, KS', 'Russell County, KY', 'Russell County, VA', 'Rutherford County, NC', 'Rutland County, VT', 'Sabine County, TX', 'Sabine Parish, LA', 'Sac County, IA', 'Sacramento--Roseville--Arden-Arcade, CA HUD Metro FMR Area', 'Sagadahoc County, ME HUD Metro FMR Area', 'Saginaw, MI MSA', 'Saguache County, CO', 'Salem, OR MSA', 'Salinas, CA MSA', 'Saline County, IL', 'Saline County, KS', 'Saline County, MO', 'Saline County, NE', 'Salisbury, MD HUD Metro FMR Area', 'Salt Lake City, UT HUD Metro FMR Area', 'Sampson County, NC', 'San Angelo, TX MSA', 'San Antonio-New Braunfels, TX HUD Metro FMR Area', 'San Augustine County, TX', 'San Benito County, CA HUD Metro FMR Area', 'San Diego-Carlsbad, CA MSA', 'San Francisco, CA HUD Metro FMR Area', 'San German, PR MSA', 'San Jacinto County, TX', 'San Jose-Sunnyvale-Santa Clara, CA HUD Metro FMR Area', 'San Juan County, CO', 'San Juan County, UT', 'San Juan County, WA', 'San Juan-Guaynabo, PR HUD Metro FMR Area', 'San Luis Obispo-Paso Robles-Arroyo Grande, CA MSA', 'San Miguel County, CO', 'San Miguel County, NM', 'San Saba County, TX', 'Sanborn County, SD', 'Sanders County, MT', 'Sandusky County, OH', 'Sanilac County, MI', 'Sanpete County, UT', 'Santa Ana-Anaheim-Irvine, CA HUD Metro FMR Area', 'Santa Cruz County, AZ', 'Santa Cruz-Watsonville, CA MSA', 'Santa Fe, NM MSA', 'Santa Maria-Santa Barbara, CA MSA', 'Santa Rosa, CA MSA', 'Sargent County, ND', 'Sauk County, WI', 'Saunders County, NE HUD Metro FMR Area', 'Savannah, GA MSA', 'Sawyer County, WI', 'Schleicher County, TX', 'Schley County, GA', 'Schoolcraft County, MI', 'Schuyler County, IL', 'Schuyler County, MO', 'Schuyler County, NY', 'Schuylkill County, PA', 'Scioto County, OH', 'Scotland County, MO', 'Scotland County, NC', 'Scott County, AR', 'Scott County, IL', 'Scott County, IN HUD Metro FMR Area', 'Scott County, KS', 'Scott County, MO', 'Scott County, MS', 'Scott County, TN', 'Scotts Bluff County, NE', 'Scranton--Wilkes-Barre, PA MSA', 'Screven County, GA', 'Scurry County, TX', 'Searcy County, AR', 'Seattle-Bellevue, WA HUD Metro FMR Area', 'Sebastian-Vero Beach, FL MSA', 'Sebring, FL MSA', 'Sedgwick County, CO', 'Seminole County, GA', 'Seminole County, OK', 'Seneca County, NY', 'Seneca County, OH', 'Sevier County, AR', 'Sevier County, TN', 'Sevier County, UT', 'Seward County, KS', 'Seward County, NE HUD Metro FMR Area', 'Shackelford County, TX', 'Shannon County, MO', 'Sharkey County, MS', 'Sharon, PA HUD Metro FMR Area', 'Sharp County, AR', 'Shawano County, WI', 'Sheboygan, WI MSA', 'Shelby County, IA', 'Shelby County, IL', 'Shelby County, KY HUD Metro FMR Area', 'Shelby County, MO', 'Shelby County, OH', 'Shelby County, TX', 'Shenandoah County, VA', 'Sheridan County, KS', 'Sheridan County, MT', 'Sheridan County, ND', 'Sheridan County, NE', 'Sheridan County, WY', 'Sherman County, KS', 'Sherman County, NE', 'Sherman County, OR', 'Sherman County, TX', 'Sherman-Denison, TX MSA', 'Shiawassee County, MI', 'Shoshone County, ID', 'Shreveport-Bossier City, LA HUD Metro FMR Area', 'Sibley County, MN HUD Metro FMR Area', 'Sierra County, CA', 'Sierra County, NM', 'Sierra Vista-Douglas, AZ MSA', 'Silver Bow County, MT', 'Simpson County, KY', 'Simpson County, MS HUD Metro FMR Area', 'Sioux City, IA-NE-SD HUD Metro FMR Area', 'Sioux County, IA', 'Sioux County, ND HUD Metro FMR Area', 'Sioux County, NE', 'Sioux Falls, SD MSA', 'Siskiyou County, CA', 'Sitka City and Borough, AK', 'Skagway Municipality, AK', 'Slope County, ND', 'Smith County, KS', 'Smith County, MS', 'Smith County, TN HUD Metro FMR Area', 'Smyth County, VA', 'Snyder County, PA', 'Socorro County, NM', 'Somerset County, MD HUD Metro FMR Area', 'Somerset County, ME', 'Somerset County, PA', 'Somervell County, TX HUD Metro FMR Area', 'South Bend-Mishawaka, IN HUD Metro FMR Area', 'Southampton County-Franklin city, VA HUD Nonmetro FMR Area', 'Southeast Fairbanks Census Area, AK', 'Southern Middlesex County, CT HUD Metro FMR Area', 'Spartanburg, SC HUD Metro FMR Area', 'Spencer County, IN', 'Spink County, SD', 'Spokane, WA HUD Metro FMR Area', 'Springfield, IL MSA', 'Springfield, MA MSA', 'Springfield, MO HUD Metro FMR Area', 'Springfield, OH MSA', 'St. Clair County, MO', 'St. Cloud, MN MSA', 'St. Croix Island, VI', 'St. Francis County, AR', 'St. Francois County, MO', 'St. George, UT MSA', 'St. James Parish, LA HUD Metro FMR Area', 'St. John Island, VI', 'St. Joseph County, MI', 'St. Joseph, MO-KS MSA', 'St. Landry Parish, LA', 'St. Lawrence County, NY', 'St. Louis, MO-IL HUD Metro FMR Area', 'St. Mary Parish, LA', 'St. Thomas Island, VI', 'Stafford County, KS', 'Stamford-Norwalk, CT HUD Metro FMR Area', 'Stanley County, SD', 'Stanly County, NC', 'Stanton County, KS', 'Stanton County, NE', 'Stark County, ND', 'Starke County, IN', 'Starr County, TX', 'State College, PA MSA', 'Staunton-Waynesboro, VA MSA', 'Ste. Genevieve County, MO', 'Steele County, MN', 'Steele County, ND', 'Stephens County, GA', 'Stephens County, OK', 'Stephens County, TX', 'Stephenson County, IL', 'Sterling County, TX', 'Steuben County, IN', 'Steuben County, NY', 'Stevens County, KS', 'Stevens County, MN', 'Stevens County, WA HUD Metro FMR Area', 'Stewart County, GA', 'Stewart County, TN', 'Stillwater County, MT', 'Stockton-Lodi, CA MSA', 'Stoddard County, MO', 'Stone County, AR', 'Stone County, MO', 'Stone County, MS', 'Stonewall County, TX', 'Stutsman County, ND', 'Sublette County, WY', 'Sullivan County, IN HUD Metro FMR Area', 'Sullivan County, MO', 'Sullivan County, NH', 'Sullivan County, NY', 'Sullivan County, PA', 'Sully County, SD', 'Summers County, WV', 'Summit County, CO', 'Summit County, UT', 'Sumner County, KS HUD Metro FMR Area', 'Sumter County, AL', 'Sumter County, GA', 'Sumter, SC MSA', 'Sunflower County, MS', 'Surry County, NC', 'Surry County, VA', 'Susquehanna County, PA', 'Sussex County, DE HUD Metro FMR Area', 'Sutton County, TX', 'Suwannee County, FL', 'Swain County, NC', 'Sweet Grass County, MT', 'Sweetwater County, WY', 'Swift County, MN', 'Swisher County, TX', 'Switzerland County, IN', 'Syracuse, NY MSA', 'Tacoma, WA HUD Metro FMR Area', 'Talbot County, GA', 'Talbot County, MD', 'Taliaferro County, GA', 'Talladega County, AL', 'Tallahassee, FL HUD Metro FMR Area', 'Tallahatchie County, MS', 'Tallapoosa County, AL', 'Tama County, IA', 'Tampa-St. Petersburg-Clearwater, FL MSA', 'Taney County, MO', 'Taos County, NM', 'Tate County, MS HUD Metro FMR Area', 'Tattnall County, GA', 'Taunton-Mansfield-Norton, MA HUD Metro FMR Area', 'Taylor County, FL', 'Taylor County, GA', 'Taylor County, IA', 'Taylor County, KY', 'Taylor County, WI', 'Taylor County, WV', 'Tazewell County, VA', 'Tehama County, CA', 'Telfair County, GA', 'Teller County, CO HUD Metro FMR Area', 'Tensas Parish, LA', 'Terre Haute, IN HUD Metro FMR Area', 'Terrell County, TX', 'Terry County, TX', 'Teton County, ID', 'Teton County, MT', 'Teton County, WY', 'Texarkana, TX-Texarkana, AR HUD Metro FMR Area', 'Texas County, MO', 'Texas County, OK', 'Thayer County, NE', 'The Villages, FL MSA', 'Thomas County, GA', 'Thomas County, KS', 'Thomas County, NE', 'Throckmorton County, TX', 'Thurston County, NE', 'Tift County, GA', 'Tillamook County, OR', 'Tillman County, OK', 'Tioga County, PA', 'Tippah County, MS', 'Tipton County, IN', 'Tishomingo County, MS', 'Titus County, TX', 'Todd County, KY', 'Todd County, MN', 'Todd County, SD', 'Toledo, OH MSA', 'Tooele County, UT HUD Metro FMR Area', 'Toole County, MT', 'Toombs County, GA', 'Topeka, KS MSA', 'Towner County, ND', 'Towns County, GA', 'Traill County, ND', 'Transylvania County, NC', 'Traverse County, MN', 'Treasure County, MT', 'Trego County, KS', 'Trempealeau County, WI', 'Trenton, NJ MSA', 'Treutlen County, GA', 'Trinity County, CA', 'Trinity County, TX', 'Tripp County, SD', 'Troup County, GA', 'Tucker County, WV', 'Tucson, AZ MSA', 'Tulsa, OK HUD Metro FMR Area', 'Tunica County, MS HUD Metro FMR Area', 'Tuolumne County, CA', 'Turner County, GA', 'Tuscaloosa, AL HUD Metro FMR Area', 'Tuscarawas County, OH', 'Tuscola County, MI', 'Twin Falls County, ID', 'Tyler County, TX', 'Tyler County, WV', 'Tyler, TX MSA', 'Tyrrell County, NC', 'Uinta County, WY', 'Uintah County, UT', 'Umatilla County, OR', 'Union County, AR', 'Union County, FL', 'Union County, GA', 'Union County, IA', 'Union County, IL', 'Union County, IN HUD Metro FMR Area', 'Union County, KY', 'Union County, MS', 'Union County, NM', 'Union County, OH HUD Metro FMR Area', 'Union County, OR', 'Union County, PA', 'Union County, SC HUD Metro FMR Area', 'Upshur County, WV', 'Upson County, GA', 'Upton County, TX', 'Urban Honolulu, HI MSA', 'Utica-Rome, NY MSA', 'Utuado Municipio, PR HUD Metro FMR Area', 'Uvalde County, TX', 'Val Verde County, TX', 'Valdez-Cordova Census Area, AK', 'Valdosta, GA MSA', 'Vallejo-Fairfield, CA MSA', 'Valley County, ID', 'Valley County, MT', 'Valley County, NE', 'Van Buren County, AR', 'Van Buren County, IA', 'Van Buren County, TN', 'Van Wert County, OH', 'Van Zandt County, TX', 'Vance County, NC', 'Venango County, PA', 'Vermilion Parish, LA HUD Metro FMR Area', 'Vernon County, MO', 'Vernon County, WI', 'Vernon Parish, LA', 'Victoria, TX MSA', 'Vilas County, WI', 'Vineland-Bridgeton, NJ MSA', 'Vinton County, OH', 'Virginia Beach-Norfolk-Newport News, VA-NC HUD Metro FMR Area', 'Visalia-Porterville, CA MSA', 'Wabash County, IL', 'Wabash County, IN', 'Wabasha County, MN HUD Metro FMR Area', 'Waco, TX HUD Metro FMR Area', 'Wadena County, MN', 'Wahkiakum County, WA', 'Wakulla County, FL HUD Metro FMR Area', 'Waldo County, ME', 'Walker County, AL HUD Metro FMR Area', 'Walker County, TX', 'Walla Walla County, WA HUD Metro FMR Area', 'Wallace County, KS', 'Wallowa County, OR', 'Walsh County, ND', 'Walthall County, MS', 'Walton County, FL HUD Metro FMR Area', 'Walworth County, SD', 'Walworth County, WI', 'Wapello County, IA', 'Ward County, ND', 'Ward County, TX', 'Ware County, GA', 'Warner Robins, GA HUD Metro FMR Area', 'Warren County, GA', 'Warren County, IL', 'Warren County, IN', 'Warren County, MS', 'Warren County, NC', 'Warren County, NJ HUD Metro FMR Area', 'Warren County, PA', 'Warren County, TN', 'Warren County, VA HUD Metro FMR Area', 'Wasatch County, UT', 'Wasco County, OR', 'Waseca County, MN', 'Washakie County, WY', 'Washburn County, WI', 'Washington County, AL', 'Washington County, CO', 'Washington County, FL', 'Washington County, GA', 'Washington County, IA HUD Metro FMR Area', 'Washington County, ID', 'Washington County, IL', 'Washington County, IN HUD Metro FMR Area', 'Washington County, KS', 'Washington County, KY', 'Washington County, ME', 'Washington County, MO', 'Washington County, MS', 'Washington County, NC', 'Washington County, OH', 'Washington County, OK', 'Washington County, TX', 'Washington County, VT', 'Washington Parish, LA', 'Washington-Arlington-Alexandria, DC-VA-MD HUD Metro FMR Area', 'Washita County, OK', 'Watauga County, NC', 'Waterbury, CT HUD Metro FMR Area', 'Waterloo-Cedar Falls, IA HUD Metro FMR Area', 'Watertown-Fort Drum, NY MSA', 'Watonwan County, MN', 'Waupaca County, WI', 'Wausau, WI MSA', 'Waushara County, WI', 'Wayne County, GA', 'Wayne County, IA', 'Wayne County, IL', 'Wayne County, IN', 'Wayne County, KY', 'Wayne County, MO', 'Wayne County, MS', 'Wayne County, NE', 'Wayne County, OH', 'Wayne County, PA', 'Wayne County, TN', 'Wayne County, UT', 'Weakley County, TN', 'Webster County, GA', 'Webster County, IA', 'Webster County, KY', 'Webster County, MS', 'Webster County, NE', 'Webster County, WV', 'Webster Parish, LA HUD Metro FMR Area', 'Weirton-Steubenville, WV-OH MSA', 'Wells County, ND', 'Wenatchee, WA MSA', 'West Carroll Parish, LA', 'West Palm Beach-Boca Raton, FL HUD Metro FMR Area', 'Westchester County, NY Statutory Exception Area', 'Westerly-Hopkinton-New Shoreham, RI HUD Metro FMR Area', 'Western Rockingham County, NH HUD Metro FMR Area', 'Western Worcester County, MA HUD Metro FMR Area', 'Westmoreland County, VA', 'Weston County, WY', 'Wetzel County, WV', 'Wexford County, MI', 'Wharton County, TX', 'Wheatland County, MT', 'Wheeler County, GA', 'Wheeler County, NE', 'Wheeler County, OR', 'Wheeler County, TX', 'Wheeling, WV-OH MSA', 'White County, AR', 'White County, GA', 'White County, IL', 'White County, IN', 'White County, TN', 'White Pine County, NV', 'Whiteside County, IL', 'Whitley County, KY', 'Whitman County, WA', 'Wibaux County, MT', 'Wichita County, KS', 'Wichita Falls, TX MSA', 'Wichita, KS HUD Metro FMR Area', 'Wilbarger County, TX', 'Wilcox County, AL', 'Wilcox County, GA', 'Wilkes County, GA', 'Wilkes County, NC', 'Wilkin County, MN', 'Wilkinson County, GA', 'Wilkinson County, MS', 'Willacy County, TX', 'Williams County, ND', 'Williams County, OH', 'Williamsburg County, SC', 'Williamson County, IL HUD Metro FMR Area', 'Williamsport, PA MSA', 'Wilmington, NC HUD Metro FMR Area', 'Wilson County, KS', 'Wilson County, NC', 'Winchester, VA-WV MSA', 'Windham County, CT HUD Metro FMR Area', 'Windham County, VT', 'Windsor County, VT', 'Winkler County, TX', 'Winn Parish, LA', 'Winnebago County, IA', 'Winneshiek County, IA', 'Winona County, MN', 'Winston County, AL', 'Winston County, MS', 'Winston-Salem, NC HUD Metro FMR Area', 'Wise County, TX HUD Metro FMR Area', 'Wise County-Norton city, VA HUD Nonmetro FMR Area', 'Wolfe County, KY', 'Wood County, TX', 'Wood County, WI', 'Woodruff County, AR', 'Woods County, OK', 'Woodson County, KS', 'Woodward County, OK', 'Worcester County, MD HUD Metro FMR Area', 'Worcester, MA HUD Metro FMR Area', 'Worth County, IA', 'Worth County, MO', 'Wrangell City and Borough, AK', 'Wright County, IA', 'Wright County, MO', 'Wyandot County, OH', 'Wyoming County, NY', 'Wyoming County, WV', 'Wythe County, VA', 'Yakima, WA MSA', 'Yakutat City and Borough, AK', 'Yalobusha County, MS', 'Yancey County, NC', 'Yankton County, SD', 'Yates County, NY HUD Metro FMR Area', 'Yauco, PR HUD Metro FMR Area', 'Yazoo County, MS HUD Metro FMR Area', 'Yell County, AR', 'Yellow Medicine County, MN', 'Yoakum County, TX', 'Yolo, CA HUD Metro FMR Area', 'York County, ME (part) HUD Metro FMR Area', 'York County, NE', 'York-Hanover, PA MSA', 'York-Kittery-South Berwick, ME HUD Metro FMR Area', 'Young County, TX', 'Youngstown-Warren-Boardman, OH HUD Metro FMR Area', 'Yuba City, CA MSA', 'Yukon-Koyukuk Census Area, AK', 'Yuma County, CO', 'Yuma, AZ MSA', 'Zapata County, TX', 'Zavala County, TX', 'Ziebach County, SD']\n"
          ],
          "name": "stdout"
        }
      ]
    },
    {
      "cell_type": "markdown",
      "metadata": {
        "id": "Tfzad8SBkmHW"
      },
      "source": [
        "To see the notebook used to create predictive model, click [here](https://colab.research.google.com/drive/1vbXRInt0RJFJGQzAMc8JNBLhOkSNWIKb?usp=sharing)"
      ]
    }
  ]
}